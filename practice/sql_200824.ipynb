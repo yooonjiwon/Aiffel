{
 "cells": [
  {
   "cell_type": "code",
   "execution_count": 2,
   "metadata": {},
   "outputs": [],
   "source": [
    "import sqlite3\n",
    "import os\n",
    "db_path = os.getenv('HOME')+'/aiffel/sql_to_db/sqlite/mydb.db'\n",
    "\n",
    "conn = sqlite3.connect(db_path)\n",
    "c = conn.cursor()\n",
    "\n",
    "#- ! 재실행 시 테이블이 존재할 수 있으므로 아래처럼 해당 테이블들을 모두 지워줍니다.\n",
    "c.execute(\"DROP TABLE IF EXISTS 도서대출내역\")\n",
    "c.execute(\"DROP TABLE IF EXISTS 도서대출내역2\")\n",
    "c.execute(\"DROP TABLE IF EXISTS 대출내역\")\n",
    "c.execute(\"DROP TABLE IF EXISTS 도서명\")\n",
    "\n",
    "\n",
    "#----- 1st table : 도서대출내역 -----#\n",
    "c.execute(\"CREATE TABLE IF NOT EXISTS 도서대출내역 (ID varchar, 이름 varchar, 도서ID varchar, 대출일 varchar, 반납일 varchar)\")\n",
    "#- 생성(create)문 : 테이블명, 변수명, 변수타입을 지정\n",
    "\n",
    "data = [('101','문강태','aaa','2020-06-01','2020-06-05'),\n",
    "             ('101','문강태','ccc','2020-06-20','2020-06-25'),\n",
    "             ('102','고문영','bbb','2020-06-01',None),\n",
    "             ('102','고문영','ddd','2020-06-08',None),\n",
    "             ('103','문상태','ccc','2020-06-01','2020-06-05'),\n",
    "             ('104','강기둥',None,None,None)]\n",
    "#- 입력할 데이터를 그대로 입력 (변수명 순서 기준대로)\n",
    "\n",
    "c.executemany('INSERT INTO 도서대출내역 VALUES (?,?,?,?,?)', data)\n",
    "#- 입력할 데이터를 실제 테이블에 insert하기\n",
    "#-----------------------------------------------#\n",
    "\n",
    "\n",
    "#----- 2nd table : 도서대출내역2 -----#\n",
    "c.execute(\"CREATE TABLE IF NOT EXISTS 도서대출내역2 (ID varchar, 이름 varchar, 대출년월 varchar, 대출일수 varchar)\")\n",
    "\n",
    "data = [('101','문강태','2020-06','20일'),\n",
    "             ('102','고문영','2020-06','10일'),\n",
    "             ('103','문상태','2020-06','8일'),\n",
    "             ('104','강기둥','2020-06','3일')]\n",
    "c.executemany('INSERT INTO 도서대출내역2 VALUES (?,?,?,?)', data)\n",
    "#--------------------------------------------------#\n",
    "\n",
    "\n",
    "#----- 3rd table : 대출내역 -----#\n",
    "c.execute(\"CREATE TABLE IF NOT EXISTS 대출내역 (ID varchar, 이름 varchar, 도서ID varchar)\")\n",
    "\n",
    "data = [('101','문강태','aaa'),\n",
    "             ('102','고문영','bbb'),\n",
    "             ('102','고문영','fff'),\n",
    "             ('103','문상태','ccc'),\n",
    "             ('104','강기둥',None)]\n",
    "c.executemany('INSERT INTO 대출내역 VALUES (?,?,?)', data)\n",
    "#-----------------------------------------#\n",
    "\n",
    "\n",
    "#----- 4th table : 도서명 -----#\n",
    "c.execute(\"CREATE TABLE IF NOT EXISTS 도서명 (도서ID varchar, 도서명 varchar)\")\n",
    "\n",
    "data = [('aaa','악몽을 먹고 자란 소년'),\n",
    "             ('bbb','좀비아이'),\n",
    "             ('ccc','공룡백과사전'),\n",
    "             ('ddd','빨간구두'),\n",
    "             ('eee','잠자는 숲속의 미녀')]\n",
    "\n",
    "c.executemany('INSERT INTO 도서명 VALUES (?,?)', data)\n",
    "#--------------------------------------#\n",
    "\n",
    "conn.commit()\n",
    "conn.close()"
   ]
  },
  {
   "cell_type": "code",
   "execution_count": 3,
   "metadata": {},
   "outputs": [
    {
     "name": "stdout",
     "output_type": "stream",
     "text": [
      "('aaa', '악몽을 먹고 자란 소년')\n",
      "('bbb', '좀비아이')\n",
      "('ccc', '공룡백과사전')\n",
      "('ddd', '빨간구두')\n",
      "('eee', '잠자는 숲속의 미녀')\n"
     ]
    }
   ],
   "source": [
    "conn = sqlite3.connect(db_path)\n",
    "c = conn.cursor()\n",
    "\n",
    "for row in c.execute('SELECT*FROM 도서명'):\n",
    "    print(row)"
   ]
  },
  {
   "cell_type": "code",
   "execution_count": 4,
   "metadata": {},
   "outputs": [
    {
     "name": "stdout",
     "output_type": "stream",
     "text": [
      "('101', '문강태', 'aaa', '2020-06-01', '2020-06-05')\n",
      "('101', '문강태', 'ccc', '2020-06-20', '2020-06-25')\n",
      "('102', '고문영', 'bbb', '2020-06-01', None)\n",
      "('102', '고문영', 'ddd', '2020-06-08', None)\n",
      "('103', '문상태', 'ccc', '2020-06-01', '2020-06-05')\n",
      "('104', '강기둥', None, None, None)\n"
     ]
    }
   ],
   "source": [
    "#- 참고 : 실제 조회를 해보시려면 아래처럼 쓰시면 됩니다.\n",
    "#- c.execute() 괄호 안에 SQL문을 넣으시면 됩니다.\n",
    "\n",
    "import os\n",
    "db_path = os.getenv('HOME')+'/aiffel/sql_to_db/sqlite/mydb.db'\n",
    "conn = sqlite3.connect(db_path)  # mydb.db에 연결합니다.\n",
    "c = conn.cursor()\n",
    "\n",
    "for row in c.execute('SELECT * FROM 도서대출내역'):\n",
    "  print(row)\n",
    "\n",
    "#- ! 출력 시 'NULL' 대신 'None'으로 출력될 수 있으나 동일하게 이해하시면 됩니다."
   ]
  },
  {
   "cell_type": "code",
   "execution_count": null,
   "metadata": {},
   "outputs": [],
   "source": []
  }
 ],
 "metadata": {
  "kernelspec": {
   "display_name": "aiffel",
   "language": "python",
   "name": "aiffel"
  },
  "language_info": {
   "codemirror_mode": {
    "name": "ipython",
    "version": 3
   },
   "file_extension": ".py",
   "mimetype": "text/x-python",
   "name": "python",
   "nbconvert_exporter": "python",
   "pygments_lexer": "ipython3",
   "version": "3.7.6"
  },
  "toc": {
   "base_numbering": 1,
   "nav_menu": {},
   "number_sections": true,
   "sideBar": true,
   "skip_h1_title": false,
   "title_cell": "Table of Contents",
   "title_sidebar": "Contents",
   "toc_cell": false,
   "toc_position": {},
   "toc_section_display": true,
   "toc_window_display": false
  },
  "varInspector": {
   "cols": {
    "lenName": 16,
    "lenType": 16,
    "lenVar": 40
   },
   "kernels_config": {
    "python": {
     "delete_cmd_postfix": "",
     "delete_cmd_prefix": "del ",
     "library": "var_list.py",
     "varRefreshCmd": "print(var_dic_list())"
    },
    "r": {
     "delete_cmd_postfix": ") ",
     "delete_cmd_prefix": "rm(",
     "library": "var_list.r",
     "varRefreshCmd": "cat(var_dic_list()) "
    }
   },
   "types_to_exclude": [
    "module",
    "function",
    "builtin_function_or_method",
    "instance",
    "_Feature"
   ],
   "window_display": false
  }
 },
 "nbformat": 4,
 "nbformat_minor": 4
}
