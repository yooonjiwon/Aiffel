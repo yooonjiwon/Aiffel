{
 "cells": [
  {
   "cell_type": "markdown",
   "metadata": {},
   "source": [
    "# Rock Scissor Paper Classification"
   ]
  },
  {
   "cell_type": "markdown",
   "metadata": {},
   "source": [
    "## Import Library"
   ]
  },
  {
   "cell_type": "code",
   "execution_count": 14,
   "metadata": {},
   "outputs": [
    {
     "name": "stdout",
     "output_type": "stream",
     "text": [
      "Requirement already satisfied: pillow in ./anaconda3/envs/aiffel/lib/python3.7/site-packages (7.2.0)\r\n"
     ]
    }
   ],
   "source": [
    "# PIL 라이브러리가 설치되어 있지 않다면 설치\n",
    "!pip install pillow   \n",
    "\n",
    "from PIL import Image\n",
    "import os, glob\n",
    "from sklearn.model_selection import train_test_split\n",
    "import numpy as np\n",
    "import matplotlib.pyplot as plt\n",
    "import tensorflow as tf\n",
    "from tensorflow import keras"
   ]
  },
  {
   "cell_type": "markdown",
   "metadata": {},
   "source": [
    "## Resize of Images"
   ]
  },
  {
   "cell_type": "code",
   "execution_count": 7,
   "metadata": {},
   "outputs": [
    {
     "name": "stdout",
     "output_type": "stream",
     "text": [
      "2300\n",
      "2300\n",
      "2300\n",
      "가위 이미지 resize 완료!\n"
     ]
    }
   ],
   "source": [
    "# directory\n",
    "dir_r = \"/aiffel/rock_scissor_paper\"\n",
    "dir_var = [\"/scissor*\",\"/rock*\", \"/paper*\"]\n",
    "\n",
    "dir_path=[]\n",
    "images=[0,1,2]\n",
    "for i in range(0,3):\n",
    "    dir_path.append(os.getenv(\"HOME\") + dir_r + dir_var[i])\n",
    "    images[i]=glob.glob(dir_path[i] + \"/*.jpg\")\n",
    "    print(len(images[i]))\n",
    "\n",
    "\n",
    "# 파일마다 모두 28x28 사이즈로 바꾸어 저장합니다.\n",
    "target_size=(28,28)\n",
    "for i in range(0,3):\n",
    "    for img in images[i]:\n",
    "        old_img=Image.open(img)\n",
    "        new_img=old_img.resize(target_size,Image.ANTIALIAS)\n",
    "        new_img.save(img,\"JPEG\")\n",
    "\n",
    "print(\"가위 이미지 resize 완료!\")"
   ]
  },
  {
   "cell_type": "markdown",
   "metadata": {},
   "source": [
    "## Import Images"
   ]
  },
  {
   "cell_type": "code",
   "execution_count": 10,
   "metadata": {},
   "outputs": [
    {
     "name": "stdout",
     "output_type": "stream",
     "text": [
      "학습데이터(x_total)의 이미지 개수는 6900 입니다.\n"
     ]
    }
   ],
   "source": [
    "def load_data(img_path):\n",
    "    # 가위 : 0, 바위 : 1, 보 : 2\n",
    "    number_of_data=2300*3   # 가위바위보 이미지 개수 총합에 주의하세요.\n",
    "    img_size=28\n",
    "    color=3\n",
    "    #이미지 데이터와 라벨(가위 : 0, 바위 : 1, 보 : 2) 데이터를 담을 행렬(matrix) 영역을 생성합니다.\n",
    "    imgs=np.zeros(number_of_data*img_size*img_size*color,dtype=np.int32).reshape(number_of_data,img_size,img_size,color)\n",
    "    labels=np.zeros(number_of_data,dtype=np.int32)\n",
    "\n",
    "    idx=0\n",
    "    srp_var = ['/scissor*/*.jpg','/rock*/*.jpg','/paper*/*.jpg']\n",
    "    \n",
    "    for i in range(0,3):\n",
    "        for file in glob.iglob(img_path+srp_var[i]):\n",
    "            img = np.array(Image.open(file),dtype=np.int32)\n",
    "            imgs[idx,:,:,:]=img    # 데이터 영역에 이미지 행렬을 복사\n",
    "            labels[idx]=i   # 가위 : 0\n",
    "            idx=idx+1\n",
    "        \n",
    "    print(\"학습데이터(x_total)의 이미지 개수는\",idx,\"입니다.\")\n",
    "    return imgs, labels\n",
    "\n",
    "image_dir_path = os.getenv(\"HOME\") + \"/aiffel/rock_scissor_paper\"\n",
    "(x_total, y_total)=load_data(image_dir_path)\n",
    "x_total_norm = x_total/255.0   # 입력은 0~1 사이의 값으로 정규화\n"
   ]
  },
  {
   "cell_type": "markdown",
   "metadata": {},
   "source": [
    "## Split the train and test data"
   ]
  },
  {
   "cell_type": "code",
   "execution_count": 11,
   "metadata": {},
   "outputs": [
    {
     "name": "stdout",
     "output_type": "stream",
     "text": [
      "x_train shape: (5520, 28, 28, 3)\n",
      "x_test shape: (1380, 28, 28, 3)\n",
      "y_train shape: (5520,)\n",
      "y_test shape: (1380,)\n"
     ]
    }
   ],
   "source": [
    "# train_test_split\n",
    "x_train, x_test, y_train, y_test = train_test_split(x_total_norm, y_total, test_size=0.2, shuffle=True, stratify=y_total, random_state=34)\n",
    "\n",
    "print(\"x_train shape: {}\".format(x_train.shape))\n",
    "print(\"x_test shape: {}\".format(x_test.shape))\n",
    "print(\"y_train shape: {}\".format(y_train.shape))\n",
    "print(\"y_test shape: {}\".format(y_test.shape))"
   ]
  },
  {
   "cell_type": "markdown",
   "metadata": {},
   "source": [
    "## Check the images"
   ]
  },
  {
   "cell_type": "code",
   "execution_count": 12,
   "metadata": {},
   "outputs": [
    {
     "name": "stdout",
     "output_type": "stream",
     "text": [
      "라벨:  1\n"
     ]
    },
    {
     "data": {
      "text/plain": [
       "(5520,)"
      ]
     },
     "execution_count": 12,
     "metadata": {},
     "output_type": "execute_result"
    },
    {
     "data": {
      "image/png": "[encoded data removed]",
      "text/plain": [
       "<Figure size 432x288 with 1 Axes>"
      ]
     },
     "metadata": {
      "needs_background": "light"
     },
     "output_type": "display_data"
    }
   ],
   "source": [
    "plt.imshow(x_train[0])\n",
    "print('라벨: ', y_train[0])\n",
    "y_train.shape"
   ]
  },
  {
   "cell_type": "markdown",
   "metadata": {},
   "source": [
    "## Deep Learning Network"
   ]
  },
  {
   "cell_type": "code",
   "execution_count": 16,
   "metadata": {},
   "outputs": [
    {
     "name": "stdout",
     "output_type": "stream",
     "text": [
      "Model: \"sequential_1\"\n",
      "_________________________________________________________________\n",
      "Layer (type)                 Output Shape              Param #   \n",
      "=================================================================\n",
      "conv2d_2 (Conv2D)            (None, 26, 26, 15)        420       \n",
      "_________________________________________________________________\n",
      "max_pooling2d_2 (MaxPooling2 (None, 13, 13, 15)        0         \n",
      "_________________________________________________________________\n",
      "conv2d_3 (Conv2D)            (None, 11, 11, 25)        3400      \n",
      "_________________________________________________________________\n",
      "max_pooling2d_3 (MaxPooling2 (None, 5, 5, 25)          0         \n",
      "_________________________________________________________________\n",
      "flatten_1 (Flatten)          (None, 625)               0         \n",
      "_________________________________________________________________\n",
      "dense_2 (Dense)              (None, 25)                15650     \n",
      "_________________________________________________________________\n",
      "dense_3 (Dense)              (None, 10)                260       \n",
      "=================================================================\n",
      "Total params: 19,730\n",
      "Trainable params: 19,730\n",
      "Non-trainable params: 0\n",
      "_________________________________________________________________\n",
      "Epoch 1/10\n",
      "173/173 [==============================] - 0s 1ms/step - loss: 1.1507 - accuracy: 0.4187\n",
      "Epoch 2/10\n",
      "173/173 [==============================] - 0s 1ms/step - loss: 0.7005 - accuracy: 0.7147\n",
      "Epoch 3/10\n",
      "173/173 [==============================] - 0s 1ms/step - loss: 0.5494 - accuracy: 0.7804\n",
      "Epoch 4/10\n",
      "173/173 [==============================] - 0s 2ms/step - loss: 0.4629 - accuracy: 0.8214\n",
      "Epoch 5/10\n",
      "173/173 [==============================] - 0s 2ms/step - loss: 0.3994 - accuracy: 0.8493\n",
      "Epoch 6/10\n",
      "173/173 [==============================] - 0s 1ms/step - loss: 0.3504 - accuracy: 0.8723\n",
      "Epoch 7/10\n",
      "173/173 [==============================] - 0s 1ms/step - loss: 0.3005 - accuracy: 0.8955\n",
      "Epoch 8/10\n",
      "173/173 [==============================] - 0s 2ms/step - loss: 0.2585 - accuracy: 0.9083\n",
      "Epoch 9/10\n",
      "173/173 [==============================] - 0s 1ms/step - loss: 0.2169 - accuracy: 0.9221\n",
      "Epoch 10/10\n",
      "173/173 [==============================] - 0s 1ms/step - loss: 0.1880 - accuracy: 0.9362\n",
      "44/44 - 0s - loss: 0.1826 - accuracy: 0.9275\n",
      "test_loss: 0.18255461752414703 \n",
      "test_accuracy: 0.9275362491607666\n"
     ]
    }
   ],
   "source": [
    "n_channel_1=15\n",
    "n_channel_2=25\n",
    "n_dense=25\n",
    "n_train_epoch=10\n",
    "\n",
    "model=keras.models.Sequential()\n",
    "model.add(keras.layers.Conv2D(n_channel_1, (3,3), activation='relu', input_shape=(28,28,3)))\n",
    "model.add(keras.layers.MaxPool2D(2,2))\n",
    "model.add(keras.layers.Conv2D(n_channel_2, (3,3), activation='relu'))\n",
    "model.add(keras.layers.MaxPooling2D((2,2)))\n",
    "model.add(keras.layers.Flatten())\n",
    "model.add(keras.layers.Dense(n_dense, activation='relu'))\n",
    "#model.add(keras.layers.Dropout(rate=0.4))\n",
    "model.add(keras.layers.Dense(10, activation='softmax'))\n",
    "\n",
    "model.summary()\n",
    "model.compile(optimizer='adam',\n",
    "             loss='sparse_categorical_crossentropy',\n",
    "             metrics=['accuracy'])\n",
    "\n",
    "# 모델 훈련\n",
    "model.fit(x_train, y_train, epochs=n_train_epoch)\n",
    "\n",
    "test_loss, test_accuracy = model.evaluate(x_test,y_test, verbose=2)\n",
    "print(\"test_loss: {} \".format(test_loss))\n",
    "print(\"test_accuracy: {}\".format(test_accuracy))"
   ]
  }
 ],
 "metadata": {
  "kernelspec": {
   "display_name": "aiffel",
   "language": "python",
   "name": "aiffel"
  },
  "language_info": {
   "codemirror_mode": {
    "name": "ipython",
    "version": 3
   },
   "file_extension": ".py",
   "mimetype": "text/x-python",
   "name": "python",
   "nbconvert_exporter": "python",
   "pygments_lexer": "ipython3",
   "version": "3.7.6"
  }
 },
 "nbformat": 4,
 "nbformat_minor": 4
}
