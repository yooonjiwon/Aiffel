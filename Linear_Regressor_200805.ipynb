{
 "cells": [
  {
   "cell_type": "markdown",
   "metadata": {},
   "source": [
    "## Linear Regression\n",
    "\n",
    "### Library"
   ]
  },
  {
   "cell_type": "code",
   "execution_count": 18,
   "metadata": {},
   "outputs": [],
   "source": [
    "import numpy as np # random number\n",
    "import matplotlib.pyplot as plt # plot\n",
    "from sklearn.linear_model import LinearRegression # linear regression\n",
    "from sklearn.metrics import mean_squared_error"
   ]
  },
  {
   "cell_type": "markdown",
   "metadata": {},
   "source": [
    "### random number (test data)"
   ]
  },
  {
   "cell_type": "code",
   "execution_count": 6,
   "metadata": {},
   "outputs": [
    {
     "name": "stdout",
     "output_type": "stream",
     "text": [
      "RandomState(MT19937)\n",
      "[7.71320643 0.20751949 6.33648235 7.48803883 4.98507012 2.24796646\n",
      " 1.98062865 7.60530712 1.69110837 0.88339814 6.85359818 9.53393346\n",
      " 0.03948266 5.12192263 8.12620962 6.12526067 7.21755317 2.91876068\n",
      " 9.17774123 7.14575783 5.42544368 1.42170048 3.7334076  6.74133615\n",
      " 4.41833174 4.34013993 6.17766978 5.13138243 6.50397182 6.01038953\n",
      " 8.05223197 5.21647152 9.08648881 3.19236089 0.90459349 3.00700057\n",
      " 1.13984362 8.28681326 0.46896319 6.26287148 5.47586156 8.19286996\n",
      " 1.9894754  8.56850302 3.51652639 7.54647692 2.95961707 8.8393648\n",
      " 3.25511638 1.65015898 3.92529244 0.93460375 8.21105658 1.5115202\n",
      " 3.84114449 9.44260712 9.87625475 4.56304547 8.26122844 2.51374134\n",
      " 5.97371648 9.0283176  5.34557949 5.90201363 0.39281767 3.57181759\n",
      " 0.7961309  3.05459918 3.30719312 7.73830296 0.39959209 4.29492178\n",
      " 3.14926872 6.36491143 3.4634715  0.43097356 8.79915175 7.63240587\n",
      " 8.78096643 4.17509144 6.05577564 5.13466627 5.97836648 2.62215661\n",
      " 3.00871309 0.25399782 3.03062561 2.42075875 5.57578189 5.6550702\n",
      " 4.75132247 2.92797976 0.64251061 9.78819146 3.39707844 4.95048631\n",
      " 9.77080726 4.40773825 3.18272805 5.19796986]\n",
      "x shape: (100,)\n",
      "[13.69200358 -2.14676226 12.46867288 13.58248523  7.62429289  2.34012448\n",
      "  2.20319136 15.099331    2.33024756  0.07722423 12.80800675 17.53086446\n",
      " -1.94143545  9.76626407 16.10098622 11.23707368 14.11091503  5.30081294\n",
      " 15.69800116 13.19542075 10.19457931  0.58591244  7.14617645 11.24886258\n",
      "  7.42730761  6.88551285 11.91247899  9.71066038 11.07272726 11.87489505\n",
      " 15.35862641  8.8057175  17.49265759  5.24048718 -0.95751138  3.23793051\n",
      "  0.57943746 14.97321387  0.89334631  9.59204518  9.23263641 14.01046892\n",
      "  2.29427871 14.50500032  5.2804653  12.96640435  5.47363378 16.39337737\n",
      "  4.42856256  2.98645872  6.53176917  1.37060105 14.90117727  0.5659328\n",
      "  7.41196877 16.48500799 18.05713044  7.35804781 15.92815491  3.71912792\n",
      " 11.05972168 17.94396218 10.59910445 10.44471226 -1.44895689  5.47174895\n",
      "  0.436921    5.60497997  4.09960228 13.67945053 -1.54896028  6.04431602\n",
      "  4.48904851 10.38664101  5.07973237  0.79845155 15.34690966 14.73668534\n",
      " 16.18639024  6.81081475 10.65948862  7.73617516 11.43229127  5.2004086\n",
      "  3.47113396 -1.72002809  4.69115861  3.59082229 10.80137524 10.294103\n",
      "  9.21866783  3.70846691  1.053765   18.95853214  5.07282818  9.01947795\n",
      " 17.57443429  6.40477145  5.3118156  10.11561859]\n",
      "y shape: (100,)\n"
     ]
    }
   ],
   "source": [
    "r = np.random.RandomState(10)\n",
    "# 100개 1차원 vector\n",
    "x = 10 * r.rand(100)\n",
    "y = 2 * x - 3 * r.rand(100)\n",
    "print(r)\n",
    "print(x)\n",
    "print(\"x shape:\",x.shape)\n",
    "print(y)\n",
    "print(\"y shape:\",y.shape)"
   ]
  },
  {
   "cell_type": "markdown",
   "metadata": {},
   "source": [
    "### Random Number (Test data)"
   ]
  },
  {
   "cell_type": "code",
   "execution_count": 16,
   "metadata": {},
   "outputs": [
    {
     "name": "stdout",
     "output_type": "stream",
     "text": [
      "X_new shape:  (100, 1)\n",
      "y_new shape:  (100,)\n"
     ]
    }
   ],
   "source": [
    "x_new = np.linspace(-1, 11, 100)\n",
    "X_new = x_new.reshape(100,1)\n",
    "y_new = model.predict(X_new)\n",
    "print(\"X_new shape: \",X_new.shape)\n",
    "print(\"y_new shape: \",y_new.shape)"
   ]
  },
  {
   "cell_type": "markdown",
   "metadata": {},
   "source": [
    "### Check the plot"
   ]
  },
  {
   "cell_type": "code",
   "execution_count": 5,
   "metadata": {},
   "outputs": [
    {
     "data": {
      "text/plain": [
       "<matplotlib.collections.PathCollection at 0x7ff4906e1690>"
      ]
     },
     "execution_count": 5,
     "metadata": {},
     "output_type": "execute_result"
    },
    {
     "data": {
      "image/png": "[encoded data removed]",
      "text/plain": [
       "<Figure size 432x288 with 1 Axes>"
      ]
     },
     "metadata": {
      "needs_background": "light"
     },
     "output_type": "display_data"
    }
   ],
   "source": [
    "plt.scatter(x,y)"
   ]
  },
  {
   "cell_type": "markdown",
   "metadata": {},
   "source": [
    "### Regression Model"
   ]
  },
  {
   "cell_type": "code",
   "execution_count": 8,
   "metadata": {},
   "outputs": [
    {
     "data": {
      "text/plain": [
       "LinearRegression()"
      ]
     },
     "execution_count": 8,
     "metadata": {},
     "output_type": "execute_result"
    }
   ],
   "source": [
    "model = LinearRegression()\n",
    "model"
   ]
  },
  {
   "cell_type": "code",
   "execution_count": 24,
   "metadata": {},
   "outputs": [
    {
     "data": {
      "text/plain": [
       "array([[7.71320643],\n",
       "       [0.20751949],\n",
       "       [6.33648235],\n",
       "       [7.48803883],\n",
       "       [4.98507012],\n",
       "       [2.24796646],\n",
       "       [1.98062865],\n",
       "       [7.60530712],\n",
       "       [1.69110837],\n",
       "       [0.88339814],\n",
       "       [6.85359818],\n",
       "       [9.53393346],\n",
       "       [0.03948266],\n",
       "       [5.12192263],\n",
       "       [8.12620962],\n",
       "       [6.12526067],\n",
       "       [7.21755317],\n",
       "       [2.91876068],\n",
       "       [9.17774123],\n",
       "       [7.14575783],\n",
       "       [5.42544368],\n",
       "       [1.42170048],\n",
       "       [3.7334076 ],\n",
       "       [6.74133615],\n",
       "       [4.41833174],\n",
       "       [4.34013993],\n",
       "       [6.17766978],\n",
       "       [5.13138243],\n",
       "       [6.50397182],\n",
       "       [6.01038953],\n",
       "       [8.05223197],\n",
       "       [5.21647152],\n",
       "       [9.08648881],\n",
       "       [3.19236089],\n",
       "       [0.90459349],\n",
       "       [3.00700057],\n",
       "       [1.13984362],\n",
       "       [8.28681326],\n",
       "       [0.46896319],\n",
       "       [6.26287148],\n",
       "       [5.47586156],\n",
       "       [8.19286996],\n",
       "       [1.9894754 ],\n",
       "       [8.56850302],\n",
       "       [3.51652639],\n",
       "       [7.54647692],\n",
       "       [2.95961707],\n",
       "       [8.8393648 ],\n",
       "       [3.25511638],\n",
       "       [1.65015898],\n",
       "       [3.92529244],\n",
       "       [0.93460375],\n",
       "       [8.21105658],\n",
       "       [1.5115202 ],\n",
       "       [3.84114449],\n",
       "       [9.44260712],\n",
       "       [9.87625475],\n",
       "       [4.56304547],\n",
       "       [8.26122844],\n",
       "       [2.51374134],\n",
       "       [5.97371648],\n",
       "       [9.0283176 ],\n",
       "       [5.34557949],\n",
       "       [5.90201363],\n",
       "       [0.39281767],\n",
       "       [3.57181759],\n",
       "       [0.7961309 ],\n",
       "       [3.05459918],\n",
       "       [3.30719312],\n",
       "       [7.73830296],\n",
       "       [0.39959209],\n",
       "       [4.29492178],\n",
       "       [3.14926872],\n",
       "       [6.36491143],\n",
       "       [3.4634715 ],\n",
       "       [0.43097356],\n",
       "       [8.79915175],\n",
       "       [7.63240587],\n",
       "       [8.78096643],\n",
       "       [4.17509144],\n",
       "       [6.05577564],\n",
       "       [5.13466627],\n",
       "       [5.97836648],\n",
       "       [2.62215661],\n",
       "       [3.00871309],\n",
       "       [0.25399782],\n",
       "       [3.03062561],\n",
       "       [2.42075875],\n",
       "       [5.57578189],\n",
       "       [5.6550702 ],\n",
       "       [4.75132247],\n",
       "       [2.92797976],\n",
       "       [0.64251061],\n",
       "       [9.78819146],\n",
       "       [3.39707844],\n",
       "       [4.95048631],\n",
       "       [9.77080726],\n",
       "       [4.40773825],\n",
       "       [3.18272805],\n",
       "       [5.19796986]])"
      ]
     },
     "execution_count": 24,
     "metadata": {},
     "output_type": "execute_result"
    }
   ],
   "source": [
    "# X행렬로 바꾸어주기\n",
    "X = x.reshape(-1,1)\n",
    "# X = x.reshape(100,1)\n",
    "# (2,50) -> (2,-1)로도 가능\n",
    "X"
   ]
  },
  {
   "cell_type": "code",
   "execution_count": 10,
   "metadata": {},
   "outputs": [
    {
     "data": {
      "text/plain": [
       "LinearRegression()"
      ]
     },
     "execution_count": 10,
     "metadata": {},
     "output_type": "execute_result"
    }
   ],
   "source": [
    "# 모델 훈련하기\n",
    "model.fit(X,y)"
   ]
  },
  {
   "cell_type": "markdown",
   "metadata": {},
   "source": [
    "### 회귀 모델 성능 평가 (Root Mean Square Error)"
   ]
  },
  {
   "cell_type": "code",
   "execution_count": 19,
   "metadata": {},
   "outputs": [],
   "source": [
    "error = np.sqrt(mean_squared_error(y,y_new))"
   ]
  },
  {
   "cell_type": "markdown",
   "metadata": {},
   "source": [
    "### 그래프로 확인"
   ]
  },
  {
   "cell_type": "code",
   "execution_count": 20,
   "metadata": {},
   "outputs": [
    {
     "data": {
      "text/plain": [
       "[<matplotlib.lines.Line2D at 0x7ff4743d8110>]"
      ]
     },
     "execution_count": 20,
     "metadata": {},
     "output_type": "execute_result"
    },
    {
     "data": {
      "image/png": "[encoded data removed]",
      "text/plain": [
       "<Figure size 432x288 with 1 Axes>"
      ]
     },
     "metadata": {
      "needs_background": "light"
     },
     "output_type": "display_data"
    }
   ],
   "source": [
    "plt.scatter(x, y, label='input data')\n",
    "plt.plot(X_new, y_new, color='red', label='regression line')"
   ]
  }
 ],
 "metadata": {
  "kernelspec": {
   "display_name": "Python 3",
   "language": "python",
   "name": "python3"
  },
  "language_info": {
   "codemirror_mode": {
    "name": "ipython",
    "version": 3
   },
   "file_extension": ".py",
   "mimetype": "text/x-python",
   "name": "python",
   "nbconvert_exporter": "python",
   "pygments_lexer": "ipython3",
   "version": "3.7.6"
  },
  "toc": {
   "base_numbering": 1,
   "nav_menu": {},
   "number_sections": true,
   "sideBar": true,
   "skip_h1_title": false,
   "title_cell": "Table of Contents",
   "title_sidebar": "Contents",
   "toc_cell": false,
   "toc_position": {},
   "toc_section_display": true,
   "toc_window_display": false
  },
  "varInspector": {
   "cols": {
    "lenName": 16,
    "lenType": 16,
    "lenVar": 40
   },
   "kernels_config": {
    "python": {
     "delete_cmd_postfix": "",
     "delete_cmd_prefix": "del ",
     "library": "var_list.py",
     "varRefreshCmd": "print(var_dic_list())"
    },
    "r": {
     "delete_cmd_postfix": ") ",
     "delete_cmd_prefix": "rm(",
     "library": "var_list.r",
     "varRefreshCmd": "cat(var_dic_list()) "
    }
   },
   "types_to_exclude": [
    "module",
    "function",
    "builtin_function_or_method",
    "instance",
    "_Feature"
   ],
   "window_display": false
  }
 },
 "nbformat": 4,
 "nbformat_minor": 4
}
