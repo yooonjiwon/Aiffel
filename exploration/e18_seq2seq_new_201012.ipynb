{
 "cells": [
  {
   "cell_type": "markdown",
   "metadata": {},
   "source": [
    "# 뉴스기사 요약해보기\n",
    "\n",
    "<br>\n",
    "\n",
    "## 데이터 수집하기"
   ]
  },
  {
   "cell_type": "code",
   "execution_count": 1,
   "metadata": {},
   "outputs": [],
   "source": [
    "import urllib.request\n",
    "import pandas as pd\n",
    "urllib.request.urlretrieve(\"https://raw.githubusercontent.com/sunnysai12345/News_Summary/master/news_summary_more.csv\", filename=\"news_summary_more.csv\")\n",
    "data = pd.read_csv('news_summary_more.csv', encoding='iso-8859-1')"
   ]
  },
  {
   "cell_type": "code",
   "execution_count": 2,
   "metadata": {},
   "outputs": [
    {
     "data": {
      "text/html": [
       "<div>\n",
       "<style scoped>\n",
       "    .dataframe tbody tr th:only-of-type {\n",
       "        vertical-align: middle;\n",
       "    }\n",
       "\n",
       "    .dataframe tbody tr th {\n",
       "        vertical-align: top;\n",
       "    }\n",
       "\n",
       "    .dataframe thead th {\n",
       "        text-align: right;\n",
       "    }\n",
       "</style>\n",
       "<table border=\"1\" class=\"dataframe\">\n",
       "  <thead>\n",
       "    <tr style=\"text-align: right;\">\n",
       "      <th></th>\n",
       "      <th>headlines</th>\n",
       "      <th>text</th>\n",
       "    </tr>\n",
       "  </thead>\n",
       "  <tbody>\n",
       "    <tr>\n",
       "      <th>69480</th>\n",
       "      <td>Gujarat Congress rebel Vaghela joins Jan Vikalp</td>\n",
       "      <td>Former Gujarat Chief Minister Shankersinh Vagh...</td>\n",
       "    </tr>\n",
       "    <tr>\n",
       "      <th>35670</th>\n",
       "      <td>Rajput clinches gold, India's 7th in shooting ...</td>\n",
       "      <td>Shooter Sanjeev Rajput won the men's 50m Rifle...</td>\n",
       "    </tr>\n",
       "    <tr>\n",
       "      <th>72016</th>\n",
       "      <td>Hairstyle preferred over form: Gavaskar slams ...</td>\n",
       "      <td>Former Indian cricketer Sunil Gavaskar questio...</td>\n",
       "    </tr>\n",
       "    <tr>\n",
       "      <th>3390</th>\n",
       "      <td>Maradona recovering after hospitalisation for ...</td>\n",
       "      <td>Former Argentine footballer Diego Maradona is ...</td>\n",
       "    </tr>\n",
       "    <tr>\n",
       "      <th>4617</th>\n",
       "      <td>Congress criticises AAP amid rumours of possib...</td>\n",
       "      <td>After Delhi Assembly passed a resolution deman...</td>\n",
       "    </tr>\n",
       "    <tr>\n",
       "      <th>32873</th>\n",
       "      <td>India will be world's 3rd largest economy by 2...</td>\n",
       "      <td>Commerce Minister Suresh Prabhu has said India...</td>\n",
       "    </tr>\n",
       "    <tr>\n",
       "      <th>13893</th>\n",
       "      <td>Would've been in less trouble if I didn't love...</td>\n",
       "      <td>Australian spin legend Shane Warne, in a recen...</td>\n",
       "    </tr>\n",
       "    <tr>\n",
       "      <th>50646</th>\n",
       "      <td>MS Dhoni becomes 11th cricketer to be awarded ...</td>\n",
       "      <td>Former India captain MS Dhoni has been awarded...</td>\n",
       "    </tr>\n",
       "    <tr>\n",
       "      <th>76836</th>\n",
       "      <td>Travel company slammed over nude flight attend...</td>\n",
       "      <td>A Kazakhstan travel company named Chocotravel ...</td>\n",
       "    </tr>\n",
       "    <tr>\n",
       "      <th>14650</th>\n",
       "      <td>Pant ki batting dekhke chalte hain: Sehwag twe...</td>\n",
       "      <td>Former Indian cricketer Virender Sehwag tweete...</td>\n",
       "    </tr>\n",
       "  </tbody>\n",
       "</table>\n",
       "</div>"
      ],
      "text/plain": [
       "                                               headlines  \\\n",
       "69480    Gujarat Congress rebel Vaghela joins Jan Vikalp   \n",
       "35670  Rajput clinches gold, India's 7th in shooting ...   \n",
       "72016  Hairstyle preferred over form: Gavaskar slams ...   \n",
       "3390   Maradona recovering after hospitalisation for ...   \n",
       "4617   Congress criticises AAP amid rumours of possib...   \n",
       "32873  India will be world's 3rd largest economy by 2...   \n",
       "13893  Would've been in less trouble if I didn't love...   \n",
       "50646  MS Dhoni becomes 11th cricketer to be awarded ...   \n",
       "76836  Travel company slammed over nude flight attend...   \n",
       "14650  Pant ki batting dekhke chalte hain: Sehwag twe...   \n",
       "\n",
       "                                                    text  \n",
       "69480  Former Gujarat Chief Minister Shankersinh Vagh...  \n",
       "35670  Shooter Sanjeev Rajput won the men's 50m Rifle...  \n",
       "72016  Former Indian cricketer Sunil Gavaskar questio...  \n",
       "3390   Former Argentine footballer Diego Maradona is ...  \n",
       "4617   After Delhi Assembly passed a resolution deman...  \n",
       "32873  Commerce Minister Suresh Prabhu has said India...  \n",
       "13893  Australian spin legend Shane Warne, in a recen...  \n",
       "50646  Former India captain MS Dhoni has been awarded...  \n",
       "76836  A Kazakhstan travel company named Chocotravel ...  \n",
       "14650  Former Indian cricketer Virender Sehwag tweete...  "
      ]
     },
     "execution_count": 2,
     "metadata": {},
     "output_type": "execute_result"
    }
   ],
   "source": [
    "data.sample(10)"
   ]
  },
  {
   "cell_type": "markdown",
   "metadata": {},
   "source": [
    "## 데이터 전처리하기 \n",
    "\n",
    "<br>\n",
    "\n",
    "### 데이터 정리하기"
   ]
  },
  {
   "cell_type": "code",
   "execution_count": 5,
   "metadata": {},
   "outputs": [
    {
     "name": "stdout",
     "output_type": "stream",
     "text": [
      "Headline 열에서 중복을 배제한 유일한 샘플의 수 : 98262\n",
      "text 열에서 중복을 배제한 유일한 샘플의 수 : 98360\n"
     ]
    }
   ],
   "source": [
    "print('Headline 열에서 중복을 배제한 유일한 샘플의 수 :', data['headlines'].nunique())\n",
    "print('text 열에서 중복을 배제한 유일한 샘플의 수 :', data['text'].nunique())"
   ]
  },
  {
   "cell_type": "code",
   "execution_count": 6,
   "metadata": {},
   "outputs": [
    {
     "name": "stdout",
     "output_type": "stream",
     "text": [
      "전체 샘플수 : 98360\n"
     ]
    }
   ],
   "source": [
    "# 데이터 중복 제거한 갯수 - 별 차이 없음\n",
    "data.drop_duplicates(subset = ['text'], inplace = True)\n",
    "print('전체 샘플수 :',(len(data)))"
   ]
  },
  {
   "cell_type": "code",
   "execution_count": 7,
   "metadata": {},
   "outputs": [
    {
     "name": "stdout",
     "output_type": "stream",
     "text": [
      "headlines    0\n",
      "text         0\n",
      "dtype: int64\n"
     ]
    }
   ],
   "source": [
    "# Null 값 없음.\n",
    "print(data.isnull().sum())"
   ]
  },
  {
   "cell_type": "code",
   "execution_count": 8,
   "metadata": {},
   "outputs": [
    {
     "name": "stdout",
     "output_type": "stream",
     "text": [
      "정규화 사전의 수:  120\n"
     ]
    }
   ],
   "source": [
    "# 텍스트 불용어 제거 (text normalization)\n",
    "contractions = {\"ain't\": \"is not\", \"aren't\": \"are not\",\"can't\": \"cannot\", \"'cause\": \"because\", \"could've\": \"could have\", \"couldn't\": \"could not\",\n",
    "                           \"didn't\": \"did not\",  \"doesn't\": \"does not\", \"don't\": \"do not\", \"hadn't\": \"had not\", \"hasn't\": \"has not\", \"haven't\": \"have not\",\n",
    "                           \"he'd\": \"he would\",\"he'll\": \"he will\", \"he's\": \"he is\", \"how'd\": \"how did\", \"how'd'y\": \"how do you\", \"how'll\": \"how will\", \"how's\": \"how is\",\n",
    "                           \"I'd\": \"I would\", \"I'd've\": \"I would have\", \"I'll\": \"I will\", \"I'll've\": \"I will have\",\"I'm\": \"I am\", \"I've\": \"I have\", \"i'd\": \"i would\",\n",
    "                           \"i'd've\": \"i would have\", \"i'll\": \"i will\",  \"i'll've\": \"i will have\",\"i'm\": \"i am\", \"i've\": \"i have\", \"isn't\": \"is not\", \"it'd\": \"it would\",\n",
    "                           \"it'd've\": \"it would have\", \"it'll\": \"it will\", \"it'll've\": \"it will have\",\"it's\": \"it is\", \"let's\": \"let us\", \"ma'am\": \"madam\",\n",
    "                           \"mayn't\": \"may not\", \"might've\": \"might have\",\"mightn't\": \"might not\",\"mightn't've\": \"might not have\", \"must've\": \"must have\",\n",
    "                           \"mustn't\": \"must not\", \"mustn't've\": \"must not have\", \"needn't\": \"need not\", \"needn't've\": \"need not have\",\"o'clock\": \"of the clock\",\n",
    "                           \"oughtn't\": \"ought not\", \"oughtn't've\": \"ought not have\", \"shan't\": \"shall not\", \"sha'n't\": \"shall not\", \"shan't've\": \"shall not have\",\n",
    "                           \"she'd\": \"she would\", \"she'd've\": \"she would have\", \"she'll\": \"she will\", \"she'll've\": \"she will have\", \"she's\": \"she is\",\n",
    "                           \"should've\": \"should have\", \"shouldn't\": \"should not\", \"shouldn't've\": \"should not have\", \"so've\": \"so have\",\"so's\": \"so as\",\n",
    "                           \"this's\": \"this is\",\"that'd\": \"that would\", \"that'd've\": \"that would have\", \"that's\": \"that is\", \"there'd\": \"there would\",\n",
    "                           \"there'd've\": \"there would have\", \"there's\": \"there is\", \"here's\": \"here is\",\"they'd\": \"they would\", \"they'd've\": \"they would have\",\n",
    "                           \"they'll\": \"they will\", \"they'll've\": \"they will have\", \"they're\": \"they are\", \"they've\": \"they have\", \"to've\": \"to have\",\n",
    "                           \"wasn't\": \"was not\", \"we'd\": \"we would\", \"we'd've\": \"we would have\", \"we'll\": \"we will\", \"we'll've\": \"we will have\", \"we're\": \"we are\",\n",
    "                           \"we've\": \"we have\", \"weren't\": \"were not\", \"what'll\": \"what will\", \"what'll've\": \"what will have\", \"what're\": \"what are\",\n",
    "                           \"what's\": \"what is\", \"what've\": \"what have\", \"when's\": \"when is\", \"when've\": \"when have\", \"where'd\": \"where did\", \"where's\": \"where is\",\n",
    "                           \"where've\": \"where have\", \"who'll\": \"who will\", \"who'll've\": \"who will have\", \"who's\": \"who is\", \"who've\": \"who have\",\n",
    "                           \"why's\": \"why is\", \"why've\": \"why have\", \"will've\": \"will have\", \"won't\": \"will not\", \"won't've\": \"will not have\",\n",
    "                           \"would've\": \"would have\", \"wouldn't\": \"would not\", \"wouldn't've\": \"would not have\", \"y'all\": \"you all\",\n",
    "                           \"y'all'd\": \"you all would\",\"y'all'd've\": \"you all would have\",\"y'all're\": \"you all are\",\"y'all've\": \"you all have\",\n",
    "                           \"you'd\": \"you would\", \"you'd've\": \"you would have\", \"you'll\": \"you will\", \"you'll've\": \"you will have\",\n",
    "                           \"you're\": \"you are\", \"you've\": \"you have\"}\n",
    "\n",
    "print(\"정규화 사전의 수: \",len(contractions))"
   ]
  },
  {
   "cell_type": "code",
   "execution_count": 13,
   "metadata": {},
   "outputs": [
    {
     "name": "stderr",
     "output_type": "stream",
     "text": [
      "[nltk_data] Downloading package stopwords to\n",
      "[nltk_data]     /home/aiffel0036/nltk_data...\n",
      "[nltk_data]   Package stopwords is already up-to-date!\n"
     ]
    }
   ],
   "source": [
    "import nltk\n",
    "nltk.download('stopwords')\n",
    "from nltk.corpus import stopwords"
   ]
  },
  {
   "cell_type": "code",
   "execution_count": 14,
   "metadata": {},
   "outputs": [
    {
     "name": "stdout",
     "output_type": "stream",
     "text": [
      "불용어 개수 : 179\n",
      "['i', 'me', 'my', 'myself', 'we', 'our', 'ours', 'ourselves', 'you', \"you're\", \"you've\", \"you'll\", \"you'd\", 'your', 'yours', 'yourself', 'yourselves', 'he', 'him', 'his', 'himself', 'she', \"she's\", 'her', 'hers', 'herself', 'it', \"it's\", 'its', 'itself', 'they', 'them', 'their', 'theirs', 'themselves', 'what', 'which', 'who', 'whom', 'this', 'that', \"that'll\", 'these', 'those', 'am', 'is', 'are', 'was', 'were', 'be', 'been', 'being', 'have', 'has', 'had', 'having', 'do', 'does', 'did', 'doing', 'a', 'an', 'the', 'and', 'but', 'if', 'or', 'because', 'as', 'until', 'while', 'of', 'at', 'by', 'for', 'with', 'about', 'against', 'between', 'into', 'through', 'during', 'before', 'after', 'above', 'below', 'to', 'from', 'up', 'down', 'in', 'out', 'on', 'off', 'over', 'under', 'again', 'further', 'then', 'once', 'here', 'there', 'when', 'where', 'why', 'how', 'all', 'any', 'both', 'each', 'few', 'more', 'most', 'other', 'some', 'such', 'no', 'nor', 'not', 'only', 'own', 'same', 'so', 'than', 'too', 'very', 's', 't', 'can', 'will', 'just', 'don', \"don't\", 'should', \"should've\", 'now', 'd', 'll', 'm', 'o', 're', 've', 'y', 'ain', 'aren', \"aren't\", 'couldn', \"couldn't\", 'didn', \"didn't\", 'doesn', \"doesn't\", 'hadn', \"hadn't\", 'hasn', \"hasn't\", 'haven', \"haven't\", 'isn', \"isn't\", 'ma', 'mightn', \"mightn't\", 'mustn', \"mustn't\", 'needn', \"needn't\", 'shan', \"shan't\", 'shouldn', \"shouldn't\", 'wasn', \"wasn't\", 'weren', \"weren't\", 'won', \"won't\", 'wouldn', \"wouldn't\"]\n"
     ]
    }
   ],
   "source": [
    "print('불용어 개수 :', len(stopwords.words('english') ))\n",
    "print(stopwords.words('english'))"
   ]
  },
  {
   "cell_type": "code",
   "execution_count": 15,
   "metadata": {},
   "outputs": [],
   "source": [
    "#데이터 전처리 함수\n",
    "def preprocess_sentence(sentence, remove_stopwords=True):\n",
    "    sentence = sentence.lower() # 텍스트 소문자화\n",
    "    sentence = BeautifulSoup(sentence, \"lxml\").text # <br />, <a href = ...> 등의 html 태그 제거\n",
    "    sentence = re.sub(r'\\([^)]*\\)', '', sentence) # 괄호로 닫힌 문자열 (...) 제거 Ex) my husband (and myself!) for => my husband for\n",
    "    sentence = re.sub('\"','', sentence) # 쌍따옴표 \" 제거\n",
    "    sentence = ' '.join([contractions[t] if t in contractions else t for t in sentence.split(\" \")]) # 약어 정규화\n",
    "    sentence = re.sub(r\"'s\\b\",\"\",sentence) # 소유격 제거. Ex) roland's -> roland\n",
    "    sentence = re.sub(\"[^a-zA-Z]\", \" \", sentence) # 영어 외 문자(숫자, 특수문자 등) 공백으로 변환\n",
    "    sentence = re.sub('[m]{2,}', 'mm', sentence) # m이 3개 이상이면 2개로 변경. Ex) ummmmmmm yeah -> umm yeah\n",
    "    \n",
    "    # 불용어 제거 (Text)\n",
    "    if remove_stopwords:\n",
    "        tokens = ' '.join(word for word in sentence.split() if not word in stopwords.words('english') if len(word) > 1)\n",
    "    # 불용어 미제거 (Summary)\n",
    "    else:\n",
    "        tokens = ' '.join(word for word in sentence.split() if len(word) > 1)\n",
    "    return tokens"
   ]
  },
  {
   "cell_type": "code",
   "execution_count": 18,
   "metadata": {},
   "outputs": [
    {
     "data": {
      "text/plain": [
       "['saurav kant alumnus upgrad iiit pg program machine learning artificial intelligence sr systems engineer infosys almost years work experience program upgrad degree career support helped transition data scientist tech mahindra salary hike upgrad online power learning powered lakh careers',\n",
       " 'kunal shah credit card bill payment platform cred gave users chance win free food swiggy one year pranav kaushik delhi techie bagged reward spending cred coins users get one cred coin per rupee bill paid used avail rewards brands like ixigo bookmyshow ubereats cult fit',\n",
       " 'new zealand defeated india wickets fourth odi hamilton thursday win first match five match odi series india lost international match rohit sharma captaincy consecutive victories dating back march match witnessed india getting seventh lowest total odi cricket history',\n",
       " 'aegon life iterm insurance plan customers enjoy tax benefits premiums paid save taxes plan provides life cover age years also customers options insure critical illnesses disability accidental death benefit rider life cover age years',\n",
       " 'speaking sexual harassment allegations rajkumar hirani sonam kapoor said known hirani many years true metoo movement get derailed metoo movement always believe woman case need reserve judgment added hirani accused assistant worked sanju']"
      ]
     },
     "execution_count": 18,
     "metadata": {},
     "output_type": "execute_result"
    }
   ],
   "source": [
    "from bs4 import BeautifulSoup\n",
    "import re\n",
    "\n",
    "clean_text = []\n",
    "\n",
    "# 전체 Text 데이터에 대한 전처리 : 10분 이상 시간이 걸릴 수 있습니다. \n",
    "for s in data['text']:\n",
    "    clean_text.append(preprocess_sentence(s))\n",
    "\n",
    "# 전처리 후 출력\n",
    "clean_text[:5]"
   ]
  },
  {
   "cell_type": "code",
   "execution_count": 21,
   "metadata": {},
   "outputs": [
    {
     "data": {
      "text/plain": [
       "['upgrad learner switches to career in ml al with salary hike',\n",
       " 'delhi techie wins free food from swiggy for one year on cred',\n",
       " 'new zealand end rohit sharma led india match winning streak',\n",
       " 'aegon life iterm insurance plan helps customers save tax',\n",
       " 'have known hirani for yrs what if metoo claims are not true sonam']"
      ]
     },
     "execution_count": 21,
     "metadata": {},
     "output_type": "execute_result"
    }
   ],
   "source": [
    "clean_headlines = []\n",
    "\n",
    "# 전체 Summary 데이터에 대한 전처리 : 5분 이상 시간이 걸릴 수 있습니다. \n",
    "for s in data['headlines']:\n",
    "    clean_headlines.append(preprocess_sentence(s, False))\n",
    "\n",
    "clean_headlines[:5]"
   ]
  },
  {
   "cell_type": "code",
   "execution_count": 22,
   "metadata": {},
   "outputs": [],
   "source": [
    "data['text'] = clean_text\n",
    "data['headlines'] = clean_headlines\n",
    "\n",
    "# 빈 값을 Null 값으로 변환\n",
    "data.replace('', np.nan, inplace=True)"
   ]
  },
  {
   "cell_type": "code",
   "execution_count": 23,
   "metadata": {},
   "outputs": [
    {
     "data": {
      "text/plain": [
       "headlines    0\n",
       "text         0\n",
       "dtype: int64"
      ]
     },
     "execution_count": 23,
     "metadata": {},
     "output_type": "execute_result"
    }
   ],
   "source": [
    "data.isnull().sum()"
   ]
  },
  {
   "cell_type": "markdown",
   "metadata": {},
   "source": [
    "### 훈련 데이터와 테스트 데이터 나누기"
   ]
  },
  {
   "cell_type": "code",
   "execution_count": 27,
   "metadata": {},
   "outputs": [
    {
     "name": "stdout",
     "output_type": "stream",
     "text": [
      "텍스트의 최소 길이 : 1\n",
      "텍스트의 최대 길이 : 60\n",
      "텍스트의 평균 길이 : 35.09968483123221\n",
      "헤드라인의 최소 길이 : 1\n",
      "헤드라인의 최대 길이 : 16\n",
      "헤드라인의 평균 길이 : 9.299532330215534\n"
     ]
    },
    {
     "data": {
      "image/png": "[encoded data removed]",
      "text/plain": [
       "<Figure size 432x288 with 2 Axes>"
      ]
     },
     "metadata": {
      "needs_background": "light"
     },
     "output_type": "display_data"
    },
    {
     "data": {
      "image/png": "[encoded data removed]",
      "text/plain": [
       "<Figure size 432x288 with 1 Axes>"
      ]
     },
     "metadata": {
      "needs_background": "light"
     },
     "output_type": "display_data"
    },
    {
     "data": {
      "image/png": "[encoded data removed]",
      "text/plain": [
       "<Figure size 432x288 with 1 Axes>"
      ]
     },
     "metadata": {
      "needs_background": "light"
     },
     "output_type": "display_data"
    }
   ],
   "source": [
    "# 샘플의 최대 길이 정하기\n",
    "# 길이 분포 출력\n",
    "import matplotlib.pyplot as plt\n",
    "\n",
    "text_len = [len(s.split()) for s in data['text']]\n",
    "headlines_len = [len(s.split()) for s in data['headlines']]\n",
    "\n",
    "print('텍스트의 최소 길이 : {}'.format(np.min(text_len)))\n",
    "print('텍스트의 최대 길이 : {}'.format(np.max(text_len)))\n",
    "print('텍스트의 평균 길이 : {}'.format(np.mean(text_len)))\n",
    "print('헤드라인의 최소 길이 : {}'.format(np.min(headlines_len)))\n",
    "print('헤드라인의 최대 길이 : {}'.format(np.max(headlines_len)))\n",
    "print('헤드라인의 평균 길이 : {}'.format(np.mean(headlines_len)))\n",
    "\n",
    "plt.subplot(1,2,1)\n",
    "plt.boxplot(headlines_len)\n",
    "plt.title('Headlines')\n",
    "plt.subplot(1,2,2)\n",
    "plt.boxplot(text_len)\n",
    "plt.title('Text')\n",
    "plt.tight_layout()\n",
    "plt.show()\n",
    "\n",
    "plt.title('Headlines')\n",
    "plt.hist(headlines_len, bins = 40)\n",
    "plt.xlabel('length of samples')\n",
    "plt.ylabel('number of samples')\n",
    "plt.show()\n",
    "\n",
    "plt.title('Text')\n",
    "plt.hist(text_len, bins = 40)\n",
    "plt.xlabel('length of samples')\n",
    "plt.ylabel('number of samples')\n",
    "plt.show()\n",
    "# text 1~60\n",
    "# headline 1~16"
   ]
  },
  {
   "cell_type": "code",
   "execution_count": 36,
   "metadata": {},
   "outputs": [],
   "source": [
    "text_max_len = 40\n",
    "headlines_max_len = 11"
   ]
  },
  {
   "cell_type": "code",
   "execution_count": 30,
   "metadata": {},
   "outputs": [],
   "source": [
    "def below_threshold_len(max_len, nested_list):\n",
    "    cnt = 0\n",
    "    for s in nested_list:\n",
    "        if(len(s.split()) <= max_len):\n",
    "            cnt = cnt + 1\n",
    "    print('전체 샘플 중 길이가 %s 이하인 샘플의 비율: %s'%(max_len, (cnt / len(nested_list))))"
   ]
  },
  {
   "cell_type": "code",
   "execution_count": 37,
   "metadata": {},
   "outputs": [
    {
     "name": "stdout",
     "output_type": "stream",
     "text": [
      "전체 샘플 중 길이가 40 이하인 샘플의 비율: 0.9238714924766165\n",
      "전체 샘플 중 길이가 11 이하인 샘플의 비율: 0.9449877999186661\n"
     ]
    }
   ],
   "source": [
    "below_threshold_len(text_max_len, data['text'])\n",
    "below_threshold_len(headlines_max_len,  data['headlines'])"
   ]
  },
  {
   "cell_type": "code",
   "execution_count": 39,
   "metadata": {},
   "outputs": [
    {
     "name": "stdout",
     "output_type": "stream",
     "text": [
      "전체 샘플수 : 85843\n"
     ]
    }
   ],
   "source": [
    "data = data[data['text'].apply(lambda x: len(x.split()) <= text_max_len)]\n",
    "data = data[data['headlines'].apply(lambda x: len(x.split()) <= headlines_max_len)]\n",
    "print('전체 샘플수 :',(len(data)))"
   ]
  },
  {
   "cell_type": "code",
   "execution_count": 40,
   "metadata": {},
   "outputs": [
    {
     "data": {
      "text/html": [
       "<div>\n",
       "<style scoped>\n",
       "    .dataframe tbody tr th:only-of-type {\n",
       "        vertical-align: middle;\n",
       "    }\n",
       "\n",
       "    .dataframe tbody tr th {\n",
       "        vertical-align: top;\n",
       "    }\n",
       "\n",
       "    .dataframe thead th {\n",
       "        text-align: right;\n",
       "    }\n",
       "</style>\n",
       "<table border=\"1\" class=\"dataframe\">\n",
       "  <thead>\n",
       "    <tr style=\"text-align: right;\">\n",
       "      <th></th>\n",
       "      <th>headlines</th>\n",
       "      <th>text</th>\n",
       "      <th>decoder_input</th>\n",
       "      <th>decoder_target</th>\n",
       "    </tr>\n",
       "  </thead>\n",
       "  <tbody>\n",
       "    <tr>\n",
       "      <th>0</th>\n",
       "      <td>upgrad learner switches to career in ml al wit...</td>\n",
       "      <td>saurav kant alumnus upgrad iiit pg program mac...</td>\n",
       "      <td>sostoken upgrad learner switches to career in ...</td>\n",
       "      <td>upgrad learner switches to career in ml al wit...</td>\n",
       "    </tr>\n",
       "    <tr>\n",
       "      <th>2</th>\n",
       "      <td>new zealand end rohit sharma led india match w...</td>\n",
       "      <td>new zealand defeated india wickets fourth odi ...</td>\n",
       "      <td>sostoken new zealand end rohit sharma led indi...</td>\n",
       "      <td>new zealand end rohit sharma led india match w...</td>\n",
       "    </tr>\n",
       "    <tr>\n",
       "      <th>3</th>\n",
       "      <td>aegon life iterm insurance plan helps customer...</td>\n",
       "      <td>aegon life iterm insurance plan customers enjo...</td>\n",
       "      <td>sostoken aegon life iterm insurance plan helps...</td>\n",
       "      <td>aegon life iterm insurance plan helps customer...</td>\n",
       "    </tr>\n",
       "    <tr>\n",
       "      <th>5</th>\n",
       "      <td>rahat fateh ali khan denies getting notice for...</td>\n",
       "      <td>pakistani singer rahat fateh ali khan denied r...</td>\n",
       "      <td>sostoken rahat fateh ali khan denies getting n...</td>\n",
       "      <td>rahat fateh ali khan denies getting notice for...</td>\n",
       "    </tr>\n",
       "    <tr>\n",
       "      <th>7</th>\n",
       "      <td>govt directs alok verma to join work day befor...</td>\n",
       "      <td>weeks ex cbi director alok verma told departme...</td>\n",
       "      <td>sostoken govt directs alok verma to join work ...</td>\n",
       "      <td>govt directs alok verma to join work day befor...</td>\n",
       "    </tr>\n",
       "  </tbody>\n",
       "</table>\n",
       "</div>"
      ],
      "text/plain": [
       "                                           headlines  \\\n",
       "0  upgrad learner switches to career in ml al wit...   \n",
       "2  new zealand end rohit sharma led india match w...   \n",
       "3  aegon life iterm insurance plan helps customer...   \n",
       "5  rahat fateh ali khan denies getting notice for...   \n",
       "7  govt directs alok verma to join work day befor...   \n",
       "\n",
       "                                                text  \\\n",
       "0  saurav kant alumnus upgrad iiit pg program mac...   \n",
       "2  new zealand defeated india wickets fourth odi ...   \n",
       "3  aegon life iterm insurance plan customers enjo...   \n",
       "5  pakistani singer rahat fateh ali khan denied r...   \n",
       "7  weeks ex cbi director alok verma told departme...   \n",
       "\n",
       "                                       decoder_input  \\\n",
       "0  sostoken upgrad learner switches to career in ...   \n",
       "2  sostoken new zealand end rohit sharma led indi...   \n",
       "3  sostoken aegon life iterm insurance plan helps...   \n",
       "5  sostoken rahat fateh ali khan denies getting n...   \n",
       "7  sostoken govt directs alok verma to join work ...   \n",
       "\n",
       "                                      decoder_target  \n",
       "0  upgrad learner switches to career in ml al wit...  \n",
       "2  new zealand end rohit sharma led india match w...  \n",
       "3  aegon life iterm insurance plan helps customer...  \n",
       "5  rahat fateh ali khan denies getting notice for...  \n",
       "7  govt directs alok verma to join work day befor...  "
      ]
     },
     "execution_count": 40,
     "metadata": {},
     "output_type": "execute_result"
    }
   ],
   "source": [
    "# 시작 토큰과 종료 토큰 추가하기\n",
    "#요약 데이터에는 시작 토큰과 종료 토큰을 추가한다.\n",
    "data['decoder_input'] = data['headlines'].apply(lambda x : 'sostoken '+ x)\n",
    "data['decoder_target'] = data['headlines'].apply(lambda x : x + ' eostoken')\n",
    "data.head()"
   ]
  },
  {
   "cell_type": "code",
   "execution_count": 41,
   "metadata": {},
   "outputs": [],
   "source": [
    "encoder_input = np.array(data['text']) # 인코더의 입력\n",
    "decoder_input = np.array(data['decoder_input']) # 디코더의 입력\n",
    "decoder_target = np.array(data['decoder_target']) # 디코더의 레이블"
   ]
  },
  {
   "cell_type": "code",
   "execution_count": 42,
   "metadata": {},
   "outputs": [
    {
     "name": "stdout",
     "output_type": "stream",
     "text": [
      "[35202  6865 53867 ...  9008 15092 18228]\n"
     ]
    }
   ],
   "source": [
    "indices = np.arange(encoder_input.shape[0])\n",
    "np.random.shuffle(indices)\n",
    "print(indices)"
   ]
  },
  {
   "cell_type": "code",
   "execution_count": 43,
   "metadata": {},
   "outputs": [],
   "source": [
    "encoder_input = encoder_input[indices]\n",
    "decoder_input = decoder_input[indices]\n",
    "decoder_target = decoder_target[indices]"
   ]
  },
  {
   "cell_type": "code",
   "execution_count": 44,
   "metadata": {},
   "outputs": [
    {
     "name": "stdout",
     "output_type": "stream",
     "text": [
      "테스트 데이터의 수 : 17168\n"
     ]
    }
   ],
   "source": [
    "n_of_val = int(len(encoder_input)*0.2)\n",
    "print('테스트 데이터의 수 :',n_of_val)"
   ]
  },
  {
   "cell_type": "code",
   "execution_count": 45,
   "metadata": {},
   "outputs": [
    {
     "name": "stdout",
     "output_type": "stream",
     "text": [
      "훈련 데이터의 개수 : 68675\n",
      "훈련 레이블의 개수 : 68675\n",
      "테스트 데이터의 개수 : 17168\n",
      "테스트 레이블의 개수 : 17168\n"
     ]
    }
   ],
   "source": [
    "encoder_input_train = encoder_input[:-n_of_val]\n",
    "decoder_input_train = decoder_input[:-n_of_val]\n",
    "decoder_target_train = decoder_target[:-n_of_val]\n",
    "\n",
    "encoder_input_test = encoder_input[-n_of_val:]\n",
    "decoder_input_test = decoder_input[-n_of_val:]\n",
    "decoder_target_test = decoder_target[-n_of_val:]\n",
    "\n",
    "print('훈련 데이터의 개수 :', len(encoder_input_train))\n",
    "print('훈련 레이블의 개수 :',len(decoder_input_train))\n",
    "print('테스트 데이터의 개수 :',len(encoder_input_test))\n",
    "print('테스트 레이블의 개수 :',len(decoder_input_test))"
   ]
  },
  {
   "cell_type": "markdown",
   "metadata": {},
   "source": [
    "### 정수 인코딩"
   ]
  },
  {
   "cell_type": "code",
   "execution_count": 47,
   "metadata": {},
   "outputs": [],
   "source": [
    "from tensorflow.keras.preprocessing.text import Tokenizer \n",
    "src_tokenizer = Tokenizer() # 토크나이저 정의\n",
    "src_tokenizer.fit_on_texts(encoder_input_train) # 입력된 데이터로부터 단어 집합 생성"
   ]
  },
  {
   "cell_type": "code",
   "execution_count": 48,
   "metadata": {},
   "outputs": [
    {
     "name": "stdout",
     "output_type": "stream",
     "text": [
      "단어 집합(vocabulary)의 크기 : 64723\n",
      "등장 빈도가 6번 이하인 희귀 단어의 수: 44222\n",
      "단어 집합에서 희귀 단어를 제외시킬 경우의 단어 집합의 크기 20501\n",
      "단어 집합에서 희귀 단어의 비율: 68.32501583671956\n",
      "전체 등장 빈도에서 희귀 단어 등장 빈도 비율: 3.799412919563741\n"
     ]
    }
   ],
   "source": [
    "threshold = 7\n",
    "total_cnt = len(src_tokenizer.word_index) # 단어의 수\n",
    "rare_cnt = 0 # 등장 빈도수가 threshold보다 작은 단어의 개수를 카운트\n",
    "total_freq = 0 # 훈련 데이터의 전체 단어 빈도수 총 합\n",
    "rare_freq = 0 # 등장 빈도수가 threshold보다 작은 단어의 등장 빈도수의 총 합\n",
    "\n",
    "# 단어와 빈도수의 쌍(pair)을 key와 value로 받는다.\n",
    "for key, value in src_tokenizer.word_counts.items():\n",
    "    total_freq = total_freq + value\n",
    "\n",
    "    # 단어의 등장 빈도수가 threshold보다 작으면\n",
    "    if(value < threshold):\n",
    "        rare_cnt = rare_cnt + 1\n",
    "        rare_freq = rare_freq + value\n",
    "\n",
    "print('단어 집합(vocabulary)의 크기 :',total_cnt)\n",
    "print('등장 빈도가 %s번 이하인 희귀 단어의 수: %s'%(threshold - 1, rare_cnt))\n",
    "print('단어 집합에서 희귀 단어를 제외시킬 경우의 단어 집합의 크기 %s'%(total_cnt - rare_cnt))\n",
    "print(\"단어 집합에서 희귀 단어의 비율:\", (rare_cnt / total_cnt)*100)\n",
    "print(\"전체 등장 빈도에서 희귀 단어 등장 빈도 비율:\", (rare_freq / total_freq)*100)"
   ]
  },
  {
   "cell_type": "code",
   "execution_count": 49,
   "metadata": {},
   "outputs": [],
   "source": [
    "src_vocab = 20501\n",
    "src_tokenizer = Tokenizer(num_words = src_vocab) # 단어 집합의 크기를 8,000으로 제한\n",
    "src_tokenizer.fit_on_texts(encoder_input_train) # 단어 집합 재생성."
   ]
  },
  {
   "cell_type": "code",
   "execution_count": 50,
   "metadata": {},
   "outputs": [
    {
     "name": "stdout",
     "output_type": "stream",
     "text": [
      "[[7, 2921, 1602, 31, 447, 2067, 16, 12704, 9406, 1003, 427, 632, 2867, 35, 46, 7627, 2683, 714, 5315, 322, 1765, 1395, 5750, 1691, 86, 150, 4117, 632, 8330, 481, 2483, 1109, 134, 6671, 863, 447, 792], [830, 50, 1025, 11870, 19176, 2297, 62, 1203, 14771, 72, 656, 1025, 224, 818, 1252, 206, 496, 195, 360, 2655, 1263, 457, 736, 146, 6863, 2655, 11523, 12705, 12, 720, 3689, 330], [263, 903, 2250, 205, 1680, 1049, 1409, 68, 3185, 5025, 22, 4813, 599, 742, 737, 1409, 523, 236, 1049, 263, 991, 1811, 3303, 7075, 17008, 2668, 6254]]\n"
     ]
    }
   ],
   "source": [
    "# 텍스트 시퀀스를 정수 시퀀스로 변환\n",
    "encoder_input_train = src_tokenizer.texts_to_sequences(encoder_input_train) \n",
    "encoder_input_test = src_tokenizer.texts_to_sequences(encoder_input_test)\n",
    "\n",
    "#잘 진행되었는지 샘플 출력\n",
    "print(encoder_input_train[:3])"
   ]
  },
  {
   "cell_type": "code",
   "execution_count": 51,
   "metadata": {},
   "outputs": [],
   "source": [
    "tar_tokenizer = Tokenizer()\n",
    "tar_tokenizer.fit_on_texts(decoder_input_train)"
   ]
  },
  {
   "cell_type": "code",
   "execution_count": 52,
   "metadata": {},
   "outputs": [
    {
     "name": "stdout",
     "output_type": "stream",
     "text": [
      "단어 집합(vocabulary)의 크기 : 28441\n",
      "등장 빈도가 5번 이하인 희귀 단어의 수: 18697\n",
      "단어 집합에서 희귀 단어를 제외시킬 경우의 단어 집합의 크기 9744\n",
      "단어 집합에서 희귀 단어의 비율: 65.73960127984249\n",
      "전체 등장 빈도에서 희귀 단어 등장 빈도 비율: 5.14662731289699\n"
     ]
    }
   ],
   "source": [
    "threshold = 6\n",
    "total_cnt = len(tar_tokenizer.word_index) # 단어의 수\n",
    "rare_cnt = 0 # 등장 빈도수가 threshold보다 작은 단어의 개수를 카운트\n",
    "total_freq = 0 # 훈련 데이터의 전체 단어 빈도수 총 합\n",
    "rare_freq = 0 # 등장 빈도수가 threshold보다 작은 단어의 등장 빈도수의 총 합\n",
    "\n",
    "# 단어와 빈도수의 쌍(pair)을 key와 value로 받는다.\n",
    "for key, value in tar_tokenizer.word_counts.items():\n",
    "    total_freq = total_freq + value\n",
    "\n",
    "    # 단어의 등장 빈도수가 threshold보다 작으면\n",
    "    if(value < threshold):\n",
    "        rare_cnt = rare_cnt + 1\n",
    "        rare_freq = rare_freq + value\n",
    "\n",
    "print('단어 집합(vocabulary)의 크기 :',total_cnt)\n",
    "print('등장 빈도가 %s번 이하인 희귀 단어의 수: %s'%(threshold - 1, rare_cnt))\n",
    "print('단어 집합에서 희귀 단어를 제외시킬 경우의 단어 집합의 크기 %s'%(total_cnt - rare_cnt))\n",
    "print(\"단어 집합에서 희귀 단어의 비율:\", (rare_cnt / total_cnt)*100)\n",
    "print(\"전체 등장 빈도에서 희귀 단어 등장 빈도 비율:\", (rare_freq / total_freq)*100)"
   ]
  },
  {
   "cell_type": "code",
   "execution_count": 53,
   "metadata": {},
   "outputs": [
    {
     "name": "stdout",
     "output_type": "stream",
     "text": [
      "input\n",
      "input  [[1, 2605, 55, 2054, 3306, 271, 506, 1596, 58], [1, 4, 538, 348, 352, 10, 255, 216, 4, 49], [1, 497, 4565, 159, 48, 853, 111, 1007, 897], [1, 1124, 2055, 29, 41, 611, 7, 322, 50], [1, 3125, 1448, 319, 542, 8178, 306, 3126, 315]]\n",
      "target\n",
      "decoder  [[2605, 55, 2054, 3306, 271, 506, 1596, 58, 2], [4, 538, 348, 352, 10, 255, 216, 4, 49, 2], [497, 4565, 159, 48, 853, 111, 1007, 897, 2], [1124, 2055, 29, 41, 611, 7, 322, 50, 2], [3125, 1448, 319, 542, 8178, 306, 3126, 315, 2]]\n"
     ]
    }
   ],
   "source": [
    "tar_vocab = 9744\n",
    "tar_tokenizer = Tokenizer(num_words = tar_vocab) \n",
    "tar_tokenizer.fit_on_texts(decoder_input_train)\n",
    "tar_tokenizer.fit_on_texts(decoder_target_train)\n",
    "\n",
    "# 텍스트 시퀀스를 정수 시퀀스로 변환\n",
    "decoder_input_train = tar_tokenizer.texts_to_sequences(decoder_input_train) \n",
    "decoder_target_train = tar_tokenizer.texts_to_sequences(decoder_target_train)\n",
    "decoder_input_test = tar_tokenizer.texts_to_sequences(decoder_input_test)\n",
    "decoder_target_test = tar_tokenizer.texts_to_sequences(decoder_target_test)\n",
    "\n",
    "#잘 변환되었는지 확인\n",
    "print('input')\n",
    "print('input ',decoder_input_train[:5])\n",
    "print('target')\n",
    "print('decoder ',decoder_target_train[:5])"
   ]
  },
  {
   "cell_type": "code",
   "execution_count": 54,
   "metadata": {},
   "outputs": [
    {
     "name": "stdout",
     "output_type": "stream",
     "text": [
      "삭제할 훈련 데이터의 개수 : 0\n",
      "삭제할 테스트 데이터의 개수 : 0\n",
      "훈련 데이터의 개수 : 68675\n",
      "훈련 레이블의 개수 : 68675\n",
      "테스트 데이터의 개수 : 17168\n",
      "테스트 레이블의 개수 : 17168\n"
     ]
    }
   ],
   "source": [
    "drop_train = [index for index, sentence in enumerate(decoder_input_train) if len(sentence) == 1]\n",
    "drop_test = [index for index, sentence in enumerate(decoder_input_test) if len(sentence) == 1]\n",
    "\n",
    "print('삭제할 훈련 데이터의 개수 :',len(drop_train))\n",
    "print('삭제할 테스트 데이터의 개수 :',len(drop_test))\n",
    "\n",
    "encoder_input_train = np.delete(encoder_input_train, drop_train, axis=0)\n",
    "decoder_input_train = np.delete(decoder_input_train, drop_train, axis=0)\n",
    "decoder_target_train = np.delete(decoder_target_train, drop_train, axis=0)\n",
    "\n",
    "encoder_input_test = np.delete(encoder_input_test, drop_test, axis=0)\n",
    "decoder_input_test = np.delete(decoder_input_test, drop_test, axis=0)\n",
    "decoder_target_test = np.delete(decoder_target_test, drop_test, axis=0)\n",
    "\n",
    "print('훈련 데이터의 개수 :', len(encoder_input_train))\n",
    "print('훈련 레이블의 개수 :',len(decoder_input_train))\n",
    "print('테스트 데이터의 개수 :',len(encoder_input_test))\n",
    "print('테스트 레이블의 개수 :',len(decoder_input_test))"
   ]
  },
  {
   "cell_type": "code",
   "execution_count": 56,
   "metadata": {},
   "outputs": [],
   "source": [
    "from tensorflow.keras.preprocessing.sequence import pad_sequences\n",
    "\n",
    "encoder_input_train = pad_sequences(encoder_input_train, maxlen = text_max_len, padding='post')\n",
    "encoder_input_test = pad_sequences(encoder_input_test, maxlen = text_max_len, padding='post')\n",
    "decoder_input_train = pad_sequences(decoder_input_train, maxlen = summary_max_len, padding='post')\n",
    "decoder_target_train = pad_sequences(decoder_target_train, maxlen = summary_max_len, padding='post')\n",
    "decoder_input_test = pad_sequences(decoder_input_test, maxlen = summary_max_len, padding='post')\n",
    "decoder_target_test = pad_sequences(decoder_target_test, maxlen = summary_max_len, padding='post')"
   ]
  },
  {
   "cell_type": "markdown",
   "metadata": {},
   "source": [
    "## 모델 설계하기"
   ]
  },
  {
   "cell_type": "code",
   "execution_count": 57,
   "metadata": {},
   "outputs": [
    {
     "name": "stdout",
     "output_type": "stream",
     "text": [
      "WARNING:tensorflow:Layer lstm will not use cuDNN kernel since it doesn't meet the cuDNN kernel criteria. It will use generic GPU kernel as fallback when running on GPU\n",
      "WARNING:tensorflow:Layer lstm_1 will not use cuDNN kernel since it doesn't meet the cuDNN kernel criteria. It will use generic GPU kernel as fallback when running on GPU\n",
      "WARNING:tensorflow:Layer lstm_2 will not use cuDNN kernel since it doesn't meet the cuDNN kernel criteria. It will use generic GPU kernel as fallback when running on GPU\n"
     ]
    }
   ],
   "source": [
    "from tensorflow.keras.layers import Input, LSTM, Embedding, Dense, Concatenate\n",
    "from tensorflow.keras.models import Model\n",
    "from tensorflow.keras.callbacks import EarlyStopping, ModelCheckpoint\n",
    "\n",
    "\n",
    "# 인코더 설계 시작\n",
    "embedding_dim = 128\n",
    "hidden_size = 256\n",
    "\n",
    "# 인코더\n",
    "encoder_inputs = Input(shape=(text_max_len,))\n",
    "\n",
    "# 인코더의 임베딩 층\n",
    "enc_emb = Embedding(src_vocab, embedding_dim)(encoder_inputs)\n",
    "\n",
    "# 인코더의 LSTM 1\n",
    "encoder_lstm1 = LSTM(hidden_size, return_sequences=True, return_state=True ,dropout = 0.4, recurrent_dropout = 0.4)\n",
    "encoder_output1, state_h1, state_c1 = encoder_lstm1(enc_emb)\n",
    "\n",
    "# 인코더의 LSTM 2\n",
    "encoder_lstm2 = LSTM(hidden_size, return_sequences=True, return_state=True, dropout=0.4, recurrent_dropout=0.4)\n",
    "encoder_output2, state_h2, state_c2 = encoder_lstm2(encoder_output1)\n",
    "\n",
    "# 인코더의 LSTM 3\n",
    "encoder_lstm3 = LSTM(hidden_size, return_state=True, return_sequences=True, dropout=0.4, recurrent_dropout=0.4)\n",
    "encoder_outputs, state_h, state_c= encoder_lstm3(encoder_output2)"
   ]
  },
  {
   "cell_type": "code",
   "execution_count": 58,
   "metadata": {},
   "outputs": [
    {
     "name": "stdout",
     "output_type": "stream",
     "text": [
      "WARNING:tensorflow:Layer lstm_3 will not use cuDNN kernel since it doesn't meet the cuDNN kernel criteria. It will use generic GPU kernel as fallback when running on GPU\n"
     ]
    }
   ],
   "source": [
    "# 디코더 설계\n",
    "\n",
    "decoder_inputs = Input(shape=(None,))\n",
    "\n",
    "# 디코더의 임베딩 층\n",
    "dec_emb_layer = Embedding(tar_vocab, embedding_dim)\n",
    "dec_emb = dec_emb_layer(decoder_inputs)\n",
    "\n",
    "# 디코더의 LSTM\n",
    "decoder_lstm = LSTM(hidden_size, return_sequences = True, return_state = True, dropout = 0.4, recurrent_dropout=0.2)\n",
    "decoder_outputs, _, _ = decoder_lstm(dec_emb, initial_state = [state_h, state_c])"
   ]
  },
  {
   "cell_type": "code",
   "execution_count": 59,
   "metadata": {},
   "outputs": [
    {
     "name": "stdout",
     "output_type": "stream",
     "text": [
      "Model: \"functional_1\"\n",
      "__________________________________________________________________________________________________\n",
      "Layer (type)                    Output Shape         Param #     Connected to                     \n",
      "==================================================================================================\n",
      "input_1 (InputLayer)            [(None, 40)]         0                                            \n",
      "__________________________________________________________________________________________________\n",
      "embedding (Embedding)           (None, 40, 128)      2624128     input_1[0][0]                    \n",
      "__________________________________________________________________________________________________\n",
      "lstm (LSTM)                     [(None, 40, 256), (N 394240      embedding[0][0]                  \n",
      "__________________________________________________________________________________________________\n",
      "input_2 (InputLayer)            [(None, None)]       0                                            \n",
      "__________________________________________________________________________________________________\n",
      "lstm_1 (LSTM)                   [(None, 40, 256), (N 525312      lstm[0][0]                       \n",
      "__________________________________________________________________________________________________\n",
      "embedding_1 (Embedding)         (None, None, 128)    1247232     input_2[0][0]                    \n",
      "__________________________________________________________________________________________________\n",
      "lstm_2 (LSTM)                   [(None, 40, 256), (N 525312      lstm_1[0][0]                     \n",
      "__________________________________________________________________________________________________\n",
      "lstm_3 (LSTM)                   [(None, None, 256),  394240      embedding_1[0][0]                \n",
      "                                                                 lstm_2[0][1]                     \n",
      "                                                                 lstm_2[0][2]                     \n",
      "__________________________________________________________________________________________________\n",
      "dense (Dense)                   (None, None, 9744)   2504208     lstm_3[0][0]                     \n",
      "==================================================================================================\n",
      "Total params: 8,214,672\n",
      "Trainable params: 8,214,672\n",
      "Non-trainable params: 0\n",
      "__________________________________________________________________________________________________\n"
     ]
    }
   ],
   "source": [
    "# 디코더의 출력층\n",
    "decoder_softmax_layer = Dense(tar_vocab, activation = 'softmax')\n",
    "decoder_softmax_outputs = decoder_softmax_layer(decoder_outputs) \n",
    "\n",
    "# 모델 정의\n",
    "model = Model([encoder_inputs, decoder_inputs], decoder_softmax_outputs)\n",
    "model.summary()"
   ]
  },
  {
   "cell_type": "markdown",
   "metadata": {},
   "source": [
    "### 어텐션 메커니즘 사용하기 (추상적 요약)"
   ]
  },
  {
   "cell_type": "code",
   "execution_count": 60,
   "metadata": {},
   "outputs": [],
   "source": [
    "import urllib.request\n",
    "\n",
    "urllib.request.urlretrieve(\"https://raw.githubusercontent.com/thushv89/attention_keras/master/src/layers/attention.py\", filename=\"attention.py\")\n",
    "from attention import AttentionLayer"
   ]
  },
  {
   "cell_type": "code",
   "execution_count": 61,
   "metadata": {},
   "outputs": [
    {
     "name": "stdout",
     "output_type": "stream",
     "text": [
      "Model: \"functional_3\"\n",
      "__________________________________________________________________________________________________\n",
      "Layer (type)                    Output Shape         Param #     Connected to                     \n",
      "==================================================================================================\n",
      "input_1 (InputLayer)            [(None, 40)]         0                                            \n",
      "__________________________________________________________________________________________________\n",
      "embedding (Embedding)           (None, 40, 128)      2624128     input_1[0][0]                    \n",
      "__________________________________________________________________________________________________\n",
      "lstm (LSTM)                     [(None, 40, 256), (N 394240      embedding[0][0]                  \n",
      "__________________________________________________________________________________________________\n",
      "input_2 (InputLayer)            [(None, None)]       0                                            \n",
      "__________________________________________________________________________________________________\n",
      "lstm_1 (LSTM)                   [(None, 40, 256), (N 525312      lstm[0][0]                       \n",
      "__________________________________________________________________________________________________\n",
      "embedding_1 (Embedding)         (None, None, 128)    1247232     input_2[0][0]                    \n",
      "__________________________________________________________________________________________________\n",
      "lstm_2 (LSTM)                   [(None, 40, 256), (N 525312      lstm_1[0][0]                     \n",
      "__________________________________________________________________________________________________\n",
      "lstm_3 (LSTM)                   [(None, None, 256),  394240      embedding_1[0][0]                \n",
      "                                                                 lstm_2[0][1]                     \n",
      "                                                                 lstm_2[0][2]                     \n",
      "__________________________________________________________________________________________________\n",
      "attention_layer (AttentionLayer ((None, None, 256),  131328      lstm_2[0][0]                     \n",
      "                                                                 lstm_3[0][0]                     \n",
      "__________________________________________________________________________________________________\n",
      "concat_layer (Concatenate)      (None, None, 512)    0           lstm_3[0][0]                     \n",
      "                                                                 attention_layer[0][0]            \n",
      "__________________________________________________________________________________________________\n",
      "dense_1 (Dense)                 (None, None, 9744)   4998672     concat_layer[0][0]               \n",
      "==================================================================================================\n",
      "Total params: 10,840,464\n",
      "Trainable params: 10,840,464\n",
      "Non-trainable params: 0\n",
      "__________________________________________________________________________________________________\n"
     ]
    }
   ],
   "source": [
    "# 어텐션 층(어텐션 함수)\n",
    "attn_layer = AttentionLayer(name='attention_layer')\n",
    "# 인코더와 디코더의 모든 time step의 hidden state를 어텐션 층에 전달하고 결과를 리턴\n",
    "attn_out, attn_states = attn_layer([encoder_outputs, decoder_outputs])\n",
    "\n",
    "# 어텐션의 결과와 디코더의 hidden state들을 연결\n",
    "decoder_concat_input = Concatenate(axis = -1, name='concat_layer')([decoder_outputs, attn_out])\n",
    "\n",
    "# 디코더의 출력층\n",
    "decoder_softmax_layer = Dense(tar_vocab, activation='softmax')\n",
    "decoder_softmax_outputs = decoder_softmax_layer(decoder_concat_input)\n",
    "\n",
    "# 모델 정의\n",
    "model = Model([encoder_inputs, decoder_inputs], decoder_softmax_outputs)\n",
    "model.summary()"
   ]
  },
  {
   "cell_type": "markdown",
   "metadata": {},
   "source": [
    "### 모델 훈련하기"
   ]
  },
  {
   "cell_type": "code",
   "execution_count": 62,
   "metadata": {},
   "outputs": [
    {
     "name": "stdout",
     "output_type": "stream",
     "text": [
      "Epoch 1/50\n",
      "269/269 [==============================] - 78s 290ms/step - loss: 6.5643 - val_loss: 6.1810\n",
      "Epoch 2/50\n",
      "269/269 [==============================] - 78s 288ms/step - loss: 6.0095 - val_loss: 5.7521\n",
      "Epoch 3/50\n",
      "269/269 [==============================] - 77s 288ms/step - loss: 5.6331 - val_loss: 5.5092\n",
      "Epoch 4/50\n",
      "269/269 [==============================] - 77s 288ms/step - loss: 5.3426 - val_loss: 5.2750\n",
      "Epoch 5/50\n",
      "269/269 [==============================] - 75s 277ms/step - loss: 5.0995 - val_loss: 5.0965\n",
      "Epoch 6/50\n",
      "269/269 [==============================] - 74s 277ms/step - loss: 4.8937 - val_loss: 4.9626\n",
      "Epoch 7/50\n",
      "269/269 [==============================] - 75s 277ms/step - loss: 4.7118 - val_loss: 4.8547\n",
      "Epoch 8/50\n",
      "269/269 [==============================] - 77s 285ms/step - loss: 4.5543 - val_loss: 4.7467\n",
      "Epoch 9/50\n",
      "269/269 [==============================] - 80s 299ms/step - loss: 4.4113 - val_loss: 4.6773\n",
      "Epoch 10/50\n",
      "269/269 [==============================] - 79s 295ms/step - loss: 4.2821 - val_loss: 4.6140\n",
      "Epoch 11/50\n",
      "269/269 [==============================] - 78s 289ms/step - loss: 4.1727 - val_loss: 4.5626\n",
      "Epoch 12/50\n",
      "269/269 [==============================] - 78s 289ms/step - loss: 4.0697 - val_loss: 4.5178\n",
      "Epoch 13/50\n",
      "269/269 [==============================] - 78s 289ms/step - loss: 3.9729 - val_loss: 4.4817\n",
      "Epoch 14/50\n",
      "269/269 [==============================] - 78s 290ms/step - loss: 3.8807 - val_loss: 4.4491\n",
      "Epoch 15/50\n",
      "269/269 [==============================] - 78s 290ms/step - loss: 3.7957 - val_loss: 4.4171\n",
      "Epoch 16/50\n",
      "269/269 [==============================] - 78s 289ms/step - loss: 3.7225 - val_loss: 4.3960\n",
      "Epoch 17/50\n",
      "269/269 [==============================] - 80s 297ms/step - loss: 3.6529 - val_loss: 4.3904\n",
      "Epoch 18/50\n",
      "269/269 [==============================] - 82s 304ms/step - loss: 3.5861 - val_loss: 4.3636\n",
      "Epoch 19/50\n",
      "269/269 [==============================] - 82s 303ms/step - loss: 3.5228 - val_loss: 4.3588\n",
      "Epoch 20/50\n",
      "269/269 [==============================] - 80s 297ms/step - loss: 3.4654 - val_loss: 4.3486\n",
      "Epoch 21/50\n",
      "269/269 [==============================] - 81s 301ms/step - loss: 3.4110 - val_loss: 4.3377\n",
      "Epoch 22/50\n",
      "269/269 [==============================] - 79s 295ms/step - loss: 3.3592 - val_loss: 4.3274\n",
      "Epoch 23/50\n",
      "269/269 [==============================] - 80s 296ms/step - loss: 3.3103 - val_loss: 4.3360\n",
      "Epoch 24/50\n",
      "269/269 [==============================] - 80s 298ms/step - loss: 3.2592 - val_loss: 4.3244\n",
      "Epoch 25/50\n",
      "269/269 [==============================] - 81s 302ms/step - loss: 3.2149 - val_loss: 4.3104\n",
      "Epoch 26/50\n",
      "269/269 [==============================] - 78s 290ms/step - loss: 3.1775 - val_loss: 4.3053\n",
      "Epoch 27/50\n",
      "269/269 [==============================] - 74s 276ms/step - loss: 3.1394 - val_loss: 4.3094\n",
      "Epoch 28/50\n",
      "269/269 [==============================] - 79s 292ms/step - loss: 3.1041 - val_loss: 4.3081\n",
      "Epoch 00028: early stopping\n"
     ]
    }
   ],
   "source": [
    "model.compile(optimizer='rmsprop', loss='sparse_categorical_crossentropy')\n",
    "es = EarlyStopping(monitor='val_loss', mode='min', verbose=1, patience = 2)\n",
    "history = model.fit(x = [encoder_input_train, decoder_input_train], y = decoder_target_train, \\\n",
    "          validation_data = ([encoder_input_test, decoder_input_test], decoder_target_test),\n",
    "          batch_size = 256, callbacks=[es], epochs = 50)"
   ]
  },
  {
   "cell_type": "code",
   "execution_count": 63,
   "metadata": {},
   "outputs": [
    {
     "data": {
      "image/png": "[encoded data removed]",
      "text/plain": [
       "<Figure size 432x288 with 1 Axes>"
      ]
     },
     "metadata": {
      "needs_background": "light"
     },
     "output_type": "display_data"
    }
   ],
   "source": [
    "plt.plot(history.history['loss'], label='train')\n",
    "plt.plot(history.history['val_loss'], label='test')\n",
    "plt.legend()\n",
    "plt.show()"
   ]
  },
  {
   "cell_type": "markdown",
   "metadata": {},
   "source": [
    "### 실제 결과와 요약문 비교하기 (추상적 요약)"
   ]
  },
  {
   "cell_type": "code",
   "execution_count": 64,
   "metadata": {},
   "outputs": [],
   "source": [
    "src_index_to_word = src_tokenizer.index_word # 원문 단어 집합에서 정수 -> 단어를 얻음\n",
    "tar_word_to_index = tar_tokenizer.word_index # 요약 단어 집합에서 단어 -> 정수를 얻음\n",
    "tar_index_to_word = tar_tokenizer.index_word # 요약 단어 집합에서 정수 -> 단어를 얻음"
   ]
  },
  {
   "cell_type": "code",
   "execution_count": 65,
   "metadata": {},
   "outputs": [],
   "source": [
    "# 인코더 설계\n",
    "encoder_model = Model(inputs=encoder_inputs, outputs=[encoder_outputs, state_h, state_c])\n",
    "\n",
    "# 이전 시점의 상태들을 저장하는 텐서\n",
    "decoder_state_input_h = Input(shape=(hidden_size,))\n",
    "decoder_state_input_c = Input(shape=(hidden_size,))\n",
    "\n",
    "dec_emb2 = dec_emb_layer(decoder_inputs)\n",
    "# 문장의 다음 단어를 예측하기 위해서 초기 상태(initial_state)를 이전 시점의 상태로 사용. 이는 뒤의 함수 decode_sequence()에 구현\n",
    "# 훈련 과정에서와 달리 LSTM의 리턴하는 은닉 상태와 셀 상태인 state_h와 state_c를 버리지 않음.\n",
    "decoder_outputs2, state_h2, state_c2 = decoder_lstm(dec_emb2, initial_state=[decoder_state_input_h, decoder_state_input_c])"
   ]
  },
  {
   "cell_type": "code",
   "execution_count": 66,
   "metadata": {},
   "outputs": [],
   "source": [
    "# 어텐션 함수\n",
    "decoder_hidden_state_input = Input(shape=(text_max_len, hidden_size))\n",
    "attn_out_inf, attn_states_inf = attn_layer([decoder_hidden_state_input, decoder_outputs2])\n",
    "decoder_inf_concat = Concatenate(axis=-1, name='concat')([decoder_outputs2, attn_out_inf])\n",
    "\n",
    "# 디코더의 출력층\n",
    "decoder_outputs2 = decoder_softmax_layer(decoder_inf_concat) \n",
    "\n",
    "# 최종 디코더 모델\n",
    "decoder_model = Model(\n",
    "    [decoder_inputs] + [decoder_hidden_state_input,decoder_state_input_h, decoder_state_input_c],\n",
    "    [decoder_outputs2] + [state_h2, state_c2])"
   ]
  },
  {
   "cell_type": "code",
   "execution_count": 67,
   "metadata": {},
   "outputs": [],
   "source": [
    "def decode_sequence(input_seq):\n",
    "    # 입력으로부터 인코더의 상태를 얻음\n",
    "    e_out, e_h, e_c = encoder_model.predict(input_seq)\n",
    "\n",
    "     # <SOS>에 해당하는 토큰 생성\n",
    "    target_seq = np.zeros((1,1))\n",
    "    target_seq[0, 0] = tar_word_to_index['sostoken']\n",
    "\n",
    "    stop_condition = False\n",
    "    decoded_sentence = ''\n",
    "    while not stop_condition: # stop_condition이 True가 될 때까지 루프 반복\n",
    "\n",
    "        output_tokens, h, c = decoder_model.predict([target_seq] + [e_out, e_h, e_c])\n",
    "        sampled_token_index = np.argmax(output_tokens[0, -1, :])\n",
    "        sampled_token = tar_index_to_word[sampled_token_index]\n",
    "\n",
    "        if(sampled_token!='eostoken'):\n",
    "            decoded_sentence += ' '+sampled_token\n",
    "\n",
    "        #  <eos>에 도달하거나 최대 길이를 넘으면 중단.\n",
    "        if (sampled_token == 'eostoken'  or len(decoded_sentence.split()) >= (summary_max_len-1)):\n",
    "            stop_condition = True\n",
    "\n",
    "        # 길이가 1인 타겟 시퀀스를 업데이트\n",
    "        target_seq = np.zeros((1,1))\n",
    "        target_seq[0, 0] = sampled_token_index\n",
    "\n",
    "        # 상태를 업데이트 합니다.\n",
    "        e_h, e_c = h, c\n",
    "\n",
    "    return decoded_sentence"
   ]
  },
  {
   "cell_type": "markdown",
   "metadata": {},
   "source": [
    "### 모델 테스트"
   ]
  },
  {
   "cell_type": "code",
   "execution_count": 68,
   "metadata": {},
   "outputs": [],
   "source": [
    "# 원문의 정수 시퀀스를 텍스트 시퀀스로 변환\n",
    "def seq2text(input_seq):\n",
    "    temp=''\n",
    "    for i in input_seq:\n",
    "        if(i!=0):\n",
    "            temp = temp + src_index_to_word[i]+' '\n",
    "    return temp\n",
    "\n",
    "# 요약문의 정수 시퀀스를 텍스트 시퀀스로 변환\n",
    "def seq2summary(input_seq):\n",
    "    temp=''\n",
    "    for i in input_seq:\n",
    "        if((i!=0 and i!=tar_word_to_index['sostoken']) and i!=tar_word_to_index['eostoken']):\n",
    "            temp = temp + tar_index_to_word[i] + ' '\n",
    "    return temp"
   ]
  },
  {
   "cell_type": "code",
   "execution_count": 69,
   "metadata": {},
   "outputs": [
    {
     "name": "stdout",
     "output_type": "stream",
     "text": [
      "원문 : bangalore based digital healthcare platform laid employees part annual performance appraisal cycle founded shashank nd abhinav lal currently employees startup operates doctor appointment website mobile application offers ad platform clinics hospitals diagnostic centres \n",
      "실제 요약 : health startup lays off employees \n",
      "예측 요약 :  snapdeal offers to hire employees at\n",
      "\n",
      "\n",
      "원문 : google rolled feature show wheelchair accessible routes transit navigation users users type desired destination maps tap directions tab select public transportation icon click options routes section access wheelchair accessible routes feature currently launched select places including london \n",
      "실제 요약 : google rolls out wheelchair routes in maps \n",
      "예측 요약 :  google maps to measure maps in maps\n",
      "\n",
      "\n",
      "원문 : patna high court monday rejected two public interest challenging formation new jd bjp government bihar court said intervention required new alliance floor test state assembly petitions called new government unconstitutional people mandate assembly elections grand alliance \n",
      "실제 요약 : patna hc rejects against nitish kumar new govt \n",
      "예측 요약 :  bjp rejects plea against kejriwal for bjp\n",
      "\n",
      "\n",
      "원문 : condemning gurugram school bus attack mob protesting padmaavat congress president rahul gandhi blamed bjp using hatred violence adding setting entire country fire never cause big enough justify violence children rahul tweeted bus attacked wednesday reportedly rajput group karni sena \n",
      "실제 요약 : rahul blames bjp for school bus attack over padmaavat \n",
      "예측 요약 :  rahul gandhi calls rahul gandhi on sabarimala violence\n",
      "\n",
      "\n",
      "원문 : photo sharing app snapchat monday faced global outage several hours affecting millions users users reported issues sending receiving login problems snapchat support team twitter acknowledged users facing problems app said looking issue \n",
      "실제 요약 : snapchat faces global outage affects millions of users \n",
      "예측 요약 :  snapchat to resume users in outage in us\n",
      "\n",
      "\n",
      "원문 : rajasthan government sunday transferred thirty indian police service officers state biju george joseph inspector general police ajmer transferred jodhpur commissioner vishal bansal udaipur shifted cid inspector general jodhpur range kumar ajmer according state orders \n",
      "실제 요약 : ips officers transferred in rajasthan \n",
      "예측 요약 :  ias officers transferred in telangana\n",
      "\n",
      "\n",
      "원문 : canada china research collaboration found alzheimer disease could triggered outside brain team joined two mice genetically modified one using alzheimer related human gene protein produced gene found blood vessels muscles non modified mouse led scientists make claims \n",
      "실제 요약 : alzheimer may start outside the brain study claims \n",
      "예측 요약 :  scientists find brain brain surgery in china\n",
      "\n",
      "\n",
      "원문 : apple ceo tim cook sunday highlighted company economic impact india meeting prime minister narendra modi cook reportedly disclosed apple expected indian operations run completely renewable energy within next six months reiterated apple generated lakh jobs india development mobile applications \n",
      "실제 요약 : cook discusses apple economic impact on india with pm \n",
      "예측 요약 :  apple ceo tim cook to pm modi\n",
      "\n",
      "\n",
      "원문 : letter addressed uk prince harry meghan markle estranged half brother thomas markle jr warned late call wedding biggest mistake royal wedding history wrote claiming right woman prince harry thomas wrote make joke royal family heritage \n",
      "실제 요약 : half brother asks prince harry to call off wedding \n",
      "예측 요약 :  prince harry meghan markle markle markle royal meghan\n",
      "\n",
      "\n",
      "원문 : us benchmark jones index closed lower monday steepest single day drop since august index plunged points end record high hit late january around trillion wiped value american equities sell monday \n",
      "실제 요약 : us index posts biggest one day drop since aug \n",
      "예측 요약 :  bitcoin hits the first time in\n",
      "\n",
      "\n",
      "원문 : salesman winner best foreign language film oscars released india friday psychological exploration morality wrote mid day catch news called gripping portrait marriage falling apart toi wrote iranian drama full rated \n",
      "실제 요약 : oscars best foreign film the releases in india \n",
      "예측 요약 :  world manushi nominated for india\n",
      "\n",
      "\n",
      "원문 : indian women hockey team defeated two time champions china sudden death sunday clinch hockey asia cup second time match ended regulation time india went win match penalty shootout indian women team last asia cup \n",
      "실제 요약 : indian women hockey team wins asia cup after years \n",
      "예측 요약 :  india hockey women hockey team to reach wc\n",
      "\n",
      "\n",
      "원문 : woman singapore received ride credit worth uber gave birth back one taxis baby delivered minute ride minutes away hospital ride hailing startup also reimbursed taxi cleaning fee gave vouchers driver \n",
      "실제 요약 : ride credit to woman who gave birth in cab \n",
      "예측 요약 :  ola gives birth to buy baby\n",
      "\n",
      "\n",
      "원문 : ias officer shah faesal resigned protest killings kashmir absence credible political initiative minister state pmo jitendra singh said officer failed condemn terror added showed officer lack conviction faesal said decision quit prompted around million indian muslims \n",
      "실제 요약 : ias officer who quit failed to condemn terror minister \n",
      "예측 요약 :  rajiv gandhi elected as chief to join party\n",
      "\n",
      "\n",
      "원문 : samajwadi party leader azam khan saturday asked prime minister narendra modi talk muslim women losing husbands sons due violence gau rakshaks comes pm modi appealed muslim community find proper solution triple talaq issue congress also criticised modi statement inadequate \n",
      "실제 요약 : pm must speak on gau muslim women khan \n",
      "예측 요약 :  pm modi is hindu women in parliament azam\n",
      "\n",
      "\n",
      "원문 : fields medal prize winning mathematician sir michael monday demonstrated proof year old hypothesis one problems carrying million award confirmed solution hypothesis states distribution prime numbers random might follow pattern described equation called function \n",
      "실제 요약 : says he is solved yr old problem worth mn \n",
      "예측 요약 :  former vijender singh wins million in\n",
      "\n",
      "\n",
      "원문 : chinese government provisionally approved nine trademarks us president donald trump organisation previously rejected approval comes amid trump fighting allegations businesses create potential conflicts interest may violate us constitution notably trump organisation least trademarks china formally provisionally approved \n",
      "실제 요약 : china approves trump it had rejected \n",
      "예측 요약 :  china approves trump bid for trump\n",
      "\n",
      "\n",
      "원문 : students school kerala trivandrum raised lakh help build house another student recently lost father students worked collecting old newspapers magazines selling making garlands fresh flowers making soaps sell school money raised one half years \n",
      "실제 요약 : kerala students raise lakh to build house for friend \n",
      "예측 요약 :  students school kids for kids in gurugram school\n",
      "\n",
      "\n",
      "원문 : us tensions india pakistan kashmir issue good relations countries pakistan envoy un lodhi said somebody needs play role think us best position added pakistan believes america lacked balance approach towards south asia lodhi said \n",
      "실제 요약 : us can tensions with india over kashmir pak \n",
      "예측 요약 :  pakistan will not be ready us envoy haley\n",
      "\n",
      "\n",
      "원문 : former congress leader sajjan kumar convicted delhi high court anti sikh riots case sought days surrender stating need time settle children grandchildren six grandchildren would position settle family affairs including properties within short span time application stated \n",
      "실제 요약 : have sajjan kumar seeks more time to surrender \n",
      "예측 요약 :  delhi cong leader arrested for riots\n",
      "\n",
      "\n",
      "원문 : rbi penalised india third largest lender icici bank crore failing comply held maturity guidelines penalty non compliance directions issued direct sale securities portfolio specified disclosure regard highest penalty imposed rbi bank single incident \n",
      "실제 요약 : rbi imposes crore penalty on icici bank \n",
      "예측 요약 :  rbi bank crore insolvency penalty for crore\n",
      "\n",
      "\n",
      "원문 : actor jim responding criticism received making joke rape said intend hurt anybody certainly consider actual sexual physical violence funny sexual violence serious issue treat unfortunate comments taken context added \n",
      "실제 요약 : consider sexual violence funny jim on rape joke row \n",
      "예측 요약 :  rape is like to be rape abhishek\n",
      "\n",
      "\n",
      "원문 : actor rajkummar rao seen aishwarya rai bachchan first time upcoming movie fanney khan said weird combination added character awe film awe real life claimed whole romantic side aishwarya really fun \n",
      "실제 요약 : rajkummar on aish in fanney khan \n"
     ]
    },
    {
     "name": "stdout",
     "output_type": "stream",
     "text": [
      "예측 요약 :  rajkummar rao to star in fanney khan\n",
      "\n",
      "\n",
      "원문 : twitter video wedding photographer hanging upside tree gone viral online video shows photographer handing camera groom jumping tree reacting video twitter user posted wanted become spider man fight crime ended becoming wedding photographer due parental pressure \n",
      "실제 요약 : photographer hangs upside down from tree to take pic \n",
      "예측 요약 :  couple slammed for throwing couple on road hanging\n",
      "\n",
      "\n",
      "원문 : us student otto warmbier held months north korea evacuated reclusive nation coma reports said coma year doctors gave sleeping pill never woke family claimed warmbier detained allegedly committing anti state acts \n",
      "실제 요약 : student in korea was in coma for year kin \n",
      "예측 요약 :  us student hit by korea after years\n",
      "\n",
      "\n",
      "원문 : least civilians killed around others wounded saturday air strike rebel held eastern ghouta region outside syria capital damascus according reports notably region last stronghold rebels government siege lakh people killed since began march \n",
      "실제 요약 : civilians killed in air strike in syria \n",
      "예측 요약 :  killed in syrian air strikes in syria\n",
      "\n",
      "\n",
      "원문 : cases ragging university college campuses increased cases cases year according government data uttar pradesh topped list cases increase cases last year followed madhya pradesh cases increase cases last year \n",
      "실제 요약 : ragging in universities colleges up by up on top \n",
      "예측 요약 :  students in cases in yrs in telangana\n",
      "\n",
      "\n",
      "원문 : year old boy suspected killing people mass shooting school texas us recently posted picture shirt facebook page read born kill opened fire students friday dressed trench coat armed pistol according police \n",
      "실제 요약 : old texas school shooter had born to kill shirt \n",
      "예측 요약 :  video school teacher dancing in school surfaces online\n",
      "\n",
      "\n",
      "원문 : indigo president aditya ghosh airline chief commercial officer sanjay kumar resigned effect july year kumar associated low cost carrier last years leaving job pursue career interests william currently chief strategy officer taking sanjay kumar \n",
      "실제 요약 : after prez ghosh indigo chief commercial officer quits \n",
      "예측 요약 :  indigo appoints president kumar as interim president\n",
      "\n",
      "\n",
      "원문 : many three muslim construction workers including minor arrested assam district allegedly hurting religious sentiments displaying beef police said thursday local court sent two accused days judicial custody bought beef somewhere went vegetable market talked purchase police added \n",
      "실제 요약 : minor among muslims arrested in assam for beef \n",
      "예측 요약 :  arrested in mp over cow slaughter\n",
      "\n",
      "\n",
      "원문 : barcelona forward lionel messi sent special customised barcelona jersey west bengal chief minister mamata banerjee jersey name didi jersey number printed back jersey also featured message west bengal cm messi read best wishes friend didi lionel messi \n",
      "실제 요약 : messi sends mamata banerjee special didi no jersey \n",
      "예측 요약 :  messi calls for opposition leader in israel\n",
      "\n",
      "\n",
      "원문 : madhya pradesh agriculture minister fell asleep third international yoga day function held chhindwara wednesday slept ten minutes performing meanwhile school education minister vijay shah seen using phone function district \n",
      "실제 요약 : mp ministers sleep use phones during yoga day event \n",
      "예측 요약 :  odisha cm announces th birthday day\n",
      "\n",
      "\n",
      "원문 : apparent reference salman khan comment depression deepika padukone said perception happens people successful sometimes perceived luxury important break myth comes salman khan said see lot people getting depressed cannot afford luxury depressed \n",
      "실제 요약 : depression is not luxury deepika padukone \n",
      "예측 요약 :  cannot stop my own says says salman khan\n",
      "\n",
      "\n",
      "원문 : angered delay air india flight mumbai drunk man stabbed pen arguing airline officials chennai airport sunday passenger taken hospital within airport premises treatment flight later departed without \n",
      "실제 요약 : drunk man stabs himself using pen over flight delay \n",
      "예측 요약 :  flight caught at airport flight arrested\n",
      "\n",
      "\n",
      "원문 : first us based engineers printed structures called theorised german scientist structures strong light durable materials repeating patterns one make entire building material something falls would collapse slowly protecting inside said researcher \n",
      "실제 요약 : us team prints material over years ago \n",
      "예측 요약 :  ai that can predict the world\n",
      "\n",
      "\n",
      "원문 : national investigation agency set revoke indian passport islamic research foundation president dr zakir abdul karim naik wanted criminal case money laundering laws nia claimed naik invested crore companies properties initiated proceedings red corner notice islamic preacher \n",
      "실제 요약 : nia to revoke islamic zakir naik indian passport \n",
      "예측 요약 :  nia orders of warrant against zakir naik\n",
      "\n",
      "\n",
      "원문 : arsenal failed qualify uefa champions league first time since season finishing pl campaign fifth place starting point behind fourth placed liverpool arsenal defeated everton liverpool manchester city registered victories ensure top four finishes liverpool play champions league first time since \n",
      "실제 요약 : arsenal fail to qualify for champions league after years \n",
      "예측 요약 :  arsenal thrash arsenal to win th title\n",
      "\n",
      "\n",
      "원문 : union minister nitin gadkari said permits would required electric vehicles automobiles run alternative fuels like ethanol bio diesel said states agreed abide decision cab aggregators like ola uber could also directed induct certain number vehicles fleet gadkari added \n",
      "실제 요약 : electric alternative fuel vehicles to be made permit free \n",
      "예측 요약 :  tesla cars cars to be ready gadkari\n",
      "\n",
      "\n",
      "원문 : british woman police officer sacked hurling racist slurs staff indian restaurant newcastle year old made remarks drunk place type language police officers must compromise damage strong relationships communities serve authorities said \n",
      "실제 요약 : woman cop sacked over racist slur at indian eatery \n",
      "예측 요약 :  woman accuses female officer of racism in mumbai\n",
      "\n",
      "\n",
      "원문 : surprise inspections august april excise department found nine prominent venues popular delhi spots hauz khas connaught place serving expired beer department also revealed establishments inspected found violating norms many bars clubs found violating seat capacity condition well \n",
      "실제 요약 : bars at delhi spots caught serving beer \n",
      "예측 요약 :  new zealand has created by study\n",
      "\n",
      "\n",
      "원문 : vice president venkaiah naidu thursday said banking system facing problems due lending earlier naidu added banks must learn experience happened see things however claimed banking system undergoing transformation money collected \n",
      "실제 요약 : lending led to problems in banking system vp naidu \n",
      "예측 요약 :  no problem in the of vice president naidu\n",
      "\n",
      "\n",
      "원문 : britain year old swimmer adam peaty registered timing seconds set new world record metres breaststroke previously set world record seconds peaty first broke record since peaty swimmer history metres breaststroke seconds \n",
      "실제 요약 : year old his own world record by \n",
      "예측 요약 :  world longest longest sets record for longest\n",
      "\n",
      "\n",
      "원문 : india largest carrier market share indigo expressed interest buying stake national carrier air india civil aviation ministry said first formal expression interest received airline comes day government gave principle approval disinvestment airline facing debt crore \n",
      "실제 요약 : first airline to express interest in buying air india \n",
      "예측 요약 :  tata motors to invest in air india\n",
      "\n",
      "\n",
      "원문 : travel agency italy offering mafia themed tours allowing people chance visit places related mafia travel agency easy let people visit houses mafia bosses lived part anti mafia mafia tour tour criticised many including mayor \n",
      "실제 요약 : italian travel agency offers mafia themed tour \n",
      "예측 요약 :  singapore to get extra for new themed\n",
      "\n",
      "\n",
      "원문 : technological university released video showing autonomous robot assembling furniture giant ikea chair minutes seconds robot powered coded algorithms comprises camera two robotic arms featuring pick objects prior assembly robot took minutes seconds plan motion \n",
      "실제 요약 : video autonomous robot ikea chair in under mins \n",
      "예측 요약 :  video shows robot robot that can play robots\n",
      "\n",
      "\n",
      "원문 : university tokyo scientists claimed record largest magnetic field ever generated indoors measuring tesla times higher generated magnets mri machines million times stronger earth magnetic field scientists noted however stronger magnetic fields achieved outdoor experiments using chemical explosives \n",
      "실제 요약 : record magnetic field mn times stronger than earth made \n"
     ]
    },
    {
     "name": "stdout",
     "output_type": "stream",
     "text": [
      "예측 요약 :  scientists make new theory for record\n",
      "\n",
      "\n",
      "원문 : team polio caught faking data wasting vaccine pakistan capital islamabad would spill two drops vaccine ground every fake name would enter data authorities said services team members terminated one repeat practice \n",
      "실제 요약 : pakistan polio caught faking data wasting vaccine \n",
      "예측 요약 :  australian police suspended for terror attacks\n",
      "\n",
      "\n",
      "원문 : slamming ministers mps political figures silence rape eight year old girl kathua author chetan bhagat tweeted use power point life claimed government silent due political twitter users slammed bhagat naming leader tweet \n",
      "실제 요약 : is power bhagat on govt silence on kathua rape \n",
      "예측 요약 :  rape victim to rape victim rape victim\n",
      "\n",
      "\n",
      "원문 : bengaluru based self drive vehicle rental startup reportedly last stage talks raise million series round funding comes startup raised million series round november founded lets vehicle owners list idle vehicles rent customers \n",
      "실제 요약 : luru vehicle rental startup to raise mn report \n",
      "예측 요약 :  electric startup raises mn in series funding\n",
      "\n",
      "\n",
      "원문 : us president donald trump saturday thanked stephen bannon service forced white house chief strategist came campaign run hillary clinton great trump tweeted bannon returned news executive chairman said got hands back weapons \n",
      "실제 요약 : trump thanks chief after forcing him to leave \n",
      "예측 요약 :  trump white house white house white house\n",
      "\n",
      "\n"
     ]
    }
   ],
   "source": [
    "for i in range(50, 100):\n",
    "    print(\"원문 :\", seq2text(encoder_input_test[i]))\n",
    "    print(\"실제 요약 :\", seq2summary(decoder_input_test[i]))\n",
    "    print(\"예측 요약 :\", decode_sequence(encoder_input_test[i].reshape(1, text_max_len)))\n",
    "    print(\"\\n\")"
   ]
  },
  {
   "cell_type": "markdown",
   "metadata": {},
   "source": [
    "### Summa을 이용해서 추출적 요약해보기"
   ]
  },
  {
   "cell_type": "code",
   "execution_count": 2,
   "metadata": {},
   "outputs": [],
   "source": [
    "import requests\n",
    "from summa.summarizer import summarize"
   ]
  },
  {
   "cell_type": "code",
   "execution_count": 16,
   "metadata": {},
   "outputs": [
    {
     "name": "stdout",
     "output_type": "stream",
     "text": [
      "original: \n",
      " New Zealand defeated India by 8 wickets in the fourth ODI at Hamilton on Thursday to win their first match of the five-match ODI series. India lost an international match under Rohit Sharma's captaincy after 12 consecutive victories dating back to March 2018. The match witnessed India getting all out for 92, their seventh lowest total in ODI cricket history.\n",
      "\n",
      " summarise: \n"
     ]
    },
    {
     "data": {
      "text/plain": [
       "'The match witnessed India getting all out for 92, their seventh lowest total in ODI cricket history.'"
      ]
     },
     "execution_count": 16,
     "metadata": {},
     "output_type": "execute_result"
    }
   ],
   "source": [
    "print(\"original: \\n\", data['text'][2])\n",
    "print(\"\\n summarise: \")\n",
    "summarize(data['text'][2],ratio=0.35)"
   ]
  },
  {
   "cell_type": "markdown",
   "metadata": {},
   "source": [
    "## Conclusion\n",
    "\n",
    "- 잘 안되는 것도 있지만 완전히 어긋나지는 않아보여서 흥미로웠다.\n",
    "- summa도 ratio를 조절하면 나름 요약을 잘 해주는 듯 하다."
   ]
  }
 ],
 "metadata": {
  "kernelspec": {
   "display_name": "aiffel",
   "language": "python",
   "name": "aiffel"
  },
  "language_info": {
   "codemirror_mode": {
    "name": "ipython",
    "version": 3
   },
   "file_extension": ".py",
   "mimetype": "text/x-python",
   "name": "python",
   "nbconvert_exporter": "python",
   "pygments_lexer": "ipython3",
   "version": "3.7.6"
  },
  "toc": {
   "base_numbering": 1,
   "nav_menu": {},
   "number_sections": true,
   "sideBar": true,
   "skip_h1_title": false,
   "title_cell": "Table of Contents",
   "title_sidebar": "Contents",
   "toc_cell": false,
   "toc_position": {},
   "toc_section_display": true,
   "toc_window_display": false
  },
  "varInspector": {
   "cols": {
    "lenName": 16,
    "lenType": 16,
    "lenVar": 40
   },
   "kernels_config": {
    "python": {
     "delete_cmd_postfix": "",
     "delete_cmd_prefix": "del ",
     "library": "var_list.py",
     "varRefreshCmd": "print(var_dic_list())"
    },
    "r": {
     "delete_cmd_postfix": ") ",
     "delete_cmd_prefix": "rm(",
     "library": "var_list.r",
     "varRefreshCmd": "cat(var_dic_list()) "
    }
   },
   "types_to_exclude": [
    "module",
    "function",
    "builtin_function_or_method",
    "instance",
    "_Feature"
   ],
   "window_display": false
  }
 },
 "nbformat": 4,
 "nbformat_minor": 4
}
