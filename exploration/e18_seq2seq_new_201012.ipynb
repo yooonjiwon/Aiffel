{
 "cells": [
  {
   "cell_type": "markdown",
   "metadata": {},
   "source": [
    "# 뉴스기사 요약해보기\n",
    "\n",
    "<br>\n",
    "\n",
    "## 데이터 수집하기"
   ]
  },
  {
   "cell_type": "code",
   "execution_count": 1,
   "metadata": {},
   "outputs": [],
   "source": [
    "import urllib.request\n",
    "import pandas as pd\n",
    "urllib.request.urlretrieve(\"https://raw.githubusercontent.com/sunnysai12345/News_Summary/master/news_summary_more.csv\", filename=\"news_summary_more.csv\")\n",
    "data = pd.read_csv('news_summary_more.csv', encoding='iso-8859-1')"
   ]
  },
  {
   "cell_type": "code",
   "execution_count": 2,
   "metadata": {},
   "outputs": [
    {
     "data": {
      "text/html": [
       "<div>\n",
       "<style scoped>\n",
       "    .dataframe tbody tr th:only-of-type {\n",
       "        vertical-align: middle;\n",
       "    }\n",
       "\n",
       "    .dataframe tbody tr th {\n",
       "        vertical-align: top;\n",
       "    }\n",
       "\n",
       "    .dataframe thead th {\n",
       "        text-align: right;\n",
       "    }\n",
       "</style>\n",
       "<table border=\"1\" class=\"dataframe\">\n",
       "  <thead>\n",
       "    <tr style=\"text-align: right;\">\n",
       "      <th></th>\n",
       "      <th>headlines</th>\n",
       "      <th>text</th>\n",
       "    </tr>\n",
       "  </thead>\n",
       "  <tbody>\n",
       "    <tr>\n",
       "      <th>29528</th>\n",
       "      <td>First look of Huma Qureshi in Rajinikanth's 'K...</td>\n",
       "      <td>Huma Qureshi shared her first look as Zareena ...</td>\n",
       "    </tr>\n",
       "    <tr>\n",
       "      <th>86207</th>\n",
       "      <td>Zomato set to acquire Runnr in an all-stock de...</td>\n",
       "      <td>Zomato is reportedly set to acquire Bengaluru-...</td>\n",
       "    </tr>\n",
       "    <tr>\n",
       "      <th>94379</th>\n",
       "      <td>Girl with alopecia wins school's Crazy Hair Da...</td>\n",
       "      <td>Seven-year-old Gianessa Wride, who has alopeci...</td>\n",
       "    </tr>\n",
       "    <tr>\n",
       "      <th>73645</th>\n",
       "      <td>Govt blames UPA for bringing Aadhaar without p...</td>\n",
       "      <td>After the Supreme Court declared the Right to ...</td>\n",
       "    </tr>\n",
       "    <tr>\n",
       "      <th>66087</th>\n",
       "      <td>Indian woman alleges torture in Saudi, seeks A...</td>\n",
       "      <td>An Indian woman from Punjab has accused her em...</td>\n",
       "    </tr>\n",
       "    <tr>\n",
       "      <th>55492</th>\n",
       "      <td>Airline industry's turnover touched Ã¢ÂÂ¹1.5 ...</td>\n",
       "      <td>Union Minister Jayant Sinha said the Indian ai...</td>\n",
       "    </tr>\n",
       "    <tr>\n",
       "      <th>20924</th>\n",
       "      <td>Kerala govt to honour fishermen who helped in ...</td>\n",
       "      <td>Kerala CM Pinarayi Vijayan has announced that ...</td>\n",
       "    </tr>\n",
       "    <tr>\n",
       "      <th>84468</th>\n",
       "      <td>'Azadi ke 70 Saal' festival to be celebrated i...</td>\n",
       "      <td>As many as 65 countries will be celebrating 'A...</td>\n",
       "    </tr>\n",
       "    <tr>\n",
       "      <th>9404</th>\n",
       "      <td>Selfie saves US man from possible prison sente...</td>\n",
       "      <td>A selfie has saved a US man from a possible pr...</td>\n",
       "    </tr>\n",
       "    <tr>\n",
       "      <th>77333</th>\n",
       "      <td>Outdoor screen hacked to show 'offensive' mess...</td>\n",
       "      <td>An outdoor screen in Cardiff, UK was hacked ea...</td>\n",
       "    </tr>\n",
       "  </tbody>\n",
       "</table>\n",
       "</div>"
      ],
      "text/plain": [
       "                                               headlines  \\\n",
       "29528  First look of Huma Qureshi in Rajinikanth's 'K...   \n",
       "86207  Zomato set to acquire Runnr in an all-stock de...   \n",
       "94379  Girl with alopecia wins school's Crazy Hair Da...   \n",
       "73645  Govt blames UPA for bringing Aadhaar without p...   \n",
       "66087  Indian woman alleges torture in Saudi, seeks A...   \n",
       "55492  Airline industry's turnover touched Ã¢ÂÂ¹1.5 ...   \n",
       "20924  Kerala govt to honour fishermen who helped in ...   \n",
       "84468  'Azadi ke 70 Saal' festival to be celebrated i...   \n",
       "9404   Selfie saves US man from possible prison sente...   \n",
       "77333  Outdoor screen hacked to show 'offensive' mess...   \n",
       "\n",
       "                                                    text  \n",
       "29528  Huma Qureshi shared her first look as Zareena ...  \n",
       "86207  Zomato is reportedly set to acquire Bengaluru-...  \n",
       "94379  Seven-year-old Gianessa Wride, who has alopeci...  \n",
       "73645  After the Supreme Court declared the Right to ...  \n",
       "66087  An Indian woman from Punjab has accused her em...  \n",
       "55492  Union Minister Jayant Sinha said the Indian ai...  \n",
       "20924  Kerala CM Pinarayi Vijayan has announced that ...  \n",
       "84468  As many as 65 countries will be celebrating 'A...  \n",
       "9404   A selfie has saved a US man from a possible pr...  \n",
       "77333  An outdoor screen in Cardiff, UK was hacked ea...  "
      ]
     },
     "execution_count": 2,
     "metadata": {},
     "output_type": "execute_result"
    }
   ],
   "source": [
    "data.sample(10)"
   ]
  },
  {
   "cell_type": "markdown",
   "metadata": {},
   "source": [
    "## 데이터 전처리하기 \n",
    "\n",
    "<br>\n",
    "\n",
    "### 데이터 정리하기"
   ]
  },
  {
   "cell_type": "code",
   "execution_count": 3,
   "metadata": {},
   "outputs": [
    {
     "name": "stdout",
     "output_type": "stream",
     "text": [
      "Headline 열에서 중복을 배제한 유일한 샘플의 수 : 98280\n",
      "text 열에서 중복을 배제한 유일한 샘플의 수 : 98360\n"
     ]
    }
   ],
   "source": [
    "print('Headline 열에서 중복을 배제한 유일한 샘플의 수 :', data['headlines'].nunique())\n",
    "print('text 열에서 중복을 배제한 유일한 샘플의 수 :', data['text'].nunique())"
   ]
  },
  {
   "cell_type": "code",
   "execution_count": 4,
   "metadata": {},
   "outputs": [
    {
     "name": "stdout",
     "output_type": "stream",
     "text": [
      "전체 샘플수 : 98360\n"
     ]
    }
   ],
   "source": [
    "# 데이터 중복 제거한 갯수 - 별 차이 없음\n",
    "data.drop_duplicates(subset = ['text'], inplace = True)\n",
    "print('전체 샘플수 :',(len(data)))"
   ]
  },
  {
   "cell_type": "code",
   "execution_count": 5,
   "metadata": {},
   "outputs": [
    {
     "name": "stdout",
     "output_type": "stream",
     "text": [
      "headlines    0\n",
      "text         0\n",
      "dtype: int64\n"
     ]
    }
   ],
   "source": [
    "# Null 값 없음.\n",
    "print(data.isnull().sum())"
   ]
  },
  {
   "cell_type": "code",
   "execution_count": 6,
   "metadata": {},
   "outputs": [
    {
     "name": "stdout",
     "output_type": "stream",
     "text": [
      "정규화 사전의 수:  120\n"
     ]
    }
   ],
   "source": [
    "# 텍스트 불용어 제거 (text normalization)\n",
    "contractions = {\"ain't\": \"is not\", \"aren't\": \"are not\",\"can't\": \"cannot\", \"'cause\": \"because\", \"could've\": \"could have\", \"couldn't\": \"could not\",\n",
    "                           \"didn't\": \"did not\",  \"doesn't\": \"does not\", \"don't\": \"do not\", \"hadn't\": \"had not\", \"hasn't\": \"has not\", \"haven't\": \"have not\",\n",
    "                           \"he'd\": \"he would\",\"he'll\": \"he will\", \"he's\": \"he is\", \"how'd\": \"how did\", \"how'd'y\": \"how do you\", \"how'll\": \"how will\", \"how's\": \"how is\",\n",
    "                           \"I'd\": \"I would\", \"I'd've\": \"I would have\", \"I'll\": \"I will\", \"I'll've\": \"I will have\",\"I'm\": \"I am\", \"I've\": \"I have\", \"i'd\": \"i would\",\n",
    "                           \"i'd've\": \"i would have\", \"i'll\": \"i will\",  \"i'll've\": \"i will have\",\"i'm\": \"i am\", \"i've\": \"i have\", \"isn't\": \"is not\", \"it'd\": \"it would\",\n",
    "                           \"it'd've\": \"it would have\", \"it'll\": \"it will\", \"it'll've\": \"it will have\",\"it's\": \"it is\", \"let's\": \"let us\", \"ma'am\": \"madam\",\n",
    "                           \"mayn't\": \"may not\", \"might've\": \"might have\",\"mightn't\": \"might not\",\"mightn't've\": \"might not have\", \"must've\": \"must have\",\n",
    "                           \"mustn't\": \"must not\", \"mustn't've\": \"must not have\", \"needn't\": \"need not\", \"needn't've\": \"need not have\",\"o'clock\": \"of the clock\",\n",
    "                           \"oughtn't\": \"ought not\", \"oughtn't've\": \"ought not have\", \"shan't\": \"shall not\", \"sha'n't\": \"shall not\", \"shan't've\": \"shall not have\",\n",
    "                           \"she'd\": \"she would\", \"she'd've\": \"she would have\", \"she'll\": \"she will\", \"she'll've\": \"she will have\", \"she's\": \"she is\",\n",
    "                           \"should've\": \"should have\", \"shouldn't\": \"should not\", \"shouldn't've\": \"should not have\", \"so've\": \"so have\",\"so's\": \"so as\",\n",
    "                           \"this's\": \"this is\",\"that'd\": \"that would\", \"that'd've\": \"that would have\", \"that's\": \"that is\", \"there'd\": \"there would\",\n",
    "                           \"there'd've\": \"there would have\", \"there's\": \"there is\", \"here's\": \"here is\",\"they'd\": \"they would\", \"they'd've\": \"they would have\",\n",
    "                           \"they'll\": \"they will\", \"they'll've\": \"they will have\", \"they're\": \"they are\", \"they've\": \"they have\", \"to've\": \"to have\",\n",
    "                           \"wasn't\": \"was not\", \"we'd\": \"we would\", \"we'd've\": \"we would have\", \"we'll\": \"we will\", \"we'll've\": \"we will have\", \"we're\": \"we are\",\n",
    "                           \"we've\": \"we have\", \"weren't\": \"were not\", \"what'll\": \"what will\", \"what'll've\": \"what will have\", \"what're\": \"what are\",\n",
    "                           \"what's\": \"what is\", \"what've\": \"what have\", \"when's\": \"when is\", \"when've\": \"when have\", \"where'd\": \"where did\", \"where's\": \"where is\",\n",
    "                           \"where've\": \"where have\", \"who'll\": \"who will\", \"who'll've\": \"who will have\", \"who's\": \"who is\", \"who've\": \"who have\",\n",
    "                           \"why's\": \"why is\", \"why've\": \"why have\", \"will've\": \"will have\", \"won't\": \"will not\", \"won't've\": \"will not have\",\n",
    "                           \"would've\": \"would have\", \"wouldn't\": \"would not\", \"wouldn't've\": \"would not have\", \"y'all\": \"you all\",\n",
    "                           \"y'all'd\": \"you all would\",\"y'all'd've\": \"you all would have\",\"y'all're\": \"you all are\",\"y'all've\": \"you all have\",\n",
    "                           \"you'd\": \"you would\", \"you'd've\": \"you would have\", \"you'll\": \"you will\", \"you'll've\": \"you will have\",\n",
    "                           \"you're\": \"you are\", \"you've\": \"you have\"}\n",
    "\n",
    "print(\"정규화 사전의 수: \",len(contractions))"
   ]
  },
  {
   "cell_type": "code",
   "execution_count": 7,
   "metadata": {},
   "outputs": [
    {
     "name": "stderr",
     "output_type": "stream",
     "text": [
      "[nltk_data] Downloading package stopwords to\n",
      "[nltk_data]     /home/aiffel0036/nltk_data...\n",
      "[nltk_data]   Package stopwords is already up-to-date!\n"
     ]
    }
   ],
   "source": [
    "import nltk\n",
    "nltk.download('stopwords')\n",
    "from nltk.corpus import stopwords"
   ]
  },
  {
   "cell_type": "code",
   "execution_count": 8,
   "metadata": {},
   "outputs": [
    {
     "name": "stdout",
     "output_type": "stream",
     "text": [
      "불용어 개수 : 179\n",
      "['i', 'me', 'my', 'myself', 'we', 'our', 'ours', 'ourselves', 'you', \"you're\", \"you've\", \"you'll\", \"you'd\", 'your', 'yours', 'yourself', 'yourselves', 'he', 'him', 'his', 'himself', 'she', \"she's\", 'her', 'hers', 'herself', 'it', \"it's\", 'its', 'itself', 'they', 'them', 'their', 'theirs', 'themselves', 'what', 'which', 'who', 'whom', 'this', 'that', \"that'll\", 'these', 'those', 'am', 'is', 'are', 'was', 'were', 'be', 'been', 'being', 'have', 'has', 'had', 'having', 'do', 'does', 'did', 'doing', 'a', 'an', 'the', 'and', 'but', 'if', 'or', 'because', 'as', 'until', 'while', 'of', 'at', 'by', 'for', 'with', 'about', 'against', 'between', 'into', 'through', 'during', 'before', 'after', 'above', 'below', 'to', 'from', 'up', 'down', 'in', 'out', 'on', 'off', 'over', 'under', 'again', 'further', 'then', 'once', 'here', 'there', 'when', 'where', 'why', 'how', 'all', 'any', 'both', 'each', 'few', 'more', 'most', 'other', 'some', 'such', 'no', 'nor', 'not', 'only', 'own', 'same', 'so', 'than', 'too', 'very', 's', 't', 'can', 'will', 'just', 'don', \"don't\", 'should', \"should've\", 'now', 'd', 'll', 'm', 'o', 're', 've', 'y', 'ain', 'aren', \"aren't\", 'couldn', \"couldn't\", 'didn', \"didn't\", 'doesn', \"doesn't\", 'hadn', \"hadn't\", 'hasn', \"hasn't\", 'haven', \"haven't\", 'isn', \"isn't\", 'ma', 'mightn', \"mightn't\", 'mustn', \"mustn't\", 'needn', \"needn't\", 'shan', \"shan't\", 'shouldn', \"shouldn't\", 'wasn', \"wasn't\", 'weren', \"weren't\", 'won', \"won't\", 'wouldn', \"wouldn't\"]\n"
     ]
    }
   ],
   "source": [
    "print('불용어 개수 :', len(stopwords.words('english') ))\n",
    "print(stopwords.words('english'))"
   ]
  },
  {
   "cell_type": "code",
   "execution_count": 9,
   "metadata": {},
   "outputs": [],
   "source": [
    "#데이터 전처리 함수\n",
    "def preprocess_sentence(sentence, remove_stopwords=True):\n",
    "    sentence = sentence.lower() # 텍스트 소문자화\n",
    "    sentence = BeautifulSoup(sentence, \"lxml\").text # <br />, <a href = ...> 등의 html 태그 제거\n",
    "    sentence = re.sub(r'\\([^)]*\\)', '', sentence) # 괄호로 닫힌 문자열 (...) 제거 Ex) my husband (and myself!) for => my husband for\n",
    "    sentence = re.sub('\"','', sentence) # 쌍따옴표 \" 제거\n",
    "    sentence = ' '.join([contractions[t] if t in contractions else t for t in sentence.split(\" \")]) # 약어 정규화\n",
    "    sentence = re.sub(r\"'s\\b\",\"\",sentence) # 소유격 제거. Ex) roland's -> roland\n",
    "    sentence = re.sub(\"[^a-zA-Z]\", \" \", sentence) # 영어 외 문자(숫자, 특수문자 등) 공백으로 변환\n",
    "    sentence = re.sub('[m]{2,}', 'mm', sentence) # m이 3개 이상이면 2개로 변경. Ex) ummmmmmm yeah -> umm yeah\n",
    "    \n",
    "    # 불용어 제거 (Text)\n",
    "    if remove_stopwords:\n",
    "        tokens = ' '.join(word for word in sentence.split() if not word in stopwords.words('english') if len(word) > 1)\n",
    "    # 불용어 미제거 (Summary)\n",
    "    else:\n",
    "        tokens = ' '.join(word for word in sentence.split() if len(word) > 1)\n",
    "    return tokens"
   ]
  },
  {
   "cell_type": "code",
   "execution_count": 10,
   "metadata": {},
   "outputs": [
    {
     "data": {
      "text/plain": [
       "['saurav kant alumnus upgrad iiit pg program machine learning artificial intelligence sr systems engineer infosys almost years work experience program upgrad degree career support helped transition data scientist tech mahindra salary hike upgrad online power learning powered lakh careers',\n",
       " 'kunal shah credit card bill payment platform cred gave users chance win free food swiggy one year pranav kaushik delhi techie bagged reward spending cred coins users get one cred coin per rupee bill paid used avail rewards brands like ixigo bookmyshow ubereats cult fit',\n",
       " 'new zealand defeated india wickets fourth odi hamilton thursday win first match five match odi series india lost international match rohit sharma captaincy consecutive victories dating back march match witnessed india getting seventh lowest total odi cricket history',\n",
       " 'aegon life iterm insurance plan customers enjoy tax benefits premiums paid save taxes plan provides life cover age years also customers options insure critical illnesses disability accidental death benefit rider life cover age years',\n",
       " 'speaking sexual harassment allegations rajkumar hirani sonam kapoor said known hirani many years true metoo movement get derailed metoo movement always believe woman case need reserve judgment added hirani accused assistant worked sanju']"
      ]
     },
     "execution_count": 10,
     "metadata": {},
     "output_type": "execute_result"
    }
   ],
   "source": [
    "from bs4 import BeautifulSoup\n",
    "import re\n",
    "\n",
    "clean_text = []\n",
    "\n",
    "# 전체 Text 데이터에 대한 전처리 : 10분 이상 시간이 걸릴 수 있습니다. \n",
    "for s in data['text']:\n",
    "    clean_text.append(preprocess_sentence(s))\n",
    "\n",
    "# 전처리 후 출력\n",
    "clean_text[:5]"
   ]
  },
  {
   "cell_type": "code",
   "execution_count": 11,
   "metadata": {},
   "outputs": [
    {
     "data": {
      "text/plain": [
       "['upgrad learner switches to career in ml al with salary hike',\n",
       " 'delhi techie wins free food from swiggy for one year on cred',\n",
       " 'new zealand end rohit sharma led india match winning streak',\n",
       " 'aegon life iterm insurance plan helps customers save tax',\n",
       " 'have known hirani for yrs what if metoo claims are not true sonam']"
      ]
     },
     "execution_count": 11,
     "metadata": {},
     "output_type": "execute_result"
    }
   ],
   "source": [
    "clean_headlines = []\n",
    "\n",
    "# 전체 Summary 데이터에 대한 전처리 : 5분 이상 시간이 걸릴 수 있습니다. \n",
    "for s in data['headlines']:\n",
    "    clean_headlines.append(preprocess_sentence(s, False))\n",
    "\n",
    "clean_headlines[:5]"
   ]
  },
  {
   "cell_type": "code",
   "execution_count": 13,
   "metadata": {},
   "outputs": [],
   "source": [
    "import numpy as np\n",
    "data['text'] = clean_text\n",
    "data['headlines'] = clean_headlines\n",
    "\n",
    "# 빈 값을 Null 값으로 변환\n",
    "data.replace('', np.nan, inplace=True)"
   ]
  },
  {
   "cell_type": "code",
   "execution_count": 14,
   "metadata": {},
   "outputs": [
    {
     "data": {
      "text/plain": [
       "headlines    0\n",
       "text         0\n",
       "dtype: int64"
      ]
     },
     "execution_count": 14,
     "metadata": {},
     "output_type": "execute_result"
    }
   ],
   "source": [
    "data.isnull().sum()"
   ]
  },
  {
   "cell_type": "markdown",
   "metadata": {},
   "source": [
    "### 훈련 데이터와 테스트 데이터 나누기"
   ]
  },
  {
   "cell_type": "code",
   "execution_count": 15,
   "metadata": {},
   "outputs": [
    {
     "name": "stdout",
     "output_type": "stream",
     "text": [
      "텍스트의 최소 길이 : 1\n",
      "텍스트의 최대 길이 : 60\n",
      "텍스트의 평균 길이 : 35.09968483123221\n",
      "헤드라인의 최소 길이 : 1\n",
      "헤드라인의 최대 길이 : 16\n",
      "헤드라인의 평균 길이 : 9.299532330215534\n"
     ]
    },
    {
     "data": {
      "image/png": "[encoded data removed]",
      "text/plain": [
       "<Figure size 432x288 with 2 Axes>"
      ]
     },
     "metadata": {
      "needs_background": "light"
     },
     "output_type": "display_data"
    },
    {
     "data": {
      "image/png": "[encoded data removed]",
      "text/plain": [
       "<Figure size 432x288 with 1 Axes>"
      ]
     },
     "metadata": {
      "needs_background": "light"
     },
     "output_type": "display_data"
    },
    {
     "data": {
      "image/png": "[encoded data removed]",
      "text/plain": [
       "<Figure size 432x288 with 1 Axes>"
      ]
     },
     "metadata": {
      "needs_background": "light"
     },
     "output_type": "display_data"
    }
   ],
   "source": [
    "# 샘플의 최대 길이 정하기\n",
    "# 길이 분포 출력\n",
    "import matplotlib.pyplot as plt\n",
    "\n",
    "text_len = [len(s.split()) for s in data['text']]\n",
    "headlines_len = [len(s.split()) for s in data['headlines']]\n",
    "\n",
    "print('텍스트의 최소 길이 : {}'.format(np.min(text_len)))\n",
    "print('텍스트의 최대 길이 : {}'.format(np.max(text_len)))\n",
    "print('텍스트의 평균 길이 : {}'.format(np.mean(text_len)))\n",
    "print('헤드라인의 최소 길이 : {}'.format(np.min(headlines_len)))\n",
    "print('헤드라인의 최대 길이 : {}'.format(np.max(headlines_len)))\n",
    "print('헤드라인의 평균 길이 : {}'.format(np.mean(headlines_len)))\n",
    "\n",
    "plt.subplot(1,2,1)\n",
    "plt.boxplot(headlines_len)\n",
    "plt.title('Headlines')\n",
    "plt.subplot(1,2,2)\n",
    "plt.boxplot(text_len)\n",
    "plt.title('Text')\n",
    "plt.tight_layout()\n",
    "plt.show()\n",
    "\n",
    "plt.title('Headlines')\n",
    "plt.hist(headlines_len, bins = 40)\n",
    "plt.xlabel('length of samples')\n",
    "plt.ylabel('number of samples')\n",
    "plt.show()\n",
    "\n",
    "plt.title('Text')\n",
    "plt.hist(text_len, bins = 40)\n",
    "plt.xlabel('length of samples')\n",
    "plt.ylabel('number of samples')\n",
    "plt.show()\n",
    "# text 1~60\n",
    "# headline 1~16"
   ]
  },
  {
   "cell_type": "code",
   "execution_count": 16,
   "metadata": {},
   "outputs": [],
   "source": [
    "text_max_len = 40\n",
    "headlines_max_len = 11"
   ]
  },
  {
   "cell_type": "code",
   "execution_count": 17,
   "metadata": {},
   "outputs": [],
   "source": [
    "def below_threshold_len(max_len, nested_list):\n",
    "    cnt = 0\n",
    "    for s in nested_list:\n",
    "        if(len(s.split()) <= max_len):\n",
    "            cnt = cnt + 1\n",
    "    print('전체 샘플 중 길이가 %s 이하인 샘플의 비율: %s'%(max_len, (cnt / len(nested_list))))"
   ]
  },
  {
   "cell_type": "code",
   "execution_count": 18,
   "metadata": {},
   "outputs": [
    {
     "name": "stdout",
     "output_type": "stream",
     "text": [
      "전체 샘플 중 길이가 40 이하인 샘플의 비율: 0.9238714924766165\n",
      "전체 샘플 중 길이가 11 이하인 샘플의 비율: 0.9449877999186661\n"
     ]
    }
   ],
   "source": [
    "below_threshold_len(text_max_len, data['text'])\n",
    "below_threshold_len(headlines_max_len,  data['headlines'])"
   ]
  },
  {
   "cell_type": "code",
   "execution_count": 19,
   "metadata": {},
   "outputs": [
    {
     "name": "stdout",
     "output_type": "stream",
     "text": [
      "전체 샘플수 : 85843\n"
     ]
    }
   ],
   "source": [
    "data = data[data['text'].apply(lambda x: len(x.split()) <= text_max_len)]\n",
    "data = data[data['headlines'].apply(lambda x: len(x.split()) <= headlines_max_len)]\n",
    "print('전체 샘플수 :',(len(data)))"
   ]
  },
  {
   "cell_type": "code",
   "execution_count": 20,
   "metadata": {},
   "outputs": [
    {
     "data": {
      "text/html": [
       "<div>\n",
       "<style scoped>\n",
       "    .dataframe tbody tr th:only-of-type {\n",
       "        vertical-align: middle;\n",
       "    }\n",
       "\n",
       "    .dataframe tbody tr th {\n",
       "        vertical-align: top;\n",
       "    }\n",
       "\n",
       "    .dataframe thead th {\n",
       "        text-align: right;\n",
       "    }\n",
       "</style>\n",
       "<table border=\"1\" class=\"dataframe\">\n",
       "  <thead>\n",
       "    <tr style=\"text-align: right;\">\n",
       "      <th></th>\n",
       "      <th>headlines</th>\n",
       "      <th>text</th>\n",
       "      <th>decoder_input</th>\n",
       "      <th>decoder_target</th>\n",
       "    </tr>\n",
       "  </thead>\n",
       "  <tbody>\n",
       "    <tr>\n",
       "      <th>0</th>\n",
       "      <td>upgrad learner switches to career in ml al wit...</td>\n",
       "      <td>saurav kant alumnus upgrad iiit pg program mac...</td>\n",
       "      <td>sostoken upgrad learner switches to career in ...</td>\n",
       "      <td>upgrad learner switches to career in ml al wit...</td>\n",
       "    </tr>\n",
       "    <tr>\n",
       "      <th>2</th>\n",
       "      <td>new zealand end rohit sharma led india match w...</td>\n",
       "      <td>new zealand defeated india wickets fourth odi ...</td>\n",
       "      <td>sostoken new zealand end rohit sharma led indi...</td>\n",
       "      <td>new zealand end rohit sharma led india match w...</td>\n",
       "    </tr>\n",
       "    <tr>\n",
       "      <th>3</th>\n",
       "      <td>aegon life iterm insurance plan helps customer...</td>\n",
       "      <td>aegon life iterm insurance plan customers enjo...</td>\n",
       "      <td>sostoken aegon life iterm insurance plan helps...</td>\n",
       "      <td>aegon life iterm insurance plan helps customer...</td>\n",
       "    </tr>\n",
       "    <tr>\n",
       "      <th>5</th>\n",
       "      <td>rahat fateh ali khan denies getting notice for...</td>\n",
       "      <td>pakistani singer rahat fateh ali khan denied r...</td>\n",
       "      <td>sostoken rahat fateh ali khan denies getting n...</td>\n",
       "      <td>rahat fateh ali khan denies getting notice for...</td>\n",
       "    </tr>\n",
       "    <tr>\n",
       "      <th>7</th>\n",
       "      <td>govt directs alok verma to join work day befor...</td>\n",
       "      <td>weeks ex cbi director alok verma told departme...</td>\n",
       "      <td>sostoken govt directs alok verma to join work ...</td>\n",
       "      <td>govt directs alok verma to join work day befor...</td>\n",
       "    </tr>\n",
       "  </tbody>\n",
       "</table>\n",
       "</div>"
      ],
      "text/plain": [
       "                                           headlines  \\\n",
       "0  upgrad learner switches to career in ml al wit...   \n",
       "2  new zealand end rohit sharma led india match w...   \n",
       "3  aegon life iterm insurance plan helps customer...   \n",
       "5  rahat fateh ali khan denies getting notice for...   \n",
       "7  govt directs alok verma to join work day befor...   \n",
       "\n",
       "                                                text  \\\n",
       "0  saurav kant alumnus upgrad iiit pg program mac...   \n",
       "2  new zealand defeated india wickets fourth odi ...   \n",
       "3  aegon life iterm insurance plan customers enjo...   \n",
       "5  pakistani singer rahat fateh ali khan denied r...   \n",
       "7  weeks ex cbi director alok verma told departme...   \n",
       "\n",
       "                                       decoder_input  \\\n",
       "0  sostoken upgrad learner switches to career in ...   \n",
       "2  sostoken new zealand end rohit sharma led indi...   \n",
       "3  sostoken aegon life iterm insurance plan helps...   \n",
       "5  sostoken rahat fateh ali khan denies getting n...   \n",
       "7  sostoken govt directs alok verma to join work ...   \n",
       "\n",
       "                                      decoder_target  \n",
       "0  upgrad learner switches to career in ml al wit...  \n",
       "2  new zealand end rohit sharma led india match w...  \n",
       "3  aegon life iterm insurance plan helps customer...  \n",
       "5  rahat fateh ali khan denies getting notice for...  \n",
       "7  govt directs alok verma to join work day befor...  "
      ]
     },
     "execution_count": 20,
     "metadata": {},
     "output_type": "execute_result"
    }
   ],
   "source": [
    "# 시작 토큰과 종료 토큰 추가하기\n",
    "#요약 데이터에는 시작 토큰과 종료 토큰을 추가한다.\n",
    "data['decoder_input'] = data['headlines'].apply(lambda x : 'sostoken '+ x)\n",
    "data['decoder_target'] = data['headlines'].apply(lambda x : x + ' eostoken')\n",
    "data.head()"
   ]
  },
  {
   "cell_type": "code",
   "execution_count": 21,
   "metadata": {},
   "outputs": [],
   "source": [
    "encoder_input = np.array(data['text']) # 인코더의 입력\n",
    "decoder_input = np.array(data['decoder_input']) # 디코더의 입력\n",
    "decoder_target = np.array(data['decoder_target']) # 디코더의 레이블"
   ]
  },
  {
   "cell_type": "code",
   "execution_count": 22,
   "metadata": {},
   "outputs": [
    {
     "name": "stdout",
     "output_type": "stream",
     "text": [
      "[69468 16575 54043 ... 36719  2423 21001]\n"
     ]
    }
   ],
   "source": [
    "indices = np.arange(encoder_input.shape[0])\n",
    "np.random.shuffle(indices)\n",
    "print(indices)"
   ]
  },
  {
   "cell_type": "code",
   "execution_count": 23,
   "metadata": {},
   "outputs": [],
   "source": [
    "encoder_input = encoder_input[indices]\n",
    "decoder_input = decoder_input[indices]\n",
    "decoder_target = decoder_target[indices]"
   ]
  },
  {
   "cell_type": "code",
   "execution_count": 24,
   "metadata": {},
   "outputs": [
    {
     "name": "stdout",
     "output_type": "stream",
     "text": [
      "테스트 데이터의 수 : 17168\n"
     ]
    }
   ],
   "source": [
    "n_of_val = int(len(encoder_input)*0.2)\n",
    "print('테스트 데이터의 수 :',n_of_val)"
   ]
  },
  {
   "cell_type": "code",
   "execution_count": 25,
   "metadata": {},
   "outputs": [
    {
     "name": "stdout",
     "output_type": "stream",
     "text": [
      "훈련 데이터의 개수 : 68675\n",
      "훈련 레이블의 개수 : 68675\n",
      "테스트 데이터의 개수 : 17168\n",
      "테스트 레이블의 개수 : 17168\n"
     ]
    }
   ],
   "source": [
    "encoder_input_train = encoder_input[:-n_of_val]\n",
    "decoder_input_train = decoder_input[:-n_of_val]\n",
    "decoder_target_train = decoder_target[:-n_of_val]\n",
    "\n",
    "encoder_input_test = encoder_input[-n_of_val:]\n",
    "decoder_input_test = decoder_input[-n_of_val:]\n",
    "decoder_target_test = decoder_target[-n_of_val:]\n",
    "\n",
    "print('훈련 데이터의 개수 :', len(encoder_input_train))\n",
    "print('훈련 레이블의 개수 :',len(decoder_input_train))\n",
    "print('테스트 데이터의 개수 :',len(encoder_input_test))\n",
    "print('테스트 레이블의 개수 :',len(decoder_input_test))"
   ]
  },
  {
   "cell_type": "markdown",
   "metadata": {},
   "source": [
    "### 정수 인코딩"
   ]
  },
  {
   "cell_type": "code",
   "execution_count": 26,
   "metadata": {},
   "outputs": [],
   "source": [
    "from tensorflow.keras.preprocessing.text import Tokenizer \n",
    "src_tokenizer = Tokenizer() # 토크나이저 정의\n",
    "src_tokenizer.fit_on_texts(encoder_input_train) # 입력된 데이터로부터 단어 집합 생성"
   ]
  },
  {
   "cell_type": "code",
   "execution_count": 27,
   "metadata": {},
   "outputs": [
    {
     "name": "stdout",
     "output_type": "stream",
     "text": [
      "단어 집합(vocabulary)의 크기 : 64941\n",
      "등장 빈도가 6번 이하인 희귀 단어의 수: 44387\n",
      "단어 집합에서 희귀 단어를 제외시킬 경우의 단어 집합의 크기 20554\n",
      "단어 집합에서 희귀 단어의 비율: 68.34973283441893\n",
      "전체 등장 빈도에서 희귀 단어 등장 빈도 비율: 3.8028408317175475\n"
     ]
    }
   ],
   "source": [
    "threshold = 7\n",
    "total_cnt = len(src_tokenizer.word_index) # 단어의 수\n",
    "rare_cnt = 0 # 등장 빈도수가 threshold보다 작은 단어의 개수를 카운트\n",
    "total_freq = 0 # 훈련 데이터의 전체 단어 빈도수 총 합\n",
    "rare_freq = 0 # 등장 빈도수가 threshold보다 작은 단어의 등장 빈도수의 총 합\n",
    "\n",
    "# 단어와 빈도수의 쌍(pair)을 key와 value로 받는다.\n",
    "for key, value in src_tokenizer.word_counts.items():\n",
    "    total_freq = total_freq + value\n",
    "\n",
    "    # 단어의 등장 빈도수가 threshold보다 작으면\n",
    "    if(value < threshold):\n",
    "        rare_cnt = rare_cnt + 1\n",
    "        rare_freq = rare_freq + value\n",
    "\n",
    "print('단어 집합(vocabulary)의 크기 :',total_cnt)\n",
    "print('등장 빈도가 %s번 이하인 희귀 단어의 수: %s'%(threshold - 1, rare_cnt))\n",
    "print('단어 집합에서 희귀 단어를 제외시킬 경우의 단어 집합의 크기 %s'%(total_cnt - rare_cnt))\n",
    "print(\"단어 집합에서 희귀 단어의 비율:\", (rare_cnt / total_cnt)*100)\n",
    "print(\"전체 등장 빈도에서 희귀 단어 등장 빈도 비율:\", (rare_freq / total_freq)*100)"
   ]
  },
  {
   "cell_type": "code",
   "execution_count": 28,
   "metadata": {},
   "outputs": [],
   "source": [
    "src_vocab = 20501\n",
    "src_tokenizer = Tokenizer(num_words = src_vocab) # 단어 집합의 크기를 8,000으로 제한\n",
    "src_tokenizer.fit_on_texts(encoder_input_train) # 단어 집합 재생성."
   ]
  },
  {
   "cell_type": "code",
   "execution_count": 29,
   "metadata": {},
   "outputs": [
    {
     "name": "stdout",
     "output_type": "stream",
     "text": [
      "[[5354, 51, 4433, 4300, 381, 7168, 1141, 19192, 1258, 85, 3741, 917, 187, 14178, 14179, 3332, 24, 1698, 3429, 2978, 543, 1141, 2490, 4, 4300, 1, 496, 2490, 282, 16167, 1080, 698, 6070], [120, 78, 57, 545, 285, 10583, 140, 6940, 10, 285, 545, 32, 1222, 2526, 4252, 893, 335, 510, 317, 2649, 3742, 5296, 140, 52, 107, 2071, 5, 168, 3797, 13630, 208, 140, 3404, 16168], [134, 3475, 110, 7044, 4840, 209, 2418, 53, 3, 1208, 2577, 20, 2418, 49, 394, 3126, 134, 10584, 7169, 2476, 4208, 5077, 17999, 4276, 4208, 1970, 203, 98, 79, 517, 687, 12, 49, 1035, 394]]\n"
     ]
    }
   ],
   "source": [
    "# 텍스트 시퀀스를 정수 시퀀스로 변환\n",
    "encoder_input_train = src_tokenizer.texts_to_sequences(encoder_input_train) \n",
    "encoder_input_test = src_tokenizer.texts_to_sequences(encoder_input_test)\n",
    "\n",
    "#잘 진행되었는지 샘플 출력\n",
    "print(encoder_input_train[:3])"
   ]
  },
  {
   "cell_type": "code",
   "execution_count": 30,
   "metadata": {},
   "outputs": [],
   "source": [
    "tar_tokenizer = Tokenizer()\n",
    "tar_tokenizer.fit_on_texts(decoder_input_train)"
   ]
  },
  {
   "cell_type": "code",
   "execution_count": 31,
   "metadata": {},
   "outputs": [
    {
     "name": "stdout",
     "output_type": "stream",
     "text": [
      "단어 집합(vocabulary)의 크기 : 28542\n",
      "등장 빈도가 5번 이하인 희귀 단어의 수: 18802\n",
      "단어 집합에서 희귀 단어를 제외시킬 경우의 단어 집합의 크기 9740\n",
      "단어 집합에서 희귀 단어의 비율: 65.87485109662953\n",
      "전체 등장 빈도에서 희귀 단어 등장 빈도 비율: 5.164602187408306\n"
     ]
    }
   ],
   "source": [
    "threshold = 6\n",
    "total_cnt = len(tar_tokenizer.word_index) # 단어의 수\n",
    "rare_cnt = 0 # 등장 빈도수가 threshold보다 작은 단어의 개수를 카운트\n",
    "total_freq = 0 # 훈련 데이터의 전체 단어 빈도수 총 합\n",
    "rare_freq = 0 # 등장 빈도수가 threshold보다 작은 단어의 등장 빈도수의 총 합\n",
    "\n",
    "# 단어와 빈도수의 쌍(pair)을 key와 value로 받는다.\n",
    "for key, value in tar_tokenizer.word_counts.items():\n",
    "    total_freq = total_freq + value\n",
    "\n",
    "    # 단어의 등장 빈도수가 threshold보다 작으면\n",
    "    if(value < threshold):\n",
    "        rare_cnt = rare_cnt + 1\n",
    "        rare_freq = rare_freq + value\n",
    "\n",
    "print('단어 집합(vocabulary)의 크기 :',total_cnt)\n",
    "print('등장 빈도가 %s번 이하인 희귀 단어의 수: %s'%(threshold - 1, rare_cnt))\n",
    "print('단어 집합에서 희귀 단어를 제외시킬 경우의 단어 집합의 크기 %s'%(total_cnt - rare_cnt))\n",
    "print(\"단어 집합에서 희귀 단어의 비율:\", (rare_cnt / total_cnt)*100)\n",
    "print(\"전체 등장 빈도에서 희귀 단어 등장 빈도 비율:\", (rare_freq / total_freq)*100)"
   ]
  },
  {
   "cell_type": "code",
   "execution_count": 32,
   "metadata": {},
   "outputs": [
    {
     "name": "stdout",
     "output_type": "stream",
     "text": [
      "input\n",
      "input  [[1, 1636, 269, 2786, 195, 3604, 5, 12, 610, 408], [1, 142, 348, 42, 281, 319, 3968, 4954, 190, 1230], [1, 4434, 3605, 272, 114, 2447, 35, 4, 9, 16, 2497], [1, 9, 71, 2347, 1876, 4, 18, 30, 11], [1, 156, 5973, 1494, 2498, 5, 2086, 5974, 11, 139]]\n",
      "target\n",
      "decoder  [[1636, 269, 2786, 195, 3604, 5, 12, 610, 408, 2], [142, 348, 42, 281, 319, 3968, 4954, 190, 1230, 2], [4434, 3605, 272, 114, 2447, 35, 4, 9, 16, 2497, 2], [9, 71, 2347, 1876, 4, 18, 30, 11, 2], [156, 5973, 1494, 2498, 5, 2086, 5974, 11, 139, 2]]\n"
     ]
    }
   ],
   "source": [
    "tar_vocab = 9744\n",
    "tar_tokenizer = Tokenizer(num_words = tar_vocab) \n",
    "tar_tokenizer.fit_on_texts(decoder_input_train)\n",
    "tar_tokenizer.fit_on_texts(decoder_target_train)\n",
    "\n",
    "# 텍스트 시퀀스를 정수 시퀀스로 변환\n",
    "decoder_input_train = tar_tokenizer.texts_to_sequences(decoder_input_train) \n",
    "decoder_target_train = tar_tokenizer.texts_to_sequences(decoder_target_train)\n",
    "decoder_input_test = tar_tokenizer.texts_to_sequences(decoder_input_test)\n",
    "decoder_target_test = tar_tokenizer.texts_to_sequences(decoder_target_test)\n",
    "\n",
    "#잘 변환되었는지 확인\n",
    "print('input')\n",
    "print('input ',decoder_input_train[:5])\n",
    "print('target')\n",
    "print('decoder ',decoder_target_train[:5])"
   ]
  },
  {
   "cell_type": "code",
   "execution_count": 33,
   "metadata": {},
   "outputs": [
    {
     "name": "stdout",
     "output_type": "stream",
     "text": [
      "삭제할 훈련 데이터의 개수 : 0\n",
      "삭제할 테스트 데이터의 개수 : 0\n",
      "훈련 데이터의 개수 : 68675\n",
      "훈련 레이블의 개수 : 68675\n",
      "테스트 데이터의 개수 : 17168\n",
      "테스트 레이블의 개수 : 17168\n"
     ]
    }
   ],
   "source": [
    "drop_train = [index for index, sentence in enumerate(decoder_input_train) if len(sentence) == 1]\n",
    "drop_test = [index for index, sentence in enumerate(decoder_input_test) if len(sentence) == 1]\n",
    "\n",
    "print('삭제할 훈련 데이터의 개수 :',len(drop_train))\n",
    "print('삭제할 테스트 데이터의 개수 :',len(drop_test))\n",
    "\n",
    "encoder_input_train = np.delete(encoder_input_train, drop_train, axis=0)\n",
    "decoder_input_train = np.delete(decoder_input_train, drop_train, axis=0)\n",
    "decoder_target_train = np.delete(decoder_target_train, drop_train, axis=0)\n",
    "\n",
    "encoder_input_test = np.delete(encoder_input_test, drop_test, axis=0)\n",
    "decoder_input_test = np.delete(decoder_input_test, drop_test, axis=0)\n",
    "decoder_target_test = np.delete(decoder_target_test, drop_test, axis=0)\n",
    "\n",
    "print('훈련 데이터의 개수 :', len(encoder_input_train))\n",
    "print('훈련 레이블의 개수 :',len(decoder_input_train))\n",
    "print('테스트 데이터의 개수 :',len(encoder_input_test))\n",
    "print('테스트 레이블의 개수 :',len(decoder_input_test))"
   ]
  },
  {
   "cell_type": "code",
   "execution_count": 35,
   "metadata": {},
   "outputs": [],
   "source": [
    "from tensorflow.keras.preprocessing.sequence import pad_sequences\n",
    "\n",
    "encoder_input_train = pad_sequences(encoder_input_train, maxlen = text_max_len, padding='post')\n",
    "encoder_input_test = pad_sequences(encoder_input_test, maxlen = text_max_len, padding='post')\n",
    "decoder_input_train = pad_sequences(decoder_input_train, maxlen = headlines_max_len, padding='post')\n",
    "decoder_target_train = pad_sequences(decoder_target_train, maxlen = headlines_max_len, padding='post')\n",
    "decoder_input_test = pad_sequences(decoder_input_test, maxlen = headlines_max_len, padding='post')\n",
    "decoder_target_test = pad_sequences(decoder_target_test, maxlen = headlines_max_len, padding='post')"
   ]
  },
  {
   "cell_type": "markdown",
   "metadata": {},
   "source": [
    "## 모델 설계하기"
   ]
  },
  {
   "cell_type": "code",
   "execution_count": 36,
   "metadata": {},
   "outputs": [
    {
     "name": "stdout",
     "output_type": "stream",
     "text": [
      "WARNING:tensorflow:Layer lstm will not use cuDNN kernel since it doesn't meet the cuDNN kernel criteria. It will use generic GPU kernel as fallback when running on GPU\n",
      "WARNING:tensorflow:Layer lstm_1 will not use cuDNN kernel since it doesn't meet the cuDNN kernel criteria. It will use generic GPU kernel as fallback when running on GPU\n",
      "WARNING:tensorflow:Layer lstm_2 will not use cuDNN kernel since it doesn't meet the cuDNN kernel criteria. It will use generic GPU kernel as fallback when running on GPU\n"
     ]
    }
   ],
   "source": [
    "from tensorflow.keras.layers import Input, LSTM, Embedding, Dense, Concatenate\n",
    "from tensorflow.keras.models import Model\n",
    "from tensorflow.keras.callbacks import EarlyStopping, ModelCheckpoint\n",
    "\n",
    "\n",
    "# 인코더 설계 시작\n",
    "embedding_dim = 128\n",
    "hidden_size = 256\n",
    "\n",
    "# 인코더\n",
    "encoder_inputs = Input(shape=(text_max_len,))\n",
    "\n",
    "# 인코더의 임베딩 층\n",
    "enc_emb = Embedding(src_vocab, embedding_dim)(encoder_inputs)\n",
    "\n",
    "# 인코더의 LSTM 1\n",
    "encoder_lstm1 = LSTM(hidden_size, return_sequences=True, return_state=True ,dropout = 0.4, recurrent_dropout = 0.4)\n",
    "encoder_output1, state_h1, state_c1 = encoder_lstm1(enc_emb)\n",
    "\n",
    "# 인코더의 LSTM 2\n",
    "encoder_lstm2 = LSTM(hidden_size, return_sequences=True, return_state=True, dropout=0.4, recurrent_dropout=0.4)\n",
    "encoder_output2, state_h2, state_c2 = encoder_lstm2(encoder_output1)\n",
    "\n",
    "# 인코더의 LSTM 3\n",
    "encoder_lstm3 = LSTM(hidden_size, return_state=True, return_sequences=True, dropout=0.4, recurrent_dropout=0.4)\n",
    "encoder_outputs, state_h, state_c= encoder_lstm3(encoder_output2)"
   ]
  },
  {
   "cell_type": "code",
   "execution_count": 37,
   "metadata": {},
   "outputs": [
    {
     "name": "stdout",
     "output_type": "stream",
     "text": [
      "WARNING:tensorflow:Layer lstm_3 will not use cuDNN kernel since it doesn't meet the cuDNN kernel criteria. It will use generic GPU kernel as fallback when running on GPU\n"
     ]
    }
   ],
   "source": [
    "# 디코더 설계\n",
    "\n",
    "decoder_inputs = Input(shape=(None,))\n",
    "\n",
    "# 디코더의 임베딩 층\n",
    "dec_emb_layer = Embedding(tar_vocab, embedding_dim)\n",
    "dec_emb = dec_emb_layer(decoder_inputs)\n",
    "\n",
    "# 디코더의 LSTM\n",
    "decoder_lstm = LSTM(hidden_size, return_sequences = True, return_state = True, dropout = 0.4, recurrent_dropout=0.2)\n",
    "decoder_outputs, _, _ = decoder_lstm(dec_emb, initial_state = [state_h, state_c])"
   ]
  },
  {
   "cell_type": "code",
   "execution_count": 38,
   "metadata": {},
   "outputs": [
    {
     "name": "stdout",
     "output_type": "stream",
     "text": [
      "Model: \"functional_1\"\n",
      "__________________________________________________________________________________________________\n",
      "Layer (type)                    Output Shape         Param #     Connected to                     \n",
      "==================================================================================================\n",
      "input_1 (InputLayer)            [(None, 40)]         0                                            \n",
      "__________________________________________________________________________________________________\n",
      "embedding (Embedding)           (None, 40, 128)      2624128     input_1[0][0]                    \n",
      "__________________________________________________________________________________________________\n",
      "lstm (LSTM)                     [(None, 40, 256), (N 394240      embedding[0][0]                  \n",
      "__________________________________________________________________________________________________\n",
      "input_2 (InputLayer)            [(None, None)]       0                                            \n",
      "__________________________________________________________________________________________________\n",
      "lstm_1 (LSTM)                   [(None, 40, 256), (N 525312      lstm[0][0]                       \n",
      "__________________________________________________________________________________________________\n",
      "embedding_1 (Embedding)         (None, None, 128)    1247232     input_2[0][0]                    \n",
      "__________________________________________________________________________________________________\n",
      "lstm_2 (LSTM)                   [(None, 40, 256), (N 525312      lstm_1[0][0]                     \n",
      "__________________________________________________________________________________________________\n",
      "lstm_3 (LSTM)                   [(None, None, 256),  394240      embedding_1[0][0]                \n",
      "                                                                 lstm_2[0][1]                     \n",
      "                                                                 lstm_2[0][2]                     \n",
      "__________________________________________________________________________________________________\n",
      "dense (Dense)                   (None, None, 9744)   2504208     lstm_3[0][0]                     \n",
      "==================================================================================================\n",
      "Total params: 8,214,672\n",
      "Trainable params: 8,214,672\n",
      "Non-trainable params: 0\n",
      "__________________________________________________________________________________________________\n"
     ]
    }
   ],
   "source": [
    "# 디코더의 출력층\n",
    "decoder_softmax_layer = Dense(tar_vocab, activation = 'softmax')\n",
    "decoder_softmax_outputs = decoder_softmax_layer(decoder_outputs) \n",
    "\n",
    "# 모델 정의\n",
    "model = Model([encoder_inputs, decoder_inputs], decoder_softmax_outputs)\n",
    "model.summary()"
   ]
  },
  {
   "cell_type": "markdown",
   "metadata": {},
   "source": [
    "### 어텐션 메커니즘 사용하기 (추상적 요약)"
   ]
  },
  {
   "cell_type": "code",
   "execution_count": 39,
   "metadata": {},
   "outputs": [],
   "source": [
    "import urllib.request\n",
    "\n",
    "urllib.request.urlretrieve(\"https://raw.githubusercontent.com/thushv89/attention_keras/master/src/layers/attention.py\", filename=\"attention.py\")\n",
    "from attention import AttentionLayer"
   ]
  },
  {
   "cell_type": "code",
   "execution_count": 40,
   "metadata": {},
   "outputs": [
    {
     "name": "stdout",
     "output_type": "stream",
     "text": [
      "Model: \"functional_3\"\n",
      "__________________________________________________________________________________________________\n",
      "Layer (type)                    Output Shape         Param #     Connected to                     \n",
      "==================================================================================================\n",
      "input_1 (InputLayer)            [(None, 40)]         0                                            \n",
      "__________________________________________________________________________________________________\n",
      "embedding (Embedding)           (None, 40, 128)      2624128     input_1[0][0]                    \n",
      "__________________________________________________________________________________________________\n",
      "lstm (LSTM)                     [(None, 40, 256), (N 394240      embedding[0][0]                  \n",
      "__________________________________________________________________________________________________\n",
      "input_2 (InputLayer)            [(None, None)]       0                                            \n",
      "__________________________________________________________________________________________________\n",
      "lstm_1 (LSTM)                   [(None, 40, 256), (N 525312      lstm[0][0]                       \n",
      "__________________________________________________________________________________________________\n",
      "embedding_1 (Embedding)         (None, None, 128)    1247232     input_2[0][0]                    \n",
      "__________________________________________________________________________________________________\n",
      "lstm_2 (LSTM)                   [(None, 40, 256), (N 525312      lstm_1[0][0]                     \n",
      "__________________________________________________________________________________________________\n",
      "lstm_3 (LSTM)                   [(None, None, 256),  394240      embedding_1[0][0]                \n",
      "                                                                 lstm_2[0][1]                     \n",
      "                                                                 lstm_2[0][2]                     \n",
      "__________________________________________________________________________________________________\n",
      "attention_layer (AttentionLayer ((None, None, 256),  131328      lstm_2[0][0]                     \n",
      "                                                                 lstm_3[0][0]                     \n",
      "__________________________________________________________________________________________________\n",
      "concat_layer (Concatenate)      (None, None, 512)    0           lstm_3[0][0]                     \n",
      "                                                                 attention_layer[0][0]            \n",
      "__________________________________________________________________________________________________\n",
      "dense_1 (Dense)                 (None, None, 9744)   4998672     concat_layer[0][0]               \n",
      "==================================================================================================\n",
      "Total params: 10,840,464\n",
      "Trainable params: 10,840,464\n",
      "Non-trainable params: 0\n",
      "__________________________________________________________________________________________________\n"
     ]
    }
   ],
   "source": [
    "# 어텐션 층(어텐션 함수)\n",
    "attn_layer = AttentionLayer(name='attention_layer')\n",
    "# 인코더와 디코더의 모든 time step의 hidden state를 어텐션 층에 전달하고 결과를 리턴\n",
    "attn_out, attn_states = attn_layer([encoder_outputs, decoder_outputs])\n",
    "\n",
    "# 어텐션의 결과와 디코더의 hidden state들을 연결\n",
    "decoder_concat_input = Concatenate(axis = -1, name='concat_layer')([decoder_outputs, attn_out])\n",
    "\n",
    "# 디코더의 출력층\n",
    "decoder_softmax_layer = Dense(tar_vocab, activation='softmax')\n",
    "decoder_softmax_outputs = decoder_softmax_layer(decoder_concat_input)\n",
    "\n",
    "# 모델 정의\n",
    "model = Model([encoder_inputs, decoder_inputs], decoder_softmax_outputs)\n",
    "model.summary()"
   ]
  },
  {
   "cell_type": "markdown",
   "metadata": {},
   "source": [
    "### 모델 훈련하기\n",
    "- batch_size=256 -> val_loss = 4.3, loss = 3.1\n",
    "- batch_size=128 -> val_loss = 3.8, loss = 2.9"
   ]
  },
  {
   "cell_type": "code",
   "execution_count": 41,
   "metadata": {},
   "outputs": [
    {
     "name": "stdout",
     "output_type": "stream",
     "text": [
      "Epoch 1/50\n",
      "537/537 [==============================] - 141s 263ms/step - loss: 5.8630 - val_loss: 5.4171\n",
      "Epoch 2/50\n",
      "537/537 [==============================] - 140s 261ms/step - loss: 5.2755 - val_loss: 5.0630\n",
      "Epoch 3/50\n",
      "537/537 [==============================] - 142s 265ms/step - loss: 4.9394 - val_loss: 4.7878\n",
      "Epoch 4/50\n",
      "537/537 [==============================] - 140s 261ms/step - loss: 4.6917 - val_loss: 4.5958\n",
      "Epoch 5/50\n",
      "537/537 [==============================] - 139s 258ms/step - loss: 4.4966 - val_loss: 4.4629\n",
      "Epoch 6/50\n",
      "537/537 [==============================] - 136s 253ms/step - loss: 4.3340 - val_loss: 4.3560\n",
      "Epoch 7/50\n",
      "537/537 [==============================] - 136s 254ms/step - loss: 4.2013 - val_loss: 4.2602\n",
      "Epoch 8/50\n",
      "537/537 [==============================] - 137s 255ms/step - loss: 4.0856 - val_loss: 4.1961\n",
      "Epoch 9/50\n",
      "537/537 [==============================] - 140s 261ms/step - loss: 3.9860 - val_loss: 4.1437\n",
      "Epoch 10/50\n",
      "537/537 [==============================] - 140s 261ms/step - loss: 3.8974 - val_loss: 4.0917\n",
      "Epoch 11/50\n",
      "537/537 [==============================] - 137s 255ms/step - loss: 3.8169 - val_loss: 4.0422\n",
      "Epoch 12/50\n",
      "537/537 [==============================] - 136s 254ms/step - loss: 3.7502 - val_loss: 4.0153\n",
      "Epoch 13/50\n",
      "537/537 [==============================] - 137s 254ms/step - loss: 3.6849 - val_loss: 3.9927\n",
      "Epoch 14/50\n",
      "537/537 [==============================] - 136s 254ms/step - loss: 3.6259 - val_loss: 3.9653\n",
      "Epoch 15/50\n",
      "537/537 [==============================] - 137s 254ms/step - loss: 3.5718 - val_loss: 3.9455\n",
      "Epoch 16/50\n",
      "537/537 [==============================] - 140s 261ms/step - loss: 3.5260 - val_loss: 3.9265\n",
      "Epoch 17/50\n",
      "537/537 [==============================] - 142s 264ms/step - loss: 3.4689 - val_loss: 3.8994\n",
      "Epoch 18/50\n",
      "537/537 [==============================] - 140s 261ms/step - loss: 3.4160 - val_loss: 3.8735\n",
      "Epoch 19/50\n",
      "537/537 [==============================] - 141s 262ms/step - loss: 3.3752 - val_loss: 3.8682\n",
      "Epoch 20/50\n",
      "537/537 [==============================] - 138s 256ms/step - loss: 3.3382 - val_loss: 3.8721\n",
      "Epoch 21/50\n",
      "537/537 [==============================] - 137s 254ms/step - loss: 3.3059 - val_loss: 3.8518\n",
      "Epoch 22/50\n",
      "537/537 [==============================] - 136s 254ms/step - loss: 3.2697 - val_loss: 3.8412\n",
      "Epoch 23/50\n",
      "537/537 [==============================] - 137s 254ms/step - loss: 3.2410 - val_loss: 3.8372\n",
      "Epoch 24/50\n",
      "537/537 [==============================] - 136s 254ms/step - loss: 3.2058 - val_loss: 3.8340\n",
      "Epoch 25/50\n",
      "537/537 [==============================] - 140s 261ms/step - loss: 3.1700 - val_loss: 3.8244\n",
      "Epoch 26/50\n",
      "537/537 [==============================] - 141s 262ms/step - loss: 3.1352 - val_loss: 3.8080\n",
      "Epoch 27/50\n",
      "537/537 [==============================] - 140s 260ms/step - loss: 3.1047 - val_loss: 3.8191\n",
      "Epoch 28/50\n",
      "537/537 [==============================] - 137s 255ms/step - loss: 3.0793 - val_loss: 3.8068\n",
      "Epoch 29/50\n",
      "537/537 [==============================] - 137s 254ms/step - loss: 3.0566 - val_loss: 3.8037\n",
      "Epoch 30/50\n",
      "537/537 [==============================] - 137s 255ms/step - loss: 3.0304 - val_loss: 3.8011\n",
      "Epoch 31/50\n",
      "537/537 [==============================] - 137s 254ms/step - loss: 3.0027 - val_loss: 3.8115\n",
      "Epoch 32/50\n",
      "537/537 [==============================] - 136s 254ms/step - loss: 2.9804 - val_loss: 3.8106\n",
      "Epoch 00032: early stopping\n"
     ]
    }
   ],
   "source": [
    "model.compile(optimizer='rmsprop', loss='sparse_categorical_crossentropy')\n",
    "es = EarlyStopping(monitor='val_loss', mode='min', verbose=1, patience = 2)\n",
    "history = model.fit(x = [encoder_input_train, decoder_input_train], y = decoder_target_train, \\\n",
    "          validation_data = ([encoder_input_test, decoder_input_test], decoder_target_test),\n",
    "          batch_size = 128, callbacks=[es], epochs = 50)"
   ]
  },
  {
   "cell_type": "code",
   "execution_count": 42,
   "metadata": {},
   "outputs": [
    {
     "data": {
      "image/png": "[encoded data removed]",
      "text/plain": [
       "<Figure size 432x288 with 1 Axes>"
      ]
     },
     "metadata": {
      "needs_background": "light"
     },
     "output_type": "display_data"
    }
   ],
   "source": [
    "plt.plot(history.history['loss'], label='train')\n",
    "plt.plot(history.history['val_loss'], label='test')\n",
    "plt.legend()\n",
    "plt.show()"
   ]
  },
  {
   "cell_type": "markdown",
   "metadata": {},
   "source": [
    "### 실제 결과와 요약문 비교하기 (추상적 요약)"
   ]
  },
  {
   "cell_type": "code",
   "execution_count": 43,
   "metadata": {},
   "outputs": [],
   "source": [
    "src_index_to_word = src_tokenizer.index_word # 원문 단어 집합에서 정수 -> 단어를 얻음\n",
    "tar_word_to_index = tar_tokenizer.word_index # 요약 단어 집합에서 단어 -> 정수를 얻음\n",
    "tar_index_to_word = tar_tokenizer.index_word # 요약 단어 집합에서 정수 -> 단어를 얻음"
   ]
  },
  {
   "cell_type": "code",
   "execution_count": 44,
   "metadata": {},
   "outputs": [],
   "source": [
    "# 인코더 설계\n",
    "encoder_model = Model(inputs=encoder_inputs, outputs=[encoder_outputs, state_h, state_c])\n",
    "\n",
    "# 이전 시점의 상태들을 저장하는 텐서\n",
    "decoder_state_input_h = Input(shape=(hidden_size,))\n",
    "decoder_state_input_c = Input(shape=(hidden_size,))\n",
    "\n",
    "dec_emb2 = dec_emb_layer(decoder_inputs)\n",
    "# 문장의 다음 단어를 예측하기 위해서 초기 상태(initial_state)를 이전 시점의 상태로 사용. 이는 뒤의 함수 decode_sequence()에 구현\n",
    "# 훈련 과정에서와 달리 LSTM의 리턴하는 은닉 상태와 셀 상태인 state_h와 state_c를 버리지 않음.\n",
    "decoder_outputs2, state_h2, state_c2 = decoder_lstm(dec_emb2, initial_state=[decoder_state_input_h, decoder_state_input_c])"
   ]
  },
  {
   "cell_type": "code",
   "execution_count": 45,
   "metadata": {},
   "outputs": [],
   "source": [
    "# 어텐션 함수\n",
    "decoder_hidden_state_input = Input(shape=(text_max_len, hidden_size))\n",
    "attn_out_inf, attn_states_inf = attn_layer([decoder_hidden_state_input, decoder_outputs2])\n",
    "decoder_inf_concat = Concatenate(axis=-1, name='concat')([decoder_outputs2, attn_out_inf])\n",
    "\n",
    "# 디코더의 출력층\n",
    "decoder_outputs2 = decoder_softmax_layer(decoder_inf_concat) \n",
    "\n",
    "# 최종 디코더 모델\n",
    "decoder_model = Model(\n",
    "    [decoder_inputs] + [decoder_hidden_state_input,decoder_state_input_h, decoder_state_input_c],\n",
    "    [decoder_outputs2] + [state_h2, state_c2])"
   ]
  },
  {
   "cell_type": "code",
   "execution_count": 49,
   "metadata": {},
   "outputs": [],
   "source": [
    "def decode_sequence(input_seq):\n",
    "    # 입력으로부터 인코더의 상태를 얻음\n",
    "    e_out, e_h, e_c = encoder_model.predict(input_seq)\n",
    "\n",
    "     # <SOS>에 해당하는 토큰 생성\n",
    "    target_seq = np.zeros((1,1))\n",
    "    target_seq[0, 0] = tar_word_to_index['sostoken']\n",
    "\n",
    "    stop_condition = False\n",
    "    decoded_sentence = ''\n",
    "    while not stop_condition: # stop_condition이 True가 될 때까지 루프 반복\n",
    "\n",
    "        output_tokens, h, c = decoder_model.predict([target_seq] + [e_out, e_h, e_c])\n",
    "        sampled_token_index = np.argmax(output_tokens[0, -1, :])\n",
    "        sampled_token = tar_index_to_word[sampled_token_index]\n",
    "\n",
    "        if(sampled_token!='eostoken'):\n",
    "            decoded_sentence += ' '+sampled_token\n",
    "\n",
    "        #  <eos>에 도달하거나 최대 길이를 넘으면 중단.\n",
    "        if (sampled_token == 'eostoken'  or len(decoded_sentence.split()) >= (headlines_max_len-1)):\n",
    "            stop_condition = True\n",
    "\n",
    "        # 길이가 1인 타겟 시퀀스를 업데이트\n",
    "        target_seq = np.zeros((1,1))\n",
    "        target_seq[0, 0] = sampled_token_index\n",
    "\n",
    "        # 상태를 업데이트 합니다.\n",
    "        e_h, e_c = h, c\n",
    "\n",
    "    return decoded_sentence"
   ]
  },
  {
   "cell_type": "markdown",
   "metadata": {},
   "source": [
    "### 모델 테스트"
   ]
  },
  {
   "cell_type": "code",
   "execution_count": 47,
   "metadata": {},
   "outputs": [],
   "source": [
    "# 원문의 정수 시퀀스를 텍스트 시퀀스로 변환\n",
    "def seq2text(input_seq):\n",
    "    temp=''\n",
    "    for i in input_seq:\n",
    "        if(i!=0):\n",
    "            temp = temp + src_index_to_word[i]+' '\n",
    "    return temp\n",
    "\n",
    "# 요약문의 정수 시퀀스를 텍스트 시퀀스로 변환\n",
    "def seq2summary(input_seq):\n",
    "    temp=''\n",
    "    for i in input_seq:\n",
    "        if((i!=0 and i!=tar_word_to_index['sostoken']) and i!=tar_word_to_index['eostoken']):\n",
    "            temp = temp + tar_index_to_word[i] + ' '\n",
    "    return temp"
   ]
  },
  {
   "cell_type": "code",
   "execution_count": 50,
   "metadata": {},
   "outputs": [
    {
     "name": "stdout",
     "output_type": "stream",
     "text": [
      "원문 : punjab cm captain amarinder singh seek legal opinion whether cabinet minister navjot singh sidhu continue appear popular tv show hosted comedian kapil sharma singh said know constitution law says matter sidhu given tourism local bodies portfolios congress government \n",
      "실제 요약 : punjab cm to seek legal opinion over sidhu tv \n",
      "예측 요약 :  sidhu should be sidhu on tv punjab cm sidhu\n",
      "\n",
      "\n",
      "원문 : talking startup scenario india spiritual guru vasudev said indian economy ready startup epidemic also said india stage economic development need solid businesses last many years said tremendous amount money lost startups apps \n",
      "실제 요약 : indian economy not ready for startup \n",
      "예측 요약 :  india needs to invest in india\n",
      "\n",
      "\n",
      "원문 : union minister dharmendra pradhan telephonic conversation saudi arabia energy minister khalid al expressed concern rising prices oil unfavourable impact indian people al reiterated commitment towards stable supplies kingdom together producers ensure prices remain reasonable ministry said \n",
      "실제 요약 : government discusses oil price hike with saudi over phone \n",
      "예측 요약 :  saudi arabia minister slams saudi arabia for oil oil\n",
      "\n",
      "\n",
      "원문 : rumours banks atms remain closed six days september went viral across social media finance ministry issued clarification stating banks remain open functioning atms online transactions remaining unaffected banks observe holidays sunday september second saturday september ministry added \n",
      "실제 요약 : reports of banks atms closed during september first week fake \n",
      "예측 요약 :  banks atms to remain open on june day\n",
      "\n",
      "\n",
      "원문 : india captain virat kohli revealed whole team happy celebrating test win australia ishant sharma added ishant angry bowling ball could got nathan lyon lbw added ishant felt senior guy committed mistake \n",
      "실제 요약 : ishant sharma was off while we were celebrating win kohli \n",
      "예측 요약 :  kohli has not come up to kohli virat kohli\n",
      "\n",
      "\n",
      "원문 : citizens netherlands foot tall fountain featuring wooden rebellion international artists commissioned install fountains city fountain houses public toilet begins water toilet flushed fountains commissioned declared european capital culture \n",
      "실제 요약 : dutch citizens install penis against int artists \n",
      "예측 요약 :  rome to get toilet toilet paper\n",
      "\n",
      "\n",
      "원문 : facebook announced working small unmanned helicopter called wirelessly provide internet disaster struck areas helicopter tethered fibre line power source ground remain airborne least hours facebook currently helicopter survive high winds lightning \n",
      "실제 요약 : facebook building helicopter to provide internet in disaster \n",
      "예측 요약 :  facebook building its own internet toll rises to\n",
      "\n",
      "\n",
      "원문 : congress saturday claimed bangladeshi foreigners deported upa regime deported years nda accusing bjp president amit shah lying numbers called shah clarify stance citizenship amendment bill may undo process national register citizens \n",
      "실제 요약 : upa deported nda deported cong \n",
      "예측 요약 :  congress must give more money to vote cong prez\n",
      "\n",
      "\n",
      "원문 : sachin tendulkar smashed five centuries india chennai chidambaram stadium single indian stadium sachin first ever international hundred india also came hit test england february interestingly sachin hit five centuries stadium tests \n",
      "실제 요약 : sachin most home tons came at chennai stadium \n",
      "예측 요약 :  sachin tendulkar india tons came to india st century\n",
      "\n",
      "\n",
      "원문 : gupta monday took oath deputy chief minister jammu kashmir bjp nirmal singh resigned sunday ahead cabinet reshuffle singh replace gupta assembly speaker try best meet expectations people work jammu kashmir ladakh new deputy cm said \n",
      "실제 요약 : gupta takes oath as new deputy chief minister \n",
      "예측 요약 :  pdp deputy cm deputy cm resigns from cabinet\n",
      "\n",
      "\n",
      "원문 : twinkle khanna said father late actor rajesh khanna said writer added proud filled poetry would got paper hand eventually twinkle writing columns media houses turned author book mrs published \n",
      "실제 요약 : my father rajesh khanna said should be writer twinkle \n",
      "예측 요약 :  twinkle khanna is not my dad twinkle\n",
      "\n",
      "\n",
      "원문 : dera sacha sauda followers reportedly gathered sect sirsa headquarters celebrate ram rahim singh birthday august jail convicted rape followers put banners led screens besides planting lakh saplings earlier rahim would sit address followers birthday \n",
      "실제 요약 : people celebrate ram rahim birthday while he is in jail \n",
      "예측 요약 :  dera ram rahim booked for dera\n",
      "\n",
      "\n",
      "원문 : air intelligence unit mumbai customs arrested four passengers mumbai chhatrapati shivaji maharaj international airport saturday kilograms gold worth crore indian national travelling bangkok dubai caught handing gold three passengers \n",
      "실제 요약 : gold worth crore seized at mumbai airport arrested \n",
      "예측 요약 :  mumbai air hostess arrested for smuggling gold in mumbai\n",
      "\n",
      "\n",
      "원문 : israel friday announced withdrawal bid non permanent seat un security council term israel competing germany belgium one two seats allocated western european others group unsc five permanent non permanent members elected two year term \n",
      "실제 요약 : israel withdraws from race for un security council seat \n",
      "예측 요약 :  israel approves un rights council for un council council\n",
      "\n",
      "\n",
      "원문 : us based research revealed world largest animal blue whale giants tenth million year history study focused major reason change caused rich water move resulting dense pockets prey rather even spread drove whales \n",
      "실제 요약 : how did whales to become \n",
      "예측 요약 :  world oldest blue whale system could be blue whale study\n",
      "\n",
      "\n",
      "원문 : posters actress sridevi daughter janhvi kapoor bollywood acting debut titled dhadak unveiled janhvi star opposite shahid kapoor half brother ishaan khatter shashank khaitan directorial co produced karan johar dhadak reportedly remake marathi film sairat scheduled release july \n",
      "실제 요약 : posters of janhvi bollywood debut dhadak unveiled \n",
      "예측 요약 :  sridevi daughter debut with dhadak at dhadak\n",
      "\n",
      "\n",
      "원문 : biju yuva janata dal president saturday said bharatiya janata party president amit shah might face egg attack odisha visit next month threatened shah protests view centre attitude towards demands odisha issues special category status row \n",
      "실제 요약 : shah threatened with egg attack on his odisha visit in july \n",
      "예측 요약 :  amit shah donates to amit shah to amit shah\n",
      "\n",
      "\n",
      "원문 : indian origin wwe wrestler jinder mahal thursday trained boxer vijender singh delhi ahead clash triple wwe live event december mahal invited vijender attend event vijender presented mahal first ticket fight rajasthan rumble held december jaipur \n",
      "실제 요약 : jinder mahal trains with vijender ahead of triple clash \n",
      "예측 요약 :  indian wrestler wrestler to attend wwe dinner\n",
      "\n",
      "\n",
      "원문 : vedanta founder chairman anil agarwal indicated son daughter may head group big family succession plan children passion well added said appointed extremely capable ceos executives run company \n",
      "실제 요약 : vedanta too big to have family plan chairman \n",
      "예측 요약 :  daughter daughter should be daughter billionaire\n",
      "\n",
      "\n",
      "원문 : cash strapped automaker faraday future tuesday said send employees temporary unpaid leave due ongoing dispute investor evergrande health according company investor failed provide scheduled payments refused release company assets recognise financial strain puts people personal lives faraday future said statement \n",
      "실제 요약 : cash strapped faraday future sends some staff on unpaid leave \n",
      "예측 요약 :  will leave employees leave to employees after meeting\n",
      "\n",
      "\n",
      "원문 : rafael nadal sunday defeated dominic win french open record extending th time defeated seven different opponents french open finals world number one defeated mariano win maiden french open title year old nadal clinched titles defeating roger federer \n",
      "실제 요약 : nadal has defeated different men in french open finals \n",
      "예측 요약 :  nadal open to win french open in french open\n",
      "\n",
      "\n",
      "원문 : baby girl born woman madhya pradesh district discovered two hours delivered toilet independence day woman reported abdominal pain using toilet taken hospital doctors found baby baby discovered toilet rushed back home \n",
      "실제 요약 : baby found alive hours after being delivered in toilet \n",
      "예측 요약 :  baby born mp baby girl inside mp delivers baby\n",
      "\n",
      "\n",
      "원문 : accusing centre misusing enforcement directorate threaten karnataka mlas jd leader hd kumaraswamy said narendra modi government wants demolish democracy country request mamata banerjee chandrababu naidu chandrashekar rao mayawati naveen patnaik protect interest country differences must keep aside added \n",
      "실제 요약 : centre misusing ed to threaten karnataka mlas jd \n"
     ]
    },
    {
     "name": "stdout",
     "output_type": "stream",
     "text": [
      "예측 요약 :  karnataka cm calls for mufti to cm mamata banerjee\n",
      "\n",
      "\n",
      "원문 : opposition violated rules rajya sabha handbook went public details impeachment notice chief justice india dipak misra friday parliament officials said rajya sabha handbook says notice raising matter house admitted chairman \n",
      "실제 요약 : making impeachment notice public against rules officials \n",
      "예측 요약 :  opposition mps cji impeachment motion against cji\n",
      "\n",
      "\n",
      "원문 : actress malaika arora khan revealed growing told beautiful live colour obsessed country added malaika said compared younger sister amrita arora people said \n",
      "실제 요약 : was told am not beautiful because am malaika \n",
      "예측 요약 :  am not live on live in live on live tv\n",
      "\n",
      "\n",
      "원문 : actor gulshan grover turned thursday said still cool person used age number turning change anything added gulshan known bad man bollywood appeared films like raja babu khiladi \n",
      "실제 요약 : still the cool person used to be gulshan on nd birthday \n",
      "예측 요약 :  people want to eat me for doing good actor\n",
      "\n",
      "\n",
      "원문 : supreme court monday sought reply centre within six weeks plea challenging government notification central agencies intercept monitor decrypt computer system petitioner advocate manohar lal sharma alleged december notification illegal unconstitutional ultra law \n",
      "실제 요약 : sc seeks centre reply on surveillance order within weeks \n",
      "예측 요약 :  sc seeks centre help to acquire upi from tracking\n",
      "\n",
      "\n",
      "원문 : ajay devgn emraan hashmi starrer baadshaho released friday story lot disappointment wrote hindustan times ndtv called film actresses pretty indian express wrote film comes old wine new bottle rated \n",
      "실제 요약 : ajay devgn emraan hashmi baadshaho hits the theatres \n",
      "예측 요약 :  ajay devgn starrer hits the theatres\n",
      "\n",
      "\n",
      "원문 : customs officials delhi indira gandhi international airport reportedly get dog squad check smuggling animals body parts customs plans procure three german get trained border security force academy officials claim also help detecting passengers bring pets without declaring \n",
      "실제 요약 : dog squads at delhi airport to check smuggling of animals \n",
      "예측 요약 :  delhi airport to help dog homeless with plastic\n",
      "\n",
      "\n",
      "원문 : per reports boney kapoor making documentary late wife actress sridevi registered three titles sri sridevi sri movie registration department also reportedly registered title return mr india titles sridevi earlier films like chaalbaaz ki rani ka raja mr india \n",
      "실제 요약 : boney kapoor registers title for sridevi documentary report \n",
      "예측 요약 :  sridevi sridevi sridevi was with mother in sridevi\n",
      "\n",
      "\n",
      "원문 : india richest person reliance industries chairman mukesh ambani wealth jumped crore days hit lakh crore making world th richest person according bloomberg wealth increased following jump stock reliance industries terms net worth ambani behind china alibaba founder jack \n",
      "실제 요약 : india richest person mukesh ambani earns crore in days \n",
      "예측 요약 :  mukesh ambani reliance richest man in cr in day\n",
      "\n",
      "\n",
      "원문 : former england captain alastair cook equalled former australia captain allan border record featuring rd successive test taking field pakistan first test thursday border played straight tests notably next highest ongoing sequence australian spinner nathan lyon played consecutive tests \n",
      "실제 요약 : cook equals border world record of straight tests \n",
      "예측 요약 :  cook ex cook of most runs in tests\n",
      "\n",
      "\n",
      "원문 : targeting opposition save constitution rally held mumbai friday maharashtra chief minister devendra fadnavis said rally held save party constitution constitution intact held today save party rally save constitution rally congress ncp power remember constitution said \n",
      "실제 요약 : opp held rally to save party not constitution maha cm \n",
      "예측 요약 :  opposition leader calls cm opposition party in opposition\n",
      "\n",
      "\n",
      "원문 : spanish pm mariano rajoy lost confidence vote parliament friday making government first spanish history ousted way rajoy popular party involved corruption scandal found guilty illegally funding election campaigns opposition spanish socialist workers party leader pedro sanchez replace rajoy new pm \n",
      "실제 요약 : govt st to lose confidence vote in spain history \n",
      "예측 요약 :  pm theresa wins vote against parliament for election loss in\n",
      "\n",
      "\n",
      "원문 : air new zealand mocked donald trump christmas ad replicating us president un laughter moment ad boy wearing make christmas great hat seen impersonating trump replicate moment world leaders gathered un general assembly september burst laughter trump boasted administration accomplishments \n",
      "실제 요약 : air new zealand christmas ad trump un moment \n",
      "예측 요약 :  air force trump tweets user on iss trip\n",
      "\n",
      "\n",
      "원문 : per reports saif ali khan bought apartment mumbai estimated cost crore mother law babita kapoor babita reportedly moving current flat union park buildings away karan johar home new four bedroom apartment new apartment close elder daughter karisma residence \n",
      "실제 요약 : saif buys crore flat for kareena mother babita report \n",
      "예측 요약 :  saif ali khan mumbai mumbai mumbai reports\n",
      "\n",
      "\n",
      "원문 : us ambassador panama john resigned post saying longer felt able serve us president donald trump us state department said resigned personal reasons denied resignation anything trump alleged use word describe haiti african countries \n",
      "실제 요약 : us ambassador to panama quits says he cannot serve trump \n",
      "예측 요약 :  us judge quits trump after trump criticism\n",
      "\n",
      "\n",
      "원문 : dismissing aap allegations evms tampered secret codes election commission said pressing key clicks accepted commission said replacement internal circuit evms possible changing existing programme introducing new one make machines nasim stated \n",
      "실제 요약 : how did ec dismiss aap allegations of evm tampering \n",
      "예측 요약 :  evms may be used to be used by evms study\n",
      "\n",
      "\n",
      "원문 : president wednesday vetoed government decision send troops ukraine taking part rapid trident drills led mostly nato countries justified move saying neutral state take part exercises conducted military bloc \n",
      "실제 요약 : president vetoes plan to join nato led drills \n",
      "예측 요약 :  president kovind troops troops amid tensions with france\n",
      "\n",
      "\n",
      "원문 : sperm donation bank china asked potential donors swear loyalty communist party bank demanded applicants must support leadership party loyal cause law citizens free political problems china witnessed increase demand sperm donation abolished one child policy \n",
      "실제 요약 : china sperm bank asks for to communist party \n",
      "예측 요약 :  china bans sale of bank khan from april\n",
      "\n",
      "\n",
      "원문 : saudi arabia general sports authority shut fitness centre riyadh promotional video showing woman working figure hugging attire without burqa authorities said video contained scenes could corrupt public morals kingdom path moderation without moral breakdown media advisor royal court said \n",
      "실제 요약 : saudi gym ordered shut as promo showed woman without burqa \n",
      "예측 요약 :  saudi arabia arrests woman for wearing male male\n",
      "\n",
      "\n",
      "원문 : chinese bike sharing startup ofo sued crore year old boy died accident riding bike victim reportedly riding traffic run bus claiming minor managed open mechanical lock startup bike parents accused ofo inadequate locks \n",
      "실제 요약 : chinese bike sharing startup sued for cr on boy death \n",
      "예측 요약 :  startup sued for bike driving car in bike\n",
      "\n",
      "\n",
      "원문 : delhi air quality turned good friday first time year due continuous rains washed away pollutants air quality index new delhi recorded falls good category aqi range considered good satisfactory moderate poor poor severe \n",
      "실제 요약 : after months delhi air quality good for st time this year \n",
      "예측 요약 :  delhi air india to open first day of building\n",
      "\n",
      "\n",
      "원문 : virat kohli become fastest batsman reach international runs achieving feat rd innings sixth odi south africa friday kohli surpassed south africa hashim amla reached feat innings last year kohli become fastest runs last year reaching landmark innings \n",
      "실제 요약 : virat kohli becomes fastest to international runs \n",
      "예측 요약 :  virat kohli fastest runs in odi history to run out\n",
      "\n",
      "\n",
      "원문 : lok sabha wednesday passed surrogacy bill bans commercial surrogacy bill allows surrogacy involves arrangement couple pay surrogate mother compensation medical insurance expenses related pregnancy moreover surrogate mother must close relative couple \n",
      "실제 요약 : bill banning commercial surrogacy passed in lok sabha \n",
      "예측 요약 :  lok sabha passes bill to allow pregnant\n",
      "\n",
      "\n",
      "원문 : us food drug administration issued safety alert healthcare providers five deaths reported present patients liquid filled balloon systems used treat obesity three reports death occurred within one three days balloon placement however root cause definitely attributed procedure fda said \n",
      "실제 요약 : people die during obesity treatment with balloons \n"
     ]
    },
    {
     "name": "stdout",
     "output_type": "stream",
     "text": [
      "예측 요약 :  us warns shut over safety safety of safety\n",
      "\n",
      "\n",
      "원문 : civil aviation ministry informed parliament national carrier air india private carrier jet airways received maximum number passenger complaints years airlines together received total complaints october indigo least number complaints three years \n",
      "실제 요약 : jet air india received most passenger complaints in years \n",
      "예측 요약 :  air india jet airways jet airways jet airways\n",
      "\n",
      "\n",
      "원문 : mars shares orbit nine small asteroids called part mini planet destroyed collision astronomers using large telescope chile found analysing reflected sunlight spectrum established composition also suggesting part planet material contributed formation earth mars \n",
      "실제 요약 : in mars orbit are remains of mini planets study \n",
      "예측 요약 :  nasa shares old earth from the planet\n",
      "\n",
      "\n",
      "원문 : cricketer virat kohli wife actress anushka sharma appear together season karan johar talk show koffee karan confirmed spokesperson earlier reports suggested anushka virat keen talk show together likely appear koffee karan promote film pari \n",
      "실제 요약 : virat anushka not to appear on koffee with karan season \n",
      "예측 요약 :  virat anushka to marry happy karan johar reports\n",
      "\n",
      "\n",
      "원문 : india requested pakistan allow kulbhushan jadhav mother accompany wife meet pakistan earlier month pakistan offered arrange meeting jadhav wife humanitarian grounds jadhav captured security forces march sentenced death military court allegedly spying pakistan \n",
      "실제 요약 : india asks pak to allow kulbhushan jadhav to meet his mother \n",
      "예측 요약 :  india seeks jadhav jadhav from pakistan mother\n",
      "\n",
      "\n"
     ]
    }
   ],
   "source": [
    "for i in range(50, 100):\n",
    "    print(\"원문 :\", seq2text(encoder_input_test[i]))\n",
    "    print(\"실제 요약 :\", seq2summary(decoder_input_test[i]))\n",
    "    print(\"예측 요약 :\", decode_sequence(encoder_input_test[i].reshape(1, text_max_len)))\n",
    "    print(\"\\n\")"
   ]
  },
  {
   "cell_type": "markdown",
   "metadata": {},
   "source": [
    "### Summa을 이용해서 추출적 요약해보기"
   ]
  },
  {
   "cell_type": "code",
   "execution_count": 51,
   "metadata": {},
   "outputs": [],
   "source": [
    "import requests\n",
    "from summa.summarizer import summarize"
   ]
  },
  {
   "cell_type": "code",
   "execution_count": 52,
   "metadata": {},
   "outputs": [],
   "source": [
    "data2 = pd.read_csv('news_summary_more.csv', encoding='iso-8859-1')"
   ]
  },
  {
   "cell_type": "code",
   "execution_count": 57,
   "metadata": {},
   "outputs": [
    {
     "name": "stdout",
     "output_type": "stream",
     "text": [
      "original: new zealand defeated india wickets fourth odi hamilton thursday win first match five match odi series india lost international match rohit sharma captaincy consecutive victories dating back march match witnessed india getting seventh lowest total odi cricket history\n",
      "\n",
      " summarise:  The match witnessed India getting all out for 92, their seventh lowest total in ODI cricket history.\n"
     ]
    }
   ],
   "source": [
    "print(\"original:\", data['text'][2])\n",
    "print(\"\\n summarise: \", summarize(data2['text'][2],ratio=0.35, words=20))"
   ]
  },
  {
   "cell_type": "markdown",
   "metadata": {},
   "source": [
    "## Conclusion\n",
    "\n",
    "- 잘 안되는 것도 있지만 완전히 어긋나지는 않아보여서 흥미로웠다.\n",
    "- summa도 ratio를 조절하면 나름 요약을 잘 해주는 듯 하다."
   ]
  }
 ],
 "metadata": {
  "kernelspec": {
   "display_name": "aiffel",
   "language": "python",
   "name": "aiffel"
  },
  "language_info": {
   "codemirror_mode": {
    "name": "ipython",
    "version": 3
   },
   "file_extension": ".py",
   "mimetype": "text/x-python",
   "name": "python",
   "nbconvert_exporter": "python",
   "pygments_lexer": "ipython3",
   "version": "3.7.6"
  },
  "toc": {
   "base_numbering": 1,
   "nav_menu": {},
   "number_sections": true,
   "sideBar": true,
   "skip_h1_title": false,
   "title_cell": "Table of Contents",
   "title_sidebar": "Contents",
   "toc_cell": false,
   "toc_position": {},
   "toc_section_display": true,
   "toc_window_display": false
  },
  "varInspector": {
   "cols": {
    "lenName": 16,
    "lenType": 16,
    "lenVar": 40
   },
   "kernels_config": {
    "python": {
     "delete_cmd_postfix": "",
     "delete_cmd_prefix": "del ",
     "library": "var_list.py",
     "varRefreshCmd": "print(var_dic_list())"
    },
    "r": {
     "delete_cmd_postfix": ") ",
     "delete_cmd_prefix": "rm(",
     "library": "var_list.r",
     "varRefreshCmd": "cat(var_dic_list()) "
    }
   },
   "types_to_exclude": [
    "module",
    "function",
    "builtin_function_or_method",
    "instance",
    "_Feature"
   ],
   "window_display": false
  }
 },
 "nbformat": 4,
 "nbformat_minor": 4
}
