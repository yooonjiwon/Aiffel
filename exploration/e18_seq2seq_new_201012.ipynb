{
 "cells": [
  {
   "cell_type": "markdown",
   "metadata": {},
   "source": [
    "# 뉴스기사 요약해보기\n",
    "\n",
    "<br>\n",
    "\n",
    "## 데이터 수집하기"
   ]
  },
  {
   "cell_type": "code",
   "execution_count": 1,
   "metadata": {},
   "outputs": [],
   "source": [
    "import urllib.request\n",
    "import pandas as pd\n",
    "urllib.request.urlretrieve(\"https://raw.githubusercontent.com/sunnysai12345/News_Summary/master/news_summary_more.csv\", filename=\"news_summary_more.csv\")\n",
    "data = pd.read_csv('news_summary_more.csv', encoding='iso-8859-1')"
   ]
  },
  {
   "cell_type": "code",
   "execution_count": 2,
   "metadata": {},
   "outputs": [
    {
     "data": {
      "text/html": [
       "<div>\n",
       "<style scoped>\n",
       "    .dataframe tbody tr th:only-of-type {\n",
       "        vertical-align: middle;\n",
       "    }\n",
       "\n",
       "    .dataframe tbody tr th {\n",
       "        vertical-align: top;\n",
       "    }\n",
       "\n",
       "    .dataframe thead th {\n",
       "        text-align: right;\n",
       "    }\n",
       "</style>\n",
       "<table border=\"1\" class=\"dataframe\">\n",
       "  <thead>\n",
       "    <tr style=\"text-align: right;\">\n",
       "      <th></th>\n",
       "      <th>headlines</th>\n",
       "      <th>text</th>\n",
       "    </tr>\n",
       "  </thead>\n",
       "  <tbody>\n",
       "    <tr>\n",
       "      <th>69359</th>\n",
       "      <td>Andhra's IIIT Nuzvid suspends 54 students for ...</td>\n",
       "      <td>Andhra Pradesh's IIIT Nuzvid has suspended 54 ...</td>\n",
       "    </tr>\n",
       "    <tr>\n",
       "      <th>46807</th>\n",
       "      <td>250 civilians killed in Syrian shelling in 2 days</td>\n",
       "      <td>Continuous shelling by Syrian government force...</td>\n",
       "    </tr>\n",
       "    <tr>\n",
       "      <th>11219</th>\n",
       "      <td>Don't misappropriate GoT trademark for politic...</td>\n",
       "      <td>Responding to a Game of Thrones-inspired image...</td>\n",
       "    </tr>\n",
       "    <tr>\n",
       "      <th>40896</th>\n",
       "      <td>YouTube exec's Twitter hacked to post fake new...</td>\n",
       "      <td>YouTube Product manager Vadim Lavrusik's Twitt...</td>\n",
       "    </tr>\n",
       "    <tr>\n",
       "      <th>81136</th>\n",
       "      <td>Education firm Pearson to sell 22% Penguin sta...</td>\n",
       "      <td>UK education company Pearson has agreed to sel...</td>\n",
       "    </tr>\n",
       "    <tr>\n",
       "      <th>33724</th>\n",
       "      <td>EC sets new dates for W Bengal panchayat polls...</td>\n",
       "      <td>The West Bengal Election Commission has announ...</td>\n",
       "    </tr>\n",
       "    <tr>\n",
       "      <th>98045</th>\n",
       "      <td>Rajnath Singh thanks Akshay for Ã¢ÂÂ¹1 crore ...</td>\n",
       "      <td>Union Home Minister Rajnath Singh thanked acto...</td>\n",
       "    </tr>\n",
       "    <tr>\n",
       "      <th>58545</th>\n",
       "      <td>BJP writes to Javadekar over map showing parts...</td>\n",
       "      <td>BJP's Bengal unit has written to Union Human R...</td>\n",
       "    </tr>\n",
       "    <tr>\n",
       "      <th>38582</th>\n",
       "      <td>Real Madrid's new coach once called Messi best...</td>\n",
       "      <td>Newly appointed Real Madrid manager Julen Lope...</td>\n",
       "    </tr>\n",
       "    <tr>\n",
       "      <th>85284</th>\n",
       "      <td>Yogi's Hindu Yuva Vahini to revive 'anti-Romeo...</td>\n",
       "      <td>The Hindu Yuva Vahini, founded by Uttar Prades...</td>\n",
       "    </tr>\n",
       "  </tbody>\n",
       "</table>\n",
       "</div>"
      ],
      "text/plain": [
       "                                               headlines  \\\n",
       "69359  Andhra's IIIT Nuzvid suspends 54 students for ...   \n",
       "46807  250 civilians killed in Syrian shelling in 2 days   \n",
       "11219  Don't misappropriate GoT trademark for politic...   \n",
       "40896  YouTube exec's Twitter hacked to post fake new...   \n",
       "81136  Education firm Pearson to sell 22% Penguin sta...   \n",
       "33724  EC sets new dates for W Bengal panchayat polls...   \n",
       "98045  Rajnath Singh thanks Akshay for Ã¢ÂÂ¹1 crore ...   \n",
       "58545  BJP writes to Javadekar over map showing parts...   \n",
       "38582  Real Madrid's new coach once called Messi best...   \n",
       "85284  Yogi's Hindu Yuva Vahini to revive 'anti-Romeo...   \n",
       "\n",
       "                                                    text  \n",
       "69359  Andhra Pradesh's IIIT Nuzvid has suspended 54 ...  \n",
       "46807  Continuous shelling by Syrian government force...  \n",
       "11219  Responding to a Game of Thrones-inspired image...  \n",
       "40896  YouTube Product manager Vadim Lavrusik's Twitt...  \n",
       "81136  UK education company Pearson has agreed to sel...  \n",
       "33724  The West Bengal Election Commission has announ...  \n",
       "98045  Union Home Minister Rajnath Singh thanked acto...  \n",
       "58545  BJP's Bengal unit has written to Union Human R...  \n",
       "38582  Newly appointed Real Madrid manager Julen Lope...  \n",
       "85284  The Hindu Yuva Vahini, founded by Uttar Prades...  "
      ]
     },
     "execution_count": 2,
     "metadata": {},
     "output_type": "execute_result"
    }
   ],
   "source": [
    "data.sample(10)"
   ]
  },
  {
   "cell_type": "markdown",
   "metadata": {},
   "source": [
    "## 데이터 전처리하기 \n",
    "\n",
    "<br>\n",
    "\n",
    "### 데이터 정리하기"
   ]
  },
  {
   "cell_type": "code",
   "execution_count": 3,
   "metadata": {},
   "outputs": [
    {
     "name": "stdout",
     "output_type": "stream",
     "text": [
      "Headline 열에서 중복을 배제한 유일한 샘플의 수 : 98280\n",
      "text 열에서 중복을 배제한 유일한 샘플의 수 : 98360\n"
     ]
    }
   ],
   "source": [
    "print('Headline 열에서 중복을 배제한 유일한 샘플의 수 :', data['headlines'].nunique())\n",
    "print('text 열에서 중복을 배제한 유일한 샘플의 수 :', data['text'].nunique())"
   ]
  },
  {
   "cell_type": "code",
   "execution_count": 4,
   "metadata": {},
   "outputs": [
    {
     "name": "stdout",
     "output_type": "stream",
     "text": [
      "전체 샘플수 : 98360\n"
     ]
    }
   ],
   "source": [
    "# 데이터 중복 제거한 갯수 - 별 차이 없음\n",
    "data.drop_duplicates(subset = ['text'], inplace = True)\n",
    "print('전체 샘플수 :',(len(data)))"
   ]
  },
  {
   "cell_type": "code",
   "execution_count": 5,
   "metadata": {},
   "outputs": [
    {
     "name": "stdout",
     "output_type": "stream",
     "text": [
      "headlines    0\n",
      "text         0\n",
      "dtype: int64\n"
     ]
    }
   ],
   "source": [
    "# Null 값 없음.\n",
    "print(data.isnull().sum())"
   ]
  },
  {
   "cell_type": "code",
   "execution_count": 6,
   "metadata": {},
   "outputs": [
    {
     "name": "stdout",
     "output_type": "stream",
     "text": [
      "정규화 사전의 수:  120\n"
     ]
    }
   ],
   "source": [
    "# 텍스트 불용어 제거 (text normalization)\n",
    "contractions = {\"ain't\": \"is not\", \"aren't\": \"are not\",\"can't\": \"cannot\", \"'cause\": \"because\", \"could've\": \"could have\", \"couldn't\": \"could not\",\n",
    "                           \"didn't\": \"did not\",  \"doesn't\": \"does not\", \"don't\": \"do not\", \"hadn't\": \"had not\", \"hasn't\": \"has not\", \"haven't\": \"have not\",\n",
    "                           \"he'd\": \"he would\",\"he'll\": \"he will\", \"he's\": \"he is\", \"how'd\": \"how did\", \"how'd'y\": \"how do you\", \"how'll\": \"how will\", \"how's\": \"how is\",\n",
    "                           \"I'd\": \"I would\", \"I'd've\": \"I would have\", \"I'll\": \"I will\", \"I'll've\": \"I will have\",\"I'm\": \"I am\", \"I've\": \"I have\", \"i'd\": \"i would\",\n",
    "                           \"i'd've\": \"i would have\", \"i'll\": \"i will\",  \"i'll've\": \"i will have\",\"i'm\": \"i am\", \"i've\": \"i have\", \"isn't\": \"is not\", \"it'd\": \"it would\",\n",
    "                           \"it'd've\": \"it would have\", \"it'll\": \"it will\", \"it'll've\": \"it will have\",\"it's\": \"it is\", \"let's\": \"let us\", \"ma'am\": \"madam\",\n",
    "                           \"mayn't\": \"may not\", \"might've\": \"might have\",\"mightn't\": \"might not\",\"mightn't've\": \"might not have\", \"must've\": \"must have\",\n",
    "                           \"mustn't\": \"must not\", \"mustn't've\": \"must not have\", \"needn't\": \"need not\", \"needn't've\": \"need not have\",\"o'clock\": \"of the clock\",\n",
    "                           \"oughtn't\": \"ought not\", \"oughtn't've\": \"ought not have\", \"shan't\": \"shall not\", \"sha'n't\": \"shall not\", \"shan't've\": \"shall not have\",\n",
    "                           \"she'd\": \"she would\", \"she'd've\": \"she would have\", \"she'll\": \"she will\", \"she'll've\": \"she will have\", \"she's\": \"she is\",\n",
    "                           \"should've\": \"should have\", \"shouldn't\": \"should not\", \"shouldn't've\": \"should not have\", \"so've\": \"so have\",\"so's\": \"so as\",\n",
    "                           \"this's\": \"this is\",\"that'd\": \"that would\", \"that'd've\": \"that would have\", \"that's\": \"that is\", \"there'd\": \"there would\",\n",
    "                           \"there'd've\": \"there would have\", \"there's\": \"there is\", \"here's\": \"here is\",\"they'd\": \"they would\", \"they'd've\": \"they would have\",\n",
    "                           \"they'll\": \"they will\", \"they'll've\": \"they will have\", \"they're\": \"they are\", \"they've\": \"they have\", \"to've\": \"to have\",\n",
    "                           \"wasn't\": \"was not\", \"we'd\": \"we would\", \"we'd've\": \"we would have\", \"we'll\": \"we will\", \"we'll've\": \"we will have\", \"we're\": \"we are\",\n",
    "                           \"we've\": \"we have\", \"weren't\": \"were not\", \"what'll\": \"what will\", \"what'll've\": \"what will have\", \"what're\": \"what are\",\n",
    "                           \"what's\": \"what is\", \"what've\": \"what have\", \"when's\": \"when is\", \"when've\": \"when have\", \"where'd\": \"where did\", \"where's\": \"where is\",\n",
    "                           \"where've\": \"where have\", \"who'll\": \"who will\", \"who'll've\": \"who will have\", \"who's\": \"who is\", \"who've\": \"who have\",\n",
    "                           \"why's\": \"why is\", \"why've\": \"why have\", \"will've\": \"will have\", \"won't\": \"will not\", \"won't've\": \"will not have\",\n",
    "                           \"would've\": \"would have\", \"wouldn't\": \"would not\", \"wouldn't've\": \"would not have\", \"y'all\": \"you all\",\n",
    "                           \"y'all'd\": \"you all would\",\"y'all'd've\": \"you all would have\",\"y'all're\": \"you all are\",\"y'all've\": \"you all have\",\n",
    "                           \"you'd\": \"you would\", \"you'd've\": \"you would have\", \"you'll\": \"you will\", \"you'll've\": \"you will have\",\n",
    "                           \"you're\": \"you are\", \"you've\": \"you have\"}\n",
    "\n",
    "print(\"정규화 사전의 수: \",len(contractions))"
   ]
  },
  {
   "cell_type": "code",
   "execution_count": 7,
   "metadata": {},
   "outputs": [
    {
     "name": "stderr",
     "output_type": "stream",
     "text": [
      "[nltk_data] Downloading package stopwords to\n",
      "[nltk_data]     /home/aiffel0036/nltk_data...\n",
      "[nltk_data]   Package stopwords is already up-to-date!\n"
     ]
    }
   ],
   "source": [
    "import nltk\n",
    "nltk.download('stopwords')\n",
    "from nltk.corpus import stopwords"
   ]
  },
  {
   "cell_type": "code",
   "execution_count": 8,
   "metadata": {},
   "outputs": [
    {
     "name": "stdout",
     "output_type": "stream",
     "text": [
      "불용어 개수 : 179\n",
      "['i', 'me', 'my', 'myself', 'we', 'our', 'ours', 'ourselves', 'you', \"you're\", \"you've\", \"you'll\", \"you'd\", 'your', 'yours', 'yourself', 'yourselves', 'he', 'him', 'his', 'himself', 'she', \"she's\", 'her', 'hers', 'herself', 'it', \"it's\", 'its', 'itself', 'they', 'them', 'their', 'theirs', 'themselves', 'what', 'which', 'who', 'whom', 'this', 'that', \"that'll\", 'these', 'those', 'am', 'is', 'are', 'was', 'were', 'be', 'been', 'being', 'have', 'has', 'had', 'having', 'do', 'does', 'did', 'doing', 'a', 'an', 'the', 'and', 'but', 'if', 'or', 'because', 'as', 'until', 'while', 'of', 'at', 'by', 'for', 'with', 'about', 'against', 'between', 'into', 'through', 'during', 'before', 'after', 'above', 'below', 'to', 'from', 'up', 'down', 'in', 'out', 'on', 'off', 'over', 'under', 'again', 'further', 'then', 'once', 'here', 'there', 'when', 'where', 'why', 'how', 'all', 'any', 'both', 'each', 'few', 'more', 'most', 'other', 'some', 'such', 'no', 'nor', 'not', 'only', 'own', 'same', 'so', 'than', 'too', 'very', 's', 't', 'can', 'will', 'just', 'don', \"don't\", 'should', \"should've\", 'now', 'd', 'll', 'm', 'o', 're', 've', 'y', 'ain', 'aren', \"aren't\", 'couldn', \"couldn't\", 'didn', \"didn't\", 'doesn', \"doesn't\", 'hadn', \"hadn't\", 'hasn', \"hasn't\", 'haven', \"haven't\", 'isn', \"isn't\", 'ma', 'mightn', \"mightn't\", 'mustn', \"mustn't\", 'needn', \"needn't\", 'shan', \"shan't\", 'shouldn', \"shouldn't\", 'wasn', \"wasn't\", 'weren', \"weren't\", 'won', \"won't\", 'wouldn', \"wouldn't\"]\n"
     ]
    }
   ],
   "source": [
    "print('불용어 개수 :', len(stopwords.words('english') ))\n",
    "print(stopwords.words('english'))"
   ]
  },
  {
   "cell_type": "code",
   "execution_count": 9,
   "metadata": {},
   "outputs": [],
   "source": [
    "#데이터 전처리 함수\n",
    "def preprocess_sentence(sentence, remove_stopwords=True):\n",
    "    sentence = sentence.lower() # 텍스트 소문자화\n",
    "    sentence = BeautifulSoup(sentence, \"lxml\").text # <br />, <a href = ...> 등의 html 태그 제거\n",
    "    sentence = re.sub(r'\\([^)]*\\)', '', sentence) # 괄호로 닫힌 문자열 (...) 제거 Ex) my husband (and myself!) for => my husband for\n",
    "    sentence = re.sub('\"','', sentence) # 쌍따옴표 \" 제거\n",
    "    sentence = ' '.join([contractions[t] if t in contractions else t for t in sentence.split(\" \")]) # 약어 정규화\n",
    "    sentence = re.sub(r\"'s\\b\",\"\",sentence) # 소유격 제거. Ex) roland's -> roland\n",
    "    sentence = re.sub(\"[^a-zA-Z]\", \" \", sentence) # 영어 외 문자(숫자, 특수문자 등) 공백으로 변환\n",
    "    sentence = re.sub('[m]{2,}', 'mm', sentence) # m이 3개 이상이면 2개로 변경. Ex) ummmmmmm yeah -> umm yeah\n",
    "    \n",
    "    # 불용어 제거 (Text)\n",
    "    if remove_stopwords:\n",
    "        tokens = ' '.join(word for word in sentence.split() if not word in stopwords.words('english') if len(word) > 1)\n",
    "    # 불용어 미제거 (Summary)\n",
    "    else:\n",
    "        tokens = ' '.join(word for word in sentence.split() if len(word) > 1)\n",
    "    return tokens"
   ]
  },
  {
   "cell_type": "code",
   "execution_count": 10,
   "metadata": {},
   "outputs": [
    {
     "data": {
      "text/plain": [
       "['saurav kant alumnus upgrad iiit pg program machine learning artificial intelligence sr systems engineer infosys almost years work experience program upgrad degree career support helped transition data scientist tech mahindra salary hike upgrad online power learning powered lakh careers',\n",
       " 'kunal shah credit card bill payment platform cred gave users chance win free food swiggy one year pranav kaushik delhi techie bagged reward spending cred coins users get one cred coin per rupee bill paid used avail rewards brands like ixigo bookmyshow ubereats cult fit',\n",
       " 'new zealand defeated india wickets fourth odi hamilton thursday win first match five match odi series india lost international match rohit sharma captaincy consecutive victories dating back march match witnessed india getting seventh lowest total odi cricket history',\n",
       " 'aegon life iterm insurance plan customers enjoy tax benefits premiums paid save taxes plan provides life cover age years also customers options insure critical illnesses disability accidental death benefit rider life cover age years',\n",
       " 'speaking sexual harassment allegations rajkumar hirani sonam kapoor said known hirani many years true metoo movement get derailed metoo movement always believe woman case need reserve judgment added hirani accused assistant worked sanju']"
      ]
     },
     "execution_count": 10,
     "metadata": {},
     "output_type": "execute_result"
    }
   ],
   "source": [
    "from bs4 import BeautifulSoup\n",
    "import re\n",
    "\n",
    "clean_text = []\n",
    "\n",
    "# 전체 Text 데이터에 대한 전처리 : 10분 이상 시간이 걸릴 수 있습니다. \n",
    "for s in data['text']:\n",
    "    clean_text.append(preprocess_sentence(s))\n",
    "\n",
    "# 전처리 후 출력\n",
    "clean_text[:5]"
   ]
  },
  {
   "cell_type": "code",
   "execution_count": 11,
   "metadata": {},
   "outputs": [
    {
     "data": {
      "text/plain": [
       "['upgrad learner switches to career in ml al with salary hike',\n",
       " 'delhi techie wins free food from swiggy for one year on cred',\n",
       " 'new zealand end rohit sharma led india match winning streak',\n",
       " 'aegon life iterm insurance plan helps customers save tax',\n",
       " 'have known hirani for yrs what if metoo claims are not true sonam']"
      ]
     },
     "execution_count": 11,
     "metadata": {},
     "output_type": "execute_result"
    }
   ],
   "source": [
    "clean_headlines = []\n",
    "\n",
    "# 전체 Summary 데이터에 대한 전처리 : 5분 이상 시간이 걸릴 수 있습니다. \n",
    "for s in data['headlines']:\n",
    "    clean_headlines.append(preprocess_sentence(s, False))\n",
    "\n",
    "clean_headlines[:5]"
   ]
  },
  {
   "cell_type": "code",
   "execution_count": 12,
   "metadata": {},
   "outputs": [],
   "source": [
    "import numpy as np\n",
    "data['text'] = clean_text\n",
    "data['headlines'] = clean_headlines\n",
    "\n",
    "# 빈 값을 Null 값으로 변환\n",
    "data.replace('', np.nan, inplace=True)"
   ]
  },
  {
   "cell_type": "code",
   "execution_count": 13,
   "metadata": {},
   "outputs": [
    {
     "data": {
      "text/plain": [
       "headlines    0\n",
       "text         0\n",
       "dtype: int64"
      ]
     },
     "execution_count": 13,
     "metadata": {},
     "output_type": "execute_result"
    }
   ],
   "source": [
    "data.isnull().sum()"
   ]
  },
  {
   "cell_type": "markdown",
   "metadata": {},
   "source": [
    "### 훈련 데이터와 테스트 데이터 나누기"
   ]
  },
  {
   "cell_type": "code",
   "execution_count": 14,
   "metadata": {},
   "outputs": [
    {
     "name": "stdout",
     "output_type": "stream",
     "text": [
      "텍스트의 최소 길이 : 1\n",
      "텍스트의 최대 길이 : 60\n",
      "텍스트의 평균 길이 : 35.09968483123221\n",
      "헤드라인의 최소 길이 : 1\n",
      "헤드라인의 최대 길이 : 16\n",
      "헤드라인의 평균 길이 : 9.299532330215534\n"
     ]
    },
    {
     "data": {
      "image/png": "[encoded data removed]",
      "text/plain": [
       "<Figure size 432x288 with 2 Axes>"
      ]
     },
     "metadata": {
      "needs_background": "light"
     },
     "output_type": "display_data"
    },
    {
     "data": {
      "image/png": "[encoded data removed]",
      "text/plain": [
       "<Figure size 432x288 with 1 Axes>"
      ]
     },
     "metadata": {
      "needs_background": "light"
     },
     "output_type": "display_data"
    },
    {
     "data": {
      "image/png": "[encoded data removed]",
      "text/plain": [
       "<Figure size 432x288 with 1 Axes>"
      ]
     },
     "metadata": {
      "needs_background": "light"
     },
     "output_type": "display_data"
    }
   ],
   "source": [
    "# 샘플의 최대 길이 정하기\n",
    "# 길이 분포 출력\n",
    "import matplotlib.pyplot as plt\n",
    "\n",
    "text_len = [len(s.split()) for s in data['text']]\n",
    "headlines_len = [len(s.split()) for s in data['headlines']]\n",
    "\n",
    "print('텍스트의 최소 길이 : {}'.format(np.min(text_len)))\n",
    "print('텍스트의 최대 길이 : {}'.format(np.max(text_len)))\n",
    "print('텍스트의 평균 길이 : {}'.format(np.mean(text_len)))\n",
    "print('헤드라인의 최소 길이 : {}'.format(np.min(headlines_len)))\n",
    "print('헤드라인의 최대 길이 : {}'.format(np.max(headlines_len)))\n",
    "print('헤드라인의 평균 길이 : {}'.format(np.mean(headlines_len)))\n",
    "\n",
    "plt.subplot(1,2,1)\n",
    "plt.boxplot(headlines_len)\n",
    "plt.title('Headlines')\n",
    "plt.subplot(1,2,2)\n",
    "plt.boxplot(text_len)\n",
    "plt.title('Text')\n",
    "plt.tight_layout()\n",
    "plt.show()\n",
    "\n",
    "plt.title('Headlines')\n",
    "plt.hist(headlines_len, bins = 40)\n",
    "plt.xlabel('length of samples')\n",
    "plt.ylabel('number of samples')\n",
    "plt.show()\n",
    "\n",
    "plt.title('Text')\n",
    "plt.hist(text_len, bins = 40)\n",
    "plt.xlabel('length of samples')\n",
    "plt.ylabel('number of samples')\n",
    "plt.show()\n",
    "# text 1~60\n",
    "# headline 1~16"
   ]
  },
  {
   "cell_type": "code",
   "execution_count": 15,
   "metadata": {},
   "outputs": [],
   "source": [
    "text_max_len = 40\n",
    "headlines_max_len = 11"
   ]
  },
  {
   "cell_type": "code",
   "execution_count": 16,
   "metadata": {},
   "outputs": [],
   "source": [
    "def below_threshold_len(max_len, nested_list):\n",
    "    cnt = 0\n",
    "    for s in nested_list:\n",
    "        if(len(s.split()) <= max_len):\n",
    "            cnt = cnt + 1\n",
    "    print('전체 샘플 중 길이가 %s 이하인 샘플의 비율: %s'%(max_len, (cnt / len(nested_list))))"
   ]
  },
  {
   "cell_type": "code",
   "execution_count": 17,
   "metadata": {},
   "outputs": [
    {
     "name": "stdout",
     "output_type": "stream",
     "text": [
      "전체 샘플 중 길이가 40 이하인 샘플의 비율: 0.9238714924766165\n",
      "전체 샘플 중 길이가 11 이하인 샘플의 비율: 0.9449877999186661\n"
     ]
    }
   ],
   "source": [
    "below_threshold_len(text_max_len, data['text'])\n",
    "below_threshold_len(headlines_max_len,  data['headlines'])"
   ]
  },
  {
   "cell_type": "code",
   "execution_count": 18,
   "metadata": {},
   "outputs": [
    {
     "name": "stdout",
     "output_type": "stream",
     "text": [
      "전체 샘플수 : 85843\n"
     ]
    }
   ],
   "source": [
    "data = data[data['text'].apply(lambda x: len(x.split()) <= text_max_len)]\n",
    "data = data[data['headlines'].apply(lambda x: len(x.split()) <= headlines_max_len)]\n",
    "print('전체 샘플수 :',(len(data)))"
   ]
  },
  {
   "cell_type": "code",
   "execution_count": 19,
   "metadata": {},
   "outputs": [
    {
     "data": {
      "text/html": [
       "<div>\n",
       "<style scoped>\n",
       "    .dataframe tbody tr th:only-of-type {\n",
       "        vertical-align: middle;\n",
       "    }\n",
       "\n",
       "    .dataframe tbody tr th {\n",
       "        vertical-align: top;\n",
       "    }\n",
       "\n",
       "    .dataframe thead th {\n",
       "        text-align: right;\n",
       "    }\n",
       "</style>\n",
       "<table border=\"1\" class=\"dataframe\">\n",
       "  <thead>\n",
       "    <tr style=\"text-align: right;\">\n",
       "      <th></th>\n",
       "      <th>headlines</th>\n",
       "      <th>text</th>\n",
       "      <th>decoder_input</th>\n",
       "      <th>decoder_target</th>\n",
       "    </tr>\n",
       "  </thead>\n",
       "  <tbody>\n",
       "    <tr>\n",
       "      <th>0</th>\n",
       "      <td>upgrad learner switches to career in ml al wit...</td>\n",
       "      <td>saurav kant alumnus upgrad iiit pg program mac...</td>\n",
       "      <td>sostoken upgrad learner switches to career in ...</td>\n",
       "      <td>upgrad learner switches to career in ml al wit...</td>\n",
       "    </tr>\n",
       "    <tr>\n",
       "      <th>2</th>\n",
       "      <td>new zealand end rohit sharma led india match w...</td>\n",
       "      <td>new zealand defeated india wickets fourth odi ...</td>\n",
       "      <td>sostoken new zealand end rohit sharma led indi...</td>\n",
       "      <td>new zealand end rohit sharma led india match w...</td>\n",
       "    </tr>\n",
       "    <tr>\n",
       "      <th>3</th>\n",
       "      <td>aegon life iterm insurance plan helps customer...</td>\n",
       "      <td>aegon life iterm insurance plan customers enjo...</td>\n",
       "      <td>sostoken aegon life iterm insurance plan helps...</td>\n",
       "      <td>aegon life iterm insurance plan helps customer...</td>\n",
       "    </tr>\n",
       "    <tr>\n",
       "      <th>5</th>\n",
       "      <td>rahat fateh ali khan denies getting notice for...</td>\n",
       "      <td>pakistani singer rahat fateh ali khan denied r...</td>\n",
       "      <td>sostoken rahat fateh ali khan denies getting n...</td>\n",
       "      <td>rahat fateh ali khan denies getting notice for...</td>\n",
       "    </tr>\n",
       "    <tr>\n",
       "      <th>7</th>\n",
       "      <td>govt directs alok verma to join work day befor...</td>\n",
       "      <td>weeks ex cbi director alok verma told departme...</td>\n",
       "      <td>sostoken govt directs alok verma to join work ...</td>\n",
       "      <td>govt directs alok verma to join work day befor...</td>\n",
       "    </tr>\n",
       "  </tbody>\n",
       "</table>\n",
       "</div>"
      ],
      "text/plain": [
       "                                           headlines  \\\n",
       "0  upgrad learner switches to career in ml al wit...   \n",
       "2  new zealand end rohit sharma led india match w...   \n",
       "3  aegon life iterm insurance plan helps customer...   \n",
       "5  rahat fateh ali khan denies getting notice for...   \n",
       "7  govt directs alok verma to join work day befor...   \n",
       "\n",
       "                                                text  \\\n",
       "0  saurav kant alumnus upgrad iiit pg program mac...   \n",
       "2  new zealand defeated india wickets fourth odi ...   \n",
       "3  aegon life iterm insurance plan customers enjo...   \n",
       "5  pakistani singer rahat fateh ali khan denied r...   \n",
       "7  weeks ex cbi director alok verma told departme...   \n",
       "\n",
       "                                       decoder_input  \\\n",
       "0  sostoken upgrad learner switches to career in ...   \n",
       "2  sostoken new zealand end rohit sharma led indi...   \n",
       "3  sostoken aegon life iterm insurance plan helps...   \n",
       "5  sostoken rahat fateh ali khan denies getting n...   \n",
       "7  sostoken govt directs alok verma to join work ...   \n",
       "\n",
       "                                      decoder_target  \n",
       "0  upgrad learner switches to career in ml al wit...  \n",
       "2  new zealand end rohit sharma led india match w...  \n",
       "3  aegon life iterm insurance plan helps customer...  \n",
       "5  rahat fateh ali khan denies getting notice for...  \n",
       "7  govt directs alok verma to join work day befor...  "
      ]
     },
     "execution_count": 19,
     "metadata": {},
     "output_type": "execute_result"
    }
   ],
   "source": [
    "# 시작 토큰과 종료 토큰 추가하기\n",
    "#요약 데이터에는 시작 토큰과 종료 토큰을 추가한다.\n",
    "data['decoder_input'] = data['headlines'].apply(lambda x : 'sostoken '+ x)\n",
    "data['decoder_target'] = data['headlines'].apply(lambda x : x + ' eostoken')\n",
    "data.head()"
   ]
  },
  {
   "cell_type": "code",
   "execution_count": 20,
   "metadata": {},
   "outputs": [],
   "source": [
    "encoder_input = np.array(data['text']) # 인코더의 입력\n",
    "decoder_input = np.array(data['decoder_input']) # 디코더의 입력\n",
    "decoder_target = np.array(data['decoder_target']) # 디코더의 레이블"
   ]
  },
  {
   "cell_type": "code",
   "execution_count": 21,
   "metadata": {},
   "outputs": [
    {
     "name": "stdout",
     "output_type": "stream",
     "text": [
      "[77492 16284 83886 ... 12885 36214 67846]\n"
     ]
    }
   ],
   "source": [
    "indices = np.arange(encoder_input.shape[0])\n",
    "np.random.shuffle(indices)\n",
    "print(indices)"
   ]
  },
  {
   "cell_type": "code",
   "execution_count": 22,
   "metadata": {},
   "outputs": [],
   "source": [
    "encoder_input = encoder_input[indices]\n",
    "decoder_input = decoder_input[indices]\n",
    "decoder_target = decoder_target[indices]"
   ]
  },
  {
   "cell_type": "code",
   "execution_count": 23,
   "metadata": {},
   "outputs": [
    {
     "name": "stdout",
     "output_type": "stream",
     "text": [
      "테스트 데이터의 수 : 17168\n"
     ]
    }
   ],
   "source": [
    "n_of_val = int(len(encoder_input)*0.2)\n",
    "print('테스트 데이터의 수 :',n_of_val)"
   ]
  },
  {
   "cell_type": "code",
   "execution_count": 24,
   "metadata": {},
   "outputs": [
    {
     "name": "stdout",
     "output_type": "stream",
     "text": [
      "훈련 데이터의 개수 : 68675\n",
      "훈련 레이블의 개수 : 68675\n",
      "테스트 데이터의 개수 : 17168\n",
      "테스트 레이블의 개수 : 17168\n"
     ]
    }
   ],
   "source": [
    "encoder_input_train = encoder_input[:-n_of_val]\n",
    "decoder_input_train = decoder_input[:-n_of_val]\n",
    "decoder_target_train = decoder_target[:-n_of_val]\n",
    "\n",
    "encoder_input_test = encoder_input[-n_of_val:]\n",
    "decoder_input_test = decoder_input[-n_of_val:]\n",
    "decoder_target_test = decoder_target[-n_of_val:]\n",
    "\n",
    "print('훈련 데이터의 개수 :', len(encoder_input_train))\n",
    "print('훈련 레이블의 개수 :',len(decoder_input_train))\n",
    "print('테스트 데이터의 개수 :',len(encoder_input_test))\n",
    "print('테스트 레이블의 개수 :',len(decoder_input_test))"
   ]
  },
  {
   "cell_type": "markdown",
   "metadata": {},
   "source": [
    "### 정수 인코딩"
   ]
  },
  {
   "cell_type": "code",
   "execution_count": 25,
   "metadata": {},
   "outputs": [],
   "source": [
    "from tensorflow.keras.preprocessing.text import Tokenizer \n",
    "src_tokenizer = Tokenizer() # 토크나이저 정의\n",
    "src_tokenizer.fit_on_texts(encoder_input_train) # 입력된 데이터로부터 단어 집합 생성"
   ]
  },
  {
   "cell_type": "code",
   "execution_count": 26,
   "metadata": {},
   "outputs": [
    {
     "name": "stdout",
     "output_type": "stream",
     "text": [
      "단어 집합(vocabulary)의 크기 : 64640\n",
      "등장 빈도가 6번 이하인 희귀 단어의 수: 44133\n",
      "단어 집합에서 희귀 단어를 제외시킬 경우의 단어 집합의 크기 20507\n",
      "단어 집합에서 희귀 단어의 비율: 68.27506188118811\n",
      "전체 등장 빈도에서 희귀 단어 등장 빈도 비율: 3.7931994013112127\n"
     ]
    }
   ],
   "source": [
    "threshold = 7\n",
    "total_cnt = len(src_tokenizer.word_index) # 단어의 수\n",
    "rare_cnt = 0 # 등장 빈도수가 threshold보다 작은 단어의 개수를 카운트\n",
    "total_freq = 0 # 훈련 데이터의 전체 단어 빈도수 총 합\n",
    "rare_freq = 0 # 등장 빈도수가 threshold보다 작은 단어의 등장 빈도수의 총 합\n",
    "\n",
    "# 단어와 빈도수의 쌍(pair)을 key와 value로 받는다.\n",
    "for key, value in src_tokenizer.word_counts.items():\n",
    "    total_freq = total_freq + value\n",
    "\n",
    "    # 단어의 등장 빈도수가 threshold보다 작으면\n",
    "    if(value < threshold):\n",
    "        rare_cnt = rare_cnt + 1\n",
    "        rare_freq = rare_freq + value\n",
    "\n",
    "print('단어 집합(vocabulary)의 크기 :',total_cnt)\n",
    "print('등장 빈도가 %s번 이하인 희귀 단어의 수: %s'%(threshold - 1, rare_cnt))\n",
    "print('단어 집합에서 희귀 단어를 제외시킬 경우의 단어 집합의 크기 %s'%(total_cnt - rare_cnt))\n",
    "print(\"단어 집합에서 희귀 단어의 비율:\", (rare_cnt / total_cnt)*100)\n",
    "print(\"전체 등장 빈도에서 희귀 단어 등장 빈도 비율:\", (rare_freq / total_freq)*100)"
   ]
  },
  {
   "cell_type": "code",
   "execution_count": 27,
   "metadata": {},
   "outputs": [],
   "source": [
    "src_vocab = 20501\n",
    "src_tokenizer = Tokenizer(num_words = src_vocab) # 단어 집합의 크기를 8,000으로 제한\n",
    "src_tokenizer.fit_on_texts(encoder_input_train) # 단어 집합 재생성."
   ]
  },
  {
   "cell_type": "code",
   "execution_count": 28,
   "metadata": {},
   "outputs": [
    {
     "name": "stdout",
     "output_type": "stream",
     "text": [
      "[[46, 146, 1134, 9382, 8, 1037, 17, 4960, 1440, 102, 165, 15, 128, 61, 355, 4961, 259, 540, 61, 357, 42, 1840, 952, 863, 1075, 17, 316, 197, 4961, 99, 165, 15, 4922, 177, 56, 1799], [37, 16, 223, 139, 1, 58, 648, 2661, 1681, 1420, 128, 61, 8, 335, 174, 4, 442, 38, 845, 868, 499, 4744, 1304, 499, 2750, 276, 235, 5231, 195, 175, 65, 2057], [26, 1419, 1089, 21, 220, 595, 2177, 95, 171, 8075, 854, 1089, 385, 1792, 1, 26, 29, 94, 460, 31, 115, 2177, 357, 595, 214, 171, 4438, 5232, 91, 305, 42, 402, 1089, 74]]\n"
     ]
    }
   ],
   "source": [
    "# 텍스트 시퀀스를 정수 시퀀스로 변환\n",
    "encoder_input_train = src_tokenizer.texts_to_sequences(encoder_input_train) \n",
    "encoder_input_test = src_tokenizer.texts_to_sequences(encoder_input_test)\n",
    "\n",
    "#잘 진행되었는지 샘플 출력\n",
    "print(encoder_input_train[:3])"
   ]
  },
  {
   "cell_type": "code",
   "execution_count": 29,
   "metadata": {},
   "outputs": [],
   "source": [
    "tar_tokenizer = Tokenizer()\n",
    "tar_tokenizer.fit_on_texts(decoder_input_train)"
   ]
  },
  {
   "cell_type": "code",
   "execution_count": 30,
   "metadata": {},
   "outputs": [
    {
     "name": "stdout",
     "output_type": "stream",
     "text": [
      "단어 집합(vocabulary)의 크기 : 28446\n",
      "등장 빈도가 5번 이하인 희귀 단어의 수: 18721\n",
      "단어 집합에서 희귀 단어를 제외시킬 경우의 단어 집합의 크기 9725\n",
      "단어 집합에서 희귀 단어의 비율: 65.8124165084722\n",
      "전체 등장 빈도에서 희귀 단어 등장 빈도 비율: 5.172909585511597\n"
     ]
    }
   ],
   "source": [
    "threshold = 6\n",
    "total_cnt = len(tar_tokenizer.word_index) # 단어의 수\n",
    "rare_cnt = 0 # 등장 빈도수가 threshold보다 작은 단어의 개수를 카운트\n",
    "total_freq = 0 # 훈련 데이터의 전체 단어 빈도수 총 합\n",
    "rare_freq = 0 # 등장 빈도수가 threshold보다 작은 단어의 등장 빈도수의 총 합\n",
    "\n",
    "# 단어와 빈도수의 쌍(pair)을 key와 value로 받는다.\n",
    "for key, value in tar_tokenizer.word_counts.items():\n",
    "    total_freq = total_freq + value\n",
    "\n",
    "    # 단어의 등장 빈도수가 threshold보다 작으면\n",
    "    if(value < threshold):\n",
    "        rare_cnt = rare_cnt + 1\n",
    "        rare_freq = rare_freq + value\n",
    "\n",
    "print('단어 집합(vocabulary)의 크기 :',total_cnt)\n",
    "print('등장 빈도가 %s번 이하인 희귀 단어의 수: %s'%(threshold - 1, rare_cnt))\n",
    "print('단어 집합에서 희귀 단어를 제외시킬 경우의 단어 집합의 크기 %s'%(total_cnt - rare_cnt))\n",
    "print(\"단어 집합에서 희귀 단어의 비율:\", (rare_cnt / total_cnt)*100)\n",
    "print(\"전체 등장 빈도에서 희귀 단어 등장 빈도 비율:\", (rare_freq / total_freq)*100)"
   ]
  },
  {
   "cell_type": "code",
   "execution_count": 31,
   "metadata": {},
   "outputs": [
    {
     "name": "stdout",
     "output_type": "stream",
     "text": [
      "input\n",
      "input  [[1, 197, 1069, 190, 7058, 1100, 5, 23, 559, 3740, 806], [1, 958, 3431, 3, 929, 35, 2605, 3156, 23, 84], [1, 25, 12, 3, 939, 862, 350, 125, 1287, 191, 3, 947], [1, 32, 2471, 1298, 5, 1231, 592, 17, 4755, 157, 34], [1, 851, 1696, 4, 5183, 3988, 26, 12, 22, 8197, 1232]]\n",
      "target\n",
      "decoder  [[197, 1069, 190, 7058, 1100, 5, 23, 559, 3740, 806, 2], [958, 3431, 3, 929, 35, 2605, 3156, 23, 84, 2], [25, 12, 3, 939, 862, 350, 125, 1287, 191, 3, 947, 2], [32, 2471, 1298, 5, 1231, 592, 17, 4755, 157, 34, 2], [851, 1696, 4, 5183, 3988, 26, 12, 22, 8197, 1232, 2]]\n"
     ]
    }
   ],
   "source": [
    "tar_vocab = 9744\n",
    "tar_tokenizer = Tokenizer(num_words = tar_vocab) \n",
    "tar_tokenizer.fit_on_texts(decoder_input_train)\n",
    "tar_tokenizer.fit_on_texts(decoder_target_train)\n",
    "\n",
    "# 텍스트 시퀀스를 정수 시퀀스로 변환\n",
    "decoder_input_train = tar_tokenizer.texts_to_sequences(decoder_input_train) \n",
    "decoder_target_train = tar_tokenizer.texts_to_sequences(decoder_target_train)\n",
    "decoder_input_test = tar_tokenizer.texts_to_sequences(decoder_input_test)\n",
    "decoder_target_test = tar_tokenizer.texts_to_sequences(decoder_target_test)\n",
    "\n",
    "#잘 변환되었는지 확인\n",
    "print('input')\n",
    "print('input ',decoder_input_train[:5])\n",
    "print('target')\n",
    "print('decoder ',decoder_target_train[:5])"
   ]
  },
  {
   "cell_type": "code",
   "execution_count": 32,
   "metadata": {},
   "outputs": [
    {
     "name": "stdout",
     "output_type": "stream",
     "text": [
      "삭제할 훈련 데이터의 개수 : 0\n",
      "삭제할 테스트 데이터의 개수 : 0\n",
      "훈련 데이터의 개수 : 68675\n",
      "훈련 레이블의 개수 : 68675\n",
      "테스트 데이터의 개수 : 17168\n",
      "테스트 레이블의 개수 : 17168\n"
     ]
    }
   ],
   "source": [
    "drop_train = [index for index, sentence in enumerate(decoder_input_train) if len(sentence) == 1]\n",
    "drop_test = [index for index, sentence in enumerate(decoder_input_test) if len(sentence) == 1]\n",
    "\n",
    "print('삭제할 훈련 데이터의 개수 :',len(drop_train))\n",
    "print('삭제할 테스트 데이터의 개수 :',len(drop_test))\n",
    "\n",
    "encoder_input_train = np.delete(encoder_input_train, drop_train, axis=0)\n",
    "decoder_input_train = np.delete(decoder_input_train, drop_train, axis=0)\n",
    "decoder_target_train = np.delete(decoder_target_train, drop_train, axis=0)\n",
    "\n",
    "encoder_input_test = np.delete(encoder_input_test, drop_test, axis=0)\n",
    "decoder_input_test = np.delete(decoder_input_test, drop_test, axis=0)\n",
    "decoder_target_test = np.delete(decoder_target_test, drop_test, axis=0)\n",
    "\n",
    "print('훈련 데이터의 개수 :', len(encoder_input_train))\n",
    "print('훈련 레이블의 개수 :',len(decoder_input_train))\n",
    "print('테스트 데이터의 개수 :',len(encoder_input_test))\n",
    "print('테스트 레이블의 개수 :',len(decoder_input_test))"
   ]
  },
  {
   "cell_type": "code",
   "execution_count": 33,
   "metadata": {},
   "outputs": [],
   "source": [
    "from tensorflow.keras.preprocessing.sequence import pad_sequences\n",
    "\n",
    "encoder_input_train = pad_sequences(encoder_input_train, maxlen = text_max_len, padding='post')\n",
    "encoder_input_test = pad_sequences(encoder_input_test, maxlen = text_max_len, padding='post')\n",
    "decoder_input_train = pad_sequences(decoder_input_train, maxlen = headlines_max_len, padding='post')\n",
    "decoder_target_train = pad_sequences(decoder_target_train, maxlen = headlines_max_len, padding='post')\n",
    "decoder_input_test = pad_sequences(decoder_input_test, maxlen = headlines_max_len, padding='post')\n",
    "decoder_target_test = pad_sequences(decoder_target_test, maxlen = headlines_max_len, padding='post')"
   ]
  },
  {
   "cell_type": "markdown",
   "metadata": {},
   "source": [
    "## 모델 설계하기"
   ]
  },
  {
   "cell_type": "code",
   "execution_count": 34,
   "metadata": {},
   "outputs": [
    {
     "name": "stdout",
     "output_type": "stream",
     "text": [
      "WARNING:tensorflow:Layer lstm will not use cuDNN kernel since it doesn't meet the cuDNN kernel criteria. It will use generic GPU kernel as fallback when running on GPU\n",
      "WARNING:tensorflow:Layer lstm_1 will not use cuDNN kernel since it doesn't meet the cuDNN kernel criteria. It will use generic GPU kernel as fallback when running on GPU\n",
      "WARNING:tensorflow:Layer lstm_2 will not use cuDNN kernel since it doesn't meet the cuDNN kernel criteria. It will use generic GPU kernel as fallback when running on GPU\n"
     ]
    }
   ],
   "source": [
    "from tensorflow.keras.layers import Input, LSTM, Embedding, Dense, Concatenate\n",
    "from tensorflow.keras.models import Model\n",
    "from tensorflow.keras.callbacks import EarlyStopping, ModelCheckpoint\n",
    "\n",
    "\n",
    "# 인코더 설계 시작\n",
    "embedding_dim = 128\n",
    "hidden_size = 256\n",
    "\n",
    "# 인코더\n",
    "encoder_inputs = Input(shape=(text_max_len,))\n",
    "\n",
    "# 인코더의 임베딩 층\n",
    "enc_emb = Embedding(src_vocab, embedding_dim)(encoder_inputs)\n",
    "\n",
    "# 인코더의 LSTM 1\n",
    "encoder_lstm1 = LSTM(hidden_size, return_sequences=True, return_state=True ,dropout = 0.2, recurrent_dropout = 0.2)\n",
    "encoder_output1, state_h1, state_c1 = encoder_lstm1(enc_emb)\n",
    "\n",
    "# 인코더의 LSTM 2\n",
    "encoder_lstm2 = LSTM(hidden_size, return_sequences=True, return_state=True, dropout=0.2, recurrent_dropout=0.2)\n",
    "encoder_output2, state_h2, state_c2 = encoder_lstm2(encoder_output1)\n",
    "\n",
    "# 인코더의 LSTM 3\n",
    "encoder_lstm3 = LSTM(hidden_size, return_state=True, return_sequences=True, dropout=0.2, recurrent_dropout=0.2)\n",
    "encoder_outputs, state_h, state_c= encoder_lstm3(encoder_output2)"
   ]
  },
  {
   "cell_type": "code",
   "execution_count": 35,
   "metadata": {},
   "outputs": [
    {
     "name": "stdout",
     "output_type": "stream",
     "text": [
      "WARNING:tensorflow:Layer lstm_3 will not use cuDNN kernel since it doesn't meet the cuDNN kernel criteria. It will use generic GPU kernel as fallback when running on GPU\n"
     ]
    }
   ],
   "source": [
    "# 디코더 설계\n",
    "\n",
    "decoder_inputs = Input(shape=(None,))\n",
    "\n",
    "# 디코더의 임베딩 층\n",
    "dec_emb_layer = Embedding(tar_vocab, embedding_dim)\n",
    "dec_emb = dec_emb_layer(decoder_inputs)\n",
    "\n",
    "# 디코더의 LSTM\n",
    "decoder_lstm = LSTM(hidden_size, return_sequences = True, return_state = True, dropout = 0.2, recurrent_dropout=0.2)\n",
    "decoder_outputs, _, _ = decoder_lstm(dec_emb, initial_state = [state_h, state_c])"
   ]
  },
  {
   "cell_type": "code",
   "execution_count": 36,
   "metadata": {},
   "outputs": [
    {
     "name": "stdout",
     "output_type": "stream",
     "text": [
      "Model: \"functional_1\"\n",
      "__________________________________________________________________________________________________\n",
      "Layer (type)                    Output Shape         Param #     Connected to                     \n",
      "==================================================================================================\n",
      "input_1 (InputLayer)            [(None, 40)]         0                                            \n",
      "__________________________________________________________________________________________________\n",
      "embedding (Embedding)           (None, 40, 128)      2624128     input_1[0][0]                    \n",
      "__________________________________________________________________________________________________\n",
      "lstm (LSTM)                     [(None, 40, 256), (N 394240      embedding[0][0]                  \n",
      "__________________________________________________________________________________________________\n",
      "input_2 (InputLayer)            [(None, None)]       0                                            \n",
      "__________________________________________________________________________________________________\n",
      "lstm_1 (LSTM)                   [(None, 40, 256), (N 525312      lstm[0][0]                       \n",
      "__________________________________________________________________________________________________\n",
      "embedding_1 (Embedding)         (None, None, 128)    1247232     input_2[0][0]                    \n",
      "__________________________________________________________________________________________________\n",
      "lstm_2 (LSTM)                   [(None, 40, 256), (N 525312      lstm_1[0][0]                     \n",
      "__________________________________________________________________________________________________\n",
      "lstm_3 (LSTM)                   [(None, None, 256),  394240      embedding_1[0][0]                \n",
      "                                                                 lstm_2[0][1]                     \n",
      "                                                                 lstm_2[0][2]                     \n",
      "__________________________________________________________________________________________________\n",
      "dense (Dense)                   (None, None, 9744)   2504208     lstm_3[0][0]                     \n",
      "==================================================================================================\n",
      "Total params: 8,214,672\n",
      "Trainable params: 8,214,672\n",
      "Non-trainable params: 0\n",
      "__________________________________________________________________________________________________\n"
     ]
    }
   ],
   "source": [
    "# 디코더의 출력층\n",
    "decoder_softmax_layer = Dense(tar_vocab, activation = 'softmax')\n",
    "decoder_softmax_outputs = decoder_softmax_layer(decoder_outputs) \n",
    "\n",
    "# 모델 정의\n",
    "model = Model([encoder_inputs, decoder_inputs], decoder_softmax_outputs)\n",
    "model.summary()"
   ]
  },
  {
   "cell_type": "markdown",
   "metadata": {},
   "source": [
    "### 어텐션 메커니즘 사용하기 (추상적 요약)"
   ]
  },
  {
   "cell_type": "code",
   "execution_count": 37,
   "metadata": {},
   "outputs": [],
   "source": [
    "import urllib.request\n",
    "\n",
    "urllib.request.urlretrieve(\"https://raw.githubusercontent.com/thushv89/attention_keras/master/src/layers/attention.py\", filename=\"attention.py\")\n",
    "from attention import AttentionLayer"
   ]
  },
  {
   "cell_type": "code",
   "execution_count": 38,
   "metadata": {},
   "outputs": [
    {
     "name": "stdout",
     "output_type": "stream",
     "text": [
      "Model: \"functional_3\"\n",
      "__________________________________________________________________________________________________\n",
      "Layer (type)                    Output Shape         Param #     Connected to                     \n",
      "==================================================================================================\n",
      "input_1 (InputLayer)            [(None, 40)]         0                                            \n",
      "__________________________________________________________________________________________________\n",
      "embedding (Embedding)           (None, 40, 128)      2624128     input_1[0][0]                    \n",
      "__________________________________________________________________________________________________\n",
      "lstm (LSTM)                     [(None, 40, 256), (N 394240      embedding[0][0]                  \n",
      "__________________________________________________________________________________________________\n",
      "input_2 (InputLayer)            [(None, None)]       0                                            \n",
      "__________________________________________________________________________________________________\n",
      "lstm_1 (LSTM)                   [(None, 40, 256), (N 525312      lstm[0][0]                       \n",
      "__________________________________________________________________________________________________\n",
      "embedding_1 (Embedding)         (None, None, 128)    1247232     input_2[0][0]                    \n",
      "__________________________________________________________________________________________________\n",
      "lstm_2 (LSTM)                   [(None, 40, 256), (N 525312      lstm_1[0][0]                     \n",
      "__________________________________________________________________________________________________\n",
      "lstm_3 (LSTM)                   [(None, None, 256),  394240      embedding_1[0][0]                \n",
      "                                                                 lstm_2[0][1]                     \n",
      "                                                                 lstm_2[0][2]                     \n",
      "__________________________________________________________________________________________________\n",
      "attention_layer (AttentionLayer ((None, None, 256),  131328      lstm_2[0][0]                     \n",
      "                                                                 lstm_3[0][0]                     \n",
      "__________________________________________________________________________________________________\n",
      "concat_layer (Concatenate)      (None, None, 512)    0           lstm_3[0][0]                     \n",
      "                                                                 attention_layer[0][0]            \n",
      "__________________________________________________________________________________________________\n",
      "dense_1 (Dense)                 (None, None, 9744)   4998672     concat_layer[0][0]               \n",
      "==================================================================================================\n",
      "Total params: 10,840,464\n",
      "Trainable params: 10,840,464\n",
      "Non-trainable params: 0\n",
      "__________________________________________________________________________________________________\n"
     ]
    }
   ],
   "source": [
    "# 어텐션 층(어텐션 함수)\n",
    "attn_layer = AttentionLayer(name='attention_layer')\n",
    "# 인코더와 디코더의 모든 time step의 hidden state를 어텐션 층에 전달하고 결과를 리턴\n",
    "attn_out, attn_states = attn_layer([encoder_outputs, decoder_outputs])\n",
    "\n",
    "# 어텐션의 결과와 디코더의 hidden state들을 연결\n",
    "decoder_concat_input = Concatenate(axis = -1, name='concat_layer')([decoder_outputs, attn_out])\n",
    "\n",
    "# 디코더의 출력층\n",
    "decoder_softmax_layer = Dense(tar_vocab, activation='softmax')\n",
    "decoder_softmax_outputs = decoder_softmax_layer(decoder_concat_input)\n",
    "\n",
    "# 모델 정의\n",
    "model = Model([encoder_inputs, decoder_inputs], decoder_softmax_outputs)\n",
    "model.summary()"
   ]
  },
  {
   "cell_type": "markdown",
   "metadata": {},
   "source": [
    "### 모델 훈련하기\n",
    "- batch_size=256 -> val_loss = 4.3, loss = 3.1\n",
    "- batch_size=128 -> val_loss = 3.8, loss = 2.9"
   ]
  },
  {
   "cell_type": "code",
   "execution_count": 39,
   "metadata": {},
   "outputs": [
    {
     "name": "stdout",
     "output_type": "stream",
     "text": [
      "Epoch 1/50\n",
      "537/537 [==============================] - 143s 267ms/step - loss: 5.8559 - val_loss: 5.3928\n",
      "Epoch 2/50\n",
      "537/537 [==============================] - 140s 261ms/step - loss: 5.2521 - val_loss: 4.9975\n",
      "Epoch 3/50\n",
      "537/537 [==============================] - 138s 257ms/step - loss: 4.8896 - val_loss: 4.7457\n",
      "Epoch 4/50\n",
      "537/537 [==============================] - 136s 253ms/step - loss: 4.6179 - val_loss: 4.5438\n",
      "Epoch 5/50\n",
      "537/537 [==============================] - 136s 253ms/step - loss: 4.4055 - val_loss: 4.4017\n",
      "Epoch 6/50\n",
      "537/537 [==============================] - 137s 256ms/step - loss: 4.2262 - val_loss: 4.2990\n",
      "Epoch 7/50\n",
      "537/537 [==============================] - 137s 255ms/step - loss: 4.0794 - val_loss: 4.1940\n",
      "Epoch 8/50\n",
      "537/537 [==============================] - 137s 256ms/step - loss: 3.9503 - val_loss: 4.1228\n",
      "Epoch 9/50\n",
      "537/537 [==============================] - 137s 254ms/step - loss: 3.8291 - val_loss: 4.0647\n",
      "Epoch 10/50\n",
      "537/537 [==============================] - 137s 255ms/step - loss: 3.7302 - val_loss: 4.0183\n",
      "Epoch 11/50\n",
      "537/537 [==============================] - 136s 254ms/step - loss: 3.6337 - val_loss: 3.9827\n",
      "Epoch 12/50\n",
      "537/537 [==============================] - 136s 254ms/step - loss: 3.5460 - val_loss: 3.9548\n",
      "Epoch 13/50\n",
      "537/537 [==============================] - 135s 252ms/step - loss: 3.4645 - val_loss: 3.9153\n",
      "Epoch 14/50\n",
      "537/537 [==============================] - 132s 246ms/step - loss: 3.3919 - val_loss: 3.8937\n",
      "Epoch 15/50\n",
      "537/537 [==============================] - 133s 247ms/step - loss: 3.3315 - val_loss: 3.8815\n",
      "Epoch 16/50\n",
      "537/537 [==============================] - 132s 246ms/step - loss: 3.2677 - val_loss: 3.8660\n",
      "Epoch 17/50\n",
      "537/537 [==============================] - 136s 253ms/step - loss: 3.2026 - val_loss: 3.8450\n",
      "Epoch 18/50\n",
      "537/537 [==============================] - 141s 262ms/step - loss: 3.1466 - val_loss: 3.8365\n",
      "Epoch 19/50\n",
      "537/537 [==============================] - 141s 262ms/step - loss: 3.0983 - val_loss: 3.8280\n",
      "Epoch 20/50\n",
      "537/537 [==============================] - 140s 262ms/step - loss: 3.0562 - val_loss: 3.8242\n",
      "Epoch 21/50\n",
      "537/537 [==============================] - 141s 262ms/step - loss: 3.0108 - val_loss: 3.8140\n",
      "Epoch 22/50\n",
      "537/537 [==============================] - 141s 262ms/step - loss: 2.9677 - val_loss: 3.8195\n",
      "Epoch 23/50\n",
      "537/537 [==============================] - 140s 261ms/step - loss: 2.9266 - val_loss: 3.8088\n",
      "Epoch 24/50\n",
      "537/537 [==============================] - 141s 262ms/step - loss: 2.8870 - val_loss: 3.8184\n",
      "Epoch 25/50\n",
      "537/537 [==============================] - 141s 262ms/step - loss: 2.8501 - val_loss: 3.8138\n",
      "Epoch 00025: early stopping\n"
     ]
    }
   ],
   "source": [
    "model.compile(optimizer='rmsprop', loss='sparse_categorical_crossentropy')\n",
    "es = EarlyStopping(monitor='val_loss', mode='min', verbose=1, patience = 2)\n",
    "history = model.fit(x = [encoder_input_train, decoder_input_train], y = decoder_target_train, \\\n",
    "          validation_data = ([encoder_input_test, decoder_input_test], decoder_target_test),\n",
    "          batch_size = 128, callbacks=[es], epochs = 50)"
   ]
  },
  {
   "cell_type": "code",
   "execution_count": 40,
   "metadata": {},
   "outputs": [
    {
     "data": {
      "image/png": "[encoded data removed]",
      "text/plain": [
       "<Figure size 432x288 with 1 Axes>"
      ]
     },
     "metadata": {
      "needs_background": "light"
     },
     "output_type": "display_data"
    }
   ],
   "source": [
    "plt.plot(history.history['loss'], label='train')\n",
    "plt.plot(history.history['val_loss'], label='test')\n",
    "plt.legend()\n",
    "plt.show()"
   ]
  },
  {
   "cell_type": "markdown",
   "metadata": {},
   "source": [
    "### 실제 결과와 요약문 비교하기 (추상적 요약)"
   ]
  },
  {
   "cell_type": "code",
   "execution_count": 41,
   "metadata": {},
   "outputs": [],
   "source": [
    "src_index_to_word = src_tokenizer.index_word # 원문 단어 집합에서 정수 -> 단어를 얻음\n",
    "tar_word_to_index = tar_tokenizer.word_index # 요약 단어 집합에서 단어 -> 정수를 얻음\n",
    "tar_index_to_word = tar_tokenizer.index_word # 요약 단어 집합에서 정수 -> 단어를 얻음"
   ]
  },
  {
   "cell_type": "code",
   "execution_count": 42,
   "metadata": {},
   "outputs": [],
   "source": [
    "# 인코더 설계\n",
    "encoder_model = Model(inputs=encoder_inputs, outputs=[encoder_outputs, state_h, state_c])\n",
    "\n",
    "# 이전 시점의 상태들을 저장하는 텐서\n",
    "decoder_state_input_h = Input(shape=(hidden_size,))\n",
    "decoder_state_input_c = Input(shape=(hidden_size,))\n",
    "\n",
    "dec_emb2 = dec_emb_layer(decoder_inputs)\n",
    "# 문장의 다음 단어를 예측하기 위해서 초기 상태(initial_state)를 이전 시점의 상태로 사용. 이는 뒤의 함수 decode_sequence()에 구현\n",
    "# 훈련 과정에서와 달리 LSTM의 리턴하는 은닉 상태와 셀 상태인 state_h와 state_c를 버리지 않음.\n",
    "decoder_outputs2, state_h2, state_c2 = decoder_lstm(dec_emb2, initial_state=[decoder_state_input_h, decoder_state_input_c])"
   ]
  },
  {
   "cell_type": "code",
   "execution_count": 43,
   "metadata": {},
   "outputs": [],
   "source": [
    "# 어텐션 함수\n",
    "decoder_hidden_state_input = Input(shape=(text_max_len, hidden_size))\n",
    "attn_out_inf, attn_states_inf = attn_layer([decoder_hidden_state_input, decoder_outputs2])\n",
    "decoder_inf_concat = Concatenate(axis=-1, name='concat')([decoder_outputs2, attn_out_inf])\n",
    "\n",
    "# 디코더의 출력층\n",
    "decoder_outputs2 = decoder_softmax_layer(decoder_inf_concat) \n",
    "\n",
    "# 최종 디코더 모델\n",
    "decoder_model = Model(\n",
    "    [decoder_inputs] + [decoder_hidden_state_input,decoder_state_input_h, decoder_state_input_c],\n",
    "    [decoder_outputs2] + [state_h2, state_c2])"
   ]
  },
  {
   "cell_type": "code",
   "execution_count": 44,
   "metadata": {},
   "outputs": [],
   "source": [
    "def decode_sequence(input_seq):\n",
    "    # 입력으로부터 인코더의 상태를 얻음\n",
    "    e_out, e_h, e_c = encoder_model.predict(input_seq)\n",
    "\n",
    "     # <SOS>에 해당하는 토큰 생성\n",
    "    target_seq = np.zeros((1,1))\n",
    "    target_seq[0, 0] = tar_word_to_index['sostoken']\n",
    "\n",
    "    stop_condition = False\n",
    "    decoded_sentence = ''\n",
    "    while not stop_condition: # stop_condition이 True가 될 때까지 루프 반복\n",
    "\n",
    "        output_tokens, h, c = decoder_model.predict([target_seq] + [e_out, e_h, e_c])\n",
    "        sampled_token_index = np.argmax(output_tokens[0, -1, :])\n",
    "        sampled_token = tar_index_to_word[sampled_token_index]\n",
    "\n",
    "        if(sampled_token!='eostoken'):\n",
    "            decoded_sentence += ' '+sampled_token\n",
    "\n",
    "        #  <eos>에 도달하거나 최대 길이를 넘으면 중단.\n",
    "        if (sampled_token == 'eostoken'  or len(decoded_sentence.split()) >= (headlines_max_len-1)):\n",
    "            stop_condition = True\n",
    "\n",
    "        # 길이가 1인 타겟 시퀀스를 업데이트\n",
    "        target_seq = np.zeros((1,1))\n",
    "        target_seq[0, 0] = sampled_token_index\n",
    "\n",
    "        # 상태를 업데이트 합니다.\n",
    "        e_h, e_c = h, c\n",
    "\n",
    "    return decoded_sentence"
   ]
  },
  {
   "cell_type": "markdown",
   "metadata": {},
   "source": [
    "### 모델 테스트"
   ]
  },
  {
   "cell_type": "code",
   "execution_count": 45,
   "metadata": {},
   "outputs": [],
   "source": [
    "# 원문의 정수 시퀀스를 텍스트 시퀀스로 변환\n",
    "def seq2text(input_seq):\n",
    "    temp=''\n",
    "    for i in input_seq:\n",
    "        if(i!=0):\n",
    "            temp = temp + src_index_to_word[i]+' '\n",
    "    return temp\n",
    "\n",
    "# 요약문의 정수 시퀀스를 텍스트 시퀀스로 변환\n",
    "def seq2summary(input_seq):\n",
    "    temp=''\n",
    "    for i in input_seq:\n",
    "        if((i!=0 and i!=tar_word_to_index['sostoken']) and i!=tar_word_to_index['eostoken']):\n",
    "            temp = temp + tar_index_to_word[i] + ' '\n",
    "    return temp"
   ]
  },
  {
   "cell_type": "code",
   "execution_count": 46,
   "metadata": {},
   "outputs": [
    {
     "name": "stdout",
     "output_type": "stream",
     "text": [
      "원문 : international team researchers turned diamond using ray laser also following time resolved manner first time diamond different forms carbon crystal structure scientists found phase transition diamond ordered crystal structure form takes \n",
      "실제 요약 : scientists turn diamond into using ray laser \n",
      "예측 요약 :  of world largest diamond is not in\n",
      "\n",
      "\n",
      "원문 : scoring runs taking wickets asia cup afghanistan year old cricketer rashid khan become top ranked rounder odi cricket per latest icc rankings rashid played odis far scoring runs average taking wickets notably rashid top ranked bowler well \n",
      "실제 요약 : year old rashid becomes top ranked all rounder in odi cricket \n",
      "예측 요약 :  rashid khan to become nd most odi rankings in odis\n",
      "\n",
      "\n",
      "원문 : shah rukh khan asked would like wish salman khan occasion nd birthday today replied singing tum saal able meet children want spend time celebrate later added shah rukh \n",
      "실제 요약 : shah rukh to salman on his birthday \n",
      "예측 요약 :  salman is my birthday my srk srk\n",
      "\n",
      "\n",
      "원문 : australian captain steve smith took one handed catch backwards dismiss wriddhiman saha playing cummins bowled kmph bouncer struck saha gloves first slip smith backwards jumped one leg taking one handed catch send saha back pavilion \n",
      "실제 요약 : smith takes one handed catch to dismiss saha \n",
      "예측 요약 :  steve smith takes catch while running out of boundary\n",
      "\n",
      "\n",
      "원문 : tesla co founder ceo elon musk announced tuesday considering taking company private public major distraction shareholding employees musk owns company clarified intend control decision final would subject shareholder vote musk added \n",
      "실제 요약 : decision to take tesla private not final ceo elon musk \n",
      "예측 요약 :  elon musk says he is tesla model\n",
      "\n",
      "\n",
      "원문 : israeli ministry tourism hoping promote anti terrorism defence tourism india help indian travel agents senior tourism ministry official said thursday said tourists want know shoot hide tackle similar interested promoting anything brings tourists \n",
      "실제 요약 : israel promotes anti terrorism tourism in india \n",
      "예측 요약 :  israel to introduce anti pm modi israel meet\n",
      "\n",
      "\n",
      "원문 : many naxals gunned two separate encounters took place two days maharashtra district naxals killed encounter sunday another six killed monday encounter first broken police team dispatched area fired upon \n",
      "실제 요약 : naxals down in two days in maharashtra \n",
      "예측 요약 :  naxals killed in encounter in mp\n",
      "\n",
      "\n",
      "원문 : gurugram host first ever human library session october people would able borrow human minutes hear stories free human books narrate stories include homosexual recovering drug addict event organisers said sessions conducted every weekend gurugram \n",
      "실제 요약 : gurugram to host its first ever human library \n",
      "예측 요약 :  gurugram st human body to human human rights\n",
      "\n",
      "\n",
      "원문 : mumbai terror attack mastermind jamaat ud dawah chief hafiz saeed filed petition united nations asking removal name list designated terrorists saeed put list december un following attack killed people saeed recently released house arrest pakistan \n",
      "실제 요약 : mastermind hafiz saeed asks un to drop terrorist tag \n",
      "예측 요약 :  mastermind hafiz saeed name to be called\n",
      "\n",
      "\n",
      "원문 : goa chief minister manohar parrikar planning launch bike ambulances deal casualties state tourism belt ambulances equipped basic life saving equipment two oxygen cylinders serve rapid service places four wheeler ambulances cannot reach total bike ambulances introduced next six months \n",
      "실제 요약 : goa cm parrikar to launch bike in the state \n",
      "예측 요약 :  goa cm announces building bombing along loc\n",
      "\n",
      "\n",
      "원문 : air india reportedly ordered probe one senior pilots threatening hit trainee pilots crash axe least two flights comes two trainee pilots complained higher authorities instructor behaviour airline also directed senior pilot perform duties instructor till orders \n",
      "실제 요약 : air india senior pilot threatens trainee pilots with axe \n",
      "예측 요약 :  air india pilot to crash victims of sea reports\n",
      "\n",
      "\n",
      "원문 : minister state pmo jitendra singh tuesday clarified government planning change age criteria eligibility appear civil services examinations speculations triggered niti aayog reportedly proposed upper age limit aspirants reduced years general category phased manner \n",
      "실제 요약 : no plans to change age limit for civil service exam govt \n",
      "예측 요약 :  govt to to be allowed to doctors in dec\n",
      "\n",
      "\n",
      "원문 : new delhi based co working space startup raised million series funding round existing investors sequoia capital three sisters institutional office capital latest funding round reportedly valued startup million founded allows customers book workplaces ranging hour months \n",
      "실제 요약 : co working space startup raises million \n",
      "예측 요약 :  new delhi startup raises crore from new york\n",
      "\n",
      "\n",
      "원문 : swimming pool opened death valley hottest spot north america swimming pool fed underground spring water kept ensure also used irrigation built resort \n",
      "실제 요약 : swimming pool opens in north america place \n",
      "예측 요약 :  snake found in pool to the world cup\n",
      "\n",
      "\n",
      "원문 : sky pink director bose producer siddharth roy kapur hosted surprise party priyanka chopra ahead wedding priyanka brother siddharth chopra fianc nick jonas also part celebration team celebrated occasion champagne cake read congratulations dear bride \n",
      "실제 요약 : the sky is team surprises priyanka ahead of her wedding \n",
      "예측 요약 :  priyanka chopra shares priyanka chopra on wedding\n",
      "\n",
      "\n",
      "원문 : super mario run mobile game launched ios december earned maker million far launching android platform march gamers require active internet connection play game portion game played free higher levels paid \n",
      "실제 요약 : super mario run game to launch on android on march \n",
      "예측 요약 :  oneplus launches its highest ever share app\n",
      "\n",
      "\n",
      "원문 : hyderabad high court asked andhra pradesh director general police file affidavit regarding police practice accused people media police authority allow media publish accused photos court added comes petitioner sought action police theft accused mother media \n",
      "실제 요약 : hc questions andhra police for accused before media \n",
      "예측 요약 :  police complaint against police for complaint against\n",
      "\n",
      "\n",
      "원문 : comparing actress sri reddy rani jhansi ram gopal varma wrote sri lakshmi bai used body weapon fight film industry actress went topless protest casting couch telugu film industry rgv added drawn attention casting couch anyone last years \n",
      "실제 요약 : sri lakshmi used body as weapon to fight rgv \n",
      "예측 요약 :  sri lanka actress slams film over scene in film industry\n",
      "\n",
      "\n",
      "원문 : mit researchers developed artificial intelligence model claim capable detecting depression individuals based spoken written responses model called context free analyses things communicated rather communicated also researchers claimed model demonstrated success rate identifying depression \n",
      "실제 요약 : mit develops ai which can detect depression from speech \n",
      "예측 요약 :  mit develops ai that can\n",
      "\n",
      "\n",
      "원문 : online travel startup founding member chief technology officer sahni interview friday said asked build two weeks built within three weeks added revealed technology team would code day respond customer emails night \n",
      "실제 요약 : we were asked to build in weeks reveals cto \n",
      "예측 요약 :  startup to shut down its own cars after years\n",
      "\n",
      "\n",
      "원문 : white house chief staff john kelly called president donald trump idiot discussion immigration report nbc claimed even understand idiot got save kelly reportedly said following report trump said fake news going crazy \n",
      "실제 요약 : white house chief of staff called trump an idiot reports \n",
      "예측 요약 :  white house staff asks trump to remove wh info\n",
      "\n",
      "\n",
      "원문 : india stand captain rohit sharma moved two places fifth spot icc rankings odi batsmen scoring third odi double ton second odi sri lanka shikhar dhawan named man series gained one slot reach th position aggregating runs sri lanka series \n",
      "실제 요약 : rohit moves up to no in odi batsmen rankings \n",
      "예측 요약 :  rohit sharma th odi odi rankings came against odis\n",
      "\n",
      "\n",
      "원문 : new zealand prime minister jacinda ardern friday announced expecting first child ardern second elected world leader former pakistani prime minister benazir bhutto give birth office ardern became country youngest prime minister since taking office october last year \n",
      "실제 요약 : new zealand pm announces pregnancy \n",
      "예측 요약 :  new zealand pm appoints st time in pakistan history\n",
      "\n",
      "\n",
      "원문 : bombay high court thursday dismissed appeal convicts bano rape case upheld life imprisonment cbi appeal demanding death penalty three convicts also dismissed gujarat riots pregnant bano gang raped members family including year old daughter brutally murdered \n",
      "실제 요약 : rape case hc upholds life term for convicts \n"
     ]
    },
    {
     "name": "stdout",
     "output_type": "stream",
     "text": [
      "예측 요약 :  hc allows kathua rape victim to murder victim\n",
      "\n",
      "\n",
      "원문 : filmmaker anurag basu said music composer pritam one greatest strengths behind movies basu added association started television days since jagga jasoos fact fourth movie together basu said pritam family wishing composer bigger success th birthday wednesday \n",
      "실제 요약 : pritam is one of greatest behind my movies basu \n",
      "예측 요약 :  was not an actor for acting at oscars\n",
      "\n",
      "\n",
      "원문 : bollywood hrithik roshan yesterday opened stylish new store delhi igi airport first time opened store airport ceo commented delighted announce opening first airport store delhi airport honoured hrithik able join us today \n",
      "실제 요약 : brand ambassador hrithik opens new store at delhi airport \n",
      "예측 요약 :  hrithik launches new airport at delhi airport\n",
      "\n",
      "\n",
      "원문 : actor shah rukh khan wax statue unveiled madame tussauds museum wednesday king romance badshah bollywood makes entry tussauds delhi read tweet posted museum handle responding one tweets actor wrote always pleasure delhi thank \n",
      "실제 요약 : srk wax statue unveiled at madame tussauds delhi \n",
      "예측 요약 :  srk unveils statue at delhi madame tussauds\n",
      "\n",
      "\n",
      "원문 : bjp president amit shah hailed supreme court judgement triple talaq saying verdict historic said anyone win loss welcome behalf bjp meanwhile congress leader kapil sibal said hail judgement protects personal laws time practice triple talaq \n",
      "실제 요약 : this verdict on triple talaq is historic amit shah \n",
      "예측 요약 :  triple talaq verdict will be sc on triple talaq\n",
      "\n",
      "\n",
      "원문 : staff construction hospital building uttar pradesh made sleep post mortem house construction building completed yet hence employees bound sleep like chief medical officer chaturvedi said hospital construction three years scheduled ready \n",
      "실제 요약 : hospital staff made to sleep in post mortem house in up \n",
      "예측 요약 :  up hospital denies reports of her ill after years\n",
      "\n",
      "\n",
      "원문 : cambridge university research theorised habitable planets exist around spinning neutron stars called emit short pulses radiation planets must enormous atmosphere converts rays high energy particles pulsar heat researchers studied milky way found five pulsar planets far \n",
      "실제 요약 : habitable planets could exist around stars study \n",
      "예측 요약 :  scientists discover planet planet the planet\n",
      "\n",
      "\n",
      "원문 : actor sanjay dutt talking time father late sunil dutt discovered smoking habit said added father caught smoking bathroom took inside room thrashed know need stop smoking attempt soon sanjay said \n",
      "실제 요약 : the sanjay on being caught smoking by dad \n",
      "예측 요약 :  my son is my life but not dad sanjay dutt\n",
      "\n",
      "\n",
      "원문 : according reports shahid kapoor replaced ranveer singh hindi remake telugu film arjun reddy padmavati ranveer voluntarily limits dark characters sandeep went ranveer padmavati co star shahid kapoor said source film revolves around character turns drug addict break \n",
      "실제 요약 : shahid replaces ranveer in arjun reddy remake reports \n",
      "예측 요약 :  shahid ranveer to ranveer singh in simmba report\n",
      "\n",
      "\n",
      "원문 : technology giant google set launch pixel smartphone october according reports new smartphone snapdragon processor gb ram pressure sensitive sides pixel reportedly also water dust resistant said coming standard xl version \n",
      "실제 요약 : google to launch pixel on october \n",
      "예측 요약 :  google to launch pixel pixel xl report\n",
      "\n",
      "\n",
      "원문 : cbi registered cases punjab national bank officials fraudulently processing loans causing loss crore cbi alleged officials sanctioned disbursed loans based forged documents cbi added searches led recovery incriminating documents details bank lockers hard among others \n",
      "실제 요약 : cbi registers cr bank fraud case against pnb officials \n",
      "예측 요약 :  cbi officials booked for cr fraud loan\n",
      "\n",
      "\n",
      "원문 : british newspaper telegraph wednesday mistakenly announced death prince philip longest serving british history due carry final solo engagement incomplete article titled hold hold hold prince philip duke edinburgh dies age newspaper apologised mistake rectified immediately \n",
      "실제 요약 : uk daily mistakenly announces death of prince philip \n",
      "예측 요약 :  uk spy agency apologises for queen aged\n",
      "\n",
      "\n",
      "원문 : richa chadha aditi rao hydari rahul bhat starrer dev released today cocktail emotions power games wrote hindustan times film grip said times india indian express wrote film enough impact rated \n",
      "실제 요약 : richa aditi starrer dev hits the theatres \n",
      "예측 요약 :  richa chadha starrer richa chadha starrer hits theatres\n",
      "\n",
      "\n",
      "원문 : video shows bus weighing around tonnes driving bridge designed allow vehicles heavy tonnes us video bridge bending slightly bus weight officials department transportation closed bridge seeing video check damage \n",
      "실제 요약 : video us bridge as tonne bus drives on it \n",
      "예측 요약 :  bus driver catches fire in minutes\n",
      "\n",
      "\n",
      "원문 : according reports actress angelina jolie planning quit acting films wants focus six children upcoming fantasy film reportedly last film wants write direct far acting concerned retired source quoted saying \n",
      "실제 요약 : to be angelina jolie last film reports \n",
      "예측 요약 :  huma to star in divorce of tv reports\n",
      "\n",
      "\n",
      "원문 : australian cricketer david warner issued public apology involvement ball tampering south africa saying game love warner instructed team youngest member cameron bancroft carry plan banned international domestic cricket year leading australian team ever \n",
      "실제 요약 : it is on game warner apologises for ball tampering \n",
      "예측 요약 :  warner wife calls for not ball for wc\n",
      "\n",
      "\n",
      "원문 : national carrier air india removed executive director flight services soman post transfer due internal disputes operations flight services department according reports second time past two years soman tenure particular post cut short \n",
      "실제 요약 : air india removes executive director for in flight services \n",
      "예측 요약 :  air india flight to be held for delay\n",
      "\n",
      "\n",
      "원문 : bjp mla kuldeep singh sengar accused abducting raping minor girl shifted unnao jail sitapur jail victim family appeal allahabad high court earlier uttar pradesh government also withdrawn category security cover cbi currently probing crime allegedly committed last year \n",
      "실제 요약 : unnao rape accused bjp mla shifted from unnao jail \n",
      "예측 요약 :  bjp mla rape accused of raping minor in months\n",
      "\n",
      "\n",
      "원문 : railways started installing wires seal illegal entry exit points railway premises across mumbai stop people crossing tracks decision taken found around commuters die local railway network annually deaths take place commuters cross tracks \n",
      "실제 요약 : mumbai stations get to stop track crossing \n",
      "예측 요약 :  railways to hold trains in trains by\n",
      "\n",
      "\n",
      "원문 : automobile manufacturer toyota unveiled hydrogen powered concept car called fine comfort ride features tyres tyres include individual motors wheel band rubber plastic aluminium hub tyres aim help reduce weight battery electric fuel cell vehicles boost performance \n",
      "실제 요약 : toyota unveils concept car with tyres \n",
      "예측 요약 :  concept unveils concept that can sell driver\n",
      "\n",
      "\n",
      "원문 : uzbekistan released journalist jailed years world longest known prison term served journalist yusuf sentenced years prison convicted sedition running banned newspaper sentence extended allegedly violating prison rules \n",
      "실제 요약 : frees world longest jailed journo after yrs \n",
      "예측 요약 :  who was jailed for yrs in prison\n",
      "\n",
      "\n",
      "원문 : comedian bill earlier facing years face years jail sexually assaulting andrea convicted april three counts assault assaulting home year old comedian currently house arrest million bail \n",
      "실제 요약 : bill faces yrs in jail for sexual assault \n",
      "예측 요약 :  bill of sex abuse yrs jailed for years\n",
      "\n",
      "\n",
      "원문 : reacting pakistan captain sarfraz ahmed batting stance australia user tweeted stance like keeps bowler bowl batsman reminds abdul well others reacted stance tweets like sarfraz batting stance resembles one javed miandad shows confident today \n",
      "실제 요약 : keeps the bowler tweets user on sarfraz stance \n",
      "예측 요약 :  twitter reacts to pak team tweets user\n",
      "\n",
      "\n",
      "원문 : reserve bank india bought gold first time nearly years financial year central bank added tonnes gold last fiscal taking level gold reserves tonnes june rbi last purchased tonnes gold international monetary fund november \n",
      "실제 요약 : rbi buys gold for the first time in years \n",
      "예측 요약 :  rbi becomes st indian to gold gold in yrs\n",
      "\n",
      "\n",
      "원문 : former finance minister congress leader chidambaram said indian economy bomb jobless growth calling farm output jobs infant mortality literacy exports real indicators health economy said afraid indicators good \n",
      "실제 요약 : jobless growth is bomb says chidambaram \n"
     ]
    },
    {
     "name": "stdout",
     "output_type": "stream",
     "text": [
      "예측 요약 :  chidambaram will not be in economy by now chidambaram\n",
      "\n",
      "\n",
      "원문 : bjp president amit shah thursday said opposition also start working instead bjp return power bigger mandate added working together pm modi working people bjp working expansion mode believe win \n",
      "실제 요약 : opp should stop bjp will win big in shah \n",
      "예측 요약 :  bjp leaders will take place of amit shah\n",
      "\n",
      "\n",
      "원문 : union law minister ravi shankar prasad written union ministers state chief ministers take measures reduce government litigation order curb cases courts notably government departments nearly crore pending cases various courts across india prasad added \n",
      "실제 요약 : reduce to curb govt to cms union mins \n",
      "예측 요약 :  union cabinet clears govt ministers in corruption case\n",
      "\n",
      "\n"
     ]
    }
   ],
   "source": [
    "for i in range(50, 100):\n",
    "    print(\"원문 :\", seq2text(encoder_input_test[i]))\n",
    "    print(\"실제 요약 :\", seq2summary(decoder_input_test[i]))\n",
    "    print(\"예측 요약 :\", decode_sequence(encoder_input_test[i].reshape(1, text_max_len)))\n",
    "    print(\"\\n\")"
   ]
  },
  {
   "cell_type": "markdown",
   "metadata": {},
   "source": [
    "### Summa을 이용해서 추출적 요약해보기"
   ]
  },
  {
   "cell_type": "code",
   "execution_count": 47,
   "metadata": {},
   "outputs": [],
   "source": [
    "import requests\n",
    "from summa.summarizer import summarize"
   ]
  },
  {
   "cell_type": "code",
   "execution_count": 48,
   "metadata": {},
   "outputs": [],
   "source": [
    "data2 = pd.read_csv('news_summary_more.csv', encoding='iso-8859-1')"
   ]
  },
  {
   "cell_type": "code",
   "execution_count": 52,
   "metadata": {},
   "outputs": [
    {
     "data": {
      "text/html": [
       "<div>\n",
       "<style scoped>\n",
       "    .dataframe tbody tr th:only-of-type {\n",
       "        vertical-align: middle;\n",
       "    }\n",
       "\n",
       "    .dataframe tbody tr th {\n",
       "        vertical-align: top;\n",
       "    }\n",
       "\n",
       "    .dataframe thead th {\n",
       "        text-align: right;\n",
       "    }\n",
       "</style>\n",
       "<table border=\"1\" class=\"dataframe\">\n",
       "  <thead>\n",
       "    <tr style=\"text-align: right;\">\n",
       "      <th></th>\n",
       "      <th>headlines</th>\n",
       "      <th>text</th>\n",
       "    </tr>\n",
       "  </thead>\n",
       "  <tbody>\n",
       "    <tr>\n",
       "      <th>0</th>\n",
       "      <td>upGrad learner switches to career in ML &amp; Al w...</td>\n",
       "      <td>Saurav Kant, an alumnus of upGrad and IIIT-B's...</td>\n",
       "    </tr>\n",
       "    <tr>\n",
       "      <th>1</th>\n",
       "      <td>Delhi techie wins free food from Swiggy for on...</td>\n",
       "      <td>Kunal Shah's credit card bill payment platform...</td>\n",
       "    </tr>\n",
       "    <tr>\n",
       "      <th>2</th>\n",
       "      <td>New Zealand end Rohit Sharma-led India's 12-ma...</td>\n",
       "      <td>New Zealand defeated India by 8 wickets in the...</td>\n",
       "    </tr>\n",
       "    <tr>\n",
       "      <th>3</th>\n",
       "      <td>Aegon life iTerm insurance plan helps customer...</td>\n",
       "      <td>With Aegon Life iTerm Insurance plan, customer...</td>\n",
       "    </tr>\n",
       "    <tr>\n",
       "      <th>4</th>\n",
       "      <td>Have known Hirani for yrs, what if MeToo claim...</td>\n",
       "      <td>Speaking about the sexual harassment allegatio...</td>\n",
       "    </tr>\n",
       "  </tbody>\n",
       "</table>\n",
       "</div>"
      ],
      "text/plain": [
       "                                           headlines  \\\n",
       "0  upGrad learner switches to career in ML & Al w...   \n",
       "1  Delhi techie wins free food from Swiggy for on...   \n",
       "2  New Zealand end Rohit Sharma-led India's 12-ma...   \n",
       "3  Aegon life iTerm insurance plan helps customer...   \n",
       "4  Have known Hirani for yrs, what if MeToo claim...   \n",
       "\n",
       "                                                text  \n",
       "0  Saurav Kant, an alumnus of upGrad and IIIT-B's...  \n",
       "1  Kunal Shah's credit card bill payment platform...  \n",
       "2  New Zealand defeated India by 8 wickets in the...  \n",
       "3  With Aegon Life iTerm Insurance plan, customer...  \n",
       "4  Speaking about the sexual harassment allegatio...  "
      ]
     },
     "execution_count": 52,
     "metadata": {},
     "output_type": "execute_result"
    }
   ],
   "source": [
    "data2.head()"
   ]
  },
  {
   "cell_type": "code",
   "execution_count": 67,
   "metadata": {},
   "outputs": [
    {
     "name": "stdout",
     "output_type": "stream",
     "text": [
      "original: saurav kant alumnus upgrad iiit pg program machine learning artificial intelligence sr systems engineer infosys almost years work experience program upgrad degree career support helped transition data scientist tech mahindra salary hike upgrad online power learning powered lakh careers\n",
      "\n",
      " healines: upgrad learner switches to career in ml al with salary hike\n",
      "\n",
      " summarise:  upGrad's Online Power Learning has powered 3 lakh+ careers.\n",
      "original: new zealand defeated india wickets fourth odi hamilton thursday win first match five match odi series india lost international match rohit sharma captaincy consecutive victories dating back march match witnessed india getting seventh lowest total odi cricket history\n",
      "\n",
      " healines: new zealand end rohit sharma led india match winning streak\n",
      "\n",
      " summarise:  The match witnessed India getting all out for 92, their seventh lowest total in ODI cricket history.\n",
      "original: aegon life iterm insurance plan customers enjoy tax benefits premiums paid save taxes plan provides life cover age years also customers options insure critical illnesses disability accidental death benefit rider life cover age years\n",
      "\n",
      " healines: aegon life iterm insurance plan helps customers save tax\n",
      "\n",
      " summarise:  Also, customers have options to insure against Critical Illnesses, Disability and Accidental Death Benefit Rider with a life cover up to the age of 80 years.\n",
      "original: pakistani singer rahat fateh ali khan denied receiving notice enforcement directorate allegedly smuggling foreign currency india would better authorities would served notice first publicised reads press release issued behalf rahat statement called allegation bizarre\n",
      "\n",
      " healines: rahat fateh ali khan denies getting notice for smuggling currency\n",
      "\n",
      " summarise:  Pakistani singer Rahat Fateh Ali Khan has denied receiving any notice from the Enforcement Directorate over allegedly smuggling foreign currency out of India.\n"
     ]
    }
   ],
   "source": [
    "for i in [0,2,3,5]:\n",
    "    print(\"original:\", data['text'][i])\n",
    "    print(\"\\n healines:\", data['headlines'][i])\n",
    "    print(\"\\n summarise: \", summarize(data2['text'][i], ratio=0.35))"
   ]
  },
  {
   "cell_type": "markdown",
   "metadata": {},
   "source": [
    "## Conclusion\n",
    "\n",
    "- 잘 안되는 것도 있지만 완전히 어긋나지는 않아보여서 흥미로웠다.\n",
    "- summa도 ratio를 조절하면 나름 요약을 잘 해주는 듯 하다."
   ]
  }
 ],
 "metadata": {
  "kernelspec": {
   "display_name": "aiffel",
   "language": "python",
   "name": "aiffel"
  },
  "language_info": {
   "codemirror_mode": {
    "name": "ipython",
    "version": 3
   },
   "file_extension": ".py",
   "mimetype": "text/x-python",
   "name": "python",
   "nbconvert_exporter": "python",
   "pygments_lexer": "ipython3",
   "version": "3.7.6"
  },
  "toc": {
   "base_numbering": 1,
   "nav_menu": {},
   "number_sections": true,
   "sideBar": true,
   "skip_h1_title": false,
   "title_cell": "Table of Contents",
   "title_sidebar": "Contents",
   "toc_cell": false,
   "toc_position": {},
   "toc_section_display": true,
   "toc_window_display": false
  },
  "varInspector": {
   "cols": {
    "lenName": 16,
    "lenType": 16,
    "lenVar": 40
   },
   "kernels_config": {
    "python": {
     "delete_cmd_postfix": "",
     "delete_cmd_prefix": "del ",
     "library": "var_list.py",
     "varRefreshCmd": "print(var_dic_list())"
    },
    "r": {
     "delete_cmd_postfix": ") ",
     "delete_cmd_prefix": "rm(",
     "library": "var_list.r",
     "varRefreshCmd": "cat(var_dic_list()) "
    }
   },
   "types_to_exclude": [
    "module",
    "function",
    "builtin_function_or_method",
    "instance",
    "_Feature"
   ],
   "window_display": false
  }
 },
 "nbformat": 4,
 "nbformat_minor": 4
}
