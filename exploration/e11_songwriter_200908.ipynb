{
 "cells": [
  {
   "cell_type": "code",
   "execution_count": 2,
   "metadata": {
    "colab": {},
    "colab_type": "code",
    "id": "z9s_5JeDyX8K"
   },
   "outputs": [],
   "source": [
    "import re\n",
    "import tensorflow as tf\n",
    "from sklearn.model_selection import train_test_split\n",
    "import glob\n",
    "import os"
   ]
  },
  {
   "cell_type": "code",
   "execution_count": 6,
   "metadata": {
    "colab": {
     "base_uri": "https://localhost:8080/",
     "height": 71
    },
    "colab_type": "code",
    "id": "bx5d3tjqHyuQ",
    "outputId": "aa584d64-f6c3-4e7c-c82c-cdb08cbb2289"
   },
   "outputs": [
    {
     "name": "stdout",
     "output_type": "stream",
     "text": [
      "데이터 크기: 187088\n",
      "Examples:\n",
      " ['Ghost in the mirror', \"I knew your face once, but now it's unclear\", \"And I can't feel my body now\"]\n"
     ]
    }
   ],
   "source": [
    "txt_file_path = '../../aiffel/lyricist/data/lyrics/*'\n",
    "\n",
    "txt_list = glob.glob(txt_file_path)\n",
    "raw_corpus = []\n",
    "\n",
    "# 여러개의 txt 파일을 모두 읽어서 raw_corpus 에 담습니다.\n",
    "for txt_file in txt_list:\n",
    "    with open(txt_file, \"r\") as f:\n",
    "        raw = f.read().splitlines()\n",
    "        raw_corpus.extend(raw)\n",
    "\n",
    "print(\"데이터 크기:\", len(raw_corpus))\n",
    "print(\"Examples:\\n\", raw_corpus[:3])"
   ]
  },
  {
   "cell_type": "code",
   "execution_count": 7,
   "metadata": {
    "colab": {},
    "colab_type": "code",
    "id": "UL9hDhwEIeWR"
   },
   "outputs": [],
   "source": [
    "# 데이터 정제: preprocess_sentence() 활용\n",
    "# 토큰 개수 15개 넘지 않게\n",
    "def preprocess_sentence(sentence):\n",
    "    sentence = sentence.lower().strip()       # 소문자로 바꾸고 양쪽 공백을 삭제\n",
    "\n",
    "    # 아래 3단계를 거쳐 sentence는 스페이스 1개를 delimeter로 하는 소문자 단어 시퀀스로 바뀝니다.\n",
    "    # 패턴의 특수문자를 만나면 특수문자 양쪽에 공백을 추가\n",
    "    sentence = re.sub(r\"([?.!,¿])\", r\" \\1 \", sentence)\n",
    "    # 공백 패턴을 만나면 스페이스 1개로 치환\n",
    "    sentence = re.sub(r'[\" \"]+', \" \", sentence)\n",
    "    # a-zA-Z?.!,¿ 패턴을 제외한 모든 문자(공백문자까지도)를 스페이스 1개로 치환\n",
    "    sentence = re.sub(r\"[^a-zA-Z?.!,¿]+\", \" \", sentence)\n",
    "\n",
    "    sentence = sentence.strip()\n",
    "\n",
    "    # 이전 스텝에서 본 것처럼 문장 앞뒤로 <start>와 <end>를 단어처럼 붙여 줍니다\n",
    "    sentence = '<start> ' + sentence + ' <end>'\n",
    "\n",
    "    return sentence"
   ]
  },
  {
   "cell_type": "code",
   "execution_count": 8,
   "metadata": {
    "colab": {
     "base_uri": "https://localhost:8080/",
     "height": 197
    },
    "colab_type": "code",
    "id": "goYYIH_Dx4wS",
    "outputId": "23a4636d-cdf9-43f3-cd7a-140faaa985b5"
   },
   "outputs": [
    {
     "data": {
      "text/plain": [
       "['<start> ghost in the mirror <end>',\n",
       " '<start> i knew your face once , but now it s unclear <end>',\n",
       " '<start> and i can t feel my body now <end>',\n",
       " '<start> i m separate from here and now a drug and a dream <end>',\n",
       " '<start> we lost connection , oh come back to me <end>',\n",
       " '<start> so i can feel alive again <end>',\n",
       " '<start> soul and body try to mend it s pulling me apart , this time <end>',\n",
       " '<start> everything is never ending <end>',\n",
       " '<start> slipped into a peril that <end>',\n",
       " '<start> i ll never understand <end>']"
      ]
     },
     "execution_count": 8,
     "metadata": {},
     "output_type": "execute_result"
    }
   ],
   "source": [
    "corpus = []\n",
    "\n",
    "for sentence in raw_corpus:\n",
    "    if len(sentence) == 0: continue\n",
    "    if sentence[-1] == \":\": continue\n",
    "\n",
    "        \n",
    "    corpus.append(preprocess_sentence(sentence))\n",
    "        \n",
    "corpus[:10]"
   ]
  },
  {
   "cell_type": "code",
   "execution_count": 9,
   "metadata": {
    "colab": {
     "base_uri": "https://localhost:8080/",
     "height": 163
    },
    "colab_type": "code",
    "id": "LxXV4TEfym4A",
    "outputId": "f1354a14-3292-40b0-c026-14e2e23aae55"
   },
   "outputs": [
    {
     "name": "stdout",
     "output_type": "stream",
     "text": [
      "[[   2 1299   14 ...    0    0    0]\n",
      " [   2    5  361 ...    3    0    0]\n",
      " [   2    8    5 ...    0    0    0]\n",
      " ...\n",
      " [   5   22  713 ... 4178    4    3]\n",
      " [   5   22  713 ... 4178    4    3]\n",
      " [   5   22  713 ... 4178   20    3]] <keras_preprocessing.text.Tokenizer object at 0x7f5b5669e490>\n"
     ]
    }
   ],
   "source": [
    "# 토큰화하기\n",
    "def tokenize(corpus):\n",
    "    # 텐서플로우에서 제공하는 Tokenizer 패키지를 생성\n",
    "    tokenizer = tf.keras.preprocessing.text.Tokenizer(\n",
    "        num_words=7000,  # 전체 단어의 개수 \n",
    "        filters=' ',    # 별도로 전처리 로직을 추가할 수 있습니다. 이번에는 사용하지 않겠습니다.\n",
    "        oov_token=\"<unk>\"  # out-of-vocabulary, 사전에 없었던 단어는 어떤 토큰으로 대체할지\n",
    "    )\n",
    "    tokenizer.fit_on_texts(corpus)   # 우리가 구축한 corpus로부터 Tokenizer가 사전을 자동구축하게 됩니다.\n",
    "\n",
    "    # 이후 tokenizer를 활용하여 모델에 입력할 데이터셋을 구축하게 됩니다.\n",
    "    tensor = tokenizer.texts_to_sequences(corpus)   # tokenizer는 구축한 사전으로부터 corpus를 해석해 Tensor로 변환합니다.\n",
    "\n",
    "    # 입력 데이터의 시퀀스 길이를 일정하게 맞추기 위한 padding  메소드를 제공합니다.\n",
    "    # maxlen의 디폴트값은 None입니다. 이 경우 corpus의 가장 긴 문장을 기준으로 시퀀스 길이가 맞춰집니다.\n",
    "    tensor = tf.keras.preprocessing.sequence.pad_sequences(tensor, padding='post', maxlen = 15)  \n",
    "\n",
    "    print(tensor,tokenizer)\n",
    "    return tensor, tokenizer\n",
    "\n",
    "tensor, tokenizer = tokenize(corpus)"
   ]
  },
  {
   "cell_type": "code",
   "execution_count": 10,
   "metadata": {
    "colab": {},
    "colab_type": "code",
    "id": "PQXs_4dgzPx8"
   },
   "outputs": [],
   "source": [
    "src_input = tensor[:, :-1]  # tensor에서 마지막 토큰을 잘라내서 소스 문장을 생성합니다. 마지막 토큰은 <END>가 아니라 <pad>일 가능성이 높습니다.\n",
    "tgt_input = tensor[:, 1:]    # tensor에서 <START>를 잘라내서 타겟 문장을 생성합니다."
   ]
  },
  {
   "cell_type": "code",
   "execution_count": 11,
   "metadata": {
    "colab": {
     "base_uri": "https://localhost:8080/",
     "height": 53
    },
    "colab_type": "code",
    "id": "O3yiWwHBxflM",
    "outputId": "9c51dd0b-339a-40c4-abe8-a5ff72820876"
   },
   "outputs": [
    {
     "name": "stdout",
     "output_type": "stream",
     "text": [
      "Source Train: (140599, 14)\n",
      "Target Train: (140599, 14)\n"
     ]
    }
   ],
   "source": [
    "enc_train, enc_val, dec_train, dec_val = train_test_split( src_input, tgt_input, random_state=42,  test_size = 0.2, shuffle = True)\n",
    "print(\"Source Train:\", enc_train.shape)\n",
    "print(\"Target Train:\", dec_train.shape)"
   ]
  },
  {
   "cell_type": "code",
   "execution_count": 13,
   "metadata": {
    "colab": {},
    "colab_type": "code",
    "id": "gKZthGUyzUit"
   },
   "outputs": [],
   "source": [
    "BUFFER_SIZE = len(src_input)\n",
    "BATCH_SIZE = 256\n",
    "steps_per_epoch = len(src_input) // BATCH_SIZE\n",
    "\n",
    "VOCAB_SIZE = tokenizer.num_words + 1    # tokenizer가 구축한 단어사전 내 7000개와, 여기 포함되지 않은 0:<pad>를 포함하여 7001개\n",
    "\n",
    "tr_dataset = tf.data.Dataset.from_tensor_slices((enc_train, dec_train)).shuffle(BUFFER_SIZE)\n",
    "tr_dataset = tr_dataset.batch(BATCH_SIZE, drop_remainder=True)\n",
    "\n",
    "vl_dataset = tf.data.Dataset.from_tensor_slices((enc_val, dec_val)).shuffle(BUFFER_SIZE)\n",
    "vl_dataset = vl_dataset.batch(BATCH_SIZE, drop_remainder=True)"
   ]
  },
  {
   "cell_type": "code",
   "execution_count": 20,
   "metadata": {
    "colab": {},
    "colab_type": "code",
    "id": "N5YG2wu01OiG"
   },
   "outputs": [],
   "source": [
    "class TextGenerator(tf.keras.Model):\n",
    "    def __init__(self, vocab_size, embedding_size, hidden_size):\n",
    "        super(TextGenerator, self).__init__()\n",
    "        \n",
    "        self.embedding = tf.keras.layers.Embedding(vocab_size, embedding_size)\n",
    "        self.rnn_1 = tf.keras.layers.LSTM(hidden_size, return_sequences=True)\n",
    "        self.drop = tf.keras.layers.Dropout(0.3)\n",
    "        self.rnn_2 = tf.keras.layers.LSTM(hidden_size, return_sequences=True)\n",
    "        self.linear = tf.keras.layers.Dense(vocab_size)\n",
    "        \n",
    "    def call(self, x):\n",
    "        out = self.embedding(x)\n",
    "        out = self.rnn_1(out)\n",
    "        out = self.drop(out)\n",
    "        out = self.rnn_2(out)\n",
    "        out = self.linear(out)\n",
    "        \n",
    "        return out\n",
    "    \n",
    "embedding_size = 2048\n",
    "hidden_size = 1024\n",
    "model = None\n",
    "model = TextGenerator(tokenizer.num_words + 1, embedding_size , hidden_size)"
   ]
  },
  {
   "cell_type": "code",
   "execution_count": 21,
   "metadata": {
    "colab": {
     "base_uri": "https://localhost:8080/",
     "height": 1000
    },
    "colab_type": "code",
    "id": "9ydYYqt52h8A",
    "outputId": "f51059c2-4867-4af7-f6d6-5d7827eed291"
   },
   "outputs": [
    {
     "data": {
      "text/plain": [
       "<tf.Tensor: shape=(256, 14, 7001), dtype=float32, numpy=\n",
       "array([[[-3.4801276e-05, -4.6270812e-04, -1.8236437e-04, ...,\n",
       "         -1.4284156e-04, -1.2741965e-04,  3.0782074e-04],\n",
       "        [-2.2415402e-04, -8.8467076e-04, -7.1863108e-04, ...,\n",
       "         -2.1394994e-04, -7.0714648e-04,  8.3726953e-04],\n",
       "        [ 1.3037609e-04, -1.5497439e-03, -9.1975136e-04, ...,\n",
       "         -7.6895120e-04, -1.1104950e-03,  1.5279602e-03],\n",
       "        ...,\n",
       "        [-1.2070598e-03, -2.8885554e-05,  2.4759751e-03, ...,\n",
       "          1.4667608e-03, -1.4700283e-03,  1.6560509e-03],\n",
       "        [-9.8437199e-04,  3.6709316e-04,  2.6245208e-03, ...,\n",
       "          1.6193957e-03, -1.5501054e-03,  2.7231756e-04],\n",
       "        [-5.8745820e-04,  7.4081431e-04,  2.5208939e-03, ...,\n",
       "          2.0773930e-03, -1.7171977e-03,  5.5617060e-05]],\n",
       "\n",
       "       [[-3.4801276e-05, -4.6270812e-04, -1.8236437e-04, ...,\n",
       "         -1.4284156e-04, -1.2741965e-04,  3.0782074e-04],\n",
       "        [ 2.8307055e-04, -1.0416297e-03, -3.6664002e-04, ...,\n",
       "         -3.6434125e-04,  3.9001892e-04,  1.2336340e-05],\n",
       "        [ 1.1945684e-03, -5.3182762e-04, -4.1662349e-04, ...,\n",
       "         -6.8571692e-04,  6.3942565e-04, -3.8404422e-04],\n",
       "        ...,\n",
       "        [ 1.0472970e-03,  2.2233212e-03, -1.1175324e-03, ...,\n",
       "          1.2808620e-03,  5.8522256e-04,  1.5054535e-03],\n",
       "        [ 2.0210843e-03,  2.1964863e-03, -4.5934189e-04, ...,\n",
       "          2.1921052e-03,  8.4009109e-04,  4.6637928e-04],\n",
       "        [ 3.2267878e-03,  1.8926064e-03,  5.6742017e-05, ...,\n",
       "          2.9131742e-03,  1.0088915e-03, -5.7912286e-04]],\n",
       "\n",
       "       [[-3.4801276e-05, -4.6270812e-04, -1.8236437e-04, ...,\n",
       "         -1.4284156e-04, -1.2741965e-04,  3.0782074e-04],\n",
       "        [-1.5225454e-04, -1.3706946e-03,  7.6137268e-04, ...,\n",
       "         -9.0632989e-04, -4.7280785e-04, -1.3708808e-04],\n",
       "        [-5.8271998e-04, -1.4119459e-03,  1.4530191e-03, ...,\n",
       "         -1.1308191e-03, -6.0421653e-04, -3.8190183e-04],\n",
       "        ...,\n",
       "        [-6.2380095e-05, -7.7205230e-03, -2.1022486e-03, ...,\n",
       "         -1.3900315e-03,  2.3765599e-03, -6.0321222e-04],\n",
       "        [-1.5620912e-04, -8.9107966e-03, -2.7605640e-03, ...,\n",
       "         -1.7624720e-03,  2.4144291e-03, -8.1042619e-04],\n",
       "        [-1.9150969e-04, -9.9097593e-03, -3.3407637e-03, ...,\n",
       "         -2.1081355e-03,  2.4107601e-03, -1.0833028e-03]],\n",
       "\n",
       "       ...,\n",
       "\n",
       "       [[-3.4801276e-05, -4.6270812e-04, -1.8236437e-04, ...,\n",
       "         -1.4284156e-04, -1.2741965e-04,  3.0782074e-04],\n",
       "        [ 1.8466642e-04, -9.4646058e-04, -2.2653671e-04, ...,\n",
       "         -2.2178584e-04, -3.4252476e-04,  5.3402985e-04],\n",
       "        [ 1.4892228e-04, -6.9297664e-04, -6.1617582e-04, ...,\n",
       "         -3.2493341e-04, -5.0637772e-04,  2.2269959e-04],\n",
       "        ...,\n",
       "        [ 7.0496148e-04, -4.5551998e-03, -1.2126224e-03, ...,\n",
       "          7.1324059e-04,  3.9425944e-03,  1.8200836e-03],\n",
       "        [ 2.9692397e-04, -6.0921190e-03, -1.6219079e-03, ...,\n",
       "          2.6177874e-04,  4.0667830e-03,  1.3517585e-03],\n",
       "        [-2.5591446e-06, -7.5332825e-03, -2.1319480e-03, ...,\n",
       "         -2.4239042e-04,  4.0778029e-03,  8.1779918e-04]],\n",
       "\n",
       "       [[-3.4801276e-05, -4.6270812e-04, -1.8236437e-04, ...,\n",
       "         -1.4284156e-04, -1.2741965e-04,  3.0782074e-04],\n",
       "        [ 4.3460683e-04, -1.4009599e-03, -2.1782861e-04, ...,\n",
       "          7.6010343e-05,  7.0448783e-05,  4.4975095e-04],\n",
       "        [-6.1629830e-06, -1.5342847e-03,  3.9227257e-04, ...,\n",
       "          5.0292257e-04,  1.0143654e-04,  7.5484836e-04],\n",
       "        ...,\n",
       "        [ 3.6104384e-04, -4.4380068e-03, -9.6783997e-04, ...,\n",
       "          2.6913639e-04,  1.5871945e-03,  7.3271536e-04],\n",
       "        [ 9.1916940e-05, -6.1710207e-03, -1.8024496e-03, ...,\n",
       "         -5.5615482e-04,  1.7099783e-03,  4.6232040e-04],\n",
       "        [-7.6370736e-05, -7.7296915e-03, -2.6221243e-03, ...,\n",
       "         -1.3034185e-03,  1.7602009e-03,  1.1682409e-04]],\n",
       "\n",
       "       [[-3.4801276e-05, -4.6270812e-04, -1.8236437e-04, ...,\n",
       "         -1.4284156e-04, -1.2741965e-04,  3.0782074e-04],\n",
       "        [ 1.8546736e-04, -1.0490209e-03,  1.2930864e-04, ...,\n",
       "         -3.1077053e-04, -1.2196668e-03, -2.8554936e-05],\n",
       "        [ 4.3550404e-04, -2.2892423e-03,  1.1520307e-03, ...,\n",
       "         -9.1191212e-04, -1.0985720e-03, -4.3704282e-04],\n",
       "        ...,\n",
       "        [ 2.3833218e-03,  9.0462121e-04, -9.4400911e-04, ...,\n",
       "          5.6008721e-04, -9.9329359e-04, -7.5265154e-04],\n",
       "        [ 3.1950194e-03,  7.1223872e-04, -1.6622248e-03, ...,\n",
       "         -8.1796265e-05,  3.3784972e-06, -9.6870185e-04],\n",
       "        [ 3.9326889e-03,  7.0977164e-04, -2.0136598e-03, ...,\n",
       "         -4.7535973e-04,  2.5051573e-04, -1.7527536e-03]]], dtype=float32)>"
      ]
     },
     "execution_count": 21,
     "metadata": {},
     "output_type": "execute_result"
    }
   ],
   "source": [
    "for src_sample, tgt_sample in tr_dataset.take(1): break\n",
    "model(src_sample)"
   ]
  },
  {
   "cell_type": "code",
   "execution_count": 22,
   "metadata": {
    "colab": {
     "base_uri": "https://localhost:8080/",
     "height": 341
    },
    "colab_type": "code",
    "id": "ZidTlWXB4MAH",
    "outputId": "ea6e393b-a210-4fb1-8dd0-c6f179648abb"
   },
   "outputs": [
    {
     "name": "stdout",
     "output_type": "stream",
     "text": [
      "Model: \"text_generator_1\"\n",
      "_________________________________________________________________\n",
      "Layer (type)                 Output Shape              Param #   \n",
      "=================================================================\n",
      "embedding_1 (Embedding)      multiple                  14338048  \n",
      "_________________________________________________________________\n",
      "lstm_2 (LSTM)                multiple                  12587008  \n",
      "_________________________________________________________________\n",
      "dropout_1 (Dropout)          multiple                  0         \n",
      "_________________________________________________________________\n",
      "lstm_3 (LSTM)                multiple                  8392704   \n",
      "_________________________________________________________________\n",
      "dense_1 (Dense)              multiple                  7176025   \n",
      "=================================================================\n",
      "Total params: 42,493,785\n",
      "Trainable params: 42,493,785\n",
      "Non-trainable params: 0\n",
      "_________________________________________________________________\n"
     ]
    }
   ],
   "source": [
    "model.summary()"
   ]
  },
  {
   "cell_type": "code",
   "execution_count": 23,
   "metadata": {
    "colab": {
     "base_uri": "https://localhost:8080/",
     "height": 125
    },
    "colab_type": "code",
    "id": "Hw5ax3004Pt3",
    "outputId": "e80116a6-07c8-416d-c1ee-688854983a23"
   },
   "outputs": [
    {
     "name": "stdout",
     "output_type": "stream",
     "text": [
      "Epoch 1/8\n",
      "4394/4394 [==============================] - 441s 100ms/step - loss: 2.9953 - val_loss: 2.7187\n",
      "Epoch 2/8\n",
      "4394/4394 [==============================] - 418s 95ms/step - loss: 2.5327 - val_loss: 2.5185\n",
      "Epoch 3/8\n",
      "4394/4394 [==============================] - 418s 95ms/step - loss: 2.2636 - val_loss: 2.4231\n",
      "Epoch 4/8\n",
      "4394/4394 [==============================] - 419s 95ms/step - loss: 2.0687 - val_loss: 2.3752\n",
      "Epoch 5/8\n",
      "4394/4394 [==============================] - 419s 95ms/step - loss: 1.9260 - val_loss: 2.3544\n",
      "Epoch 6/8\n",
      "4394/4394 [==============================] - 418s 95ms/step - loss: 1.8218 - val_loss: 2.3517\n",
      "Epoch 7/8\n",
      "4394/4394 [==============================] - 419s 95ms/step - loss: 1.7421 - val_loss: 2.3554\n",
      "Epoch 8/8\n",
      "4394/4394 [==============================] - 419s 95ms/step - loss: 1.6822 - val_loss: 2.3621\n"
     ]
    }
   ],
   "source": [
    "optimizer = tf.keras.optimizers.Adam()\n",
    "#Loss\n",
    "# 모델의 Embedding Size와 Hidden Size를 조절하며 10 Epoch 안에 val_loss 값을 2.2 수준으로 줄일 수 있는 모델을 설계하세요! \n",
    "\n",
    "loss = tf.keras.losses.SparseCategoricalCrossentropy(\n",
    "    from_logits=True,\n",
    "    reduction='none'\n",
    ")\n",
    "\n",
    "model.compile(loss=loss, optimizer=optimizer)\n",
    "history = model.fit(enc_train, dec_train, \n",
    "          validation_data = (enc_val, dec_val), epochs=8)"
   ]
  },
  {
   "cell_type": "code",
   "execution_count": 29,
   "metadata": {
    "colab": {},
    "colab_type": "code",
    "id": "sLRgytGz4cVk"
   },
   "outputs": [],
   "source": [
    "def generate_text(model, tokenizer, init_sentence=\"<start>\", max_len=20):\n",
    "    # 테스트를 위해서 입력받은 init_sentence도 일단 텐서로 변환합니다.\n",
    "    test_input = tokenizer.texts_to_sequences([init_sentence])\n",
    "    test_tensor = tf.convert_to_tensor(test_input, dtype=tf.int64)\n",
    "    end_token = tokenizer.word_index[\"<end>\"]\n",
    "\n",
    "    # 텍스트를 실제로 생성할때는 루프를 돌면서 단어 하나씩 생성해야 합니다.\n",
    "    while True:\n",
    "        predict = model(test_tensor)  # 입력받은 문장의 텐서를 입력합니다.\n",
    "        # 우리 모델이 예측한 마지막 단어가 바로 새롭게 생성한 단어가 됩니다.\n",
    "        predict_word = tf.argmax(tf.nn.softmax(\n",
    "            predict, axis=-1), axis=-1)[:, -1]\n",
    "\n",
    "        # 우리 모델이 새롭게 예측한 단어를 입력 문장의 뒤에 붙여 줍니다.\n",
    "        test_tensor = tf.concat(\n",
    "            [test_tensor, tf.expand_dims(predict_word, axis=0)], axis=-1)\n",
    "\n",
    "        # 우리 모델이 <END>를 예측했거나, max_len에 도달하지 않았다면  while 루프를 또 돌면서 다음 단어를 예측해야 합니다.\n",
    "        if predict_word.numpy()[0] == end_token:\n",
    "            break\n",
    "        if test_tensor.shape[1] >= max_len:\n",
    "            break\n",
    "\n",
    "    generated = \"\"\n",
    "    # 생성된 tensor 안에 있는 word index를 tokenizer.index_word 사전을 통해 실제 단어로 하나씩 변환합니다.\n",
    "\n",
    "    for word_index in test_tensor[0].numpy():\n",
    "            generated += (tokenizer.index_word[word_index] + \" \")\n",
    "\n",
    "    return generated   # 이것이 최종적으로 모델이 생성한 자연어 문장입니다."
   ]
  },
  {
   "cell_type": "code",
   "execution_count": 30,
   "metadata": {
    "colab": {
     "base_uri": "https://localhost:8080/",
     "height": 35
    },
    "colab_type": "code",
    "id": "nAGFOzoW4c9j",
    "outputId": "f5043718-edcd-4c47-fef1-39dd70e1584a"
   },
   "outputs": [
    {
     "data": {
      "text/plain": [
       "'<start> i love you so <end> '"
      ]
     },
     "execution_count": 30,
     "metadata": {},
     "output_type": "execute_result"
    }
   ],
   "source": [
    "generate_text(model, tokenizer, init_sentence=\"<start> i love\", max_len=20)"
   ]
  },
  {
   "cell_type": "markdown",
   "metadata": {
    "colab": {},
    "colab_type": "code",
    "id": "INKsL8pjHZzA"
   },
   "source": [
    "결론:   \n",
    "- 인공지능으로 작사를 할 수 있다는게 흥미로웠다.\n",
    "- 컴퓨터 성능이 더 발전한 미래에는 훨씬 많고 복잡한 텍스트 데이터로도 손쉽게 구현이 쉬워질 것 같다.\n",
    "- 지금은 개인 컴퓨터로 더 많고 복잡한 데이터를 처리하기에는 한계가 있는 것 같다.\n"
   ]
  }
 ],
 "metadata": {
  "colab": {
   "name": "e11_songwriter_200908.ipynb",
   "provenance": []
  },
  "kernelspec": {
   "display_name": "Python 3",
   "language": "python",
   "name": "python3"
  },
  "language_info": {
   "codemirror_mode": {
    "name": "ipython",
    "version": 3
   },
   "file_extension": ".py",
   "mimetype": "text/x-python",
   "name": "python",
   "nbconvert_exporter": "python",
   "pygments_lexer": "ipython3",
   "version": "3.7.6"
  },
  "toc": {
   "base_numbering": 1,
   "nav_menu": {},
   "number_sections": true,
   "sideBar": true,
   "skip_h1_title": false,
   "title_cell": "Table of Contents",
   "title_sidebar": "Contents",
   "toc_cell": false,
   "toc_position": {},
   "toc_section_display": true,
   "toc_window_display": false
  },
  "varInspector": {
   "cols": {
    "lenName": 16,
    "lenType": 16,
    "lenVar": 40
   },
   "kernels_config": {
    "python": {
     "delete_cmd_postfix": "",
     "delete_cmd_prefix": "del ",
     "library": "var_list.py",
     "varRefreshCmd": "print(var_dic_list())"
    },
    "r": {
     "delete_cmd_postfix": ") ",
     "delete_cmd_prefix": "rm(",
     "library": "var_list.r",
     "varRefreshCmd": "cat(var_dic_list()) "
    }
   },
   "types_to_exclude": [
    "module",
    "function",
    "builtin_function_or_method",
    "instance",
    "_Feature"
   ],
   "window_display": false
  }
 },
 "nbformat": 4,
 "nbformat_minor": 1
}
