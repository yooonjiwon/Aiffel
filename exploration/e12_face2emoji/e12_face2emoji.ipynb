{
  "nbformat": 4,
  "nbformat_minor": 0,
  "metadata": {
    "kernelspec": {
      "display_name": "Python 3",
      "language": "python",
      "name": "python3"
    },
    "language_info": {
      "codemirror_mode": {
        "name": "ipython",
        "version": 3
      },
      "file_extension": ".py",
      "mimetype": "text/x-python",
      "name": "python",
      "nbconvert_exporter": "python",
      "pygments_lexer": "ipython3",
      "version": "3.7.6"
    },
    "toc": {
      "base_numbering": 1,
      "nav_menu": {},
      "number_sections": true,
      "sideBar": true,
      "skip_h1_title": false,
      "title_cell": "Table of Contents",
      "title_sidebar": "Contents",
      "toc_cell": false,
      "toc_position": {},
      "toc_section_display": true,
      "toc_window_display": false
    },
    "varInspector": {
      "cols": {
        "lenName": 16,
        "lenType": 16,
        "lenVar": 40
      },
      "kernels_config": {
        "python": {
          "delete_cmd_postfix": "",
          "delete_cmd_prefix": "del ",
          "library": "var_list.py",
          "varRefreshCmd": "print(var_dic_list())"
        },
        "r": {
          "delete_cmd_postfix": ") ",
          "delete_cmd_prefix": "rm(",
          "library": "var_list.r",
          "varRefreshCmd": "cat(var_dic_list()) "
        }
      },
      "types_to_exclude": [
        "module",
        "function",
        "builtin_function_or_method",
        "instance",
        "_Feature"
      ],
      "window_display": false
    },
    "colab": {
      "name": "Untitled1.ipynb",
      "provenance": []
    }
  },
  "cells": [
    {
      "cell_type": "code",
      "metadata": {
        "id": "xigCu0RUYS9t",
        "colab_type": "code",
        "colab": {},
        "outputId": "0a2386bf-4d4f-44dd-bbc2-f7203f5b8f8a"
      },
      "source": [
        "import numpy as np\n",
        "import tqdm\n",
        "import os\n",
        "\n",
        "train_x = []\n",
        "train_y = []\n",
        "eval_x = []\n",
        "eval_y = []\n",
        "\n",
        "csv_path = os.getenv('HOME')+'/aiffel/tfjs_mobile/data/fer2013.csv'\n",
        "\n",
        "with open(csv_path) as f:\n",
        "  for line in tqdm.tqdm(f.read().splitlines()[1:]):\n",
        "    emotion, pixels, usage = line.split(',')\n",
        "    \n",
        "    x = np.array(pixels.split(' ')).astype(float).reshape(48, 48, 1) / 255\n",
        "    y = int(emotion)\n",
        "\n",
        "    if usage == 'PrivateTest':\n",
        "      eval_x.append(x)\n",
        "      eval_y.append(y)\n",
        "    else:\n",
        "      train_x.append(x)\n",
        "      train_y.append(y)\n",
        "\n",
        "print('train : {}, eval :{}'.format(len(train_x), len(eval_x)))"
      ],
      "execution_count": null,
      "outputs": [
        {
          "output_type": "stream",
          "text": [
            "100%|██████████| 35887/35887 [00:26<00:00, 1333.76it/s]"
          ],
          "name": "stderr"
        },
        {
          "output_type": "stream",
          "text": [
            "train : 32298, eval :3589\n"
          ],
          "name": "stdout"
        },
        {
          "output_type": "stream",
          "text": [
            "\n"
          ],
          "name": "stderr"
        }
      ]
    },
    {
      "cell_type": "code",
      "metadata": {
        "id": "gKeIVKn0YS9w",
        "colab_type": "code",
        "colab": {},
        "outputId": "e3195e9b-d89b-4e7f-94ad-4d99add86c1f"
      },
      "source": [
        "from matplotlib import pyplot as plt\n",
        "\n",
        "LABELS = ['Angry', 'Disgust', 'Fear', 'Happy', 'Sad', 'Surprise', 'Neutral']\n",
        "\n",
        "print(LABELS[train_y[0]])\n",
        "plt.imshow(train_x[0].reshape([48, 48]), cmap='gray')"
      ],
      "execution_count": null,
      "outputs": [
        {
          "output_type": "stream",
          "text": [
            "Angry\n"
          ],
          "name": "stdout"
        },
        {
          "output_type": "execute_result",
          "data": {
            "text/plain": [
              "<matplotlib.image.AxesImage at 0x7ff1d0b733d0>"
            ]
          },
          "metadata": {
            "tags": []
          },
          "execution_count": 2
        },
        {
          "output_type": "display_data",
          "data": {
            "image/png": "[encoded data removed]",
            "text/plain": [
              "<Figure size 432x288 with 1 Axes>"
            ]
          },
          "metadata": {
            "tags": [],
            "needs_background": "light"
          }
        }
      ]
    },
    {
      "cell_type": "code",
      "metadata": {
        "id": "gVKgqegEYS9y",
        "colab_type": "code",
        "colab": {},
        "outputId": "63b33b12-a603-4f12-ab25-a7957baf28f9"
      },
      "source": [
        "import tensorflow as tf\n",
        "from tensorflow.keras.layers import Input, ZeroPadding2D\n",
        "# model 선언 \n",
        "model = None\n",
        "# input_tensor = Input(shape=(48,48,1))\n",
        "model = tf.keras.applications.MobileNet(input_shape=(48,48,1), dropout = 0.25, weights=None, classes=7)\n",
        "# output_tensor = ZeroPadding2D()(output_tensor)\n",
        "# output_tensor = Conv2D(kernel_size=(3,3),fitilters=5)(output_tensor)\n",
        "# model = Model(inputs = input_tensor, outputs = output_tensor)\n",
        "\n",
        "# model.compile\n",
        "model.compile(optimizer=tf.keras.optimizers.Adam(lr = 1e-4, decay = 1e-6),\n",
        "              loss=tf.keras.losses.CategoricalCrossentropy(),\n",
        "              metrics=[tf.keras.metrics.CategoricalAccuracy()])\n",
        "\n",
        "#model.fit\n",
        "model.fit(np.stack(train_x),\n",
        "          tf.keras.utils.to_categorical(train_y),\n",
        "          epochs=100,\n",
        "          batch_size=512,\n",
        "          validation_data=(np.stack(eval_x),\n",
        "                           tf.keras.utils.to_categorical(eval_y)))"
      ],
      "execution_count": null,
      "outputs": [
        {
          "output_type": "stream",
          "text": [
            "Epoch 1/100\n",
            "64/64 [==============================] - 97s 2s/step - loss: 2.1507 - categorical_accuracy: 0.1788 - val_loss: 1.9209 - val_categorical_accuracy: 0.1655\n",
            "Epoch 2/100\n",
            "64/64 [==============================] - 97s 2s/step - loss: 1.9221 - categorical_accuracy: 0.2357 - val_loss: 1.8961 - val_categorical_accuracy: 0.1655\n",
            "Epoch 3/100\n",
            "64/64 [==============================] - 96s 2s/step - loss: 1.8585 - categorical_accuracy: 0.2554 - val_loss: 1.8748 - val_categorical_accuracy: 0.1655\n",
            "Epoch 4/100\n",
            "64/64 [==============================] - 92s 1s/step - loss: 1.8135 - categorical_accuracy: 0.2710 - val_loss: 1.8584 - val_categorical_accuracy: 0.1655\n",
            "Epoch 5/100\n",
            "64/64 [==============================] - 92s 1s/step - loss: 1.7568 - categorical_accuracy: 0.2947 - val_loss: 1.8493 - val_categorical_accuracy: 0.1655\n",
            "Epoch 6/100\n",
            "64/64 [==============================] - 91s 1s/step - loss: 1.7001 - categorical_accuracy: 0.3208 - val_loss: 1.8428 - val_categorical_accuracy: 0.1655\n",
            "Epoch 7/100\n",
            "64/64 [==============================] - 92s 1s/step - loss: 1.6469 - categorical_accuracy: 0.3492 - val_loss: 1.8445 - val_categorical_accuracy: 0.1655\n",
            "Epoch 8/100\n",
            "64/64 [==============================] - 91s 1s/step - loss: 1.5982 - categorical_accuracy: 0.3688 - val_loss: 1.8430 - val_categorical_accuracy: 0.1652\n",
            "Epoch 9/100\n",
            "64/64 [==============================] - 92s 1s/step - loss: 1.5323 - categorical_accuracy: 0.4036 - val_loss: 1.8538 - val_categorical_accuracy: 0.1803\n",
            "Epoch 10/100\n",
            "64/64 [==============================] - 91s 1s/step - loss: 1.4587 - categorical_accuracy: 0.4351 - val_loss: 1.8736 - val_categorical_accuracy: 0.2324\n",
            "Epoch 11/100\n",
            "64/64 [==============================] - 91s 1s/step - loss: 1.4032 - categorical_accuracy: 0.4632 - val_loss: 1.8995 - val_categorical_accuracy: 0.2223\n",
            "Epoch 12/100\n",
            "64/64 [==============================] - 92s 1s/step - loss: 1.3376 - categorical_accuracy: 0.4931 - val_loss: 1.9592 - val_categorical_accuracy: 0.2301\n",
            "Epoch 13/100\n",
            "64/64 [==============================] - 91s 1s/step - loss: 1.2575 - categorical_accuracy: 0.5272 - val_loss: 1.9330 - val_categorical_accuracy: 0.2413\n",
            "Epoch 14/100\n",
            "64/64 [==============================] - 91s 1s/step - loss: 1.1905 - categorical_accuracy: 0.5558 - val_loss: 1.9931 - val_categorical_accuracy: 0.2524\n",
            "Epoch 15/100\n",
            "64/64 [==============================] - 91s 1s/step - loss: 1.1373 - categorical_accuracy: 0.5766 - val_loss: 2.0715 - val_categorical_accuracy: 0.2639\n",
            "Epoch 16/100\n",
            "64/64 [==============================] - 91s 1s/step - loss: 0.9985 - categorical_accuracy: 0.6363 - val_loss: 2.2326 - val_categorical_accuracy: 0.2683\n",
            "Epoch 17/100\n",
            "64/64 [==============================] - 92s 1s/step - loss: 1.0053 - categorical_accuracy: 0.6314 - val_loss: 2.3413 - val_categorical_accuracy: 0.2658\n",
            "Epoch 18/100\n",
            "64/64 [==============================] - 94s 1s/step - loss: 0.9212 - categorical_accuracy: 0.6637 - val_loss: 2.4035 - val_categorical_accuracy: 0.2658\n",
            "Epoch 19/100\n",
            "64/64 [==============================] - 100s 2s/step - loss: 0.8402 - categorical_accuracy: 0.6984 - val_loss: 2.4749 - val_categorical_accuracy: 0.2764\n",
            "Epoch 20/100\n",
            "64/64 [==============================] - 97s 2s/step - loss: 0.7851 - categorical_accuracy: 0.7171 - val_loss: 2.5935 - val_categorical_accuracy: 0.2873\n",
            "Epoch 21/100\n",
            "64/64 [==============================] - 97s 2s/step - loss: 0.7060 - categorical_accuracy: 0.7464 - val_loss: 2.7079 - val_categorical_accuracy: 0.2864\n",
            "Epoch 22/100\n",
            "64/64 [==============================] - 97s 2s/step - loss: 0.7026 - categorical_accuracy: 0.7508 - val_loss: 2.7684 - val_categorical_accuracy: 0.2842\n",
            "Epoch 23/100\n",
            "64/64 [==============================] - 98s 2s/step - loss: 0.6044 - categorical_accuracy: 0.7859 - val_loss: 2.8667 - val_categorical_accuracy: 0.2636\n",
            "Epoch 24/100\n",
            "64/64 [==============================] - 100s 2s/step - loss: 0.5482 - categorical_accuracy: 0.8072 - val_loss: 2.8844 - val_categorical_accuracy: 0.2917\n",
            "Epoch 25/100\n",
            "64/64 [==============================] - 101s 2s/step - loss: 0.4891 - categorical_accuracy: 0.8296 - val_loss: 2.9908 - val_categorical_accuracy: 0.2831\n",
            "Epoch 26/100\n",
            "64/64 [==============================] - 98s 2s/step - loss: 0.5336 - categorical_accuracy: 0.8144 - val_loss: 3.0587 - val_categorical_accuracy: 0.2814\n",
            "Epoch 27/100\n",
            "64/64 [==============================] - 99s 2s/step - loss: 0.5068 - categorical_accuracy: 0.8203 - val_loss: 3.1026 - val_categorical_accuracy: 0.2875\n",
            "Epoch 28/100\n",
            "64/64 [==============================] - 97s 2s/step - loss: 0.5482 - categorical_accuracy: 0.8070 - val_loss: 3.1419 - val_categorical_accuracy: 0.2848\n",
            "Epoch 29/100\n",
            "64/64 [==============================] - 98s 2s/step - loss: 0.4606 - categorical_accuracy: 0.8361 - val_loss: 3.2167 - val_categorical_accuracy: 0.2817\n",
            "Epoch 30/100\n",
            "64/64 [==============================] - 102s 2s/step - loss: 0.4269 - categorical_accuracy: 0.8515 - val_loss: 3.2164 - val_categorical_accuracy: 0.2917\n",
            "Epoch 31/100\n",
            "64/64 [==============================] - 105s 2s/step - loss: 0.3817 - categorical_accuracy: 0.8670 - val_loss: 3.2610 - val_categorical_accuracy: 0.2839\n",
            "Epoch 32/100\n",
            "64/64 [==============================] - 107s 2s/step - loss: 0.3919 - categorical_accuracy: 0.8636 - val_loss: 3.4085 - val_categorical_accuracy: 0.2814\n",
            "Epoch 33/100\n",
            "64/64 [==============================] - 107s 2s/step - loss: 0.3926 - categorical_accuracy: 0.8656 - val_loss: 3.4375 - val_categorical_accuracy: 0.2856\n",
            "Epoch 34/100\n",
            "64/64 [==============================] - 104s 2s/step - loss: 0.4042 - categorical_accuracy: 0.8575 - val_loss: 3.4445 - val_categorical_accuracy: 0.2931\n",
            "Epoch 35/100\n",
            "64/64 [==============================] - 104s 2s/step - loss: 0.4124 - categorical_accuracy: 0.8550 - val_loss: 3.4286 - val_categorical_accuracy: 0.2764\n",
            "Epoch 36/100\n",
            "64/64 [==============================] - 104s 2s/step - loss: 0.3331 - categorical_accuracy: 0.8847 - val_loss: 3.5231 - val_categorical_accuracy: 0.2817\n",
            "Epoch 37/100\n",
            "64/64 [==============================] - 100s 2s/step - loss: 0.3644 - categorical_accuracy: 0.8710 - val_loss: 3.4661 - val_categorical_accuracy: 0.2864\n",
            "Epoch 38/100\n",
            "64/64 [==============================] - 99s 2s/step - loss: 0.3735 - categorical_accuracy: 0.8677 - val_loss: 3.5295 - val_categorical_accuracy: 0.2795\n",
            "Epoch 39/100\n",
            "64/64 [==============================] - 101s 2s/step - loss: 0.2914 - categorical_accuracy: 0.8975 - val_loss: 3.5343 - val_categorical_accuracy: 0.2956\n",
            "Epoch 40/100\n",
            "64/64 [==============================] - 100s 2s/step - loss: 0.3182 - categorical_accuracy: 0.8911 - val_loss: 3.5401 - val_categorical_accuracy: 0.2926\n",
            "Epoch 41/100\n",
            "64/64 [==============================] - 102s 2s/step - loss: 0.3068 - categorical_accuracy: 0.8916 - val_loss: 3.5965 - val_categorical_accuracy: 0.2940\n",
            "Epoch 42/100\n",
            "64/64 [==============================] - 101s 2s/step - loss: 0.2460 - categorical_accuracy: 0.9150 - val_loss: 3.6014 - val_categorical_accuracy: 0.2931\n",
            "Epoch 43/100\n",
            "64/64 [==============================] - 102s 2s/step - loss: 0.2994 - categorical_accuracy: 0.8978 - val_loss: 3.6757 - val_categorical_accuracy: 0.2881\n",
            "Epoch 44/100\n",
            "64/64 [==============================] - 99s 2s/step - loss: 0.2646 - categorical_accuracy: 0.9092 - val_loss: 3.7539 - val_categorical_accuracy: 0.2881\n",
            "Epoch 45/100\n",
            "64/64 [==============================] - 97s 2s/step - loss: 0.2470 - categorical_accuracy: 0.9176 - val_loss: 3.7439 - val_categorical_accuracy: 0.2831\n",
            "Epoch 46/100\n",
            "64/64 [==============================] - 97s 2s/step - loss: 0.2663 - categorical_accuracy: 0.9088 - val_loss: 3.7503 - val_categorical_accuracy: 0.2928\n",
            "Epoch 47/100\n",
            "64/64 [==============================] - 94s 1s/step - loss: 0.2714 - categorical_accuracy: 0.9055 - val_loss: 3.7418 - val_categorical_accuracy: 0.2898\n",
            "Epoch 48/100\n",
            "64/64 [==============================] - 92s 1s/step - loss: 0.2816 - categorical_accuracy: 0.9033 - val_loss: 3.7240 - val_categorical_accuracy: 0.3054\n",
            "Epoch 49/100\n",
            "64/64 [==============================] - 94s 1s/step - loss: 0.2218 - categorical_accuracy: 0.9241 - val_loss: 3.7597 - val_categorical_accuracy: 0.2912\n",
            "Epoch 50/100\n"
          ],
          "name": "stdout"
        },
        {
          "output_type": "stream",
          "text": [
            "64/64 [==============================] - 99s 2s/step - loss: 0.2457 - categorical_accuracy: 0.9144 - val_loss: 3.8405 - val_categorical_accuracy: 0.2881\n",
            "Epoch 51/100\n",
            "64/64 [==============================] - 103s 2s/step - loss: 0.2723 - categorical_accuracy: 0.9051 - val_loss: 3.7712 - val_categorical_accuracy: 0.3048\n",
            "Epoch 52/100\n",
            "64/64 [==============================] - 104s 2s/step - loss: 0.3094 - categorical_accuracy: 0.8945 - val_loss: 3.8137 - val_categorical_accuracy: 0.2965\n",
            "Epoch 53/100\n",
            "64/64 [==============================] - 103s 2s/step - loss: 0.2149 - categorical_accuracy: 0.9272 - val_loss: 3.7778 - val_categorical_accuracy: 0.2979\n",
            "Epoch 54/100\n",
            "64/64 [==============================] - 104s 2s/step - loss: 0.1534 - categorical_accuracy: 0.9504 - val_loss: 3.8083 - val_categorical_accuracy: 0.2887\n",
            "Epoch 55/100\n",
            "64/64 [==============================] - 103s 2s/step - loss: 0.2223 - categorical_accuracy: 0.9236 - val_loss: 3.8748 - val_categorical_accuracy: 0.2962\n",
            "Epoch 56/100\n",
            "64/64 [==============================] - 103s 2s/step - loss: 0.2027 - categorical_accuracy: 0.9304 - val_loss: 3.8118 - val_categorical_accuracy: 0.2981\n",
            "Epoch 57/100\n",
            "64/64 [==============================] - 103s 2s/step - loss: 0.2358 - categorical_accuracy: 0.9182 - val_loss: 3.9079 - val_categorical_accuracy: 0.2887\n",
            "Epoch 58/100\n",
            "64/64 [==============================] - 99s 2s/step - loss: 0.2014 - categorical_accuracy: 0.9315 - val_loss: 3.9524 - val_categorical_accuracy: 0.2965\n",
            "Epoch 59/100\n",
            "64/64 [==============================] - 98s 2s/step - loss: 0.1606 - categorical_accuracy: 0.9475 - val_loss: 3.9069 - val_categorical_accuracy: 0.3082\n",
            "Epoch 60/100\n",
            "64/64 [==============================] - 100s 2s/step - loss: 0.2086 - categorical_accuracy: 0.9319 - val_loss: 3.9481 - val_categorical_accuracy: 0.3009\n",
            "Epoch 61/100\n",
            "64/64 [==============================] - 98s 2s/step - loss: 0.1586 - categorical_accuracy: 0.9475 - val_loss: 3.9381 - val_categorical_accuracy: 0.3076\n",
            "Epoch 62/100\n",
            "64/64 [==============================] - 98s 2s/step - loss: 0.2477 - categorical_accuracy: 0.9161 - val_loss: 3.9414 - val_categorical_accuracy: 0.2967\n",
            "Epoch 63/100\n",
            "64/64 [==============================] - 98s 2s/step - loss: 0.1669 - categorical_accuracy: 0.9450 - val_loss: 3.9559 - val_categorical_accuracy: 0.2951\n",
            "Epoch 64/100\n",
            "64/64 [==============================] - 99s 2s/step - loss: 0.2365 - categorical_accuracy: 0.9188 - val_loss: 3.9196 - val_categorical_accuracy: 0.2998\n",
            "Epoch 65/100\n",
            "64/64 [==============================] - 98s 2s/step - loss: 0.1732 - categorical_accuracy: 0.9412 - val_loss: 3.9512 - val_categorical_accuracy: 0.3057\n",
            "Epoch 66/100\n",
            "64/64 [==============================] - 99s 2s/step - loss: 0.1879 - categorical_accuracy: 0.9377 - val_loss: 3.9665 - val_categorical_accuracy: 0.2920\n",
            "Epoch 67/100\n",
            "64/64 [==============================] - 98s 2s/step - loss: 0.1308 - categorical_accuracy: 0.9582 - val_loss: 3.9785 - val_categorical_accuracy: 0.3068\n",
            "Epoch 68/100\n",
            "64/64 [==============================] - 98s 2s/step - loss: 0.2240 - categorical_accuracy: 0.9236 - val_loss: 3.9401 - val_categorical_accuracy: 0.3065\n",
            "Epoch 69/100\n",
            "64/64 [==============================] - 99s 2s/step - loss: 0.2460 - categorical_accuracy: 0.9129 - val_loss: 4.0342 - val_categorical_accuracy: 0.3029\n",
            "Epoch 70/100\n",
            "64/64 [==============================] - 100s 2s/step - loss: 0.1845 - categorical_accuracy: 0.9372 - val_loss: 4.0271 - val_categorical_accuracy: 0.3070\n",
            "Epoch 71/100\n",
            "64/64 [==============================] - 97s 2s/step - loss: 0.1534 - categorical_accuracy: 0.9464 - val_loss: 3.9915 - val_categorical_accuracy: 0.3057\n",
            "Epoch 72/100\n",
            "64/64 [==============================] - 99s 2s/step - loss: 0.1167 - categorical_accuracy: 0.9614 - val_loss: 4.0356 - val_categorical_accuracy: 0.3126\n",
            "Epoch 73/100\n",
            "64/64 [==============================] - 98s 2s/step - loss: 0.1022 - categorical_accuracy: 0.9673 - val_loss: 4.1143 - val_categorical_accuracy: 0.3037\n",
            "Epoch 74/100\n",
            "64/64 [==============================] - 99s 2s/step - loss: 0.0899 - categorical_accuracy: 0.9726 - val_loss: 4.0595 - val_categorical_accuracy: 0.3121\n",
            "Epoch 75/100\n",
            "64/64 [==============================] - 100s 2s/step - loss: 0.1471 - categorical_accuracy: 0.9500 - val_loss: 4.1668 - val_categorical_accuracy: 0.3079\n",
            "Epoch 76/100\n",
            "64/64 [==============================] - 98s 2s/step - loss: 0.2349 - categorical_accuracy: 0.9189 - val_loss: 4.1110 - val_categorical_accuracy: 0.3115\n",
            "Epoch 77/100\n",
            "64/64 [==============================] - 98s 2s/step - loss: 0.1994 - categorical_accuracy: 0.9328 - val_loss: 4.1391 - val_categorical_accuracy: 0.3084\n",
            "Epoch 78/100\n",
            "64/64 [==============================] - 99s 2s/step - loss: 0.1872 - categorical_accuracy: 0.9355 - val_loss: 4.0653 - val_categorical_accuracy: 0.3129\n",
            "Epoch 79/100\n",
            "64/64 [==============================] - 97s 2s/step - loss: 0.1714 - categorical_accuracy: 0.9409 - val_loss: 4.0186 - val_categorical_accuracy: 0.3059\n",
            "Epoch 80/100\n",
            "64/64 [==============================] - 99s 2s/step - loss: 0.1441 - categorical_accuracy: 0.9528 - val_loss: 4.0355 - val_categorical_accuracy: 0.2995\n",
            "Epoch 81/100\n",
            "64/64 [==============================] - 98s 2s/step - loss: 0.2513 - categorical_accuracy: 0.9141 - val_loss: 4.0658 - val_categorical_accuracy: 0.2942\n",
            "Epoch 82/100\n",
            "64/64 [==============================] - 99s 2s/step - loss: 0.1910 - categorical_accuracy: 0.9347 - val_loss: 4.0238 - val_categorical_accuracy: 0.3057\n",
            "Epoch 83/100\n",
            "64/64 [==============================] - 99s 2s/step - loss: 0.1987 - categorical_accuracy: 0.9323 - val_loss: 4.0268 - val_categorical_accuracy: 0.3037\n",
            "Epoch 84/100\n",
            "64/64 [==============================] - 99s 2s/step - loss: 0.1749 - categorical_accuracy: 0.9403 - val_loss: 4.0103 - val_categorical_accuracy: 0.3051\n",
            "Epoch 85/100\n",
            "64/64 [==============================] - 100s 2s/step - loss: 0.1333 - categorical_accuracy: 0.9546 - val_loss: 4.0502 - val_categorical_accuracy: 0.3065\n",
            "Epoch 86/100\n",
            "64/64 [==============================] - 98s 2s/step - loss: 0.1191 - categorical_accuracy: 0.9600 - val_loss: 4.0099 - val_categorical_accuracy: 0.3070\n",
            "Epoch 87/100\n",
            "64/64 [==============================] - 97s 2s/step - loss: 0.0910 - categorical_accuracy: 0.9710 - val_loss: 4.0056 - val_categorical_accuracy: 0.3185\n",
            "Epoch 88/100\n",
            "64/64 [==============================] - 97s 2s/step - loss: 0.1643 - categorical_accuracy: 0.9443 - val_loss: 4.1471 - val_categorical_accuracy: 0.3037\n",
            "Epoch 89/100\n",
            "64/64 [==============================] - 98s 2s/step - loss: 0.1507 - categorical_accuracy: 0.9502 - val_loss: 4.1954 - val_categorical_accuracy: 0.3040\n",
            "Epoch 90/100\n",
            "64/64 [==============================] - 98s 2s/step - loss: 0.1366 - categorical_accuracy: 0.9546 - val_loss: 4.1959 - val_categorical_accuracy: 0.3079\n",
            "Epoch 91/100\n",
            "64/64 [==============================] - 98s 2s/step - loss: 0.1092 - categorical_accuracy: 0.9641 - val_loss: 4.2193 - val_categorical_accuracy: 0.3084\n",
            "Epoch 92/100\n",
            "64/64 [==============================] - 98s 2s/step - loss: 0.0875 - categorical_accuracy: 0.9721 - val_loss: 4.2113 - val_categorical_accuracy: 0.3084\n",
            "Epoch 93/100\n",
            "64/64 [==============================] - 98s 2s/step - loss: 0.1244 - categorical_accuracy: 0.9588 - val_loss: 4.1881 - val_categorical_accuracy: 0.3098\n",
            "Epoch 94/100\n",
            "64/64 [==============================] - 97s 2s/step - loss: 0.2304 - categorical_accuracy: 0.9224 - val_loss: 4.2770 - val_categorical_accuracy: 0.3020\n",
            "Epoch 95/100\n",
            "64/64 [==============================] - 99s 2s/step - loss: 0.2289 - categorical_accuracy: 0.9219 - val_loss: 4.2439 - val_categorical_accuracy: 0.2979\n",
            "Epoch 96/100\n",
            "64/64 [==============================] - 98s 2s/step - loss: 0.1499 - categorical_accuracy: 0.9479 - val_loss: 4.1852 - val_categorical_accuracy: 0.3059\n",
            "Epoch 97/100\n",
            "64/64 [==============================] - 98s 2s/step - loss: 0.1479 - categorical_accuracy: 0.9496 - val_loss: 4.1713 - val_categorical_accuracy: 0.3065\n",
            "Epoch 98/100\n",
            "64/64 [==============================] - 99s 2s/step - loss: 0.2078 - categorical_accuracy: 0.9289 - val_loss: 4.2792 - val_categorical_accuracy: 0.3018\n",
            "Epoch 99/100\n"
          ],
          "name": "stdout"
        },
        {
          "output_type": "stream",
          "text": [
            "64/64 [==============================] - 98s 2s/step - loss: 0.1202 - categorical_accuracy: 0.9585 - val_loss: 4.2500 - val_categorical_accuracy: 0.3082\n",
            "Epoch 100/100\n",
            "64/64 [==============================] - 97s 2s/step - loss: 0.0994 - categorical_accuracy: 0.9675 - val_loss: 4.2862 - val_categorical_accuracy: 0.3029\n"
          ],
          "name": "stdout"
        },
        {
          "output_type": "execute_result",
          "data": {
            "text/plain": [
              "<tensorflow.python.keras.callbacks.History at 0x7ff077f53090>"
            ]
          },
          "metadata": {
            "tags": []
          },
          "execution_count": 20
        }
      ]
    },
    {
      "cell_type": "code",
      "metadata": {
        "id": "BLmLVvjNYS90",
        "colab_type": "code",
        "colab": {}
      },
      "source": [
        "import os\n",
        "model_json = emotion_model.to_json()\n",
        "with open(\"model/emotion_model.json\", \"w\") as json_file:\n",
        "    json_file.write(model_json)"
      ],
      "execution_count": null,
      "outputs": []
    },
    {
      "cell_type": "code",
      "metadata": {
        "id": "MrDrf3QDYS92",
        "colab_type": "code",
        "colab": {}
      },
      "source": [
        "from tensorflow.keras.models import load_model\n",
        "emotion_model = load_model('model/emotion_model.hdf5')"
      ],
      "execution_count": null,
      "outputs": []
    },
    {
      "cell_type": "markdown",
      "metadata": {
        "id": "ADE9bSO7YeQv",
        "colab_type": "text"
      },
      "source": [
        "# Conlusion\n",
        "\n",
        "- 속도가 느려서 이 부분이 개선이 필요할 것 같다.\n",
        "- 모델 부분도 성능이 떨어지는 편이라 개선이 필요\n",
        "-> [당장 바꿀 수 없는 부분이라 다른 모델을 가져와서 사용함.](https://mechasolution.vn/source/blog/AI-tutorial/Emotion_Recognition/)\n",
        "-> [여기서 확인](https://yooonjiwon.github.io/Aiffel/exploration/e12_face2emoji/)"
      ]
    }
  ]
}