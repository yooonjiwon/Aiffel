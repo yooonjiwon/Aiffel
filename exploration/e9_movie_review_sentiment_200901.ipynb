{
 "cells": [
  {
   "cell_type": "markdown",
   "metadata": {},
   "source": [
    "# 네이버 영화리뷰 감성 분석\n",
    "[데이터셋 링크](https://github.com/e9t/nsmc)\n",
    "\n",
    "## 데이터 import"
   ]
  },
  {
   "cell_type": "code",
   "execution_count": 1,
   "metadata": {},
   "outputs": [],
   "source": [
    "import pandas as pd\n",
    "import urllib.request\n",
    "%matplotlib inline\n",
    "import matplotlib.pyplot as plt\n",
    "import re\n",
    "from konlpy.tag import Okt\n",
    "from tensorflow import keras\n",
    "from tensorflow.keras.preprocessing.text import Tokenizer\n",
    "import numpy as np\n",
    "from tensorflow.keras.preprocessing.sequence import pad_sequences\n",
    "from collections import Counter"
   ]
  },
  {
   "cell_type": "code",
   "execution_count": 2,
   "metadata": {},
   "outputs": [
    {
     "data": {
      "text/html": [
       "<div>\n",
       "<style scoped>\n",
       "    .dataframe tbody tr th:only-of-type {\n",
       "        vertical-align: middle;\n",
       "    }\n",
       "\n",
       "    .dataframe tbody tr th {\n",
       "        vertical-align: top;\n",
       "    }\n",
       "\n",
       "    .dataframe thead th {\n",
       "        text-align: right;\n",
       "    }\n",
       "</style>\n",
       "<table border=\"1\" class=\"dataframe\">\n",
       "  <thead>\n",
       "    <tr style=\"text-align: right;\">\n",
       "      <th></th>\n",
       "      <th>id</th>\n",
       "      <th>document</th>\n",
       "      <th>label</th>\n",
       "    </tr>\n",
       "  </thead>\n",
       "  <tbody>\n",
       "    <tr>\n",
       "      <th>0</th>\n",
       "      <td>9976970</td>\n",
       "      <td>아 더빙.. 진짜 짜증나네요 목소리</td>\n",
       "      <td>0</td>\n",
       "    </tr>\n",
       "    <tr>\n",
       "      <th>1</th>\n",
       "      <td>3819312</td>\n",
       "      <td>흠...포스터보고 초딩영화줄....오버연기조차 가볍지 않구나</td>\n",
       "      <td>1</td>\n",
       "    </tr>\n",
       "    <tr>\n",
       "      <th>2</th>\n",
       "      <td>10265843</td>\n",
       "      <td>너무재밓었다그래서보는것을추천한다</td>\n",
       "      <td>0</td>\n",
       "    </tr>\n",
       "    <tr>\n",
       "      <th>3</th>\n",
       "      <td>9045019</td>\n",
       "      <td>교도소 이야기구먼 ..솔직히 재미는 없다..평점 조정</td>\n",
       "      <td>0</td>\n",
       "    </tr>\n",
       "    <tr>\n",
       "      <th>4</th>\n",
       "      <td>6483659</td>\n",
       "      <td>사이몬페그의 익살스런 연기가 돋보였던 영화!스파이더맨에서 늙어보이기만 했던 커스틴 ...</td>\n",
       "      <td>1</td>\n",
       "    </tr>\n",
       "  </tbody>\n",
       "</table>\n",
       "</div>"
      ],
      "text/plain": [
       "         id                                           document  label\n",
       "0   9976970                                아 더빙.. 진짜 짜증나네요 목소리      0\n",
       "1   3819312                  흠...포스터보고 초딩영화줄....오버연기조차 가볍지 않구나      1\n",
       "2  10265843                                  너무재밓었다그래서보는것을추천한다      0\n",
       "3   9045019                      교도소 이야기구먼 ..솔직히 재미는 없다..평점 조정      0\n",
       "4   6483659  사이몬페그의 익살스런 연기가 돋보였던 영화!스파이더맨에서 늙어보이기만 했던 커스틴 ...      1"
      ]
     },
     "execution_count": 2,
     "metadata": {},
     "output_type": "execute_result"
    }
   ],
   "source": [
    "train_data = pd.read_table('~/aiffel/sentiment_classification/ratings_train.txt')\n",
    "test_data = pd.read_table('~/aiffel/sentiment_classification/ratings_test.txt')\n",
    "\n",
    "train_data.head()"
   ]
  },
  {
   "cell_type": "markdown",
   "metadata": {},
   "source": [
    "## Data Loader 만들기"
   ]
  },
  {
   "cell_type": "code",
   "execution_count": 3,
   "metadata": {},
   "outputs": [],
   "source": [
    "from konlpy.tag import Mecab\n",
    "tokenizer = Mecab()\n",
    "stopwords = ['의','가','이','은','들','는','좀','잘','걍','과','도','를','으로','자','에','와','한','하다']\n",
    "\n",
    "def load_data(train_data, test_data, num_words=10000):\n",
    "    # 데이터 중복 제거\n",
    "    train_data.drop_duplicates(subset=['document'], inplace=True)\n",
    "    # NaN 결측치 제거\n",
    "    train_data = train_data.dropna(how = 'any') \n",
    "    test_data.drop_duplicates(subset=['document'], inplace=True)\n",
    "    test_data = test_data.dropna(how = 'any') \n",
    "\n",
    "    X_train = []\n",
    "    for sentence in train_data['document']:\n",
    "        # 토큰화\n",
    "        temp_X = tokenizer.morphs(sentence) \n",
    "        # Stopwords 제거\n",
    "        temp_X = [word for word in temp_X if not word in stopwords]\n",
    "        X_train.append(temp_X)\n",
    "\n",
    "    X_test = []\n",
    "    for sentence in test_data['document']:\n",
    "        # Tokenization\n",
    "        temp_X = tokenizer.morphs(sentence)\n",
    "        # Stopwords 제거\n",
    "        temp_X = [word for word in temp_X if not word in stopwords]\n",
    "        X_test.append(temp_X)\n",
    "\n",
    "    words = np.concatenate(X_train).tolist()\n",
    "    counter = Counter(words)\n",
    "    counter = counter.most_common(10000-4)\n",
    "    vocab = ['<PAD>', '<BOS>', '<UNK>', '<UNUSED>'] + [key for key, _ in counter]\n",
    "    # 사전 인덱스 스트링으로 변환\n",
    "    word_to_index = {word:index for index, word in enumerate(vocab)}\n",
    "\n",
    "    def wordlist_to_indexlist(wordlist):\n",
    "        return [word_to_index[word] if word in word_to_index else word_to_index['<UNK>'] for word in wordlist]\n",
    "\n",
    "    X_train = list(map(wordlist_to_indexlist, X_train))\n",
    "    X_test = list(map(wordlist_to_indexlist, X_test))\n",
    "\n",
    "    \n",
    "    return X_train, np.array(list(train_data['label'])), X_test, np.array(list(test_data['label'])), word_to_index\n",
    "\n",
    "X_train, y_train, X_test, y_test, word_to_index = load_data(train_data, test_data) "
   ]
  },
  {
   "cell_type": "code",
   "execution_count": 4,
   "metadata": {},
   "outputs": [],
   "source": [
    "index_to_word = {index:word for word, index in word_to_index.items()}"
   ]
  },
  {
   "cell_type": "code",
   "execution_count": 5,
   "metadata": {},
   "outputs": [],
   "source": [
    "# 문장 1개를 활용할 딕셔너리와 함께 주면, 단어 인덱스 리스트 벡터로 변환해 주는 함수입니다. \n",
    "# 단, 모든 문장은 <BOS>로 시작하는 것으로 합니다. \n",
    "def get_encoded_sentence(sentence, word_to_index):\n",
    "    return [word_to_index['<BOS>']]+[word_to_index[word] if word in word_to_index else word_to_index['<UNK>'] for word in sentence.split()]\n",
    "\n",
    "# 여러 개의 문장 리스트를 한꺼번에 단어 인덱스 리스트 벡터로 encode해 주는 함수입니다. \n",
    "def get_encoded_sentences(sentences, word_to_index):\n",
    "    return [get_encoded_sentence(sentence, word_to_index) for sentence in sentences]\n",
    "\n",
    "# 숫자 벡터로 encode된 문장을 원래대로 decode하는 함수입니다. \n",
    "def get_decoded_sentence(encoded_sentence, index_to_word):\n",
    "    return ' '.join(index_to_word[index] if index in index_to_word else '<UNK>' for index in encoded_sentence[1:])  #[1:]를 통해 <BOS>를 제외\n",
    "\n",
    "# 여러개의 숫자 벡터로 encode된 문장을 한꺼번에 원래대로 decode하는 함수입니다. \n",
    "def get_decoded_sentences(encoded_sentences, index_to_word):\n",
    "    return [get_decoded_sentence(encoded_sentence, index_to_word) for encoded_sentence in encoded_sentences]"
   ]
  },
  {
   "cell_type": "markdown",
   "metadata": {},
   "source": [
    "## 모델구성을 위한 데이터 분석 및 가공"
   ]
  },
  {
   "cell_type": "code",
   "execution_count": 6,
   "metadata": {},
   "outputs": [
    {
     "name": "stdout",
     "output_type": "stream",
     "text": [
      "문장길이 평균 :  15.971024731364448\n",
      "문장길이 최대 :  116\n",
      "문장길이 표준편차 :  12.84408055468762\n",
      "pad_sequences maxlen :  41\n",
      "전체 문장의 0.9342629991962691%가 maxlen 설정값 이내에 포함됩니다. \n"
     ]
    }
   ],
   "source": [
    "# 데이터셋 내 문장 길이 분포\n",
    "total_data_text = list(X_train) + list(X_test)\n",
    "# 텍스트데이터 문장길이의 리스트를 생성한 후\n",
    "num_tokens = [len(tokens) for tokens in total_data_text]\n",
    "num_tokens = np.array(num_tokens)\n",
    "# 문장길이의 평균값, 최대값, 표준편차를 계산해 본다. \n",
    "print('문장길이 평균 : ', np.mean(num_tokens))\n",
    "print('문장길이 최대 : ', np.max(num_tokens))\n",
    "print('문장길이 표준편차 : ', np.std(num_tokens))\n",
    "# 적절한 최대 문장 길이 지정\n",
    "max_tokens = np.mean(num_tokens) + 2 * np.std(num_tokens)\n",
    "maxlen = int(max_tokens)\n",
    "print('pad_sequences maxlen : ', maxlen)\n",
    "print('전체 문장의 {}%가 maxlen 설정값 이내에 포함됩니다. '.format(np.sum(num_tokens < max_tokens) / len(num_tokens)))"
   ]
  },
  {
   "cell_type": "code",
   "execution_count": 7,
   "metadata": {},
   "outputs": [
    {
     "name": "stdout",
     "output_type": "stream",
     "text": [
      "(146182, 41)\n"
     ]
    }
   ],
   "source": [
    "# keras.preprocessing.sequence.pad_sequences 을 활용한 패딩 추가\n",
    "# padding을 문장 뒤,앞 중 어디로 하느냐에 따라 RNN 성능 차이남.\n",
    "      \n",
    "X_train = keras.preprocessing.sequence.pad_sequences(X_train,\n",
    "                                                     value=word_to_index[\"<PAD>\"],\n",
    "                                                     padding='post', # 혹은 'pre'\n",
    "                                                     maxlen=maxlen)\n",
    "\n",
    "X_test = keras.preprocessing.sequence.pad_sequences(X_test,\n",
    "                                                    value=word_to_index[\"<PAD>\"],\n",
    "                                                    padding='post', # 혹은 'pre'\n",
    "                                                    maxlen=maxlen)\n",
    "\n",
    "print(X_train.shape)"
   ]
  },
  {
   "cell_type": "markdown",
   "metadata": {},
   "source": [
    "## 모델구성 및 validation set 구성"
   ]
  },
  {
   "cell_type": "code",
   "execution_count": 8,
   "metadata": {},
   "outputs": [
    {
     "name": "stdout",
     "output_type": "stream",
     "text": [
      "WARNING:tensorflow:Layer lstm will not use cuDNN kernel since it doesn't meet the cuDNN kernel criteria. It will use generic GPU kernel as fallback when running on GPU\n",
      "Model: \"sequential\"\n",
      "_________________________________________________________________\n",
      "Layer (type)                 Output Shape              Param #   \n",
      "=================================================================\n",
      "embedding (Embedding)        (None, None, 16)          160000    \n",
      "_________________________________________________________________\n",
      "spatial_dropout1d (SpatialDr (None, None, 16)          0         \n",
      "_________________________________________________________________\n",
      "lstm (LSTM)                  (None, 50)                13400     \n",
      "_________________________________________________________________\n",
      "dense (Dense)                (None, 8)                 408       \n",
      "_________________________________________________________________\n",
      "dense_1 (Dense)              (None, 1)                 9         \n",
      "=================================================================\n",
      "Total params: 173,817\n",
      "Trainable params: 173,817\n",
      "Non-trainable params: 0\n",
      "_________________________________________________________________\n"
     ]
    }
   ],
   "source": [
    "vocab_size = 10000    # 어휘 사전의 크기입니다(10,000개의 단어)\n",
    "word_vector_dim = 16  # 워드 벡터의 차원수 (변경가능한 하이퍼파라미터)\n",
    "\n",
    "lstm_model = keras.Sequential()\n",
    "lstm_model.add(keras.layers.Embedding(vocab_size, word_vector_dim, input_shape=(None,)))\n",
    "lstm_model.add(keras.layers.SpatialDropout1D(0.4))\n",
    "lstm_model.add(keras.layers.LSTM(50, dropout=0.2, recurrent_dropout=0.2))   # 가장 널리 쓰이는 RNN인 LSTM 레이어를 사용하였습니다. 이때 LSTM state 벡터의 차원수는 8로 하였습니다. (변경가능)\n",
    "lstm_model.add(keras.layers.Dense(8, activation='relu'))\n",
    "lstm_model.add(keras.layers.Dense(1, activation='sigmoid'))  # 최종 출력은 긍정/부정을 나타내는 1dim 입니다.\n",
    "\n",
    "lstm_model.summary()"
   ]
  },
  {
   "cell_type": "code",
   "execution_count": 9,
   "metadata": {},
   "outputs": [
    {
     "name": "stdout",
     "output_type": "stream",
     "text": [
      "Model: \"sequential_1\"\n",
      "_________________________________________________________________\n",
      "Layer (type)                 Output Shape              Param #   \n",
      "=================================================================\n",
      "embedding_1 (Embedding)      (None, None, 16)          160000    \n",
      "_________________________________________________________________\n",
      "gru (GRU)                    (None, 50)                10200     \n",
      "_________________________________________________________________\n",
      "dropout (Dropout)            (None, 50)                0         \n",
      "_________________________________________________________________\n",
      "dense_2 (Dense)              (None, 8)                 408       \n",
      "_________________________________________________________________\n",
      "dropout_1 (Dropout)          (None, 8)                 0         \n",
      "_________________________________________________________________\n",
      "dense_3 (Dense)              (None, 1)                 9         \n",
      "=================================================================\n",
      "Total params: 170,617\n",
      "Trainable params: 170,617\n",
      "Non-trainable params: 0\n",
      "_________________________________________________________________\n"
     ]
    }
   ],
   "source": [
    "vocab_size = 10000    # 어휘 사전의 크기입니다(10,000개의 단어)\n",
    "word_vector_dim = 16  # 워드 벡터의 차원수 (변경가능한 하이퍼파라미터)\n",
    "\n",
    "gru_model = keras.Sequential()\n",
    "gru_model.add(keras.layers.Embedding(vocab_size, word_vector_dim, input_shape=(None,)))\n",
    "gru_model.add(keras.layers.GRU(50))   # 가장 널리 쓰이는 RNN인 gru 레이어를 사용하였습니다. 이때 gru state 벡터의 차원수는 8로 하였습니다. (변경가능)\n",
    "gru_model.add(keras.layers.Dropout(0.3))\n",
    "gru_model.add(keras.layers.Dense(8, activation='relu'))\n",
    "gru_model.add(keras.layers.Dropout(0.3))\n",
    "gru_model.add(keras.layers.Dense(1, activation='sigmoid'))  # 최종 출력은 긍정/부정을 나타내는 1dim 입니다.\n",
    "\n",
    "gru_model.summary()"
   ]
  },
  {
   "cell_type": "code",
   "execution_count": 10,
   "metadata": {},
   "outputs": [
    {
     "name": "stdout",
     "output_type": "stream",
     "text": [
      "Model: \"sequential_2\"\n",
      "_________________________________________________________________\n",
      "Layer (type)                 Output Shape              Param #   \n",
      "=================================================================\n",
      "embedding_2 (Embedding)      (None, None, 64)          640000    \n",
      "_________________________________________________________________\n",
      "conv1d (Conv1D)              (None, None, 64)          28736     \n",
      "_________________________________________________________________\n",
      "max_pooling1d (MaxPooling1D) (None, None, 64)          0         \n",
      "_________________________________________________________________\n",
      "conv1d_1 (Conv1D)            (None, None, 16)          7184      \n",
      "_________________________________________________________________\n",
      "global_max_pooling1d (Global (None, 16)                0         \n",
      "_________________________________________________________________\n",
      "dropout_2 (Dropout)          (None, 16)                0         \n",
      "_________________________________________________________________\n",
      "dense_4 (Dense)              (None, 8)                 136       \n",
      "_________________________________________________________________\n",
      "dropout_3 (Dropout)          (None, 8)                 0         \n",
      "_________________________________________________________________\n",
      "dense_5 (Dense)              (None, 1)                 9         \n",
      "=================================================================\n",
      "Total params: 676,065\n",
      "Trainable params: 676,065\n",
      "Non-trainable params: 0\n",
      "_________________________________________________________________\n"
     ]
    }
   ],
   "source": [
    "vocab_size = 10000    # 어휘 사전의 크기입니다(10,000개의 단어)\n",
    "word_vector_dim = 64  # 워드 벡터의 차원수 (변경가능한 하이퍼파라미터)\n",
    "\n",
    "cnn_model = keras.Sequential()\n",
    "cnn_model.add(keras.layers.Embedding(vocab_size, word_vector_dim, input_shape=(None,)))\n",
    "cnn_model.add(keras.layers.Conv1D(64, 7, activation='relu'))\n",
    "cnn_model.add(keras.layers.MaxPooling1D(5))\n",
    "cnn_model.add(keras.layers.Conv1D(16, 7, activation='relu'))\n",
    "cnn_model.add(keras.layers.GlobalMaxPooling1D())\n",
    "cnn_model.add(keras.layers.Dropout(0.3))\n",
    "cnn_model.add(keras.layers.Dense(8, activation='relu'))\n",
    "cnn_model.add(keras.layers.Dropout(0.3))\n",
    "cnn_model.add(keras.layers.Dense(1, activation='sigmoid'))  # 최종 출력은 긍정/부정을 나타내는 1dim 입니다.\n",
    "\n",
    "cnn_model.summary()"
   ]
  },
  {
   "cell_type": "code",
   "execution_count": 11,
   "metadata": {},
   "outputs": [
    {
     "name": "stdout",
     "output_type": "stream",
     "text": [
      "Model: \"sequential_3\"\n",
      "_________________________________________________________________\n",
      "Layer (type)                 Output Shape              Param #   \n",
      "=================================================================\n",
      "embedding_3 (Embedding)      (None, None, 16)          160000    \n",
      "_________________________________________________________________\n",
      "global_max_pooling1d_1 (Glob (None, 16)                0         \n",
      "_________________________________________________________________\n",
      "dropout_4 (Dropout)          (None, 16)                0         \n",
      "_________________________________________________________________\n",
      "dense_6 (Dense)              (None, 8)                 136       \n",
      "_________________________________________________________________\n",
      "dropout_5 (Dropout)          (None, 8)                 0         \n",
      "_________________________________________________________________\n",
      "dense_7 (Dense)              (None, 1)                 9         \n",
      "=================================================================\n",
      "Total params: 160,145\n",
      "Trainable params: 160,145\n",
      "Non-trainable params: 0\n",
      "_________________________________________________________________\n"
     ]
    }
   ],
   "source": [
    "vocab_size = 10000    # 어휘 사전의 크기입니다(10,000개의 단어)\n",
    "word_vector_dim = 16  # 워드 벡터의 차원수 (변경가능한 하이퍼파라미터)\n",
    "\n",
    "global_l_model = keras.Sequential()\n",
    "global_l_model.add(keras.layers.Embedding(vocab_size, word_vector_dim, input_shape=(None,)))\n",
    "global_l_model.add(keras.layers.GlobalMaxPooling1D())\n",
    "global_l_model.add(keras.layers.Dropout(0.3))\n",
    "global_l_model.add(keras.layers.Dense(8, activation='relu'))\n",
    "global_l_model.add(keras.layers.Dropout(0.3))\n",
    "global_l_model.add(keras.layers.Dense(1, activation='sigmoid'))  # 최종 출력은 긍정/부정을 나타내는 1dim 입니다.\n",
    "\n",
    "global_l_model.summary()"
   ]
  },
  {
   "cell_type": "code",
   "execution_count": 12,
   "metadata": {},
   "outputs": [
    {
     "name": "stdout",
     "output_type": "stream",
     "text": [
      "WARNING:tensorflow:Layer lstm_1 will not use cuDNN kernel since it doesn't meet the cuDNN kernel criteria. It will use generic GPU kernel as fallback when running on GPU\n",
      "Model: \"sequential_4\"\n",
      "_________________________________________________________________\n",
      "Layer (type)                 Output Shape              Param #   \n",
      "=================================================================\n",
      "embedding_4 (Embedding)      (None, None, 16)          160000    \n",
      "_________________________________________________________________\n",
      "conv1d_2 (Conv1D)            (None, None, 16)          1808      \n",
      "_________________________________________________________________\n",
      "max_pooling1d_1 (MaxPooling1 (None, None, 16)          0         \n",
      "_________________________________________________________________\n",
      "conv1d_3 (Conv1D)            (None, None, 16)          1808      \n",
      "_________________________________________________________________\n",
      "spatial_dropout1d_1 (Spatial (None, None, 16)          0         \n",
      "_________________________________________________________________\n",
      "lstm_1 (LSTM)                (None, 10)                1080      \n",
      "_________________________________________________________________\n",
      "dense_8 (Dense)              (None, 8)                 88        \n",
      "_________________________________________________________________\n",
      "dense_9 (Dense)              (None, 1)                 9         \n",
      "=================================================================\n",
      "Total params: 164,793\n",
      "Trainable params: 164,793\n",
      "Non-trainable params: 0\n",
      "_________________________________________________________________\n"
     ]
    }
   ],
   "source": [
    "cnn_lstm_model = keras.Sequential()\n",
    "cnn_lstm_model.add(keras.layers.Embedding(vocab_size, word_vector_dim, input_shape=(None,)))\n",
    "cnn_lstm_model.add(keras.layers.Conv1D(16, 7, activation='relu'))\n",
    "cnn_lstm_model.add(keras.layers.MaxPooling1D(5))\n",
    "cnn_lstm_model.add(keras.layers.Conv1D(16, 7, activation='relu'))\n",
    "cnn_lstm_model.add(keras.layers.SpatialDropout1D(0.4))\n",
    "cnn_lstm_model.add(keras.layers.LSTM(10, dropout=0.2, recurrent_dropout=0.2))   # 가장 널리 쓰이는 RNN인 LSTM 레이어를 사용하였습니다. 이때 LSTM state 벡터의 차원수는 8로 하였습니다. (변경가능)\n",
    "cnn_lstm_model.add(keras.layers.Dense(8, activation='relu'))\n",
    "cnn_lstm_model.add(keras.layers.Dense(1, activation='sigmoid'))  # 최종 출력은 긍정/부정을 나타내는 1dim 입니다.\n",
    "\n",
    "cnn_lstm_model.summary()"
   ]
  },
  {
   "cell_type": "code",
   "execution_count": 13,
   "metadata": {},
   "outputs": [
    {
     "name": "stdout",
     "output_type": "stream",
     "text": [
      "(136182, 41)\n",
      "(136182,)\n"
     ]
    }
   ],
   "source": [
    "# validation set 10000건 분리\n",
    "X_val = X_train[:10000]   \n",
    "y_val = y_train[:10000]\n",
    "\n",
    "# validation set을 제외한 나머지 15000건\n",
    "partial_x_train = X_train[10000:]  \n",
    "partial_y_train = y_train[10000:]\n",
    "\n",
    "print(partial_x_train.shape)\n",
    "print(partial_y_train.shape)"
   ]
  },
  {
   "cell_type": "markdown",
   "metadata": {},
   "source": [
    "## 모델 훈련 개시"
   ]
  },
  {
   "cell_type": "code",
   "execution_count": 14,
   "metadata": {},
   "outputs": [
    {
     "name": "stdout",
     "output_type": "stream",
     "text": [
      "Epoch 1/30\n",
      "266/266 [==============================] - 19s 71ms/step - loss: 0.5071 - accuracy: 0.7267 - val_loss: 0.3677 - val_accuracy: 0.8385\n",
      "Epoch 2/30\n",
      "266/266 [==============================] - 19s 70ms/step - loss: 0.3713 - accuracy: 0.8397 - val_loss: 0.3487 - val_accuracy: 0.8484\n",
      "Epoch 3/30\n",
      "266/266 [==============================] - 19s 70ms/step - loss: 0.3476 - accuracy: 0.8535 - val_loss: 0.3467 - val_accuracy: 0.8516\n",
      "Epoch 4/30\n",
      "266/266 [==============================] - 19s 70ms/step - loss: 0.3349 - accuracy: 0.8591 - val_loss: 0.3543 - val_accuracy: 0.8476\n",
      "Epoch 5/30\n",
      "266/266 [==============================] - 19s 70ms/step - loss: 0.3242 - accuracy: 0.8638 - val_loss: 0.3411 - val_accuracy: 0.8534\n",
      "Epoch 6/30\n",
      "266/266 [==============================] - 19s 70ms/step - loss: 0.3180 - accuracy: 0.8660 - val_loss: 0.3431 - val_accuracy: 0.8511\n",
      "Epoch 7/30\n",
      "266/266 [==============================] - 19s 70ms/step - loss: 0.3109 - accuracy: 0.8683 - val_loss: 0.3363 - val_accuracy: 0.8539\n",
      "Epoch 8/30\n",
      "266/266 [==============================] - 19s 70ms/step - loss: 0.3052 - accuracy: 0.8702 - val_loss: 0.3420 - val_accuracy: 0.8518\n",
      "Epoch 9/30\n",
      "266/266 [==============================] - 19s 70ms/step - loss: 0.3006 - accuracy: 0.8720 - val_loss: 0.3394 - val_accuracy: 0.8547\n",
      "Epoch 10/30\n",
      "266/266 [==============================] - 19s 70ms/step - loss: 0.2970 - accuracy: 0.8739 - val_loss: 0.3521 - val_accuracy: 0.8532\n",
      "Epoch 11/30\n",
      "266/266 [==============================] - 19s 70ms/step - loss: 0.2913 - accuracy: 0.8763 - val_loss: 0.3388 - val_accuracy: 0.8539\n",
      "Epoch 12/30\n",
      "266/266 [==============================] - 19s 71ms/step - loss: 0.2881 - accuracy: 0.8771 - val_loss: 0.3406 - val_accuracy: 0.8576\n",
      "Epoch 13/30\n",
      "266/266 [==============================] - 19s 71ms/step - loss: 0.2844 - accuracy: 0.8784 - val_loss: 0.3377 - val_accuracy: 0.8573\n",
      "Epoch 14/30\n",
      "266/266 [==============================] - 19s 70ms/step - loss: 0.2817 - accuracy: 0.8789 - val_loss: 0.3382 - val_accuracy: 0.8549\n",
      "Epoch 15/30\n",
      "266/266 [==============================] - 19s 71ms/step - loss: 0.2764 - accuracy: 0.8820 - val_loss: 0.3453 - val_accuracy: 0.8570\n",
      "Epoch 16/30\n",
      "266/266 [==============================] - 19s 70ms/step - loss: 0.2721 - accuracy: 0.8833 - val_loss: 0.3513 - val_accuracy: 0.8552\n",
      "Epoch 17/30\n",
      "266/266 [==============================] - 19s 70ms/step - loss: 0.2698 - accuracy: 0.8848 - val_loss: 0.3455 - val_accuracy: 0.8571\n",
      "Epoch 18/30\n",
      "266/266 [==============================] - 19s 70ms/step - loss: 0.2669 - accuracy: 0.8861 - val_loss: 0.3381 - val_accuracy: 0.8556\n",
      "Epoch 19/30\n",
      "266/266 [==============================] - 19s 70ms/step - loss: 0.2642 - accuracy: 0.8878 - val_loss: 0.3591 - val_accuracy: 0.8540\n",
      "Epoch 20/30\n",
      "266/266 [==============================] - 19s 70ms/step - loss: 0.2612 - accuracy: 0.8890 - val_loss: 0.3443 - val_accuracy: 0.8533\n",
      "Epoch 21/30\n",
      "266/266 [==============================] - 19s 70ms/step - loss: 0.2579 - accuracy: 0.8903 - val_loss: 0.3515 - val_accuracy: 0.8547\n",
      "Epoch 22/30\n",
      "266/266 [==============================] - 19s 70ms/step - loss: 0.2565 - accuracy: 0.8908 - val_loss: 0.3425 - val_accuracy: 0.8562\n",
      "Epoch 23/30\n",
      "266/266 [==============================] - 19s 70ms/step - loss: 0.2529 - accuracy: 0.8931 - val_loss: 0.3627 - val_accuracy: 0.8548\n",
      "Epoch 24/30\n",
      "266/266 [==============================] - 19s 70ms/step - loss: 0.2524 - accuracy: 0.8932 - val_loss: 0.3642 - val_accuracy: 0.8536\n",
      "Epoch 25/30\n",
      "266/266 [==============================] - 19s 70ms/step - loss: 0.2488 - accuracy: 0.8946 - val_loss: 0.3686 - val_accuracy: 0.8520\n",
      "Epoch 26/30\n",
      "266/266 [==============================] - 19s 70ms/step - loss: 0.2472 - accuracy: 0.8959 - val_loss: 0.3626 - val_accuracy: 0.8560\n",
      "Epoch 27/30\n",
      "266/266 [==============================] - 19s 70ms/step - loss: 0.2455 - accuracy: 0.8968 - val_loss: 0.3592 - val_accuracy: 0.8557\n",
      "Epoch 28/30\n",
      "266/266 [==============================] - 19s 70ms/step - loss: 0.2449 - accuracy: 0.8975 - val_loss: 0.3628 - val_accuracy: 0.8516\n",
      "Epoch 29/30\n",
      "266/266 [==============================] - 19s 70ms/step - loss: 0.2431 - accuracy: 0.8972 - val_loss: 0.3589 - val_accuracy: 0.8532\n",
      "Epoch 30/30\n",
      "266/266 [==============================] - 19s 70ms/step - loss: 0.2420 - accuracy: 0.8990 - val_loss: 0.3687 - val_accuracy: 0.8549\n"
     ]
    }
   ],
   "source": [
    "lstm_model.compile(optimizer='adam',\n",
    "              loss='binary_crossentropy',\n",
    "              metrics=['accuracy'])\n",
    "              \n",
    "epochs=30  # 몇 epoch를 훈련하면 좋을지 결과를 보면서 바꾸어 봅시다. \n",
    "\n",
    "lstm_history = lstm_model.fit(partial_x_train,\n",
    "                    partial_y_train,\n",
    "                    epochs=epochs,\n",
    "                    batch_size=512,\n",
    "                    validation_data=(X_val, y_val),\n",
    "                    verbose=1)"
   ]
  },
  {
   "cell_type": "code",
   "execution_count": 15,
   "metadata": {},
   "outputs": [
    {
     "name": "stdout",
     "output_type": "stream",
     "text": [
      "Epoch 1/10\n",
      "266/266 [==============================] - 7s 27ms/step - loss: 0.4876 - accuracy: 0.7596 - val_loss: 0.3410 - val_accuracy: 0.8491\n",
      "Epoch 2/10\n",
      "266/266 [==============================] - 2s 7ms/step - loss: 0.3527 - accuracy: 0.8616 - val_loss: 0.3258 - val_accuracy: 0.8562\n",
      "Epoch 3/10\n",
      "266/266 [==============================] - 2s 7ms/step - loss: 0.3069 - accuracy: 0.8826 - val_loss: 0.3243 - val_accuracy: 0.8609\n",
      "Epoch 4/10\n",
      "266/266 [==============================] - 2s 7ms/step - loss: 0.2581 - accuracy: 0.9043 - val_loss: 0.3480 - val_accuracy: 0.8538\n",
      "Epoch 5/10\n",
      "266/266 [==============================] - 2s 7ms/step - loss: 0.2103 - accuracy: 0.9252 - val_loss: 0.3858 - val_accuracy: 0.8493\n",
      "Epoch 6/10\n",
      "266/266 [==============================] - 2s 7ms/step - loss: 0.1634 - accuracy: 0.9451 - val_loss: 0.4535 - val_accuracy: 0.8420\n",
      "Epoch 7/10\n",
      "266/266 [==============================] - 2s 7ms/step - loss: 0.1268 - accuracy: 0.9587 - val_loss: 0.5686 - val_accuracy: 0.8408\n",
      "Epoch 8/10\n",
      "266/266 [==============================] - 2s 7ms/step - loss: 0.1046 - accuracy: 0.9669 - val_loss: 0.6092 - val_accuracy: 0.8423\n",
      "Epoch 9/10\n",
      "266/266 [==============================] - 2s 7ms/step - loss: 0.0867 - accuracy: 0.9731 - val_loss: 0.7252 - val_accuracy: 0.8391\n",
      "Epoch 10/10\n",
      "266/266 [==============================] - 2s 7ms/step - loss: 0.0763 - accuracy: 0.9767 - val_loss: 0.7780 - val_accuracy: 0.8412\n"
     ]
    }
   ],
   "source": [
    "cnn_model.compile(optimizer='adam',\n",
    "              loss='binary_crossentropy',\n",
    "              metrics=['accuracy'])\n",
    "              \n",
    "epochs=10  # 몇 epoch를 훈련하면 좋을지 결과를 보면서 바꾸어 봅시다. \n",
    "\n",
    "cnn_history = cnn_model.fit(partial_x_train,\n",
    "                    partial_y_train,\n",
    "                    epochs=epochs,\n",
    "                    batch_size=512,\n",
    "                    validation_data=(X_val, y_val),\n",
    "                    verbose=1)"
   ]
  },
  {
   "cell_type": "code",
   "execution_count": 16,
   "metadata": {},
   "outputs": [
    {
     "name": "stdout",
     "output_type": "stream",
     "text": [
      "Epoch 1/20\n",
      "266/266 [==============================] - 1s 3ms/step - loss: 0.6306 - accuracy: 0.6622 - val_loss: 0.4844 - val_accuracy: 0.8155\n",
      "Epoch 2/20\n",
      "266/266 [==============================] - 1s 3ms/step - loss: 0.4701 - accuracy: 0.8029 - val_loss: 0.3919 - val_accuracy: 0.8356\n",
      "Epoch 3/20\n",
      "266/266 [==============================] - 1s 3ms/step - loss: 0.4202 - accuracy: 0.8286 - val_loss: 0.3723 - val_accuracy: 0.8403\n",
      "Epoch 4/20\n",
      "266/266 [==============================] - 1s 3ms/step - loss: 0.3947 - accuracy: 0.8401 - val_loss: 0.3637 - val_accuracy: 0.8417\n",
      "Epoch 5/20\n",
      "266/266 [==============================] - 1s 3ms/step - loss: 0.3785 - accuracy: 0.8472 - val_loss: 0.3596 - val_accuracy: 0.8462\n",
      "Epoch 6/20\n",
      "266/266 [==============================] - 1s 3ms/step - loss: 0.3653 - accuracy: 0.8516 - val_loss: 0.3592 - val_accuracy: 0.8456\n",
      "Epoch 7/20\n",
      "266/266 [==============================] - 1s 3ms/step - loss: 0.3555 - accuracy: 0.8570 - val_loss: 0.3582 - val_accuracy: 0.8456\n",
      "Epoch 8/20\n",
      "266/266 [==============================] - 1s 3ms/step - loss: 0.3485 - accuracy: 0.8594 - val_loss: 0.3588 - val_accuracy: 0.8456\n",
      "Epoch 9/20\n",
      "266/266 [==============================] - 1s 3ms/step - loss: 0.3429 - accuracy: 0.8604 - val_loss: 0.3600 - val_accuracy: 0.8454\n",
      "Epoch 10/20\n",
      "266/266 [==============================] - 1s 3ms/step - loss: 0.3391 - accuracy: 0.8621 - val_loss: 0.3618 - val_accuracy: 0.8447\n",
      "Epoch 11/20\n",
      "266/266 [==============================] - 1s 3ms/step - loss: 0.3338 - accuracy: 0.8646 - val_loss: 0.3622 - val_accuracy: 0.8473\n",
      "Epoch 12/20\n",
      "266/266 [==============================] - 1s 3ms/step - loss: 0.3270 - accuracy: 0.8673 - val_loss: 0.3636 - val_accuracy: 0.8437\n",
      "Epoch 13/20\n",
      "266/266 [==============================] - 1s 3ms/step - loss: 0.3251 - accuracy: 0.8680 - val_loss: 0.3668 - val_accuracy: 0.8422\n",
      "Epoch 14/20\n",
      "266/266 [==============================] - 1s 3ms/step - loss: 0.3231 - accuracy: 0.8693 - val_loss: 0.3680 - val_accuracy: 0.8431\n",
      "Epoch 15/20\n",
      "266/266 [==============================] - 1s 3ms/step - loss: 0.3182 - accuracy: 0.8711 - val_loss: 0.3709 - val_accuracy: 0.8421\n",
      "Epoch 16/20\n",
      "266/266 [==============================] - 1s 3ms/step - loss: 0.3164 - accuracy: 0.8710 - val_loss: 0.3710 - val_accuracy: 0.8423\n",
      "Epoch 17/20\n",
      "266/266 [==============================] - 1s 3ms/step - loss: 0.3143 - accuracy: 0.8736 - val_loss: 0.3722 - val_accuracy: 0.8410\n",
      "Epoch 18/20\n",
      "266/266 [==============================] - 1s 3ms/step - loss: 0.3116 - accuracy: 0.8742 - val_loss: 0.3749 - val_accuracy: 0.8420\n",
      "Epoch 19/20\n",
      "266/266 [==============================] - 1s 3ms/step - loss: 0.3099 - accuracy: 0.8749 - val_loss: 0.3764 - val_accuracy: 0.8417\n",
      "Epoch 20/20\n",
      "266/266 [==============================] - 1s 3ms/step - loss: 0.3087 - accuracy: 0.8745 - val_loss: 0.3790 - val_accuracy: 0.8410\n"
     ]
    }
   ],
   "source": [
    "global_l_model.compile(optimizer='adam',\n",
    "              loss='binary_crossentropy',\n",
    "              metrics=['accuracy'])\n",
    "              \n",
    "epochs=20  # 몇 epoch를 훈련하면 좋을지 결과를 보면서 바꾸어 봅시다. \n",
    "\n",
    "global_l_history = global_l_model.fit(partial_x_train,\n",
    "                    partial_y_train,\n",
    "                    epochs=epochs,\n",
    "                    batch_size=512,\n",
    "                    validation_data=(X_val, y_val),\n",
    "                    verbose=1)"
   ]
  },
  {
   "cell_type": "code",
   "execution_count": 17,
   "metadata": {},
   "outputs": [
    {
     "name": "stdout",
     "output_type": "stream",
     "text": [
      "Epoch 1/10\n",
      "266/266 [==============================] - 7s 27ms/step - loss: 0.5284 - accuracy: 0.7191 - val_loss: 0.3567 - val_accuracy: 0.8445\n",
      "Epoch 2/10\n",
      "266/266 [==============================] - 2s 6ms/step - loss: 0.3581 - accuracy: 0.8500 - val_loss: 0.3442 - val_accuracy: 0.8507\n",
      "Epoch 3/10\n",
      "266/266 [==============================] - 2s 6ms/step - loss: 0.3285 - accuracy: 0.8635 - val_loss: 0.3408 - val_accuracy: 0.8532\n",
      "Epoch 4/10\n",
      "266/266 [==============================] - 2s 6ms/step - loss: 0.3101 - accuracy: 0.8728 - val_loss: 0.3379 - val_accuracy: 0.8554\n",
      "Epoch 5/10\n",
      "266/266 [==============================] - 2s 6ms/step - loss: 0.2923 - accuracy: 0.8823 - val_loss: 0.3375 - val_accuracy: 0.8515\n",
      "Epoch 6/10\n",
      "266/266 [==============================] - 2s 6ms/step - loss: 0.2730 - accuracy: 0.8920 - val_loss: 0.3478 - val_accuracy: 0.8540\n",
      "Epoch 7/10\n",
      "266/266 [==============================] - 2s 6ms/step - loss: 0.2520 - accuracy: 0.9037 - val_loss: 0.3597 - val_accuracy: 0.8507\n",
      "Epoch 8/10\n",
      "266/266 [==============================] - 2s 6ms/step - loss: 0.2280 - accuracy: 0.9163 - val_loss: 0.3818 - val_accuracy: 0.8494\n",
      "Epoch 9/10\n",
      "266/266 [==============================] - 2s 6ms/step - loss: 0.2042 - accuracy: 0.9276 - val_loss: 0.4056 - val_accuracy: 0.8452\n",
      "Epoch 10/10\n",
      "266/266 [==============================] - 2s 6ms/step - loss: 0.1819 - accuracy: 0.9383 - val_loss: 0.4285 - val_accuracy: 0.8428\n"
     ]
    }
   ],
   "source": [
    "cnn_lstm_model.compile(optimizer='adam',\n",
    "              loss='binary_crossentropy',\n",
    "              metrics=['accuracy'])\n",
    "              \n",
    "epochs=10  # 몇 epoch를 훈련하면 좋을지 결과를 보면서 바꾸어 봅시다. \n",
    "\n",
    "cnn_lstm_history = cnn_lstm_model.fit(partial_x_train,\n",
    "                    partial_y_train,\n",
    "                    epochs=epochs,\n",
    "                    batch_size=512,\n",
    "                    validation_data=(X_val, y_val),\n",
    "                    verbose=1)"
   ]
  },
  {
   "cell_type": "code",
   "execution_count": 18,
   "metadata": {},
   "outputs": [
    {
     "name": "stdout",
     "output_type": "stream",
     "text": [
      "Epoch 1/20\n",
      "266/266 [==============================] - 2s 6ms/step - loss: 0.6226 - accuracy: 0.5943 - val_loss: 0.3893 - val_accuracy: 0.8317\n",
      "Epoch 2/20\n",
      "266/266 [==============================] - 1s 5ms/step - loss: 0.3799 - accuracy: 0.8435 - val_loss: 0.3511 - val_accuracy: 0.8456\n",
      "Epoch 3/20\n",
      "266/266 [==============================] - 1s 5ms/step - loss: 0.3506 - accuracy: 0.8591 - val_loss: 0.3519 - val_accuracy: 0.8496\n",
      "Epoch 4/20\n",
      "266/266 [==============================] - 1s 5ms/step - loss: 0.3372 - accuracy: 0.8657 - val_loss: 0.3457 - val_accuracy: 0.8497\n",
      "Epoch 5/20\n",
      "266/266 [==============================] - 1s 5ms/step - loss: 0.3292 - accuracy: 0.8677 - val_loss: 0.3366 - val_accuracy: 0.8519\n",
      "Epoch 6/20\n",
      "266/266 [==============================] - 1s 5ms/step - loss: 0.3194 - accuracy: 0.8730 - val_loss: 0.3397 - val_accuracy: 0.8518\n",
      "Epoch 7/20\n",
      "266/266 [==============================] - 1s 5ms/step - loss: 0.3084 - accuracy: 0.8769 - val_loss: 0.3397 - val_accuracy: 0.8568\n",
      "Epoch 8/20\n",
      "266/266 [==============================] - 1s 5ms/step - loss: 0.2985 - accuracy: 0.8809 - val_loss: 0.3388 - val_accuracy: 0.8563\n",
      "Epoch 9/20\n",
      "266/266 [==============================] - 1s 5ms/step - loss: 0.2814 - accuracy: 0.8888 - val_loss: 0.3597 - val_accuracy: 0.8572\n",
      "Epoch 10/20\n",
      "266/266 [==============================] - 1s 5ms/step - loss: 0.2692 - accuracy: 0.8945 - val_loss: 0.3388 - val_accuracy: 0.8586\n",
      "Epoch 11/20\n",
      "266/266 [==============================] - 1s 5ms/step - loss: 0.2585 - accuracy: 0.8988 - val_loss: 0.3497 - val_accuracy: 0.8568\n",
      "Epoch 12/20\n",
      "266/266 [==============================] - 1s 5ms/step - loss: 0.2501 - accuracy: 0.9035 - val_loss: 0.3703 - val_accuracy: 0.8534\n",
      "Epoch 13/20\n",
      "266/266 [==============================] - 1s 5ms/step - loss: 0.2409 - accuracy: 0.9067 - val_loss: 0.3635 - val_accuracy: 0.8513\n",
      "Epoch 14/20\n",
      "266/266 [==============================] - 1s 5ms/step - loss: 0.2328 - accuracy: 0.9103 - val_loss: 0.3889 - val_accuracy: 0.8510\n",
      "Epoch 15/20\n",
      "266/266 [==============================] - 1s 5ms/step - loss: 0.2262 - accuracy: 0.9139 - val_loss: 0.4088 - val_accuracy: 0.8509\n",
      "Epoch 16/20\n",
      "266/266 [==============================] - 1s 5ms/step - loss: 0.2221 - accuracy: 0.9151 - val_loss: 0.4083 - val_accuracy: 0.8499\n",
      "Epoch 17/20\n",
      "266/266 [==============================] - 1s 5ms/step - loss: 0.2138 - accuracy: 0.9182 - val_loss: 0.4257 - val_accuracy: 0.8445\n",
      "Epoch 18/20\n",
      "266/266 [==============================] - 1s 5ms/step - loss: 0.2096 - accuracy: 0.9192 - val_loss: 0.4844 - val_accuracy: 0.8481\n",
      "Epoch 19/20\n",
      "266/266 [==============================] - 1s 5ms/step - loss: 0.2044 - accuracy: 0.9221 - val_loss: 0.4895 - val_accuracy: 0.8473\n",
      "Epoch 20/20\n",
      "266/266 [==============================] - 1s 5ms/step - loss: 0.2017 - accuracy: 0.9237 - val_loss: 0.4520 - val_accuracy: 0.8452\n"
     ]
    }
   ],
   "source": [
    "gru_model.compile(optimizer='adam',\n",
    "              loss='binary_crossentropy',\n",
    "              metrics=['accuracy'])\n",
    "              \n",
    "epochs=20  # 몇 epoch를 훈련하면 좋을지 결과를 보면서 바꾸어 봅시다. \n",
    "\n",
    "gru_history = gru_model.fit(partial_x_train,\n",
    "                    partial_y_train,\n",
    "                    epochs=epochs,\n",
    "                    batch_size=512,\n",
    "                    validation_data=(X_val, y_val),\n",
    "                    verbose=1)"
   ]
  },
  {
   "cell_type": "markdown",
   "metadata": {},
   "source": [
    "## Loss, Accuracy 그래프 시각화"
   ]
  },
  {
   "cell_type": "code",
   "execution_count": 19,
   "metadata": {},
   "outputs": [
    {
     "name": "stdout",
     "output_type": "stream",
     "text": [
      "1537/1537 - 12s - loss: 0.3810 - accuracy: 0.8514\n",
      "1537/1537 - 3s - loss: 0.7832 - accuracy: 0.8386\n",
      "1537/1537 - 1s - loss: 0.3867 - accuracy: 0.8386\n",
      "1537/1537 - 4s - loss: 0.4344 - accuracy: 0.8410\n",
      "1537/1537 - 2s - loss: 0.4780 - accuracy: 0.8391\n",
      "LSTM:  [0.38103875517845154, 0.851394534111023]\n",
      "CNN:  [0.783225417137146, 0.8385580778121948]\n",
      "GlobalMaxPooling1D() 레이어 하나만:  [0.38669446110725403, 0.8385784029960632]\n",
      "CNN-LSTM:  [0.43440237641334534, 0.8409585356712341]\n",
      "gru network:  [0.47800058126449585, 0.8391073346138]\n"
     ]
    }
   ],
   "source": [
    "lstm_results = lstm_model.evaluate(X_test,  y_test, verbose=2)\n",
    "cnn_results = cnn_model.evaluate(X_test,  y_test, verbose=2)\n",
    "global_l_results = global_l_model.evaluate(X_test,  y_test, verbose=2)\n",
    "cnn_lstm_results = cnn_lstm_model.evaluate(X_test,  y_test, verbose=2)\n",
    "gru_results = gru_model.evaluate(X_test,  y_test, verbose=2)\n",
    "# feed_results = feed_model.evaluate(X_test,  y_test, verbose=2)\n",
    "\n",
    "print(\"LSTM: \",lstm_results)\n",
    "print(\"CNN: \",cnn_results)\n",
    "print(\"GlobalMaxPooling1D() 레이어 하나만: \",global_l_results)\n",
    "print(\"CNN-LSTM: \",cnn_lstm_results)\n",
    "print(\"gru network: \",gru_results)\n",
    "# print(\"transformer: \",cnn_lstm_results)"
   ]
  },
  {
   "cell_type": "code",
   "execution_count": 20,
   "metadata": {},
   "outputs": [
    {
     "name": "stderr",
     "output_type": "stream",
     "text": [
      "/home/aiffel0036/anaconda3/envs/aiffel/lib/python3.7/site-packages/matplotlib/backends/backend_agg.py:214: RuntimeWarning: Glyph 47112 missing from current font.\n",
      "  font.set_text(s, 0.0, flags=flags)\n",
      "/home/aiffel0036/anaconda3/envs/aiffel/lib/python3.7/site-packages/matplotlib/backends/backend_agg.py:214: RuntimeWarning: Glyph 51060 missing from current font.\n",
      "  font.set_text(s, 0.0, flags=flags)\n",
      "/home/aiffel0036/anaconda3/envs/aiffel/lib/python3.7/site-packages/matplotlib/backends/backend_agg.py:214: RuntimeWarning: Glyph 50612 missing from current font.\n",
      "  font.set_text(s, 0.0, flags=flags)\n",
      "/home/aiffel0036/anaconda3/envs/aiffel/lib/python3.7/site-packages/matplotlib/backends/backend_agg.py:214: RuntimeWarning: Glyph 54616 missing from current font.\n",
      "  font.set_text(s, 0.0, flags=flags)\n",
      "/home/aiffel0036/anaconda3/envs/aiffel/lib/python3.7/site-packages/matplotlib/backends/backend_agg.py:214: RuntimeWarning: Glyph 45208 missing from current font.\n",
      "  font.set_text(s, 0.0, flags=flags)\n",
      "/home/aiffel0036/anaconda3/envs/aiffel/lib/python3.7/site-packages/matplotlib/backends/backend_agg.py:214: RuntimeWarning: Glyph 47564 missing from current font.\n",
      "  font.set_text(s, 0.0, flags=flags)\n",
      "/home/aiffel0036/anaconda3/envs/aiffel/lib/python3.7/site-packages/matplotlib/backends/backend_agg.py:183: RuntimeWarning: Glyph 47112 missing from current font.\n",
      "  font.set_text(s, 0, flags=flags)\n",
      "/home/aiffel0036/anaconda3/envs/aiffel/lib/python3.7/site-packages/matplotlib/backends/backend_agg.py:183: RuntimeWarning: Glyph 51060 missing from current font.\n",
      "  font.set_text(s, 0, flags=flags)\n",
      "/home/aiffel0036/anaconda3/envs/aiffel/lib/python3.7/site-packages/matplotlib/backends/backend_agg.py:183: RuntimeWarning: Glyph 50612 missing from current font.\n",
      "  font.set_text(s, 0, flags=flags)\n",
      "/home/aiffel0036/anaconda3/envs/aiffel/lib/python3.7/site-packages/matplotlib/backends/backend_agg.py:183: RuntimeWarning: Glyph 54616 missing from current font.\n",
      "  font.set_text(s, 0, flags=flags)\n",
      "/home/aiffel0036/anaconda3/envs/aiffel/lib/python3.7/site-packages/matplotlib/backends/backend_agg.py:183: RuntimeWarning: Glyph 45208 missing from current font.\n",
      "  font.set_text(s, 0, flags=flags)\n",
      "/home/aiffel0036/anaconda3/envs/aiffel/lib/python3.7/site-packages/matplotlib/backends/backend_agg.py:183: RuntimeWarning: Glyph 47564 missing from current font.\n",
      "  font.set_text(s, 0, flags=flags)\n"
     ]
    },
    {
     "data": {
      "image/png": "[encoded data removed]",
      "text/plain": [
       "<Figure size 1584x864 with 4 Axes>"
      ]
     },
     "metadata": {
      "needs_background": "light"
     },
     "output_type": "display_data"
    }
   ],
   "source": [
    "fig, axes = plt.subplots(2, 2, sharex=True, sharey=True,figsize=(22,12))\n",
    "ax1, ax2 = axes[0]\n",
    "ax3, ax4 = axes[1]\n",
    "# ax5 = axes[2]\n",
    "\n",
    "ax1.plot(lstm_history.history['loss'], label='Train loss')\n",
    "ax1.plot(lstm_history.history['val_loss'], label='Validation loss')\n",
    "ax1.legend(loc='best')\n",
    "ax1.set_title('lstm')\n",
    "ax1.set_xlabel('Epochs')\n",
    "ax1.set_ylabel('Loss')\n",
    "\n",
    "ax2.plot(cnn_history.history['loss'], label='Train loss')\n",
    "ax2.plot(cnn_history.history['val_loss'], label='Validation loss')\n",
    "ax2.legend(loc='best')\n",
    "ax2.set_title('CNN')\n",
    "ax2.set_xlabel('Epochs')\n",
    "ax2.set_ylabel('Loss')\n",
    "\n",
    "ax3.plot(global_l_history.history['loss'], label='Train loss')\n",
    "ax3.plot(global_l_history.history['val_loss'], label='Validation loss')\n",
    "ax3.legend(loc='best')\n",
    "ax3.set_title('GlobalMaxPooling1D() 레이어 하나만')\n",
    "ax3.set_xlabel('Epochs')\n",
    "ax3.set_ylabel('Loss')\n",
    "\n",
    "ax4.plot(cnn_lstm_history.history['loss'], label='Train loss')\n",
    "ax4.plot(cnn_lstm_history.history['val_loss'], label='Validation loss')\n",
    "ax4.legend(loc='best')\n",
    "ax4.set_title('CNN-LSTM')\n",
    "ax4.set_xlabel('Epochs')\n",
    "ax4.set_ylabel('Loss')\n",
    "\n",
    "# ax5.plot(gru_history.history['loss'], label='Train loss')\n",
    "# ax5.plot(gru_history.history['val_loss'], label='Validation loss')\n",
    "# ax5.legend(loc='best')\n",
    "# ax5.set_title('GRU')\n",
    "# ax5.set_xlabel('Epochs')\n",
    "# ax5.set_ylabel('Loss')\n",
    "\n",
    "plt.show()"
   ]
  },
  {
   "cell_type": "markdown",
   "metadata": {},
   "source": [
    "## 학습된 Embedding 레이어 분석"
   ]
  },
  {
   "cell_type": "code",
   "execution_count": 21,
   "metadata": {},
   "outputs": [
    {
     "name": "stdout",
     "output_type": "stream",
     "text": [
      "(10000, 16)\n"
     ]
    }
   ],
   "source": [
    "embedding_layer = global_l_model.layers[0]\n",
    "weights = embedding_layer.get_weights()[0]\n",
    "print(weights.shape)    # shape: (vocab_size, embedding_dim)"
   ]
  },
  {
   "cell_type": "code",
   "execution_count": 22,
   "metadata": {},
   "outputs": [],
   "source": [
    "import os\n",
    "\n",
    "# 학습한 Embedding 파라미터를 파일에 써서 저장합니다. \n",
    "word2vec_file_path = os.getenv('HOME')+'/aiffel/sentiment_classification/word2vec_kor.txt'\n",
    "f = open(word2vec_file_path, 'w')\n",
    "f.write('{} {}\\n'.format(vocab_size-4, word_vector_dim))  # 몇개의 벡터를 얼마 사이즈로 기재할지 타이틀을 씁니다.\n",
    "\n",
    "# 단어 개수(에서 특수문자 4개는 제외하고)만큼의 워드 벡터를 파일에 기록합니다. \n",
    "vectors = global_l_model.get_weights()[0]\n",
    "for i in range(4,vocab_size):\n",
    "    f.write('{} {}\\n'.format(index_to_word[i], ' '.join(map(str, list(vectors[i, :])))))\n",
    "f.close()"
   ]
  },
  {
   "cell_type": "code",
   "execution_count": 23,
   "metadata": {},
   "outputs": [
    {
     "data": {
      "text/plain": [
       "array([-0.26964158, -0.2027828 , -0.29704815, -0.24656129, -0.24768768,\n",
       "       -0.15116838, -0.29230902, -0.22323614, -0.14989823, -0.2137274 ,\n",
       "       -0.2640676 , -0.12096033, -0.27374282, -0.27285323, -0.27633062,\n",
       "       -0.23739438], dtype=float32)"
      ]
     },
     "execution_count": 23,
     "metadata": {},
     "output_type": "execute_result"
    }
   ],
   "source": [
    "# embedding parameter 읽어서 word vector로 활용\n",
    "from gensim.models.keyedvectors import Word2VecKeyedVectors\n",
    "\n",
    "word_vectors = Word2VecKeyedVectors.load_word2vec_format(word2vec_file_path, binary=False)\n",
    "vector = word_vectors['영화']\n",
    "vector"
   ]
  },
  {
   "cell_type": "code",
   "execution_count": 24,
   "metadata": {},
   "outputs": [
    {
     "data": {
      "text/plain": [
       "[('대충', 0.9705683588981628),\n",
       " ('못생겼', 0.9604666233062744),\n",
       " ('한심', 0.9544970393180847),\n",
       " ('시시', 0.9498728513717651),\n",
       " ('제멋대로', 0.9467077851295471),\n",
       " ('과분', 0.9401426315307617),\n",
       " ('평이', 0.9374074935913086),\n",
       " ('아베', 0.9369668364524841),\n",
       " ('글쎄', 0.9358007907867432),\n",
       " ('짐작', 0.931463897228241)]"
      ]
     },
     "execution_count": 24,
     "metadata": {},
     "output_type": "execute_result"
    }
   ],
   "source": [
    "word_vectors.similar_by_word(\"재미없\")"
   ]
  },
  {
   "cell_type": "code",
   "execution_count": 25,
   "metadata": {},
   "outputs": [
    {
     "data": {
      "text/plain": [
       "[('뻔해', 0.9801760911941528),\n",
       " ('엥', 0.9689817428588867),\n",
       " ('꺼지', 0.9654102325439453),\n",
       " ('버려라', 0.9574466943740845),\n",
       " ('과분', 0.9530490040779114),\n",
       " ('빨', 0.9520505666732788),\n",
       " ('구려', 0.9422466158866882),\n",
       " ('시시', 0.9420030117034912),\n",
       " ('꺼라', 0.9374504089355469),\n",
       " ('건조', 0.9374461770057678)]"
      ]
     },
     "execution_count": 25,
     "metadata": {},
     "output_type": "execute_result"
    }
   ],
   "source": [
    "word_vectors.similar_by_word(\"지루\")"
   ]
  },
  {
   "cell_type": "code",
   "execution_count": 26,
   "metadata": {},
   "outputs": [
    {
     "data": {
      "text/plain": [
       "[('죠', 0.9465866088867188),\n",
       " ('의상', 0.9463531374931335),\n",
       " ('~!!!', 0.9414889812469482),\n",
       " ('쉬', 0.9413456320762634),\n",
       " ('그리고', 0.9400491714477539),\n",
       " ('된다면', 0.936847448348999),\n",
       " ('전성기', 0.9286718368530273),\n",
       " ('풀', 0.9283691644668579),\n",
       " ('추억', 0.9278419017791748),\n",
       " ('던데', 0.9247300028800964)]"
      ]
     },
     "execution_count": 26,
     "metadata": {},
     "output_type": "execute_result"
    }
   ],
   "source": [
    "word_vectors.similar_by_word(\"감동\")"
   ]
  },
  {
   "cell_type": "markdown",
   "metadata": {},
   "source": [
    "## 한국어 Word2Vec 임베딩 활용하여 성능개선\n",
    "[파일 링크](https://github.com/Kyubyong/wordvectors)"
   ]
  },
  {
   "cell_type": "code",
   "execution_count": 27,
   "metadata": {},
   "outputs": [
    {
     "name": "stderr",
     "output_type": "stream",
     "text": [
      "/home/aiffel0036/anaconda3/envs/aiffel/lib/python3.7/site-packages/ipykernel_launcher.py:4: DeprecationWarning: Call to deprecated `__getitem__` (Method will be removed in 4.0.0, use self.wv.__getitem__() instead).\n",
      "  after removing the cwd from sys.path.\n"
     ]
    },
    {
     "data": {
      "text/plain": [
       "array([-1.7577837 , -1.0874279 ,  1.5300866 , -0.1115231 , -0.37980682,\n",
       "        1.4828517 ,  1.3180419 ,  0.11094163,  0.7430535 , -0.45461136,\n",
       "        0.58841336,  0.5763913 ,  1.210707  ,  1.3132795 , -0.86962503,\n",
       "       -0.18507595, -0.47440064,  1.5100725 ,  1.0965794 ,  1.0600823 ,\n",
       "       -0.27457932, -0.70003706,  2.3117511 ,  1.4944884 ,  0.25560892,\n",
       "       -2.866659  , -0.28312334,  0.34263936, -0.67723423,  0.71714777,\n",
       "        0.25549442,  0.71732044, -0.13262457,  0.01792452, -0.3184774 ,\n",
       "        0.5271619 ,  0.7561084 , -2.1247065 ,  1.061429  , -0.21065854,\n",
       "        0.6877343 , -1.4956383 ,  0.60346967, -2.6955893 ,  0.37694618,\n",
       "       -1.0164185 ,  0.5430663 ,  0.1200121 , -2.6315718 ,  0.6216742 ,\n",
       "        1.1583976 , -2.5385962 ,  1.326312  , -0.10284371, -0.0286147 ,\n",
       "       -0.9132947 ,  0.7647564 ,  0.79202783, -1.8625957 , -0.7418395 ,\n",
       "        0.5884277 , -0.9917992 , -0.62114453,  1.5367815 , -0.6628939 ,\n",
       "        0.6712103 ,  0.12914915,  0.21228492,  0.9017655 , -0.25083402,\n",
       "        0.71500814,  0.08644514,  0.59993285,  0.5766137 ,  0.64095974,\n",
       "        0.47888306, -2.8426213 , -2.8502681 , -0.140544  , -1.5917364 ,\n",
       "        0.26691505,  0.59476066,  0.85868204,  1.0322351 ,  0.25671318,\n",
       "       -0.34831643,  1.752927  , -0.21967097, -0.77352476,  1.6995213 ,\n",
       "        1.3996491 , -0.9419836 ,  0.85996443, -1.8812876 , -2.5428605 ,\n",
       "        0.39351937, -1.2882805 ,  0.56548136,  1.006273  ,  1.2217585 ,\n",
       "        3.5744793 ,  1.717737  ,  1.6917158 , -2.2176905 , -0.3167447 ,\n",
       "        1.2449    , -1.255284  , -2.1539652 , -1.096709  , -0.74976933,\n",
       "       -0.16744931, -1.8507233 ,  2.1861036 , -0.05389732,  1.038033  ,\n",
       "        0.33730686, -1.4647075 , -1.264041  ,  0.25509247,  0.0622906 ,\n",
       "        0.27852032, -0.52661455,  0.8529616 ,  0.58257025, -0.57665855,\n",
       "        1.3990631 ,  0.28237963,  1.6566037 ,  1.9912103 ,  0.63888913,\n",
       "        0.7732426 , -1.3757724 ,  0.17209321, -0.2433672 ,  0.6328291 ,\n",
       "        1.486971  ,  2.3435354 , -1.7037928 ,  3.1944559 , -1.9049606 ,\n",
       "       -0.51309574,  0.79082954, -1.4480313 , -0.68631476,  0.62008876,\n",
       "       -2.3400223 , -0.5785594 ,  0.5270694 ,  3.0061607 , -1.3661511 ,\n",
       "       -2.7953272 , -1.1794031 , -0.27734265,  0.71130925, -0.06620383,\n",
       "        0.33663416,  0.7204997 , -0.923218  , -2.1603265 , -0.8904896 ,\n",
       "       -1.4137112 , -0.4189144 ,  0.42834592,  1.8104875 , -1.8274456 ,\n",
       "       -0.26700613,  0.7743727 ,  0.80048114,  1.1333636 ,  3.2746978 ,\n",
       "       -0.0188297 ,  0.9245737 , -0.1246058 , -0.5802861 , -0.01926111,\n",
       "        1.05892   , -1.4247856 ,  1.0689156 ,  2.5728712 , -1.294882  ,\n",
       "        0.74771804,  1.3066916 , -1.3213431 ,  1.6501019 , -0.12401557,\n",
       "        0.96340084,  0.26050946,  1.3826336 , -0.02877662,  2.3431563 ,\n",
       "       -0.26337367,  1.9162012 , -0.77454543,  1.7392642 ,  0.08038983,\n",
       "       -0.60325927,  0.29508227,  0.4812675 ,  0.5271086 ,  0.94171894],\n",
       "      dtype=float32)"
      ]
     },
     "execution_count": 27,
     "metadata": {},
     "output_type": "execute_result"
    }
   ],
   "source": [
    "import gensim\n",
    "word2vec_path = os.getenv('HOME')+'/aiffel/sentiment_classification/ko.bin'\n",
    "word2vec = gensim.models.Word2Vec.load(word2vec_path)\n",
    "vector = word2vec['영화']\n",
    "vector"
   ]
  },
  {
   "cell_type": "code",
   "execution_count": 28,
   "metadata": {},
   "outputs": [
    {
     "name": "stderr",
     "output_type": "stream",
     "text": [
      "/home/aiffel0036/anaconda3/envs/aiffel/lib/python3.7/site-packages/ipykernel_launcher.py:1: DeprecationWarning: Call to deprecated `similar_by_word` (Method will be removed in 4.0.0, use self.wv.similar_by_word() instead).\n",
      "  \"\"\"Entry point for launching an IPython kernel.\n"
     ]
    },
    {
     "data": {
      "text/plain": [
       "[('감명', 0.7177015542984009),\n",
       " ('감격', 0.6908232569694519),\n",
       " ('실망', 0.6267645359039307),\n",
       " ('감화', 0.6191877126693726),\n",
       " ('감탄', 0.6140127778053284),\n",
       " ('칭찬', 0.6059398055076599),\n",
       " ('존경', 0.6032299995422363),\n",
       " ('자극', 0.594598650932312),\n",
       " ('감복', 0.5902734994888306),\n",
       " ('호응', 0.5850393772125244)]"
      ]
     },
     "execution_count": 28,
     "metadata": {},
     "output_type": "execute_result"
    }
   ],
   "source": [
    "word2vec.similar_by_word(\"감동\")"
   ]
  },
  {
   "cell_type": "code",
   "execution_count": 29,
   "metadata": {},
   "outputs": [
    {
     "name": "stderr",
     "output_type": "stream",
     "text": [
      "/home/aiffel0036/anaconda3/envs/aiffel/lib/python3.7/site-packages/ipykernel_launcher.py:1: DeprecationWarning: Call to deprecated `similar_by_word` (Method will be removed in 4.0.0, use self.wv.similar_by_word() instead).\n",
      "  \"\"\"Entry point for launching an IPython kernel.\n"
     ]
    },
    {
     "data": {
      "text/plain": [
       "[('답답', 0.7367105484008789),\n",
       " ('편안', 0.7046725749969482),\n",
       " ('솔직', 0.6893644332885742),\n",
       " ('쓸쓸', 0.6880697011947632),\n",
       " ('차분', 0.6868932843208313),\n",
       " ('조용', 0.6765609979629517),\n",
       " ('냉정', 0.6706622838973999),\n",
       " ('자유분방', 0.6680829524993896),\n",
       " ('피곤', 0.6597293019294739),\n",
       " ('느긋', 0.659047544002533)]"
      ]
     },
     "execution_count": 29,
     "metadata": {},
     "output_type": "execute_result"
    }
   ],
   "source": [
    "word2vec.similar_by_word(\"지루\")"
   ]
  },
  {
   "cell_type": "code",
   "execution_count": 30,
   "metadata": {},
   "outputs": [
    {
     "name": "stderr",
     "output_type": "stream",
     "text": [
      "/home/aiffel0036/anaconda3/envs/aiffel/lib/python3.7/site-packages/ipykernel_launcher.py:8: DeprecationWarning: Call to deprecated `__contains__` (Method will be removed in 4.0.0, use self.wv.__contains__() instead).\n",
      "  \n",
      "/home/aiffel0036/anaconda3/envs/aiffel/lib/python3.7/site-packages/ipykernel_launcher.py:9: DeprecationWarning: Call to deprecated `__getitem__` (Method will be removed in 4.0.0, use self.wv.__getitem__() instead).\n",
      "  if __name__ == '__main__':\n"
     ]
    }
   ],
   "source": [
    "vocab_size = 10000    # 어휘 사전의 크기입니다(10,000개의 단어)\n",
    "word_vector_dim = 200  # 워드 벡터의 차원수 (변경가능한 하이퍼파라미터)\n",
    "\n",
    "embedding_matrix = np.random.rand(vocab_size, word_vector_dim)\n",
    "\n",
    "# embedding_matrix에 Word2Vec 워드벡터를 단어 하나씩마다 차례차례 카피한다.\n",
    "for i in range(4,vocab_size):\n",
    "    if index_to_word[i] in word2vec:\n",
    "        embedding_matrix[i] = word2vec[index_to_word[i]]"
   ]
  },
  {
   "cell_type": "code",
   "execution_count": 31,
   "metadata": {},
   "outputs": [
    {
     "name": "stdout",
     "output_type": "stream",
     "text": [
      "Model: \"sequential_5\"\n",
      "_________________________________________________________________\n",
      "Layer (type)                 Output Shape              Param #   \n",
      "=================================================================\n",
      "embedding_5 (Embedding)      (None, 41, 200)           2000000   \n",
      "_________________________________________________________________\n",
      "conv1d_4 (Conv1D)            (None, 35, 16)            22416     \n",
      "_________________________________________________________________\n",
      "max_pooling1d_2 (MaxPooling1 (None, 7, 16)             0         \n",
      "_________________________________________________________________\n",
      "conv1d_5 (Conv1D)            (None, 1, 16)             1808      \n",
      "_________________________________________________________________\n",
      "global_max_pooling1d_2 (Glob (None, 16)                0         \n",
      "_________________________________________________________________\n",
      "dense_10 (Dense)             (None, 8)                 136       \n",
      "_________________________________________________________________\n",
      "dropout_6 (Dropout)          (None, 8)                 0         \n",
      "_________________________________________________________________\n",
      "dense_11 (Dense)             (None, 1)                 9         \n",
      "=================================================================\n",
      "Total params: 2,024,369\n",
      "Trainable params: 2,024,369\n",
      "Non-trainable params: 0\n",
      "_________________________________________________________________\n",
      "None\n",
      "Epoch 1/10\n",
      "266/266 [==============================] - 8s 30ms/step - loss: 0.6565 - accuracy: 0.6195 - val_loss: 0.5676 - val_accuracy: 0.7556\n",
      "Epoch 2/10\n",
      "266/266 [==============================] - 5s 17ms/step - loss: 0.5176 - accuracy: 0.7714 - val_loss: 0.4017 - val_accuracy: 0.8246\n",
      "Epoch 3/10\n",
      "266/266 [==============================] - 4s 17ms/step - loss: 0.4217 - accuracy: 0.8127 - val_loss: 0.3625 - val_accuracy: 0.8417\n",
      "Epoch 4/10\n",
      "266/266 [==============================] - 4s 17ms/step - loss: 0.3877 - accuracy: 0.8312 - val_loss: 0.3660 - val_accuracy: 0.8444\n",
      "Epoch 5/10\n",
      "266/266 [==============================] - 5s 17ms/step - loss: 0.3518 - accuracy: 0.8628 - val_loss: 0.3547 - val_accuracy: 0.8488\n",
      "Epoch 6/10\n",
      "266/266 [==============================] - 5s 17ms/step - loss: 0.3281 - accuracy: 0.8733 - val_loss: 0.3562 - val_accuracy: 0.8466\n",
      "Epoch 7/10\n",
      "266/266 [==============================] - 5s 17ms/step - loss: 0.3071 - accuracy: 0.8840 - val_loss: 0.3732 - val_accuracy: 0.8486\n",
      "Epoch 8/10\n",
      "266/266 [==============================] - 5s 17ms/step - loss: 0.2910 - accuracy: 0.8919 - val_loss: 0.3731 - val_accuracy: 0.8321\n",
      "Epoch 9/10\n",
      "266/266 [==============================] - 4s 17ms/step - loss: 0.2719 - accuracy: 0.9002 - val_loss: 0.3885 - val_accuracy: 0.8427\n",
      "Epoch 10/10\n",
      "266/266 [==============================] - 5s 17ms/step - loss: 0.2567 - accuracy: 0.9072 - val_loss: 0.4182 - val_accuracy: 0.8422\n",
      "1537/1537 - 3s - loss: 0.4325 - accuracy: 0.8399\n",
      "[0.43247750401496887, 0.8399007320404053]\n"
     ]
    }
   ],
   "source": [
    "from tensorflow.keras.initializers import Constant\n",
    "\n",
    "vocab_size = 10000    # 어휘 사전의 크기입니다(10,000개의 단어)\n",
    "word_vector_dim = 200  # 워드 벡터의 차원수 (변경가능한 하이퍼파라미터)\n",
    "\n",
    "# 모델 구성\n",
    "cnn_model2 = keras.Sequential()\n",
    "cnn_model2.add(keras.layers.Embedding(vocab_size, \n",
    "                                 word_vector_dim, \n",
    "                                 embeddings_initializer=Constant(embedding_matrix),  # 카피한 임베딩을 여기서 활용\n",
    "                                 input_length=maxlen, \n",
    "                                 trainable=True))   # trainable을 True로 주면 Fine-tuning\n",
    "cnn_model2.add(keras.layers.Conv1D(16, 7, activation='relu'))\n",
    "cnn_model2.add(keras.layers.MaxPooling1D(5))\n",
    "cnn_model2.add(keras.layers.Conv1D(16, 7, activation='relu'))\n",
    "cnn_model2.add(keras.layers.GlobalMaxPooling1D())\n",
    "cnn_model2.add(keras.layers.Dense(8, activation='relu'))\n",
    "cnn_model2.add(keras.layers.Dropout(0.3))\n",
    "cnn_model2.add(keras.layers.Dense(1, activation='sigmoid')) \n",
    "\n",
    "print(cnn_model2.summary())\n",
    "\n",
    "# 학습의 진행\n",
    "cnn_model2.compile(optimizer='adam',\n",
    "              loss='binary_crossentropy',\n",
    "              metrics=['accuracy'])\n",
    "              \n",
    "epochs=10  # 몇 epoch를 훈련하면 좋을지 결과를 보면서 바꾸어 봅시다. \n",
    "\n",
    "cnn_history2 = cnn_model2.fit(partial_x_train,\n",
    "                    partial_y_train,\n",
    "                    epochs=epochs,\n",
    "                    batch_size=512,\n",
    "                    validation_data=(X_val, y_val),\n",
    "                    verbose=1)\n",
    "\n",
    "# 테스트셋을 통한 모델 평가\n",
    "results = cnn_model2.evaluate(X_test,  y_test, verbose=2)\n",
    "\n",
    "print(results)\n"
   ]
  },
  {
   "cell_type": "code",
   "execution_count": 32,
   "metadata": {},
   "outputs": [
    {
     "name": "stdout",
     "output_type": "stream",
     "text": [
      "Model: \"sequential_6\"\n",
      "_________________________________________________________________\n",
      "Layer (type)                 Output Shape              Param #   \n",
      "=================================================================\n",
      "embedding_6 (Embedding)      (None, None, 200)         2000000   \n",
      "_________________________________________________________________\n",
      "gru_1 (GRU)                  (None, 50)                37800     \n",
      "_________________________________________________________________\n",
      "dropout_7 (Dropout)          (None, 50)                0         \n",
      "_________________________________________________________________\n",
      "dense_12 (Dense)             (None, 8)                 408       \n",
      "_________________________________________________________________\n",
      "dropout_8 (Dropout)          (None, 8)                 0         \n",
      "_________________________________________________________________\n",
      "dense_13 (Dense)             (None, 1)                 9         \n",
      "=================================================================\n",
      "Total params: 2,038,217\n",
      "Trainable params: 2,038,217\n",
      "Non-trainable params: 0\n",
      "_________________________________________________________________\n",
      "None\n",
      "Epoch 1/20\n",
      "266/266 [==============================] - 5s 19ms/step - loss: 0.5475 - accuracy: 0.6793 - val_loss: 0.3532 - val_accuracy: 0.8478\n",
      "Epoch 2/20\n",
      "266/266 [==============================] - 5s 18ms/step - loss: 0.3503 - accuracy: 0.8562 - val_loss: 0.3285 - val_accuracy: 0.8533\n",
      "Epoch 3/20\n",
      "266/266 [==============================] - 5s 18ms/step - loss: 0.3104 - accuracy: 0.8740 - val_loss: 0.3174 - val_accuracy: 0.8601\n",
      "Epoch 4/20\n",
      "266/266 [==============================] - 5s 18ms/step - loss: 0.2814 - accuracy: 0.8865 - val_loss: 0.3293 - val_accuracy: 0.8634\n",
      "Epoch 5/20\n",
      "266/266 [==============================] - 5s 18ms/step - loss: 0.2560 - accuracy: 0.8975 - val_loss: 0.3336 - val_accuracy: 0.8608\n",
      "Epoch 6/20\n",
      "266/266 [==============================] - 5s 18ms/step - loss: 0.2353 - accuracy: 0.9055 - val_loss: 0.3600 - val_accuracy: 0.8617\n",
      "Epoch 7/20\n",
      "266/266 [==============================] - 5s 18ms/step - loss: 0.2134 - accuracy: 0.9152 - val_loss: 0.3932 - val_accuracy: 0.8580\n",
      "Epoch 8/20\n",
      "266/266 [==============================] - 5s 18ms/step - loss: 0.1963 - accuracy: 0.9221 - val_loss: 0.4277 - val_accuracy: 0.8586\n",
      "Epoch 9/20\n",
      "266/266 [==============================] - 5s 18ms/step - loss: 0.1799 - accuracy: 0.9282 - val_loss: 0.4713 - val_accuracy: 0.8515\n",
      "Epoch 10/20\n",
      "266/266 [==============================] - 5s 18ms/step - loss: 0.1660 - accuracy: 0.9335 - val_loss: 0.5336 - val_accuracy: 0.8514\n",
      "Epoch 11/20\n",
      "266/266 [==============================] - 5s 18ms/step - loss: 0.1519 - accuracy: 0.9387 - val_loss: 0.6060 - val_accuracy: 0.8459\n",
      "Epoch 12/20\n",
      "266/266 [==============================] - 5s 18ms/step - loss: 0.1427 - accuracy: 0.9423 - val_loss: 0.5899 - val_accuracy: 0.8454\n",
      "Epoch 13/20\n",
      "266/266 [==============================] - 5s 18ms/step - loss: 0.1313 - accuracy: 0.9469 - val_loss: 0.6860 - val_accuracy: 0.8412\n",
      "Epoch 14/20\n",
      "266/266 [==============================] - 5s 18ms/step - loss: 0.1206 - accuracy: 0.9512 - val_loss: 0.7130 - val_accuracy: 0.8434\n",
      "Epoch 15/20\n",
      "266/266 [==============================] - 5s 18ms/step - loss: 0.1127 - accuracy: 0.9536 - val_loss: 0.7617 - val_accuracy: 0.8488\n",
      "Epoch 16/20\n",
      "266/266 [==============================] - 5s 18ms/step - loss: 0.1044 - accuracy: 0.9563 - val_loss: 0.7935 - val_accuracy: 0.8415\n",
      "Epoch 17/20\n",
      "266/266 [==============================] - 5s 18ms/step - loss: 0.0971 - accuracy: 0.9596 - val_loss: 0.8652 - val_accuracy: 0.8433\n",
      "Epoch 18/20\n",
      "266/266 [==============================] - 5s 18ms/step - loss: 0.0919 - accuracy: 0.9617 - val_loss: 0.9667 - val_accuracy: 0.8446\n",
      "Epoch 19/20\n",
      "266/266 [==============================] - 5s 18ms/step - loss: 0.0848 - accuracy: 0.9634 - val_loss: 1.0293 - val_accuracy: 0.8392\n",
      "Epoch 20/20\n",
      "266/266 [==============================] - 5s 18ms/step - loss: 0.0840 - accuracy: 0.9643 - val_loss: 0.9646 - val_accuracy: 0.8412\n",
      "1537/1537 - 2s - loss: 0.9796 - accuracy: 0.8379\n",
      "[0.9795548915863037, 0.8379071354866028]\n"
     ]
    }
   ],
   "source": [
    "from tensorflow.keras.initializers import Constant\n",
    "\n",
    "vocab_size = 10000    # 어휘 사전의 크기입니다(10,000개의 단어)\n",
    "word_vector_dim = 200  # 워드 벡터의 차원수 (변경가능한 하이퍼파라미터)\n",
    "\n",
    "# 모델 구성\n",
    "gru_model2 = keras.Sequential()\n",
    "gru_model2.add(keras.layers.Embedding(vocab_size, word_vector_dim, input_shape=(None,)))\n",
    "gru_model2.add(keras.layers.GRU(50))   # 가장 널리 쓰이는 RNN인 gru 레이어를 사용하였습니다. 이때 gru state 벡터의 차원수는 8로 하였습니다. (변경가능)\n",
    "gru_model2.add(keras.layers.Dropout(0.3))\n",
    "gru_model2.add(keras.layers.Dense(8, activation='relu'))\n",
    "gru_model2.add(keras.layers.Dropout(0.3))\n",
    "gru_model2.add(keras.layers.Dense(1, activation='sigmoid'))  # 최종 출력은 긍정/부정을 나타내는 1dim 입니다.\n",
    "\n",
    "print(gru_model2.summary())\n",
    "\n",
    "# 학습의 진행\n",
    "gru_model2.compile(optimizer='adam',\n",
    "              loss='binary_crossentropy',\n",
    "              metrics=['accuracy'])\n",
    "              \n",
    "epochs=20  # 몇 epoch를 훈련하면 좋을지 결과를 보면서 바꾸어 봅시다. \n",
    "\n",
    "gru_history2 = gru_model2.fit(partial_x_train,\n",
    "                    partial_y_train,\n",
    "                    epochs=epochs,\n",
    "                    batch_size=512,\n",
    "                    validation_data=(X_val, y_val),\n",
    "                    verbose=1)\n",
    "\n",
    "# 테스트셋을 통한 모델 평가\n",
    "results = gru_model2.evaluate(X_test,  y_test, verbose=2)\n",
    "\n",
    "print(results)\n"
   ]
  },
  {
   "cell_type": "code",
   "execution_count": 36,
   "metadata": {},
   "outputs": [
    {
     "name": "stdout",
     "output_type": "stream",
     "text": [
      "WARNING:tensorflow:Layer lstm_5 will not use cuDNN kernel since it doesn't meet the cuDNN kernel criteria. It will use generic GPU kernel as fallback when running on GPU\n",
      "Model: \"sequential_10\"\n",
      "_________________________________________________________________\n",
      "Layer (type)                 Output Shape              Param #   \n",
      "=================================================================\n",
      "embedding_10 (Embedding)     (None, None, 200)         2000000   \n",
      "_________________________________________________________________\n",
      "spatial_dropout1d_5 (Spatial (None, None, 200)         0         \n",
      "_________________________________________________________________\n",
      "lstm_5 (LSTM)                (None, 50)                50200     \n",
      "_________________________________________________________________\n",
      "dense_20 (Dense)             (None, 8)                 408       \n",
      "_________________________________________________________________\n",
      "dense_21 (Dense)             (None, 1)                 9         \n",
      "=================================================================\n",
      "Total params: 2,050,617\n",
      "Trainable params: 2,050,617\n",
      "Non-trainable params: 0\n",
      "_________________________________________________________________\n",
      "None\n",
      "Epoch 1/20\n",
      "266/266 [==============================] - 24s 88ms/step - loss: 0.4839 - accuracy: 0.7401 - val_loss: 0.3523 - val_accuracy: 0.8481\n",
      "Epoch 2/20\n",
      "266/266 [==============================] - 24s 89ms/step - loss: 0.3398 - accuracy: 0.8547 - val_loss: 0.3306 - val_accuracy: 0.8541\n",
      "Epoch 3/20\n",
      "266/266 [==============================] - 24s 90ms/step - loss: 0.3110 - accuracy: 0.8673 - val_loss: 0.3338 - val_accuracy: 0.8592\n",
      "Epoch 4/20\n",
      "266/266 [==============================] - 23s 87ms/step - loss: 0.2896 - accuracy: 0.8768 - val_loss: 0.3263 - val_accuracy: 0.8585\n",
      "Epoch 5/20\n",
      "266/266 [==============================] - 23s 87ms/step - loss: 0.2711 - accuracy: 0.8856 - val_loss: 0.3329 - val_accuracy: 0.8589\n",
      "Epoch 6/20\n",
      "266/266 [==============================] - 23s 87ms/step - loss: 0.2560 - accuracy: 0.8914 - val_loss: 0.3488 - val_accuracy: 0.8568\n",
      "Epoch 7/20\n",
      "266/266 [==============================] - 23s 87ms/step - loss: 0.2420 - accuracy: 0.8993 - val_loss: 0.3496 - val_accuracy: 0.8565\n",
      "Epoch 8/20\n",
      "266/266 [==============================] - 23s 88ms/step - loss: 0.2309 - accuracy: 0.9034 - val_loss: 0.3805 - val_accuracy: 0.8564\n",
      "Epoch 9/20\n",
      "266/266 [==============================] - 23s 87ms/step - loss: 0.2216 - accuracy: 0.9074 - val_loss: 0.3508 - val_accuracy: 0.8589\n",
      "Epoch 10/20\n",
      "266/266 [==============================] - 23s 87ms/step - loss: 0.2120 - accuracy: 0.9124 - val_loss: 0.3977 - val_accuracy: 0.8583\n",
      "Epoch 11/20\n",
      "266/266 [==============================] - 24s 89ms/step - loss: 0.2031 - accuracy: 0.9164 - val_loss: 0.3798 - val_accuracy: 0.8572\n",
      "Epoch 12/20\n",
      "266/266 [==============================] - 23s 88ms/step - loss: 0.1961 - accuracy: 0.9198 - val_loss: 0.3933 - val_accuracy: 0.8601\n",
      "Epoch 13/20\n",
      "266/266 [==============================] - 25s 92ms/step - loss: 0.1868 - accuracy: 0.9237 - val_loss: 0.4086 - val_accuracy: 0.8555\n",
      "Epoch 14/20\n",
      "266/266 [==============================] - 24s 90ms/step - loss: 0.1820 - accuracy: 0.9263 - val_loss: 0.4334 - val_accuracy: 0.8555\n",
      "Epoch 15/20\n",
      "266/266 [==============================] - 23s 86ms/step - loss: 0.1748 - accuracy: 0.9291 - val_loss: 0.4337 - val_accuracy: 0.8550\n",
      "Epoch 16/20\n",
      "266/266 [==============================] - 23s 87ms/step - loss: 0.1693 - accuracy: 0.9312 - val_loss: 0.4433 - val_accuracy: 0.8547\n",
      "Epoch 17/20\n",
      "266/266 [==============================] - 23s 86ms/step - loss: 0.1645 - accuracy: 0.9336 - val_loss: 0.4566 - val_accuracy: 0.8524\n",
      "Epoch 18/20\n",
      "266/266 [==============================] - 22s 84ms/step - loss: 0.1584 - accuracy: 0.9355 - val_loss: 0.4730 - val_accuracy: 0.8543\n",
      "Epoch 19/20\n",
      "266/266 [==============================] - 22s 84ms/step - loss: 0.1558 - accuracy: 0.9376 - val_loss: 0.4647 - val_accuracy: 0.8533\n",
      "Epoch 20/20\n",
      "266/266 [==============================] - 23s 87ms/step - loss: 0.1499 - accuracy: 0.9398 - val_loss: 0.4896 - val_accuracy: 0.8526\n",
      "1537/1537 - 13s - loss: 0.4927 - accuracy: 0.8509\n",
      "[0.49267858266830444, 0.8509469628334045]\n"
     ]
    }
   ],
   "source": [
    "from tensorflow.keras.initializers import Constant\n",
    "\n",
    "vocab_size = 10000    # 어휘 사전의 크기입니다(10,000개의 단어)\n",
    "word_vector_dim = 200  # 워드 벡터의 차원수 (변경가능한 하이퍼파라미터)\n",
    "\n",
    "# 모델 구성\n",
    "lstm_model2 = keras.Sequential()\n",
    "lstm_model2.add(keras.layers.Embedding(vocab_size, word_vector_dim, input_shape=(None,)))\n",
    "lstm_model2.add(keras.layers.SpatialDropout1D(0.4))\n",
    "lstm_model2.add(keras.layers.LSTM(50, dropout=0.2, recurrent_dropout=0.2))   # 가장 널리 쓰이는 RNN인 LSTM 레이어를 사용하였습니다. 이때 LSTM state 벡터의 차원수는 8로 하였습니다. (변경가능)\n",
    "lstm_model2.add(keras.layers.Dense(8, activation='relu'))\n",
    "lstm_model2.add(keras.layers.Dense(1, activation='sigmoid'))  # 최종 출력은 긍정/부정을 나타내는 1dim 입니다.\n",
    "\n",
    "print(lstm_model2.summary())\n",
    "\n",
    "# 학습의 진행\n",
    "lstm_model2.compile(optimizer='adam',\n",
    "              loss='binary_crossentropy',\n",
    "              metrics=['accuracy'])\n",
    "              \n",
    "epochs=20  # 몇 epoch를 훈련하면 좋을지 결과를 보면서 바꾸어 봅시다. \n",
    "\n",
    "lstm_history2 = lstm_model2.fit(partial_x_train,\n",
    "                    partial_y_train,\n",
    "                    epochs=epochs,\n",
    "                    batch_size=512,\n",
    "                    validation_data=(X_val, y_val),\n",
    "                    verbose=1)\n",
    "\n",
    "# 테스트셋을 통한 모델 평가\n",
    "results = lstm_model2.evaluate(X_test,  y_test, verbose=2)\n",
    "\n",
    "print(results)\n"
   ]
  },
  {
   "cell_type": "code",
   "execution_count": 35,
   "metadata": {},
   "outputs": [
    {
     "name": "stdout",
     "output_type": "stream",
     "text": [
      "WARNING:tensorflow:Layer lstm_4 will not use cuDNN kernel since it doesn't meet the cuDNN kernel criteria. It will use generic GPU kernel as fallback when running on GPU\n",
      "Model: \"sequential_9\"\n",
      "_________________________________________________________________\n",
      "Layer (type)                 Output Shape              Param #   \n",
      "=================================================================\n",
      "embedding_9 (Embedding)      (None, None, 200)         2000000   \n",
      "_________________________________________________________________\n",
      "conv1d_8 (Conv1D)            (None, None, 16)          22416     \n",
      "_________________________________________________________________\n",
      "max_pooling1d_4 (MaxPooling1 (None, None, 16)          0         \n",
      "_________________________________________________________________\n",
      "conv1d_9 (Conv1D)            (None, None, 16)          1808      \n",
      "_________________________________________________________________\n",
      "spatial_dropout1d_4 (Spatial (None, None, 16)          0         \n",
      "_________________________________________________________________\n",
      "lstm_4 (LSTM)                (None, 15)                1920      \n",
      "_________________________________________________________________\n",
      "dense_18 (Dense)             (None, 8)                 128       \n",
      "_________________________________________________________________\n",
      "dense_19 (Dense)             (None, 1)                 9         \n",
      "=================================================================\n",
      "Total params: 2,026,281\n",
      "Trainable params: 2,026,281\n",
      "Non-trainable params: 0\n",
      "_________________________________________________________________\n",
      "None\n",
      "Epoch 1/20\n",
      "266/266 [==============================] - 6s 22ms/step - loss: 0.4989 - accuracy: 0.7501 - val_loss: 0.3484 - val_accuracy: 0.8477\n",
      "Epoch 2/20\n",
      "266/266 [==============================] - 6s 22ms/step - loss: 0.3373 - accuracy: 0.8608 - val_loss: 0.3378 - val_accuracy: 0.8478\n",
      "Epoch 3/20\n",
      "266/266 [==============================] - 6s 22ms/step - loss: 0.2931 - accuracy: 0.8825 - val_loss: 0.3337 - val_accuracy: 0.8580\n",
      "Epoch 4/20\n",
      "266/266 [==============================] - 6s 22ms/step - loss: 0.2505 - accuracy: 0.9031 - val_loss: 0.3422 - val_accuracy: 0.8579\n",
      "Epoch 5/20\n",
      "266/266 [==============================] - 6s 22ms/step - loss: 0.2018 - accuracy: 0.9260 - val_loss: 0.3826 - val_accuracy: 0.8524\n",
      "Epoch 6/20\n",
      "266/266 [==============================] - 6s 22ms/step - loss: 0.1584 - accuracy: 0.9449 - val_loss: 0.4103 - val_accuracy: 0.8495\n",
      "Epoch 7/20\n",
      "266/266 [==============================] - 6s 22ms/step - loss: 0.1260 - accuracy: 0.9575 - val_loss: 0.4855 - val_accuracy: 0.8426\n",
      "Epoch 8/20\n",
      "266/266 [==============================] - 6s 22ms/step - loss: 0.1024 - accuracy: 0.9670 - val_loss: 0.5175 - val_accuracy: 0.8444\n",
      "Epoch 9/20\n",
      "266/266 [==============================] - 6s 24ms/step - loss: 0.0864 - accuracy: 0.9729 - val_loss: 0.5571 - val_accuracy: 0.8423\n",
      "Epoch 10/20\n",
      "266/266 [==============================] - 6s 23ms/step - loss: 0.0748 - accuracy: 0.9771 - val_loss: 0.5776 - val_accuracy: 0.8449\n",
      "Epoch 11/20\n",
      "266/266 [==============================] - 6s 24ms/step - loss: 0.0662 - accuracy: 0.9799 - val_loss: 0.6346 - val_accuracy: 0.8428\n",
      "Epoch 12/20\n",
      "266/266 [==============================] - 6s 23ms/step - loss: 0.0605 - accuracy: 0.9817 - val_loss: 0.6249 - val_accuracy: 0.8381\n",
      "Epoch 13/20\n",
      "266/266 [==============================] - 6s 23ms/step - loss: 0.0542 - accuracy: 0.9836 - val_loss: 0.6476 - val_accuracy: 0.8369\n",
      "Epoch 14/20\n",
      "266/266 [==============================] - 6s 22ms/step - loss: 0.0509 - accuracy: 0.9847 - val_loss: 0.6883 - val_accuracy: 0.8361\n",
      "Epoch 15/20\n",
      "266/266 [==============================] - 6s 22ms/step - loss: 0.0463 - accuracy: 0.9860 - val_loss: 0.6898 - val_accuracy: 0.8427\n",
      "Epoch 16/20\n",
      "266/266 [==============================] - 6s 22ms/step - loss: 0.0449 - accuracy: 0.9863 - val_loss: 0.7141 - val_accuracy: 0.8423\n",
      "Epoch 17/20\n",
      "266/266 [==============================] - 6s 22ms/step - loss: 0.0414 - accuracy: 0.9876 - val_loss: 0.7408 - val_accuracy: 0.8385\n",
      "Epoch 18/20\n",
      "266/266 [==============================] - 6s 22ms/step - loss: 0.0394 - accuracy: 0.9882 - val_loss: 0.7183 - val_accuracy: 0.8413\n",
      "Epoch 19/20\n",
      "266/266 [==============================] - 6s 22ms/step - loss: 0.0364 - accuracy: 0.9892 - val_loss: 0.7680 - val_accuracy: 0.8348\n",
      "Epoch 20/20\n",
      "266/266 [==============================] - 6s 22ms/step - loss: 0.0347 - accuracy: 0.9897 - val_loss: 0.7646 - val_accuracy: 0.8372\n",
      "1537/1537 - 2s - loss: 0.8031 - accuracy: 0.8332\n",
      "[0.8030838370323181, 0.833207905292511]\n"
     ]
    }
   ],
   "source": [
    "from tensorflow.keras.initializers import Constant\n",
    "\n",
    "vocab_size = 10000    # 어휘 사전의 크기입니다(10,000개의 단어)\n",
    "word_vector_dim = 200  # 워드 벡터의 차원수 (변경가능한 하이퍼파라미터)\n",
    "\n",
    "# 모델 구성\n",
    "cnn_lstm_model2 = keras.Sequential()\n",
    "cnn_lstm_model2.add(keras.layers.Embedding(vocab_size, word_vector_dim, input_shape=(None,)))\n",
    "cnn_lstm_model2.add(keras.layers.Conv1D(16, 7, activation='relu'))\n",
    "cnn_lstm_model2.add(keras.layers.MaxPooling1D(5))\n",
    "cnn_lstm_model2.add(keras.layers.Conv1D(16, 7, activation='relu'))\n",
    "cnn_lstm_model2.add(keras.layers.SpatialDropout1D(0.4))\n",
    "cnn_lstm_model2.add(keras.layers.LSTM(15, dropout=0.2, recurrent_dropout=0.2))   # 가장 널리 쓰이는 RNN인 LSTM 레이어를 사용하였습니다. 이때 LSTM state 벡터의 차원수는 8로 하였습니다. (변경가능)\n",
    "cnn_lstm_model2.add(keras.layers.Dense(8, activation='relu'))\n",
    "cnn_lstm_model2.add(keras.layers.Dense(1, activation='sigmoid'))  # 최종 출력은 긍정/부정을 나타내는 1dim 입니다.\n",
    "print(cnn_lstm_model2.summary())\n",
    "\n",
    "# 학습의 진행\n",
    "cnn_lstm_model2.compile(optimizer='adam',\n",
    "              loss='binary_crossentropy',\n",
    "              metrics=['accuracy'])\n",
    "              \n",
    "epochs=20  # 몇 epoch를 훈련하면 좋을지 결과를 보면서 바꾸어 봅시다. \n",
    "\n",
    "cnn_lstm_history2 = cnn_lstm_model2.fit(partial_x_train,\n",
    "                    partial_y_train,\n",
    "                    epochs=epochs,\n",
    "                    batch_size=512,\n",
    "                    validation_data=(X_val, y_val),\n",
    "                    verbose=1)\n",
    "\n",
    "# 테스트셋을 통한 모델 평가\n",
    "results = cnn_lstm_model2.evaluate(X_test,  y_test, verbose=2)\n",
    "\n",
    "print(results)\n"
   ]
  }
 ],
 "metadata": {
  "kernelspec": {
   "display_name": "aiffel",
   "language": "python",
   "name": "aiffel"
  },
  "language_info": {
   "codemirror_mode": {
    "name": "ipython",
    "version": 3
   },
   "file_extension": ".py",
   "mimetype": "text/x-python",
   "name": "python",
   "nbconvert_exporter": "python",
   "pygments_lexer": "ipython3",
   "version": "3.7.6"
  },
  "toc": {
   "base_numbering": 1,
   "nav_menu": {},
   "number_sections": true,
   "sideBar": true,
   "skip_h1_title": false,
   "title_cell": "Table of Contents",
   "title_sidebar": "Contents",
   "toc_cell": false,
   "toc_position": {},
   "toc_section_display": true,
   "toc_window_display": true
  },
  "varInspector": {
   "cols": {
    "lenName": 16,
    "lenType": 16,
    "lenVar": 40
   },
   "kernels_config": {
    "python": {
     "delete_cmd_postfix": "",
     "delete_cmd_prefix": "del ",
     "library": "var_list.py",
     "varRefreshCmd": "print(var_dic_list())"
    },
    "r": {
     "delete_cmd_postfix": ") ",
     "delete_cmd_prefix": "rm(",
     "library": "var_list.r",
     "varRefreshCmd": "cat(var_dic_list()) "
    }
   },
   "types_to_exclude": [
    "module",
    "function",
    "builtin_function_or_method",
    "instance",
    "_Feature"
   ],
   "window_display": false
  }
 },
 "nbformat": 4,
 "nbformat_minor": 4
}
